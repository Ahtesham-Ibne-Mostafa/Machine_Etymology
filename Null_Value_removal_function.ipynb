{
  "nbformat": 4,
  "nbformat_minor": 0,
  "metadata": {
    "colab": {
      "provenance": [],
      "authorship_tag": "ABX9TyPGjkHt8Aa0pxynijmyNthi",
      "include_colab_link": true
    },
    "kernelspec": {
      "name": "python3",
      "display_name": "Python 3"
    },
    "language_info": {
      "name": "python"
    }
  },
  "cells": [
    {
      "cell_type": "markdown",
      "metadata": {
        "id": "view-in-github",
        "colab_type": "text"
      },
      "source": [
        "<a href=\"https://colab.research.google.com/github/Ahtesham-Ibne-Mostafa/Machine_Etymology/blob/main/Null_Value_removal_function.ipynb\" target=\"_parent\"><img src=\"https://colab.research.google.com/assets/colab-badge.svg\" alt=\"Open In Colab\"/></a>"
      ]
    },
    {
      "cell_type": "code",
      "execution_count": 72,
      "metadata": {
        "id": "oHfncz9Uizlq"
      },
      "outputs": [],
      "source": [
        "import pandas as pd\n",
        "import numpy as np"
      ]
    },
    {
      "cell_type": "code",
      "source": [
        "df=pd.read_csv('https://raw.githubusercontent.com/Ahtesham-Ibne-Mostafa/Machine_Etymology/main/Datasets/NCHS_-_Potentially_Excess_Deaths_from_the_Five_Leading_Causes_of_Death.csv')"
      ],
      "metadata": {
        "id": "gxhOPT9QjUtG"
      },
      "execution_count": 73,
      "outputs": []
    },
    {
      "cell_type": "code",
      "source": [
        "df.head()"
      ],
      "metadata": {
        "colab": {
          "base_uri": "https://localhost:8080/",
          "height": 206
        },
        "id": "GrlMHQD5jYYR",
        "outputId": "bcbc62d8-5a05-4c37-b300-7681b3d280c5"
      },
      "execution_count": 74,
      "outputs": [
        {
          "output_type": "execute_result",
          "data": {
            "text/plain": [
              "   Year Cause of Death    State State FIPS Code  HHS Region Age Range  \\\n",
              "0  2005         Cancer  Alabama              AL           4      0-49   \n",
              "1  2005         Cancer  Alabama              AL           4      0-49   \n",
              "2  2005         Cancer  Alabama              AL           4      0-49   \n",
              "3  2005         Cancer  Alabama              AL           4      0-49   \n",
              "4  2005         Cancer  Alabama              AL           4      0-49   \n",
              "\n",
              "    Benchmark         Locality  Observed Deaths  Population  Expected Deaths  \\\n",
              "0  2005 Fixed              All            756.0   3148377.0            451.0   \n",
              "1  2005 Fixed     Metropolitan            556.0   2379871.0            341.0   \n",
              "2  2005 Fixed  Nonmetropolitan            200.0    768506.0            111.0   \n",
              "3  2010 Fixed              All            756.0   3148377.0            421.0   \n",
              "4  2010 Fixed     Metropolitan            556.0   2379871.0            318.0   \n",
              "\n",
              "   Potentially Excess Deaths  Percent Potentially Excess Deaths  \n",
              "0                      305.0                               40.3  \n",
              "1                      217.0                               39.0  \n",
              "2                       89.0                               44.5  \n",
              "3                      335.0                               44.3  \n",
              "4                      238.0                               42.8  "
            ],
            "text/html": [
              "\n",
              "\n",
              "  <div id=\"df-5203027e-2176-4bd2-816f-aba34f6e6a41\">\n",
              "    <div class=\"colab-df-container\">\n",
              "      <div>\n",
              "<style scoped>\n",
              "    .dataframe tbody tr th:only-of-type {\n",
              "        vertical-align: middle;\n",
              "    }\n",
              "\n",
              "    .dataframe tbody tr th {\n",
              "        vertical-align: top;\n",
              "    }\n",
              "\n",
              "    .dataframe thead th {\n",
              "        text-align: right;\n",
              "    }\n",
              "</style>\n",
              "<table border=\"1\" class=\"dataframe\">\n",
              "  <thead>\n",
              "    <tr style=\"text-align: right;\">\n",
              "      <th></th>\n",
              "      <th>Year</th>\n",
              "      <th>Cause of Death</th>\n",
              "      <th>State</th>\n",
              "      <th>State FIPS Code</th>\n",
              "      <th>HHS Region</th>\n",
              "      <th>Age Range</th>\n",
              "      <th>Benchmark</th>\n",
              "      <th>Locality</th>\n",
              "      <th>Observed Deaths</th>\n",
              "      <th>Population</th>\n",
              "      <th>Expected Deaths</th>\n",
              "      <th>Potentially Excess Deaths</th>\n",
              "      <th>Percent Potentially Excess Deaths</th>\n",
              "    </tr>\n",
              "  </thead>\n",
              "  <tbody>\n",
              "    <tr>\n",
              "      <th>0</th>\n",
              "      <td>2005</td>\n",
              "      <td>Cancer</td>\n",
              "      <td>Alabama</td>\n",
              "      <td>AL</td>\n",
              "      <td>4</td>\n",
              "      <td>0-49</td>\n",
              "      <td>2005 Fixed</td>\n",
              "      <td>All</td>\n",
              "      <td>756.0</td>\n",
              "      <td>3148377.0</td>\n",
              "      <td>451.0</td>\n",
              "      <td>305.0</td>\n",
              "      <td>40.3</td>\n",
              "    </tr>\n",
              "    <tr>\n",
              "      <th>1</th>\n",
              "      <td>2005</td>\n",
              "      <td>Cancer</td>\n",
              "      <td>Alabama</td>\n",
              "      <td>AL</td>\n",
              "      <td>4</td>\n",
              "      <td>0-49</td>\n",
              "      <td>2005 Fixed</td>\n",
              "      <td>Metropolitan</td>\n",
              "      <td>556.0</td>\n",
              "      <td>2379871.0</td>\n",
              "      <td>341.0</td>\n",
              "      <td>217.0</td>\n",
              "      <td>39.0</td>\n",
              "    </tr>\n",
              "    <tr>\n",
              "      <th>2</th>\n",
              "      <td>2005</td>\n",
              "      <td>Cancer</td>\n",
              "      <td>Alabama</td>\n",
              "      <td>AL</td>\n",
              "      <td>4</td>\n",
              "      <td>0-49</td>\n",
              "      <td>2005 Fixed</td>\n",
              "      <td>Nonmetropolitan</td>\n",
              "      <td>200.0</td>\n",
              "      <td>768506.0</td>\n",
              "      <td>111.0</td>\n",
              "      <td>89.0</td>\n",
              "      <td>44.5</td>\n",
              "    </tr>\n",
              "    <tr>\n",
              "      <th>3</th>\n",
              "      <td>2005</td>\n",
              "      <td>Cancer</td>\n",
              "      <td>Alabama</td>\n",
              "      <td>AL</td>\n",
              "      <td>4</td>\n",
              "      <td>0-49</td>\n",
              "      <td>2010 Fixed</td>\n",
              "      <td>All</td>\n",
              "      <td>756.0</td>\n",
              "      <td>3148377.0</td>\n",
              "      <td>421.0</td>\n",
              "      <td>335.0</td>\n",
              "      <td>44.3</td>\n",
              "    </tr>\n",
              "    <tr>\n",
              "      <th>4</th>\n",
              "      <td>2005</td>\n",
              "      <td>Cancer</td>\n",
              "      <td>Alabama</td>\n",
              "      <td>AL</td>\n",
              "      <td>4</td>\n",
              "      <td>0-49</td>\n",
              "      <td>2010 Fixed</td>\n",
              "      <td>Metropolitan</td>\n",
              "      <td>556.0</td>\n",
              "      <td>2379871.0</td>\n",
              "      <td>318.0</td>\n",
              "      <td>238.0</td>\n",
              "      <td>42.8</td>\n",
              "    </tr>\n",
              "  </tbody>\n",
              "</table>\n",
              "</div>\n",
              "      <button class=\"colab-df-convert\" onclick=\"convertToInteractive('df-5203027e-2176-4bd2-816f-aba34f6e6a41')\"\n",
              "              title=\"Convert this dataframe to an interactive table.\"\n",
              "              style=\"display:none;\">\n",
              "\n",
              "  <svg xmlns=\"http://www.w3.org/2000/svg\" height=\"24px\"viewBox=\"0 0 24 24\"\n",
              "       width=\"24px\">\n",
              "    <path d=\"M0 0h24v24H0V0z\" fill=\"none\"/>\n",
              "    <path d=\"M18.56 5.44l.94 2.06.94-2.06 2.06-.94-2.06-.94-.94-2.06-.94 2.06-2.06.94zm-11 1L8.5 8.5l.94-2.06 2.06-.94-2.06-.94L8.5 2.5l-.94 2.06-2.06.94zm10 10l.94 2.06.94-2.06 2.06-.94-2.06-.94-.94-2.06-.94 2.06-2.06.94z\"/><path d=\"M17.41 7.96l-1.37-1.37c-.4-.4-.92-.59-1.43-.59-.52 0-1.04.2-1.43.59L10.3 9.45l-7.72 7.72c-.78.78-.78 2.05 0 2.83L4 21.41c.39.39.9.59 1.41.59.51 0 1.02-.2 1.41-.59l7.78-7.78 2.81-2.81c.8-.78.8-2.07 0-2.86zM5.41 20L4 18.59l7.72-7.72 1.47 1.35L5.41 20z\"/>\n",
              "  </svg>\n",
              "      </button>\n",
              "\n",
              "\n",
              "\n",
              "    <div id=\"df-aae95e65-1d1f-4285-99e1-60b1e9c4aefb\">\n",
              "      <button class=\"colab-df-quickchart\" onclick=\"quickchart('df-aae95e65-1d1f-4285-99e1-60b1e9c4aefb')\"\n",
              "              title=\"Suggest charts.\"\n",
              "              style=\"display:none;\">\n",
              "\n",
              "<svg xmlns=\"http://www.w3.org/2000/svg\" height=\"24px\"viewBox=\"0 0 24 24\"\n",
              "     width=\"24px\">\n",
              "    <g>\n",
              "        <path d=\"M19 3H5c-1.1 0-2 .9-2 2v14c0 1.1.9 2 2 2h14c1.1 0 2-.9 2-2V5c0-1.1-.9-2-2-2zM9 17H7v-7h2v7zm4 0h-2V7h2v10zm4 0h-2v-4h2v4z\"/>\n",
              "    </g>\n",
              "</svg>\n",
              "      </button>\n",
              "    </div>\n",
              "\n",
              "<style>\n",
              "  .colab-df-quickchart {\n",
              "    background-color: #E8F0FE;\n",
              "    border: none;\n",
              "    border-radius: 50%;\n",
              "    cursor: pointer;\n",
              "    display: none;\n",
              "    fill: #1967D2;\n",
              "    height: 32px;\n",
              "    padding: 0 0 0 0;\n",
              "    width: 32px;\n",
              "  }\n",
              "\n",
              "  .colab-df-quickchart:hover {\n",
              "    background-color: #E2EBFA;\n",
              "    box-shadow: 0px 1px 2px rgba(60, 64, 67, 0.3), 0px 1px 3px 1px rgba(60, 64, 67, 0.15);\n",
              "    fill: #174EA6;\n",
              "  }\n",
              "\n",
              "  [theme=dark] .colab-df-quickchart {\n",
              "    background-color: #3B4455;\n",
              "    fill: #D2E3FC;\n",
              "  }\n",
              "\n",
              "  [theme=dark] .colab-df-quickchart:hover {\n",
              "    background-color: #434B5C;\n",
              "    box-shadow: 0px 1px 3px 1px rgba(0, 0, 0, 0.15);\n",
              "    filter: drop-shadow(0px 1px 2px rgba(0, 0, 0, 0.3));\n",
              "    fill: #FFFFFF;\n",
              "  }\n",
              "</style>\n",
              "\n",
              "    <script>\n",
              "      async function quickchart(key) {\n",
              "        const containerElement = document.querySelector('#' + key);\n",
              "        const charts = await google.colab.kernel.invokeFunction(\n",
              "            'suggestCharts', [key], {});\n",
              "      }\n",
              "    </script>\n",
              "\n",
              "      <script>\n",
              "\n",
              "function displayQuickchartButton(domScope) {\n",
              "  let quickchartButtonEl =\n",
              "    domScope.querySelector('#df-aae95e65-1d1f-4285-99e1-60b1e9c4aefb button.colab-df-quickchart');\n",
              "  quickchartButtonEl.style.display =\n",
              "    google.colab.kernel.accessAllowed ? 'block' : 'none';\n",
              "}\n",
              "\n",
              "        displayQuickchartButton(document);\n",
              "      </script>\n",
              "      <style>\n",
              "    .colab-df-container {\n",
              "      display:flex;\n",
              "      flex-wrap:wrap;\n",
              "      gap: 12px;\n",
              "    }\n",
              "\n",
              "    .colab-df-convert {\n",
              "      background-color: #E8F0FE;\n",
              "      border: none;\n",
              "      border-radius: 50%;\n",
              "      cursor: pointer;\n",
              "      display: none;\n",
              "      fill: #1967D2;\n",
              "      height: 32px;\n",
              "      padding: 0 0 0 0;\n",
              "      width: 32px;\n",
              "    }\n",
              "\n",
              "    .colab-df-convert:hover {\n",
              "      background-color: #E2EBFA;\n",
              "      box-shadow: 0px 1px 2px rgba(60, 64, 67, 0.3), 0px 1px 3px 1px rgba(60, 64, 67, 0.15);\n",
              "      fill: #174EA6;\n",
              "    }\n",
              "\n",
              "    [theme=dark] .colab-df-convert {\n",
              "      background-color: #3B4455;\n",
              "      fill: #D2E3FC;\n",
              "    }\n",
              "\n",
              "    [theme=dark] .colab-df-convert:hover {\n",
              "      background-color: #434B5C;\n",
              "      box-shadow: 0px 1px 3px 1px rgba(0, 0, 0, 0.15);\n",
              "      filter: drop-shadow(0px 1px 2px rgba(0, 0, 0, 0.3));\n",
              "      fill: #FFFFFF;\n",
              "    }\n",
              "  </style>\n",
              "\n",
              "      <script>\n",
              "        const buttonEl =\n",
              "          document.querySelector('#df-5203027e-2176-4bd2-816f-aba34f6e6a41 button.colab-df-convert');\n",
              "        buttonEl.style.display =\n",
              "          google.colab.kernel.accessAllowed ? 'block' : 'none';\n",
              "\n",
              "        async function convertToInteractive(key) {\n",
              "          const element = document.querySelector('#df-5203027e-2176-4bd2-816f-aba34f6e6a41');\n",
              "          const dataTable =\n",
              "            await google.colab.kernel.invokeFunction('convertToInteractive',\n",
              "                                                     [key], {});\n",
              "          if (!dataTable) return;\n",
              "\n",
              "          const docLinkHtml = 'Like what you see? Visit the ' +\n",
              "            '<a target=\"_blank\" href=https://colab.research.google.com/notebooks/data_table.ipynb>data table notebook</a>'\n",
              "            + ' to learn more about interactive tables.';\n",
              "          element.innerHTML = '';\n",
              "          dataTable['output_type'] = 'display_data';\n",
              "          await google.colab.output.renderOutput(dataTable, element);\n",
              "          const docLink = document.createElement('div');\n",
              "          docLink.innerHTML = docLinkHtml;\n",
              "          element.appendChild(docLink);\n",
              "        }\n",
              "      </script>\n",
              "    </div>\n",
              "  </div>\n"
            ]
          },
          "metadata": {},
          "execution_count": 74
        }
      ]
    },
    {
      "cell_type": "code",
      "source": [
        "df.shape"
      ],
      "metadata": {
        "colab": {
          "base_uri": "https://localhost:8080/"
        },
        "id": "x7KVxBVmrTW3",
        "outputId": "e4cda29b-fc3c-4ec8-ea85-967602378130"
      },
      "execution_count": 75,
      "outputs": [
        {
          "output_type": "execute_result",
          "data": {
            "text/plain": [
              "(205920, 13)"
            ]
          },
          "metadata": {},
          "execution_count": 75
        }
      ]
    },
    {
      "cell_type": "code",
      "source": [
        "df['Cause of Death'].unique()"
      ],
      "metadata": {
        "colab": {
          "base_uri": "https://localhost:8080/"
        },
        "id": "oRLIQ-UjjaR-",
        "outputId": "e6ab54e7-72c1-4cd1-a6d7-d90583dffc2a"
      },
      "execution_count": 76,
      "outputs": [
        {
          "output_type": "execute_result",
          "data": {
            "text/plain": [
              "array(['Cancer', 'Chronic Lower Respiratory Disease', 'Heart Disease',\n",
              "       'Stroke', 'Unintentional Injury'], dtype=object)"
            ]
          },
          "metadata": {},
          "execution_count": 76
        }
      ]
    },
    {
      "cell_type": "code",
      "source": [
        "df.isnull().sum()"
      ],
      "metadata": {
        "colab": {
          "base_uri": "https://localhost:8080/"
        },
        "id": "fg6ykyxOmC5_",
        "outputId": "5880a441-1055-4796-f36d-4180262b2fe4"
      },
      "execution_count": 77,
      "outputs": [
        {
          "output_type": "execute_result",
          "data": {
            "text/plain": [
              "Year                                     0\n",
              "Cause of Death                           0\n",
              "State                                    0\n",
              "State FIPS Code                          0\n",
              "HHS Region                               0\n",
              "Age Range                                0\n",
              "Benchmark                                0\n",
              "Locality                                 0\n",
              "Observed Deaths                      10212\n",
              "Population                            5280\n",
              "Expected Deaths                      10212\n",
              "Potentially Excess Deaths            10212\n",
              "Percent Potentially Excess Deaths    10212\n",
              "dtype: int64"
            ]
          },
          "metadata": {},
          "execution_count": 77
        }
      ]
    },
    {
      "cell_type": "code",
      "source": [
        "a=df.isnull().sum()"
      ],
      "metadata": {
        "id": "tl1JWhO9jeAw"
      },
      "execution_count": 78,
      "outputs": []
    },
    {
      "cell_type": "code",
      "source": [
        "print(type(a))"
      ],
      "metadata": {
        "colab": {
          "base_uri": "https://localhost:8080/"
        },
        "id": "Imgld6yNj28B",
        "outputId": "eb878c02-e9a7-4c1b-9c99-3dda948b69ee"
      },
      "execution_count": 79,
      "outputs": [
        {
          "output_type": "stream",
          "name": "stdout",
          "text": [
            "<class 'pandas.core.series.Series'>\n"
          ]
        }
      ]
    },
    {
      "cell_type": "code",
      "source": [
        "for i in a.keys():\n",
        "    print(df[i].dtypes,'------------',a[i])\n"
      ],
      "metadata": {
        "colab": {
          "base_uri": "https://localhost:8080/"
        },
        "id": "aHe0MqShj7qS",
        "outputId": "8e5cde81-a093-475f-c38f-58f99f959bb2"
      },
      "execution_count": 80,
      "outputs": [
        {
          "output_type": "stream",
          "name": "stdout",
          "text": [
            "int64 ------------ 0\n",
            "object ------------ 0\n",
            "object ------------ 0\n",
            "object ------------ 0\n",
            "int64 ------------ 0\n",
            "object ------------ 0\n",
            "object ------------ 0\n",
            "object ------------ 0\n",
            "float64 ------------ 10212\n",
            "float64 ------------ 5280\n",
            "float64 ------------ 10212\n",
            "float64 ------------ 10212\n",
            "float64 ------------ 10212\n"
          ]
        }
      ]
    },
    {
      "cell_type": "code",
      "source": [
        "filtered_rows = df[df.isnull().any(axis=1)]"
      ],
      "metadata": {
        "id": "tJxsuXOInE7P"
      },
      "execution_count": 81,
      "outputs": []
    },
    {
      "cell_type": "code",
      "source": [
        "filtered_rows.head(10)"
      ],
      "metadata": {
        "colab": {
          "base_uri": "https://localhost:8080/",
          "height": 363
        },
        "id": "j7h9nH4ZpPGL",
        "outputId": "35f6f4de-3399-46f4-90df-b06013896e85"
      },
      "execution_count": 82,
      "outputs": [
        {
          "output_type": "execute_result",
          "data": {
            "text/plain": [
              "     Year Cause of Death       State State FIPS Code  HHS Region Age Range  \\\n",
              "262  2005         Cancer    Delaware              DE           3      0-84   \n",
              "468  2005         Cancer  New Jersey              NJ           2      0-64   \n",
              "508  2005         Cancer    Delaware              DE           3      0-49   \n",
              "511  2005         Cancer    Delaware              DE           3      0-49   \n",
              "514  2005         Cancer    Delaware              DE           3      0-49   \n",
              "517  2005         Cancer    Delaware              DE           3      0-54   \n",
              "520  2005         Cancer    Delaware              DE           3      0-54   \n",
              "523  2005         Cancer    Delaware              DE           3      0-54   \n",
              "526  2005         Cancer    Delaware              DE           3      0-59   \n",
              "529  2005         Cancer    Delaware              DE           3      0-59   \n",
              "\n",
              "      Benchmark         Locality  Observed Deaths  Population  \\\n",
              "262    Floating  Nonmetropolitan              NaN         NaN   \n",
              "468  2005 Fixed  Nonmetropolitan              NaN         NaN   \n",
              "508  2005 Fixed  Nonmetropolitan              NaN         NaN   \n",
              "511  2010 Fixed  Nonmetropolitan              NaN         NaN   \n",
              "514    Floating  Nonmetropolitan              NaN         NaN   \n",
              "517  2005 Fixed  Nonmetropolitan              NaN         NaN   \n",
              "520  2010 Fixed  Nonmetropolitan              NaN         NaN   \n",
              "523    Floating  Nonmetropolitan              NaN         NaN   \n",
              "526  2005 Fixed  Nonmetropolitan              NaN         NaN   \n",
              "529  2010 Fixed  Nonmetropolitan              NaN         NaN   \n",
              "\n",
              "     Expected Deaths  Potentially Excess Deaths  \\\n",
              "262              NaN                        NaN   \n",
              "468              NaN                        NaN   \n",
              "508              NaN                        NaN   \n",
              "511              NaN                        NaN   \n",
              "514              NaN                        NaN   \n",
              "517              NaN                        NaN   \n",
              "520              NaN                        NaN   \n",
              "523              NaN                        NaN   \n",
              "526              NaN                        NaN   \n",
              "529              NaN                        NaN   \n",
              "\n",
              "     Percent Potentially Excess Deaths  \n",
              "262                                NaN  \n",
              "468                                NaN  \n",
              "508                                NaN  \n",
              "511                                NaN  \n",
              "514                                NaN  \n",
              "517                                NaN  \n",
              "520                                NaN  \n",
              "523                                NaN  \n",
              "526                                NaN  \n",
              "529                                NaN  "
            ],
            "text/html": [
              "\n",
              "\n",
              "  <div id=\"df-2ebc719e-dd93-4efa-9ec0-15cde4095d14\">\n",
              "    <div class=\"colab-df-container\">\n",
              "      <div>\n",
              "<style scoped>\n",
              "    .dataframe tbody tr th:only-of-type {\n",
              "        vertical-align: middle;\n",
              "    }\n",
              "\n",
              "    .dataframe tbody tr th {\n",
              "        vertical-align: top;\n",
              "    }\n",
              "\n",
              "    .dataframe thead th {\n",
              "        text-align: right;\n",
              "    }\n",
              "</style>\n",
              "<table border=\"1\" class=\"dataframe\">\n",
              "  <thead>\n",
              "    <tr style=\"text-align: right;\">\n",
              "      <th></th>\n",
              "      <th>Year</th>\n",
              "      <th>Cause of Death</th>\n",
              "      <th>State</th>\n",
              "      <th>State FIPS Code</th>\n",
              "      <th>HHS Region</th>\n",
              "      <th>Age Range</th>\n",
              "      <th>Benchmark</th>\n",
              "      <th>Locality</th>\n",
              "      <th>Observed Deaths</th>\n",
              "      <th>Population</th>\n",
              "      <th>Expected Deaths</th>\n",
              "      <th>Potentially Excess Deaths</th>\n",
              "      <th>Percent Potentially Excess Deaths</th>\n",
              "    </tr>\n",
              "  </thead>\n",
              "  <tbody>\n",
              "    <tr>\n",
              "      <th>262</th>\n",
              "      <td>2005</td>\n",
              "      <td>Cancer</td>\n",
              "      <td>Delaware</td>\n",
              "      <td>DE</td>\n",
              "      <td>3</td>\n",
              "      <td>0-84</td>\n",
              "      <td>Floating</td>\n",
              "      <td>Nonmetropolitan</td>\n",
              "      <td>NaN</td>\n",
              "      <td>NaN</td>\n",
              "      <td>NaN</td>\n",
              "      <td>NaN</td>\n",
              "      <td>NaN</td>\n",
              "    </tr>\n",
              "    <tr>\n",
              "      <th>468</th>\n",
              "      <td>2005</td>\n",
              "      <td>Cancer</td>\n",
              "      <td>New Jersey</td>\n",
              "      <td>NJ</td>\n",
              "      <td>2</td>\n",
              "      <td>0-64</td>\n",
              "      <td>2005 Fixed</td>\n",
              "      <td>Nonmetropolitan</td>\n",
              "      <td>NaN</td>\n",
              "      <td>NaN</td>\n",
              "      <td>NaN</td>\n",
              "      <td>NaN</td>\n",
              "      <td>NaN</td>\n",
              "    </tr>\n",
              "    <tr>\n",
              "      <th>508</th>\n",
              "      <td>2005</td>\n",
              "      <td>Cancer</td>\n",
              "      <td>Delaware</td>\n",
              "      <td>DE</td>\n",
              "      <td>3</td>\n",
              "      <td>0-49</td>\n",
              "      <td>2005 Fixed</td>\n",
              "      <td>Nonmetropolitan</td>\n",
              "      <td>NaN</td>\n",
              "      <td>NaN</td>\n",
              "      <td>NaN</td>\n",
              "      <td>NaN</td>\n",
              "      <td>NaN</td>\n",
              "    </tr>\n",
              "    <tr>\n",
              "      <th>511</th>\n",
              "      <td>2005</td>\n",
              "      <td>Cancer</td>\n",
              "      <td>Delaware</td>\n",
              "      <td>DE</td>\n",
              "      <td>3</td>\n",
              "      <td>0-49</td>\n",
              "      <td>2010 Fixed</td>\n",
              "      <td>Nonmetropolitan</td>\n",
              "      <td>NaN</td>\n",
              "      <td>NaN</td>\n",
              "      <td>NaN</td>\n",
              "      <td>NaN</td>\n",
              "      <td>NaN</td>\n",
              "    </tr>\n",
              "    <tr>\n",
              "      <th>514</th>\n",
              "      <td>2005</td>\n",
              "      <td>Cancer</td>\n",
              "      <td>Delaware</td>\n",
              "      <td>DE</td>\n",
              "      <td>3</td>\n",
              "      <td>0-49</td>\n",
              "      <td>Floating</td>\n",
              "      <td>Nonmetropolitan</td>\n",
              "      <td>NaN</td>\n",
              "      <td>NaN</td>\n",
              "      <td>NaN</td>\n",
              "      <td>NaN</td>\n",
              "      <td>NaN</td>\n",
              "    </tr>\n",
              "    <tr>\n",
              "      <th>517</th>\n",
              "      <td>2005</td>\n",
              "      <td>Cancer</td>\n",
              "      <td>Delaware</td>\n",
              "      <td>DE</td>\n",
              "      <td>3</td>\n",
              "      <td>0-54</td>\n",
              "      <td>2005 Fixed</td>\n",
              "      <td>Nonmetropolitan</td>\n",
              "      <td>NaN</td>\n",
              "      <td>NaN</td>\n",
              "      <td>NaN</td>\n",
              "      <td>NaN</td>\n",
              "      <td>NaN</td>\n",
              "    </tr>\n",
              "    <tr>\n",
              "      <th>520</th>\n",
              "      <td>2005</td>\n",
              "      <td>Cancer</td>\n",
              "      <td>Delaware</td>\n",
              "      <td>DE</td>\n",
              "      <td>3</td>\n",
              "      <td>0-54</td>\n",
              "      <td>2010 Fixed</td>\n",
              "      <td>Nonmetropolitan</td>\n",
              "      <td>NaN</td>\n",
              "      <td>NaN</td>\n",
              "      <td>NaN</td>\n",
              "      <td>NaN</td>\n",
              "      <td>NaN</td>\n",
              "    </tr>\n",
              "    <tr>\n",
              "      <th>523</th>\n",
              "      <td>2005</td>\n",
              "      <td>Cancer</td>\n",
              "      <td>Delaware</td>\n",
              "      <td>DE</td>\n",
              "      <td>3</td>\n",
              "      <td>0-54</td>\n",
              "      <td>Floating</td>\n",
              "      <td>Nonmetropolitan</td>\n",
              "      <td>NaN</td>\n",
              "      <td>NaN</td>\n",
              "      <td>NaN</td>\n",
              "      <td>NaN</td>\n",
              "      <td>NaN</td>\n",
              "    </tr>\n",
              "    <tr>\n",
              "      <th>526</th>\n",
              "      <td>2005</td>\n",
              "      <td>Cancer</td>\n",
              "      <td>Delaware</td>\n",
              "      <td>DE</td>\n",
              "      <td>3</td>\n",
              "      <td>0-59</td>\n",
              "      <td>2005 Fixed</td>\n",
              "      <td>Nonmetropolitan</td>\n",
              "      <td>NaN</td>\n",
              "      <td>NaN</td>\n",
              "      <td>NaN</td>\n",
              "      <td>NaN</td>\n",
              "      <td>NaN</td>\n",
              "    </tr>\n",
              "    <tr>\n",
              "      <th>529</th>\n",
              "      <td>2005</td>\n",
              "      <td>Cancer</td>\n",
              "      <td>Delaware</td>\n",
              "      <td>DE</td>\n",
              "      <td>3</td>\n",
              "      <td>0-59</td>\n",
              "      <td>2010 Fixed</td>\n",
              "      <td>Nonmetropolitan</td>\n",
              "      <td>NaN</td>\n",
              "      <td>NaN</td>\n",
              "      <td>NaN</td>\n",
              "      <td>NaN</td>\n",
              "      <td>NaN</td>\n",
              "    </tr>\n",
              "  </tbody>\n",
              "</table>\n",
              "</div>\n",
              "      <button class=\"colab-df-convert\" onclick=\"convertToInteractive('df-2ebc719e-dd93-4efa-9ec0-15cde4095d14')\"\n",
              "              title=\"Convert this dataframe to an interactive table.\"\n",
              "              style=\"display:none;\">\n",
              "\n",
              "  <svg xmlns=\"http://www.w3.org/2000/svg\" height=\"24px\"viewBox=\"0 0 24 24\"\n",
              "       width=\"24px\">\n",
              "    <path d=\"M0 0h24v24H0V0z\" fill=\"none\"/>\n",
              "    <path d=\"M18.56 5.44l.94 2.06.94-2.06 2.06-.94-2.06-.94-.94-2.06-.94 2.06-2.06.94zm-11 1L8.5 8.5l.94-2.06 2.06-.94-2.06-.94L8.5 2.5l-.94 2.06-2.06.94zm10 10l.94 2.06.94-2.06 2.06-.94-2.06-.94-.94-2.06-.94 2.06-2.06.94z\"/><path d=\"M17.41 7.96l-1.37-1.37c-.4-.4-.92-.59-1.43-.59-.52 0-1.04.2-1.43.59L10.3 9.45l-7.72 7.72c-.78.78-.78 2.05 0 2.83L4 21.41c.39.39.9.59 1.41.59.51 0 1.02-.2 1.41-.59l7.78-7.78 2.81-2.81c.8-.78.8-2.07 0-2.86zM5.41 20L4 18.59l7.72-7.72 1.47 1.35L5.41 20z\"/>\n",
              "  </svg>\n",
              "      </button>\n",
              "\n",
              "\n",
              "\n",
              "    <div id=\"df-56963f86-c7b3-4d9f-90e7-74ffff825813\">\n",
              "      <button class=\"colab-df-quickchart\" onclick=\"quickchart('df-56963f86-c7b3-4d9f-90e7-74ffff825813')\"\n",
              "              title=\"Suggest charts.\"\n",
              "              style=\"display:none;\">\n",
              "\n",
              "<svg xmlns=\"http://www.w3.org/2000/svg\" height=\"24px\"viewBox=\"0 0 24 24\"\n",
              "     width=\"24px\">\n",
              "    <g>\n",
              "        <path d=\"M19 3H5c-1.1 0-2 .9-2 2v14c0 1.1.9 2 2 2h14c1.1 0 2-.9 2-2V5c0-1.1-.9-2-2-2zM9 17H7v-7h2v7zm4 0h-2V7h2v10zm4 0h-2v-4h2v4z\"/>\n",
              "    </g>\n",
              "</svg>\n",
              "      </button>\n",
              "    </div>\n",
              "\n",
              "<style>\n",
              "  .colab-df-quickchart {\n",
              "    background-color: #E8F0FE;\n",
              "    border: none;\n",
              "    border-radius: 50%;\n",
              "    cursor: pointer;\n",
              "    display: none;\n",
              "    fill: #1967D2;\n",
              "    height: 32px;\n",
              "    padding: 0 0 0 0;\n",
              "    width: 32px;\n",
              "  }\n",
              "\n",
              "  .colab-df-quickchart:hover {\n",
              "    background-color: #E2EBFA;\n",
              "    box-shadow: 0px 1px 2px rgba(60, 64, 67, 0.3), 0px 1px 3px 1px rgba(60, 64, 67, 0.15);\n",
              "    fill: #174EA6;\n",
              "  }\n",
              "\n",
              "  [theme=dark] .colab-df-quickchart {\n",
              "    background-color: #3B4455;\n",
              "    fill: #D2E3FC;\n",
              "  }\n",
              "\n",
              "  [theme=dark] .colab-df-quickchart:hover {\n",
              "    background-color: #434B5C;\n",
              "    box-shadow: 0px 1px 3px 1px rgba(0, 0, 0, 0.15);\n",
              "    filter: drop-shadow(0px 1px 2px rgba(0, 0, 0, 0.3));\n",
              "    fill: #FFFFFF;\n",
              "  }\n",
              "</style>\n",
              "\n",
              "    <script>\n",
              "      async function quickchart(key) {\n",
              "        const containerElement = document.querySelector('#' + key);\n",
              "        const charts = await google.colab.kernel.invokeFunction(\n",
              "            'suggestCharts', [key], {});\n",
              "      }\n",
              "    </script>\n",
              "\n",
              "      <script>\n",
              "\n",
              "function displayQuickchartButton(domScope) {\n",
              "  let quickchartButtonEl =\n",
              "    domScope.querySelector('#df-56963f86-c7b3-4d9f-90e7-74ffff825813 button.colab-df-quickchart');\n",
              "  quickchartButtonEl.style.display =\n",
              "    google.colab.kernel.accessAllowed ? 'block' : 'none';\n",
              "}\n",
              "\n",
              "        displayQuickchartButton(document);\n",
              "      </script>\n",
              "      <style>\n",
              "    .colab-df-container {\n",
              "      display:flex;\n",
              "      flex-wrap:wrap;\n",
              "      gap: 12px;\n",
              "    }\n",
              "\n",
              "    .colab-df-convert {\n",
              "      background-color: #E8F0FE;\n",
              "      border: none;\n",
              "      border-radius: 50%;\n",
              "      cursor: pointer;\n",
              "      display: none;\n",
              "      fill: #1967D2;\n",
              "      height: 32px;\n",
              "      padding: 0 0 0 0;\n",
              "      width: 32px;\n",
              "    }\n",
              "\n",
              "    .colab-df-convert:hover {\n",
              "      background-color: #E2EBFA;\n",
              "      box-shadow: 0px 1px 2px rgba(60, 64, 67, 0.3), 0px 1px 3px 1px rgba(60, 64, 67, 0.15);\n",
              "      fill: #174EA6;\n",
              "    }\n",
              "\n",
              "    [theme=dark] .colab-df-convert {\n",
              "      background-color: #3B4455;\n",
              "      fill: #D2E3FC;\n",
              "    }\n",
              "\n",
              "    [theme=dark] .colab-df-convert:hover {\n",
              "      background-color: #434B5C;\n",
              "      box-shadow: 0px 1px 3px 1px rgba(0, 0, 0, 0.15);\n",
              "      filter: drop-shadow(0px 1px 2px rgba(0, 0, 0, 0.3));\n",
              "      fill: #FFFFFF;\n",
              "    }\n",
              "  </style>\n",
              "\n",
              "      <script>\n",
              "        const buttonEl =\n",
              "          document.querySelector('#df-2ebc719e-dd93-4efa-9ec0-15cde4095d14 button.colab-df-convert');\n",
              "        buttonEl.style.display =\n",
              "          google.colab.kernel.accessAllowed ? 'block' : 'none';\n",
              "\n",
              "        async function convertToInteractive(key) {\n",
              "          const element = document.querySelector('#df-2ebc719e-dd93-4efa-9ec0-15cde4095d14');\n",
              "          const dataTable =\n",
              "            await google.colab.kernel.invokeFunction('convertToInteractive',\n",
              "                                                     [key], {});\n",
              "          if (!dataTable) return;\n",
              "\n",
              "          const docLinkHtml = 'Like what you see? Visit the ' +\n",
              "            '<a target=\"_blank\" href=https://colab.research.google.com/notebooks/data_table.ipynb>data table notebook</a>'\n",
              "            + ' to learn more about interactive tables.';\n",
              "          element.innerHTML = '';\n",
              "          dataTable['output_type'] = 'display_data';\n",
              "          await google.colab.output.renderOutput(dataTable, element);\n",
              "          const docLink = document.createElement('div');\n",
              "          docLink.innerHTML = docLinkHtml;\n",
              "          element.appendChild(docLink);\n",
              "        }\n",
              "      </script>\n",
              "    </div>\n",
              "  </div>\n"
            ]
          },
          "metadata": {},
          "execution_count": 82
        }
      ]
    },
    {
      "cell_type": "code",
      "source": [
        "filtered_rows.shape"
      ],
      "metadata": {
        "colab": {
          "base_uri": "https://localhost:8080/"
        },
        "id": "i4dLrJz_kEPE",
        "outputId": "0c08cfd6-026b-46ee-e46b-c8e9138e07af"
      },
      "execution_count": 83,
      "outputs": [
        {
          "output_type": "execute_result",
          "data": {
            "text/plain": [
              "(10212, 13)"
            ]
          },
          "metadata": {},
          "execution_count": 83
        }
      ]
    },
    {
      "cell_type": "code",
      "source": [
        "filtered_rows = df[df['Cause of Death'] == 'Unintentional Injury']"
      ],
      "metadata": {
        "id": "cjdY7qMXsPUw"
      },
      "execution_count": 84,
      "outputs": []
    },
    {
      "cell_type": "code",
      "source": [
        "filtered_rows.isnull().sum()"
      ],
      "metadata": {
        "colab": {
          "base_uri": "https://localhost:8080/"
        },
        "id": "LrZ2KhxFwIBN",
        "outputId": "c82059eb-1d63-438f-a055-29e873f4d934"
      },
      "execution_count": 85,
      "outputs": [
        {
          "output_type": "execute_result",
          "data": {
            "text/plain": [
              "Year                                    0\n",
              "Cause of Death                          0\n",
              "State                                   0\n",
              "State FIPS Code                         0\n",
              "HHS Region                              0\n",
              "Age Range                               0\n",
              "Benchmark                               0\n",
              "Locality                                0\n",
              "Observed Deaths                      1056\n",
              "Population                           1056\n",
              "Expected Deaths                      1056\n",
              "Potentially Excess Deaths            1056\n",
              "Percent Potentially Excess Deaths    1056\n",
              "dtype: int64"
            ]
          },
          "metadata": {},
          "execution_count": 85
        }
      ]
    },
    {
      "cell_type": "code",
      "source": [
        "mean_value = filtered_rows['Observed Deaths'].mean()"
      ],
      "metadata": {
        "id": "RQWXG7dptoCf"
      },
      "execution_count": 86,
      "outputs": []
    },
    {
      "cell_type": "code",
      "source": [
        "df.loc[filtered_rows.index, 'Observed Deaths'] = replacement_value"
      ],
      "metadata": {
        "colab": {
          "base_uri": "https://localhost:8080/",
          "height": 179
        },
        "id": "P_Ih9Se5twDX",
        "outputId": "2e5f0535-6f97-499b-c652-14c793512090"
      },
      "execution_count": 87,
      "outputs": [
        {
          "output_type": "error",
          "ename": "NameError",
          "evalue": "ignored",
          "traceback": [
            "\u001b[0;31m---------------------------------------------------------------------------\u001b[0m",
            "\u001b[0;31mNameError\u001b[0m                                 Traceback (most recent call last)",
            "\u001b[0;32m<ipython-input-87-e908c7bea2a2>\u001b[0m in \u001b[0;36m<cell line: 1>\u001b[0;34m()\u001b[0m\n\u001b[0;32m----> 1\u001b[0;31m \u001b[0mdf\u001b[0m\u001b[0;34m.\u001b[0m\u001b[0mloc\u001b[0m\u001b[0;34m[\u001b[0m\u001b[0mfiltered_rows\u001b[0m\u001b[0;34m.\u001b[0m\u001b[0mindex\u001b[0m\u001b[0;34m,\u001b[0m \u001b[0;34m'Observed Deaths'\u001b[0m\u001b[0;34m]\u001b[0m \u001b[0;34m=\u001b[0m \u001b[0mreplacement_value\u001b[0m\u001b[0;34m\u001b[0m\u001b[0;34m\u001b[0m\u001b[0m\n\u001b[0m",
            "\u001b[0;31mNameError\u001b[0m: name 'replacement_value' is not defined"
          ]
        }
      ]
    },
    {
      "cell_type": "code",
      "source": [
        "df['Observed Deaths'].max()"
      ],
      "metadata": {
        "id": "zp-ASRWPuBZu"
      },
      "execution_count": null,
      "outputs": []
    },
    {
      "cell_type": "code",
      "source": [
        "filtered_rows = df[df['Observed Deaths'].isna()]"
      ],
      "metadata": {
        "id": "jS0vdSBSuLQ0"
      },
      "execution_count": null,
      "outputs": []
    },
    {
      "cell_type": "code",
      "source": [
        "df.loc[filtered_rows.index, 'Observed Deaths'] = mean_value"
      ],
      "metadata": {
        "id": "jY7V3voEuxa0"
      },
      "execution_count": null,
      "outputs": []
    },
    {
      "cell_type": "code",
      "source": [
        "df.isnull().sum()"
      ],
      "metadata": {
        "id": "hRYWhilevAWd"
      },
      "execution_count": null,
      "outputs": []
    },
    {
      "cell_type": "code",
      "source": [],
      "metadata": {
        "id": "fgKxDZJ3v1hV"
      },
      "execution_count": null,
      "outputs": []
    }
  ]
}