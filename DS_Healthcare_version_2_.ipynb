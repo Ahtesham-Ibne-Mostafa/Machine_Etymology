{
  "cells": [
    {
      "cell_type": "markdown",
      "metadata": {
        "id": "view-in-github",
        "colab_type": "text"
      },
      "source": [
        "<a href=\"https://colab.research.google.com/github/Ahtesham-Ibne-Mostafa/Machine_Etymology/blob/main/DS_Healthcare_version_2_.ipynb\" target=\"_parent\"><img src=\"https://colab.research.google.com/assets/colab-badge.svg\" alt=\"Open In Colab\"/></a>"
      ]
    },
    {
      "cell_type": "code",
      "execution_count": null,
      "metadata": {
        "id": "bx4_EcpnY3Vc"
      },
      "outputs": [],
      "source": [
        "import pandas as pd\n",
        "import numpy as np"
      ]
    },
    {
      "cell_type": "code",
      "execution_count": null,
      "metadata": {
        "id": "OYyHLRlkZENE"
      },
      "outputs": [],
      "source": [
        "data= pd.read_excel('DS-Healthcare_version_2.xlsx')"
      ]
    },
    {
      "cell_type": "code",
      "execution_count": null,
      "metadata": {
        "id": "NpodT8YiVtBo"
      },
      "outputs": [],
      "source": [
        "X= data.loc[:,data.columns != target]\n",
        "X= X.loc[:,X.columns != 'Subject']\n",
        "X= X.loc[:,X.columns != 'Time']\n",
        "X= X.loc[:,X.columns != 'Cycle']\n",
        "X.head(-1)"
      ]
    },
    {
      "cell_type": "code",
      "execution_count": null,
      "metadata": {
        "id": "F9jV9MhwZxpe"
      },
      "outputs": [],
      "source": [
        "target = 'Type'"
      ]
    },
    {
      "cell_type": "code",
      "execution_count": null,
      "metadata": {
        "id": "9dOEalHlVtBp",
        "outputId": "e1aa05bd-7fe2-4917-8736-bd9032b696bb"
      },
      "outputs": [
        {
          "data": {
            "text/plain": [
              "48     14450\n",
              "41     13334\n",
              "60     11666\n",
              "58     11117\n",
              "9      11107\n",
              "       ...  \n",
              "146      570\n",
              "49       555\n",
              "143      428\n",
              "86       395\n",
              "0          1\n",
              "Name: Subject, Length: 148, dtype: int64"
            ]
          },
          "execution_count": 138,
          "metadata": {},
          "output_type": "execute_result"
        }
      ],
      "source": [
        "data[\"Subject\"].value_counts()"
      ]
    },
    {
      "cell_type": "code",
      "execution_count": null,
      "metadata": {
        "colab": {
          "base_uri": "https://localhost:8080/",
          "height": 206
        },
        "id": "sJ0A1jcRZGj3",
        "outputId": "e40a84a2-6877-4e8b-b206-501af367d2b4"
      },
      "outputs": [
        {
          "data": {
            "text/html": [
              "<div>\n",
              "<style scoped>\n",
              "    .dataframe tbody tr th:only-of-type {\n",
              "        vertical-align: middle;\n",
              "    }\n",
              "\n",
              "    .dataframe tbody tr th {\n",
              "        vertical-align: top;\n",
              "    }\n",
              "\n",
              "    .dataframe thead th {\n",
              "        text-align: right;\n",
              "    }\n",
              "</style>\n",
              "<table border=\"1\" class=\"dataframe\">\n",
              "  <thead>\n",
              "    <tr style=\"text-align: right;\">\n",
              "      <th></th>\n",
              "      <th>Subject</th>\n",
              "      <th>Cycle</th>\n",
              "      <th>Time</th>\n",
              "      <th>RR-I</th>\n",
              "      <th>HR</th>\n",
              "      <th>R-H</th>\n",
              "      <th>P-H</th>\n",
              "      <th>QRS</th>\n",
              "      <th>PRQ</th>\n",
              "      <th>QT</th>\n",
              "      <th>QTC</th>\n",
              "      <th>ST</th>\n",
              "    </tr>\n",
              "  </thead>\n",
              "  <tbody>\n",
              "    <tr>\n",
              "      <th>0</th>\n",
              "      <td>1</td>\n",
              "      <td>1</td>\n",
              "      <td>1.072</td>\n",
              "      <td>0.932</td>\n",
              "      <td>64.377682</td>\n",
              "      <td>3.305</td>\n",
              "      <td>3.810</td>\n",
              "      <td>0.088</td>\n",
              "      <td>0.160</td>\n",
              "      <td>0.384</td>\n",
              "      <td>0.397762</td>\n",
              "      <td>0.296</td>\n",
              "    </tr>\n",
              "    <tr>\n",
              "      <th>1</th>\n",
              "      <td>1</td>\n",
              "      <td>2</td>\n",
              "      <td>2.004</td>\n",
              "      <td>1.004</td>\n",
              "      <td>59.760956</td>\n",
              "      <td>3.285</td>\n",
              "      <td>3.810</td>\n",
              "      <td>0.100</td>\n",
              "      <td>0.160</td>\n",
              "      <td>0.640</td>\n",
              "      <td>0.638724</td>\n",
              "      <td>0.540</td>\n",
              "    </tr>\n",
              "    <tr>\n",
              "      <th>2</th>\n",
              "      <td>1</td>\n",
              "      <td>3</td>\n",
              "      <td>3.008</td>\n",
              "      <td>0.996</td>\n",
              "      <td>60.240964</td>\n",
              "      <td>3.340</td>\n",
              "      <td>3.830</td>\n",
              "      <td>0.128</td>\n",
              "      <td>0.148</td>\n",
              "      <td>0.628</td>\n",
              "      <td>0.629260</td>\n",
              "      <td>0.500</td>\n",
              "    </tr>\n",
              "    <tr>\n",
              "      <th>3</th>\n",
              "      <td>1</td>\n",
              "      <td>4</td>\n",
              "      <td>4.004</td>\n",
              "      <td>1.016</td>\n",
              "      <td>59.055118</td>\n",
              "      <td>3.325</td>\n",
              "      <td>3.810</td>\n",
              "      <td>0.108</td>\n",
              "      <td>0.172</td>\n",
              "      <td>0.388</td>\n",
              "      <td>0.384933</td>\n",
              "      <td>0.280</td>\n",
              "    </tr>\n",
              "    <tr>\n",
              "      <th>4</th>\n",
              "      <td>1</td>\n",
              "      <td>5</td>\n",
              "      <td>5.020</td>\n",
              "      <td>0.972</td>\n",
              "      <td>61.728395</td>\n",
              "      <td>3.290</td>\n",
              "      <td>3.765</td>\n",
              "      <td>0.100</td>\n",
              "      <td>0.160</td>\n",
              "      <td>0.372</td>\n",
              "      <td>0.377320</td>\n",
              "      <td>0.272</td>\n",
              "    </tr>\n",
              "  </tbody>\n",
              "</table>\n",
              "</div>"
            ],
            "text/plain": [
              "   Subject  Cycle   Time   RR-I         HR    R-H    P-H    QRS    PRQ     QT  \\\n",
              "0        1      1  1.072  0.932  64.377682  3.305  3.810  0.088  0.160  0.384   \n",
              "1        1      2  2.004  1.004  59.760956  3.285  3.810  0.100  0.160  0.640   \n",
              "2        1      3  3.008  0.996  60.240964  3.340  3.830  0.128  0.148  0.628   \n",
              "3        1      4  4.004  1.016  59.055118  3.325  3.810  0.108  0.172  0.388   \n",
              "4        1      5  5.020  0.972  61.728395  3.290  3.765  0.100  0.160  0.372   \n",
              "\n",
              "        QTC     ST  \n",
              "0  0.397762  0.296  \n",
              "1  0.638724  0.540  \n",
              "2  0.629260  0.500  \n",
              "3  0.384933  0.280  \n",
              "4  0.377320  0.272  "
            ]
          },
          "execution_count": 139,
          "metadata": {},
          "output_type": "execute_result"
        }
      ],
      "source": [
        "X= data.loc[:,data.columns != target]\n",
        "\n",
        "X.head()"
      ]
    },
    {
      "cell_type": "code",
      "execution_count": null,
      "metadata": {
        "colab": {
          "base_uri": "https://localhost:8080/"
        },
        "id": "ip1sz9ZFZI_4",
        "outputId": "d92446e9-46dc-4819-cc80-c89863f363fb"
      },
      "outputs": [
        {
          "data": {
            "text/plain": [
              "0    ischemic\n",
              "1    ischemic\n",
              "2    ischemic\n",
              "3    ischemic\n",
              "4    ischemic\n",
              "Name: Type, dtype: object"
            ]
          },
          "execution_count": 140,
          "metadata": {},
          "output_type": "execute_result"
        }
      ],
      "source": [
        "Y = data[target]\n",
        "\n",
        "Y.head() "
      ]
    },
    {
      "cell_type": "code",
      "execution_count": null,
      "metadata": {
        "colab": {
          "base_uri": "https://localhost:8080/"
        },
        "id": "pp2T7tHy52RY",
        "outputId": "c901e3b1-56c2-4f25-cdc9-00d8b18366d8"
      },
      "outputs": [
        {
          "data": {
            "text/plain": [
              "ischemic      581219\n",
              "healthy       267360\n",
              "arrhythmic     40238\n",
              "Name: Type, dtype: int64"
            ]
          },
          "execution_count": 141,
          "metadata": {},
          "output_type": "execute_result"
        }
      ],
      "source": [
        "Y.value_counts()"
      ]
    },
    {
      "cell_type": "code",
      "execution_count": null,
      "metadata": {
        "id": "ntfY_FwPwUvB"
      },
      "outputs": [],
      "source": [
        "def train_test_split(data,X,Y,test_size,feature):\n",
        "\n",
        "    f=Y.value_counts()\n",
        "    rows=X.shape[0]\n",
        "    talika=[]\n",
        "    count=0\n",
        "    for i in f:\n",
        "        talika.append(i)\n",
        "    train_size=1-test_size\n",
        "    start=0\n",
        "\n",
        "    switch=False\n",
        "\n",
        "    key=0\n",
        "    for i in talika :\n",
        "\n",
        "        train=start+int(i*train_size)\n",
        "        f= data[feature][train]\n",
        "        count1=0\n",
        "        count2=0\n",
        "        index1=train\n",
        "        index2=train+1\n",
        "        count2=0\n",
        "        end=start+i-1\n",
        "        \n",
        "        while data[feature][index1]==f:\n",
        "            if index1<start:\n",
        "                break\n",
        "            index1-=1\n",
        "            count1+=1\n",
        "            \n",
        "            \n",
        "        while data[feature][index2]==f:\n",
        "            if index2>end:\n",
        "                break\n",
        "            index2+=1\n",
        "            count2+=1\n",
        "\n",
        "        if count1>=count2:\n",
        "            train+=count2\n",
        "        else:\n",
        "            train-=count1\n",
        "        \n",
        "        \n",
        "        if switch == False:\n",
        "            X_train= X[start:train+1]\n",
        "            X_test= X[train+1:end]\n",
        "            Y_train = Y[start:train+1]\n",
        "            Y_test = Y[train+1:end]\n",
        "            switch=True\n",
        "\n",
        "        else:\n",
        "            X_train=pd.concat([X_train, X[start:train+1]], ignore_index=True)\n",
        "            X_test=pd.concat([X_test, X[train+1:end+1]], ignore_index=True)\n",
        "            Y_train=pd.concat([Y_train, Y[start:train+1]], ignore_index=True)\n",
        "            Y_test=pd.concat([Y_test, Y[train+1:end+1]], ignore_index=True)\n",
        "\n",
        "        start=start+i\n",
        "        key+=1\n",
        "\n",
        "    print('Train Percentage:',X_train.shape[0]/rows)\n",
        "\n",
        "    return X_train,X_test,Y_train,Y_test"
      ]
    },
    {
      "cell_type": "code",
      "execution_count": null,
      "metadata": {
        "id": "dnzc3NMtVtBs",
        "outputId": "f82ba3f0-91c5-43b1-ddec-87e609db45b2"
      },
      "outputs": [
        {
          "name": "stdout",
          "output_type": "stream",
          "text": [
            "Train Percentage: 0.7993580230801166\n"
          ]
        }
      ],
      "source": [
        " X_train, X_test, Y_train, Y_test = train_test_split(data,X,Y, test_size=0.2, feature= 'Subject')"
      ]
    },
    {
      "cell_type": "code",
      "execution_count": null,
      "metadata": {
        "id": "DlPY0-wYVtBs",
        "outputId": "882fd25c-d96e-4dd9-f82a-c3ded97cdced"
      },
      "outputs": [
        {
          "data": {
            "text/plain": [
              "ischemic      116816\n",
              "healthy        53471\n",
              "arrhythmic      8047\n",
              "Name: Type, dtype: int64"
            ]
          },
          "execution_count": 144,
          "metadata": {},
          "output_type": "execute_result"
        }
      ],
      "source": [
        "Y_test.value_counts()"
      ]
    },
    {
      "cell_type": "code",
      "execution_count": null,
      "metadata": {
        "id": "OZfxcmG8VtBs",
        "outputId": "c1a7ad86-e654-4797-d8e1-d6f7731e5937"
      },
      "outputs": [
        {
          "data": {
            "text/plain": [
              "ischemic      464403\n",
              "healthy       213889\n",
              "arrhythmic     32191\n",
              "Name: Type, dtype: int64"
            ]
          },
          "execution_count": 145,
          "metadata": {},
          "output_type": "execute_result"
        }
      ],
      "source": [
        "Y_train.value_counts()"
      ]
    },
    {
      "cell_type": "code",
      "execution_count": null,
      "metadata": {
        "id": "ynxNWESnVtBs",
        "outputId": "a16933ea-e38e-41f9-d632-9de5316df674"
      },
      "outputs": [
        {
          "data": {
            "text/html": [
              "<div>\n",
              "<style scoped>\n",
              "    .dataframe tbody tr th:only-of-type {\n",
              "        vertical-align: middle;\n",
              "    }\n",
              "\n",
              "    .dataframe tbody tr th {\n",
              "        vertical-align: top;\n",
              "    }\n",
              "\n",
              "    .dataframe thead th {\n",
              "        text-align: right;\n",
              "    }\n",
              "</style>\n",
              "<table border=\"1\" class=\"dataframe\">\n",
              "  <thead>\n",
              "    <tr style=\"text-align: right;\">\n",
              "      <th></th>\n",
              "      <th>Subject</th>\n",
              "      <th>Cycle</th>\n",
              "      <th>Time</th>\n",
              "      <th>RR-I</th>\n",
              "      <th>HR</th>\n",
              "      <th>R-H</th>\n",
              "      <th>P-H</th>\n",
              "      <th>QRS</th>\n",
              "      <th>PRQ</th>\n",
              "      <th>QT</th>\n",
              "      <th>QTC</th>\n",
              "      <th>ST</th>\n",
              "    </tr>\n",
              "  </thead>\n",
              "  <tbody>\n",
              "    <tr>\n",
              "      <th>0</th>\n",
              "      <td>1</td>\n",
              "      <td>1</td>\n",
              "      <td>1.072000</td>\n",
              "      <td>0.932000</td>\n",
              "      <td>64.377682</td>\n",
              "      <td>3.305</td>\n",
              "      <td>3.810</td>\n",
              "      <td>0.088000</td>\n",
              "      <td>0.160000</td>\n",
              "      <td>0.384000</td>\n",
              "      <td>0.397762</td>\n",
              "      <td>0.296000</td>\n",
              "    </tr>\n",
              "    <tr>\n",
              "      <th>1</th>\n",
              "      <td>1</td>\n",
              "      <td>2</td>\n",
              "      <td>2.004000</td>\n",
              "      <td>1.004000</td>\n",
              "      <td>59.760956</td>\n",
              "      <td>3.285</td>\n",
              "      <td>3.810</td>\n",
              "      <td>0.100000</td>\n",
              "      <td>0.160000</td>\n",
              "      <td>0.640000</td>\n",
              "      <td>0.638724</td>\n",
              "      <td>0.540000</td>\n",
              "    </tr>\n",
              "    <tr>\n",
              "      <th>2</th>\n",
              "      <td>1</td>\n",
              "      <td>3</td>\n",
              "      <td>3.008000</td>\n",
              "      <td>0.996000</td>\n",
              "      <td>60.240964</td>\n",
              "      <td>3.340</td>\n",
              "      <td>3.830</td>\n",
              "      <td>0.128000</td>\n",
              "      <td>0.148000</td>\n",
              "      <td>0.628000</td>\n",
              "      <td>0.629260</td>\n",
              "      <td>0.500000</td>\n",
              "    </tr>\n",
              "    <tr>\n",
              "      <th>3</th>\n",
              "      <td>1</td>\n",
              "      <td>4</td>\n",
              "      <td>4.004000</td>\n",
              "      <td>1.016000</td>\n",
              "      <td>59.055118</td>\n",
              "      <td>3.325</td>\n",
              "      <td>3.810</td>\n",
              "      <td>0.108000</td>\n",
              "      <td>0.172000</td>\n",
              "      <td>0.388000</td>\n",
              "      <td>0.384933</td>\n",
              "      <td>0.280000</td>\n",
              "    </tr>\n",
              "    <tr>\n",
              "      <th>4</th>\n",
              "      <td>1</td>\n",
              "      <td>5</td>\n",
              "      <td>5.020000</td>\n",
              "      <td>0.972000</td>\n",
              "      <td>61.728395</td>\n",
              "      <td>3.290</td>\n",
              "      <td>3.765</td>\n",
              "      <td>0.100000</td>\n",
              "      <td>0.160000</td>\n",
              "      <td>0.372000</td>\n",
              "      <td>0.377320</td>\n",
              "      <td>0.272000</td>\n",
              "    </tr>\n",
              "    <tr>\n",
              "      <th>...</th>\n",
              "      <td>...</td>\n",
              "      <td>...</td>\n",
              "      <td>...</td>\n",
              "      <td>...</td>\n",
              "      <td>...</td>\n",
              "      <td>...</td>\n",
              "      <td>...</td>\n",
              "      <td>...</td>\n",
              "      <td>...</td>\n",
              "      <td>...</td>\n",
              "      <td>...</td>\n",
              "      <td>...</td>\n",
              "    </tr>\n",
              "    <tr>\n",
              "      <th>710477</th>\n",
              "      <td>133</td>\n",
              "      <td>1974</td>\n",
              "      <td>1440.841667</td>\n",
              "      <td>0.769444</td>\n",
              "      <td>77.978339</td>\n",
              "      <td>0.730</td>\n",
              "      <td>-0.725</td>\n",
              "      <td>0.097222</td>\n",
              "      <td>0.161111</td>\n",
              "      <td>0.486111</td>\n",
              "      <td>0.554175</td>\n",
              "      <td>0.388889</td>\n",
              "    </tr>\n",
              "    <tr>\n",
              "      <th>710478</th>\n",
              "      <td>133</td>\n",
              "      <td>1975</td>\n",
              "      <td>1441.611111</td>\n",
              "      <td>0.772222</td>\n",
              "      <td>77.697842</td>\n",
              "      <td>0.825</td>\n",
              "      <td>-0.670</td>\n",
              "      <td>0.100000</td>\n",
              "      <td>0.155556</td>\n",
              "      <td>0.475000</td>\n",
              "      <td>0.540533</td>\n",
              "      <td>0.375000</td>\n",
              "    </tr>\n",
              "    <tr>\n",
              "      <th>710479</th>\n",
              "      <td>133</td>\n",
              "      <td>1976</td>\n",
              "      <td>1442.383333</td>\n",
              "      <td>0.763889</td>\n",
              "      <td>78.545455</td>\n",
              "      <td>0.870</td>\n",
              "      <td>-0.665</td>\n",
              "      <td>0.105556</td>\n",
              "      <td>0.155556</td>\n",
              "      <td>0.480556</td>\n",
              "      <td>0.549830</td>\n",
              "      <td>0.377778</td>\n",
              "    </tr>\n",
              "    <tr>\n",
              "      <th>710480</th>\n",
              "      <td>133</td>\n",
              "      <td>1977</td>\n",
              "      <td>1443.147222</td>\n",
              "      <td>0.775000</td>\n",
              "      <td>77.419355</td>\n",
              "      <td>0.830</td>\n",
              "      <td>-0.705</td>\n",
              "      <td>0.100000</td>\n",
              "      <td>0.169444</td>\n",
              "      <td>0.477778</td>\n",
              "      <td>0.542719</td>\n",
              "      <td>0.377778</td>\n",
              "    </tr>\n",
              "    <tr>\n",
              "      <th>710481</th>\n",
              "      <td>133</td>\n",
              "      <td>1978</td>\n",
              "      <td>1443.922222</td>\n",
              "      <td>0.788889</td>\n",
              "      <td>76.056338</td>\n",
              "      <td>0.815</td>\n",
              "      <td>-0.700</td>\n",
              "      <td>0.102778</td>\n",
              "      <td>0.169444</td>\n",
              "      <td>0.477778</td>\n",
              "      <td>0.537920</td>\n",
              "      <td>0.383333</td>\n",
              "    </tr>\n",
              "  </tbody>\n",
              "</table>\n",
              "<p>710482 rows × 12 columns</p>\n",
              "</div>"
            ],
            "text/plain": [
              "        Subject  Cycle         Time      RR-I         HR    R-H    P-H  \\\n",
              "0             1      1     1.072000  0.932000  64.377682  3.305  3.810   \n",
              "1             1      2     2.004000  1.004000  59.760956  3.285  3.810   \n",
              "2             1      3     3.008000  0.996000  60.240964  3.340  3.830   \n",
              "3             1      4     4.004000  1.016000  59.055118  3.325  3.810   \n",
              "4             1      5     5.020000  0.972000  61.728395  3.290  3.765   \n",
              "...         ...    ...          ...       ...        ...    ...    ...   \n",
              "710477      133   1974  1440.841667  0.769444  77.978339  0.730 -0.725   \n",
              "710478      133   1975  1441.611111  0.772222  77.697842  0.825 -0.670   \n",
              "710479      133   1976  1442.383333  0.763889  78.545455  0.870 -0.665   \n",
              "710480      133   1977  1443.147222  0.775000  77.419355  0.830 -0.705   \n",
              "710481      133   1978  1443.922222  0.788889  76.056338  0.815 -0.700   \n",
              "\n",
              "             QRS       PRQ        QT       QTC        ST  \n",
              "0       0.088000  0.160000  0.384000  0.397762  0.296000  \n",
              "1       0.100000  0.160000  0.640000  0.638724  0.540000  \n",
              "2       0.128000  0.148000  0.628000  0.629260  0.500000  \n",
              "3       0.108000  0.172000  0.388000  0.384933  0.280000  \n",
              "4       0.100000  0.160000  0.372000  0.377320  0.272000  \n",
              "...          ...       ...       ...       ...       ...  \n",
              "710477  0.097222  0.161111  0.486111  0.554175  0.388889  \n",
              "710478  0.100000  0.155556  0.475000  0.540533  0.375000  \n",
              "710479  0.105556  0.155556  0.480556  0.549830  0.377778  \n",
              "710480  0.100000  0.169444  0.477778  0.542719  0.377778  \n",
              "710481  0.102778  0.169444  0.477778  0.537920  0.383333  \n",
              "\n",
              "[710482 rows x 12 columns]"
            ]
          },
          "execution_count": 146,
          "metadata": {},
          "output_type": "execute_result"
        }
      ],
      "source": [
        "X_train.head(-1)"
      ]
    },
    {
      "cell_type": "code",
      "execution_count": null,
      "metadata": {
        "id": "xtUnCRbQVtBt",
        "outputId": "c832cbc5-b88b-4384-906b-2c21d6eccdd1"
      },
      "outputs": [
        {
          "data": {
            "text/html": [
              "<div>\n",
              "<style scoped>\n",
              "    .dataframe tbody tr th:only-of-type {\n",
              "        vertical-align: middle;\n",
              "    }\n",
              "\n",
              "    .dataframe tbody tr th {\n",
              "        vertical-align: top;\n",
              "    }\n",
              "\n",
              "    .dataframe thead th {\n",
              "        text-align: right;\n",
              "    }\n",
              "</style>\n",
              "<table border=\"1\" class=\"dataframe\">\n",
              "  <thead>\n",
              "    <tr style=\"text-align: right;\">\n",
              "      <th></th>\n",
              "      <th>Subject</th>\n",
              "      <th>Cycle</th>\n",
              "      <th>Time</th>\n",
              "      <th>RR-I</th>\n",
              "      <th>HR</th>\n",
              "      <th>R-H</th>\n",
              "      <th>P-H</th>\n",
              "      <th>QRS</th>\n",
              "      <th>PRQ</th>\n",
              "      <th>QT</th>\n",
              "      <th>QTC</th>\n",
              "      <th>ST</th>\n",
              "    </tr>\n",
              "  </thead>\n",
              "  <tbody>\n",
              "    <tr>\n",
              "      <th>0</th>\n",
              "      <td>62</td>\n",
              "      <td>134</td>\n",
              "      <td>120.640000</td>\n",
              "      <td>0.856000</td>\n",
              "      <td>70.093458</td>\n",
              "      <td>2.275</td>\n",
              "      <td>-0.435</td>\n",
              "      <td>0.140000</td>\n",
              "      <td>0.132000</td>\n",
              "      <td>0.412000</td>\n",
              "      <td>0.445308</td>\n",
              "      <td>0.292000</td>\n",
              "    </tr>\n",
              "    <tr>\n",
              "      <th>1</th>\n",
              "      <td>62</td>\n",
              "      <td>214</td>\n",
              "      <td>193.020000</td>\n",
              "      <td>0.796000</td>\n",
              "      <td>75.376884</td>\n",
              "      <td>1.905</td>\n",
              "      <td>-0.590</td>\n",
              "      <td>0.132000</td>\n",
              "      <td>0.128000</td>\n",
              "      <td>0.380000</td>\n",
              "      <td>0.425919</td>\n",
              "      <td>0.272000</td>\n",
              "    </tr>\n",
              "    <tr>\n",
              "      <th>2</th>\n",
              "      <td>62</td>\n",
              "      <td>220</td>\n",
              "      <td>198.192000</td>\n",
              "      <td>0.916000</td>\n",
              "      <td>65.502183</td>\n",
              "      <td>1.860</td>\n",
              "      <td>-0.425</td>\n",
              "      <td>0.132000</td>\n",
              "      <td>0.128000</td>\n",
              "      <td>0.392000</td>\n",
              "      <td>0.409580</td>\n",
              "      <td>0.284000</td>\n",
              "    </tr>\n",
              "    <tr>\n",
              "      <th>3</th>\n",
              "      <td>62</td>\n",
              "      <td>443</td>\n",
              "      <td>402.000000</td>\n",
              "      <td>1.388000</td>\n",
              "      <td>43.227666</td>\n",
              "      <td>0.955</td>\n",
              "      <td>-0.480</td>\n",
              "      <td>0.144000</td>\n",
              "      <td>0.132000</td>\n",
              "      <td>0.400000</td>\n",
              "      <td>0.339520</td>\n",
              "      <td>0.304000</td>\n",
              "    </tr>\n",
              "    <tr>\n",
              "      <th>4</th>\n",
              "      <td>62</td>\n",
              "      <td>868</td>\n",
              "      <td>784.132000</td>\n",
              "      <td>0.680000</td>\n",
              "      <td>88.235294</td>\n",
              "      <td>2.200</td>\n",
              "      <td>-0.435</td>\n",
              "      <td>0.136000</td>\n",
              "      <td>0.128000</td>\n",
              "      <td>0.372000</td>\n",
              "      <td>0.451116</td>\n",
              "      <td>0.260000</td>\n",
              "    </tr>\n",
              "    <tr>\n",
              "      <th>...</th>\n",
              "      <td>...</td>\n",
              "      <td>...</td>\n",
              "      <td>...</td>\n",
              "      <td>...</td>\n",
              "      <td>...</td>\n",
              "      <td>...</td>\n",
              "      <td>...</td>\n",
              "      <td>...</td>\n",
              "      <td>...</td>\n",
              "      <td>...</td>\n",
              "      <td>...</td>\n",
              "      <td>...</td>\n",
              "    </tr>\n",
              "    <tr>\n",
              "      <th>178328</th>\n",
              "      <td>140</td>\n",
              "      <td>737</td>\n",
              "      <td>480.888889</td>\n",
              "      <td>0.633333</td>\n",
              "      <td>94.736842</td>\n",
              "      <td>0.780</td>\n",
              "      <td>-0.305</td>\n",
              "      <td>0.063889</td>\n",
              "      <td>0.163889</td>\n",
              "      <td>0.377778</td>\n",
              "      <td>0.474701</td>\n",
              "      <td>0.325000</td>\n",
              "    </tr>\n",
              "    <tr>\n",
              "      <th>178329</th>\n",
              "      <td>140</td>\n",
              "      <td>738</td>\n",
              "      <td>481.522222</td>\n",
              "      <td>0.638889</td>\n",
              "      <td>93.913043</td>\n",
              "      <td>0.680</td>\n",
              "      <td>-0.315</td>\n",
              "      <td>0.063889</td>\n",
              "      <td>0.158333</td>\n",
              "      <td>0.402778</td>\n",
              "      <td>0.503910</td>\n",
              "      <td>0.350000</td>\n",
              "    </tr>\n",
              "    <tr>\n",
              "      <th>178330</th>\n",
              "      <td>140</td>\n",
              "      <td>739</td>\n",
              "      <td>482.161111</td>\n",
              "      <td>0.652778</td>\n",
              "      <td>91.914894</td>\n",
              "      <td>0.660</td>\n",
              "      <td>-0.335</td>\n",
              "      <td>0.066667</td>\n",
              "      <td>0.163889</td>\n",
              "      <td>0.411111</td>\n",
              "      <td>0.508834</td>\n",
              "      <td>0.355556</td>\n",
              "    </tr>\n",
              "    <tr>\n",
              "      <th>178331</th>\n",
              "      <td>140</td>\n",
              "      <td>740</td>\n",
              "      <td>482.813889</td>\n",
              "      <td>0.675000</td>\n",
              "      <td>88.888889</td>\n",
              "      <td>0.605</td>\n",
              "      <td>-0.345</td>\n",
              "      <td>0.066667</td>\n",
              "      <td>0.172222</td>\n",
              "      <td>0.413889</td>\n",
              "      <td>0.503770</td>\n",
              "      <td>0.358333</td>\n",
              "    </tr>\n",
              "    <tr>\n",
              "      <th>178332</th>\n",
              "      <td>140</td>\n",
              "      <td>741</td>\n",
              "      <td>483.488889</td>\n",
              "      <td>0.647222</td>\n",
              "      <td>92.703863</td>\n",
              "      <td>0.795</td>\n",
              "      <td>-0.335</td>\n",
              "      <td>0.055556</td>\n",
              "      <td>0.161111</td>\n",
              "      <td>0.397222</td>\n",
              "      <td>0.493750</td>\n",
              "      <td>0.341667</td>\n",
              "    </tr>\n",
              "  </tbody>\n",
              "</table>\n",
              "<p>178333 rows × 12 columns</p>\n",
              "</div>"
            ],
            "text/plain": [
              "        Subject  Cycle        Time      RR-I         HR    R-H    P-H  \\\n",
              "0            62    134  120.640000  0.856000  70.093458  2.275 -0.435   \n",
              "1            62    214  193.020000  0.796000  75.376884  1.905 -0.590   \n",
              "2            62    220  198.192000  0.916000  65.502183  1.860 -0.425   \n",
              "3            62    443  402.000000  1.388000  43.227666  0.955 -0.480   \n",
              "4            62    868  784.132000  0.680000  88.235294  2.200 -0.435   \n",
              "...         ...    ...         ...       ...        ...    ...    ...   \n",
              "178328      140    737  480.888889  0.633333  94.736842  0.780 -0.305   \n",
              "178329      140    738  481.522222  0.638889  93.913043  0.680 -0.315   \n",
              "178330      140    739  482.161111  0.652778  91.914894  0.660 -0.335   \n",
              "178331      140    740  482.813889  0.675000  88.888889  0.605 -0.345   \n",
              "178332      140    741  483.488889  0.647222  92.703863  0.795 -0.335   \n",
              "\n",
              "             QRS       PRQ        QT       QTC        ST  \n",
              "0       0.140000  0.132000  0.412000  0.445308  0.292000  \n",
              "1       0.132000  0.128000  0.380000  0.425919  0.272000  \n",
              "2       0.132000  0.128000  0.392000  0.409580  0.284000  \n",
              "3       0.144000  0.132000  0.400000  0.339520  0.304000  \n",
              "4       0.136000  0.128000  0.372000  0.451116  0.260000  \n",
              "...          ...       ...       ...       ...       ...  \n",
              "178328  0.063889  0.163889  0.377778  0.474701  0.325000  \n",
              "178329  0.063889  0.158333  0.402778  0.503910  0.350000  \n",
              "178330  0.066667  0.163889  0.411111  0.508834  0.355556  \n",
              "178331  0.066667  0.172222  0.413889  0.503770  0.358333  \n",
              "178332  0.055556  0.161111  0.397222  0.493750  0.341667  \n",
              "\n",
              "[178333 rows x 12 columns]"
            ]
          },
          "execution_count": 147,
          "metadata": {},
          "output_type": "execute_result"
        }
      ],
      "source": [
        "X_test.head(-1)"
      ]
    },
    {
      "cell_type": "code",
      "execution_count": null,
      "metadata": {
        "id": "RbpxOMHmVtBt"
      },
      "outputs": [],
      "source": [
        "from sklearn.ensemble import RandomForestClassifier\n",
        "\n",
        "rf = RandomForestClassifier ( random_state=0)\n",
        "\n",
        "rf.fit(X_train,Y_train)\n",
        "\n",
        "y_pred = rf.predict(X_test)"
      ]
    },
    {
      "cell_type": "code",
      "execution_count": null,
      "metadata": {
        "id": "jGf7CU1uVtBt",
        "outputId": "3be8f28e-3dae-40b5-ea2d-4f7565ac758d"
      },
      "outputs": [
        {
          "name": "stdout",
          "output_type": "stream",
          "text": [
            "0.996966366480873\n"
          ]
        }
      ],
      "source": [
        "from sklearn.metrics import accuracy_score\n",
        "\n",
        "print(accuracy_score(Y_test,y_pred)) # model prediction"
      ]
    },
    {
      "cell_type": "code",
      "execution_count": null,
      "metadata": {
        "id": "j3c2fkjPVtBu"
      },
      "outputs": [],
      "source": [
        "from sklearn.ensemble import AdaBoostClassifier\n",
        "\n",
        "ada = AdaBoostClassifier()\n",
        "\n",
        "ada.fit(X_train, Y_train)\n",
        "\n",
        "y_pred = ada.predict(X_test)"
      ]
    },
    {
      "cell_type": "code",
      "execution_count": null,
      "metadata": {
        "id": "-t0izcKyVtBu",
        "outputId": "c919da4f-a19b-4473-dd9b-9d1f9e61d050"
      },
      "outputs": [
        {
          "name": "stdout",
          "output_type": "stream",
          "text": [
            "1.0\n"
          ]
        }
      ],
      "source": [
        "from sklearn.metrics import accuracy_score\n",
        "\n",
        "print(accuracy_score(Y_test,y_pred))"
      ]
    },
    {
      "cell_type": "code",
      "execution_count": null,
      "metadata": {
        "id": "cSWJKYgbVtBu"
      },
      "outputs": [],
      "source": [
        "from sklearn.ensemble import GradientBoostingClassifier\n",
        "\n",
        "GBC = GradientBoostingClassifier()\n",
        "\n",
        "GBC.fit(X_train, Y_train)\n",
        "\n",
        "y_pred = ada.predict(X_test)"
      ]
    },
    {
      "cell_type": "code",
      "execution_count": null,
      "metadata": {
        "id": "gmXsXmlOVtBu",
        "outputId": "0b4cf0e2-c7dc-4538-ba4a-25f0bbeae1e3"
      },
      "outputs": [
        {
          "name": "stdout",
          "output_type": "stream",
          "text": [
            "1.0\n"
          ]
        }
      ],
      "source": [
        "from sklearn.metrics import accuracy_score\n",
        "\n",
        "print(accuracy_score(Y_test,y_pred))"
      ]
    },
    {
      "cell_type": "code",
      "execution_count": null,
      "metadata": {
        "id": "40ksK3GVVtBv",
        "outputId": "c1b786c3-bffb-491a-be5d-de3b76c27bd4"
      },
      "outputs": [
        {
          "name": "stderr",
          "output_type": "stream",
          "text": [
            "C:\\Users\\ahtes\\anaconda3\\lib\\site-packages\\sklearn\\neighbors\\_classification.py:228: FutureWarning: Unlike other reduction functions (e.g. `skew`, `kurtosis`), the default behavior of `mode` typically preserves the axis it acts along. In SciPy 1.11.0, this behavior will change: the default value of `keepdims` will become False, the `axis` over which the statistic is taken will be eliminated, and the value None will no longer be accepted. Set `keepdims` to True or False to avoid this warning.\n",
            "  mode, _ = stats.mode(_y[neigh_ind, k], axis=1)\n"
          ]
        },
        {
          "name": "stdout",
          "output_type": "stream",
          "text": [
            "0.8167651709713235\n"
          ]
        }
      ],
      "source": [
        "from sklearn.neighbors import KNeighborsClassifier\n",
        "knn = KNeighborsClassifier()\n",
        "knn.fit(X_train, Y_train)\n",
        "\n",
        "y_pred=knn.predict(X_test)\n",
        "\n",
        "from sklearn.metrics import accuracy_score\n",
        "\n",
        "print(accuracy_score(Y_test,y_pred))\n"
      ]
    },
    {
      "cell_type": "code",
      "execution_count": null,
      "metadata": {
        "id": "gnfazk_kVtBv",
        "outputId": "223cd9cd-5953-4f1d-e977-18cf6ee48e6c"
      },
      "outputs": [
        {
          "name": "stdout",
          "output_type": "stream",
          "text": [
            "0.9156414368544417\n"
          ]
        }
      ],
      "source": [
        "from sklearn.naive_bayes import GaussianNB\n",
        "\n",
        "gnb = GaussianNB()\n",
        "\n",
        "gnb.fit(X_train, Y_train)\n",
        "\n",
        "y_pred = gnb.predict(X_test)\n",
        "\n",
        "\n",
        "from sklearn.metrics import accuracy_score\n",
        "\n",
        "print(accuracy_score(Y_test,y_pred))"
      ]
    },
    {
      "cell_type": "code",
      "execution_count": null,
      "metadata": {
        "id": "YUuW-lx_ZK7V"
      },
      "outputs": [],
      "source": [
        "def train_test_split(X,Y,test_size,feature):\n",
        "    dict={}\n",
        "    count=0\n",
        "    for i in Y:\n",
        "        if i not in dict.keys():\n",
        "            dict[i]=count\n",
        "        count+=1\n",
        "    rows=X.shape[0]\n",
        "    train_size=1-test_size\n",
        "    train=int(rows*train_size)\n",
        "    \n",
        "    f=X[feature][train]\n",
        "    count1=0\n",
        "    index1=train\n",
        "\n",
        "    while X[feature][index1]==f:\n",
        "        index1-=1\n",
        "        count1+=1\n",
        "    index2=train+1\n",
        "    count2=0\n",
        "    while X[feature][index2]==f:\n",
        "        index2+=1\n",
        "        count2+=1\n",
        "    if count1>count2:\n",
        "        train+=count2\n",
        "    else:\n",
        "        train-=count1\n",
        "\n",
        "    test=rows-train\n",
        "    print('Train Subject start and end:',X['Subject'][0],'To',X['Subject'][train])\n",
        "    print('Test Subject start and end:',X['Subject'][train+1],'To',X['Subject'][rows-1])\n",
        "    print('Train Percentage:',train/rows)\n",
        "    X_train= X[:train+2]\n",
        "    X_test= X[train+1:]\n",
        "    Y_train = Y[:train+2]\n",
        "    Y_test = Y[train+1:]\n",
        "    return X_train,X_test,Y_train,Y_test"
      ]
    },
    {
      "cell_type": "code",
      "execution_count": null,
      "metadata": {
        "id": "n6lTOBtijjuI"
      },
      "outputs": [],
      "source": []
    }
  ],
  "metadata": {
    "colab": {
      "provenance": [],
      "include_colab_link": true
    },
    "kernelspec": {
      "display_name": "Python 3 (ipykernel)",
      "language": "python",
      "name": "python3"
    },
    "language_info": {
      "codemirror_mode": {
        "name": "ipython",
        "version": 3
      },
      "file_extension": ".py",
      "mimetype": "text/x-python",
      "name": "python",
      "nbconvert_exporter": "python",
      "pygments_lexer": "ipython3",
      "version": "3.9.13"
    }
  },
  "nbformat": 4,
  "nbformat_minor": 0
}