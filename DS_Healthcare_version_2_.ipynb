{
 "cells": [
  {
   "cell_type": "markdown",
   "metadata": {
    "colab_type": "text",
    "id": "view-in-github"
   },
   "source": [
    "<a href=\"https://colab.research.google.com/github/Ahtesham-Ibne-Mostafa/Machine_Etymology/blob/main/DS_Healthcare_version_2_.ipynb\" target=\"_parent\"><img src=\"https://colab.research.google.com/assets/colab-badge.svg\" alt=\"Open In Colab\"/></a>"
   ]
  },
  {
   "cell_type": "code",
   "execution_count": 1,
   "metadata": {
    "id": "bx4_EcpnY3Vc"
   },
   "outputs": [],
   "source": [
    "import pandas as pd\n",
    "import numpy as np"
   ]
  },
  {
   "cell_type": "code",
   "execution_count": 3,
   "metadata": {
    "id": "OYyHLRlkZENE"
   },
   "outputs": [],
   "source": [
    "data= pd.read_excel('DS-Healthcare_version_2.xlsx')"
   ]
  },
  {
   "cell_type": "code",
   "execution_count": 4,
   "metadata": {
    "id": "F9jV9MhwZxpe"
   },
   "outputs": [],
   "source": [
    "target = 'Type'"
   ]
  },
  {
   "cell_type": "code",
   "execution_count": 5,
   "metadata": {
    "colab": {
     "base_uri": "https://localhost:8080/",
     "height": 206
    },
    "id": "sJ0A1jcRZGj3",
    "outputId": "e40a84a2-6877-4e8b-b206-501af367d2b4"
   },
   "outputs": [
    {
     "data": {
      "text/html": [
       "<div>\n",
       "<style scoped>\n",
       "    .dataframe tbody tr th:only-of-type {\n",
       "        vertical-align: middle;\n",
       "    }\n",
       "\n",
       "    .dataframe tbody tr th {\n",
       "        vertical-align: top;\n",
       "    }\n",
       "\n",
       "    .dataframe thead th {\n",
       "        text-align: right;\n",
       "    }\n",
       "</style>\n",
       "<table border=\"1\" class=\"dataframe\">\n",
       "  <thead>\n",
       "    <tr style=\"text-align: right;\">\n",
       "      <th></th>\n",
       "      <th>Subject</th>\n",
       "      <th>Cycle</th>\n",
       "      <th>Time</th>\n",
       "      <th>RR-I</th>\n",
       "      <th>HR</th>\n",
       "      <th>R-H</th>\n",
       "      <th>P-H</th>\n",
       "      <th>QRS</th>\n",
       "      <th>PRQ</th>\n",
       "      <th>QT</th>\n",
       "      <th>QTC</th>\n",
       "      <th>ST</th>\n",
       "    </tr>\n",
       "  </thead>\n",
       "  <tbody>\n",
       "    <tr>\n",
       "      <th>0</th>\n",
       "      <td>E1</td>\n",
       "      <td>1</td>\n",
       "      <td>1.072000</td>\n",
       "      <td>0.932000</td>\n",
       "      <td>64.377682</td>\n",
       "      <td>3.305</td>\n",
       "      <td>3.810</td>\n",
       "      <td>0.088000</td>\n",
       "      <td>0.160000</td>\n",
       "      <td>0.384000</td>\n",
       "      <td>0.397762</td>\n",
       "      <td>0.296000</td>\n",
       "    </tr>\n",
       "    <tr>\n",
       "      <th>1</th>\n",
       "      <td>E1</td>\n",
       "      <td>2</td>\n",
       "      <td>2.004000</td>\n",
       "      <td>1.004000</td>\n",
       "      <td>59.760956</td>\n",
       "      <td>3.285</td>\n",
       "      <td>3.810</td>\n",
       "      <td>0.100000</td>\n",
       "      <td>0.160000</td>\n",
       "      <td>0.640000</td>\n",
       "      <td>0.638724</td>\n",
       "      <td>0.540000</td>\n",
       "    </tr>\n",
       "    <tr>\n",
       "      <th>2</th>\n",
       "      <td>E1</td>\n",
       "      <td>3</td>\n",
       "      <td>3.008000</td>\n",
       "      <td>0.996000</td>\n",
       "      <td>60.240964</td>\n",
       "      <td>3.340</td>\n",
       "      <td>3.830</td>\n",
       "      <td>0.128000</td>\n",
       "      <td>0.148000</td>\n",
       "      <td>0.628000</td>\n",
       "      <td>0.629260</td>\n",
       "      <td>0.500000</td>\n",
       "    </tr>\n",
       "    <tr>\n",
       "      <th>3</th>\n",
       "      <td>E1</td>\n",
       "      <td>4</td>\n",
       "      <td>4.004000</td>\n",
       "      <td>1.016000</td>\n",
       "      <td>59.055118</td>\n",
       "      <td>3.325</td>\n",
       "      <td>3.810</td>\n",
       "      <td>0.108000</td>\n",
       "      <td>0.172000</td>\n",
       "      <td>0.388000</td>\n",
       "      <td>0.384933</td>\n",
       "      <td>0.280000</td>\n",
       "    </tr>\n",
       "    <tr>\n",
       "      <th>4</th>\n",
       "      <td>E1</td>\n",
       "      <td>5</td>\n",
       "      <td>5.020000</td>\n",
       "      <td>0.972000</td>\n",
       "      <td>61.728395</td>\n",
       "      <td>3.290</td>\n",
       "      <td>3.765</td>\n",
       "      <td>0.100000</td>\n",
       "      <td>0.160000</td>\n",
       "      <td>0.372000</td>\n",
       "      <td>0.377320</td>\n",
       "      <td>0.272000</td>\n",
       "    </tr>\n",
       "    <tr>\n",
       "      <th>...</th>\n",
       "      <td>...</td>\n",
       "      <td>...</td>\n",
       "      <td>...</td>\n",
       "      <td>...</td>\n",
       "      <td>...</td>\n",
       "      <td>...</td>\n",
       "      <td>...</td>\n",
       "      <td>...</td>\n",
       "      <td>...</td>\n",
       "      <td>...</td>\n",
       "      <td>...</td>\n",
       "      <td>...</td>\n",
       "    </tr>\n",
       "    <tr>\n",
       "      <th>888811</th>\n",
       "      <td>M28</td>\n",
       "      <td>738</td>\n",
       "      <td>481.522222</td>\n",
       "      <td>0.638889</td>\n",
       "      <td>93.913043</td>\n",
       "      <td>0.680</td>\n",
       "      <td>-0.315</td>\n",
       "      <td>0.063889</td>\n",
       "      <td>0.158333</td>\n",
       "      <td>0.402778</td>\n",
       "      <td>0.503910</td>\n",
       "      <td>0.350000</td>\n",
       "    </tr>\n",
       "    <tr>\n",
       "      <th>888812</th>\n",
       "      <td>M28</td>\n",
       "      <td>739</td>\n",
       "      <td>482.161111</td>\n",
       "      <td>0.652778</td>\n",
       "      <td>91.914894</td>\n",
       "      <td>0.660</td>\n",
       "      <td>-0.335</td>\n",
       "      <td>0.066667</td>\n",
       "      <td>0.163889</td>\n",
       "      <td>0.411111</td>\n",
       "      <td>0.508834</td>\n",
       "      <td>0.355556</td>\n",
       "    </tr>\n",
       "    <tr>\n",
       "      <th>888813</th>\n",
       "      <td>M28</td>\n",
       "      <td>740</td>\n",
       "      <td>482.813889</td>\n",
       "      <td>0.675000</td>\n",
       "      <td>88.888889</td>\n",
       "      <td>0.605</td>\n",
       "      <td>-0.345</td>\n",
       "      <td>0.066667</td>\n",
       "      <td>0.172222</td>\n",
       "      <td>0.413889</td>\n",
       "      <td>0.503770</td>\n",
       "      <td>0.358333</td>\n",
       "    </tr>\n",
       "    <tr>\n",
       "      <th>888814</th>\n",
       "      <td>M28</td>\n",
       "      <td>741</td>\n",
       "      <td>483.488889</td>\n",
       "      <td>0.647222</td>\n",
       "      <td>92.703863</td>\n",
       "      <td>0.795</td>\n",
       "      <td>-0.335</td>\n",
       "      <td>0.055556</td>\n",
       "      <td>0.161111</td>\n",
       "      <td>0.397222</td>\n",
       "      <td>0.493750</td>\n",
       "      <td>0.341667</td>\n",
       "    </tr>\n",
       "    <tr>\n",
       "      <th>888815</th>\n",
       "      <td>M28</td>\n",
       "      <td>742</td>\n",
       "      <td>484.136111</td>\n",
       "      <td>0.647222</td>\n",
       "      <td>92.703863</td>\n",
       "      <td>0.825</td>\n",
       "      <td>-0.330</td>\n",
       "      <td>0.069444</td>\n",
       "      <td>0.152778</td>\n",
       "      <td>0.400000</td>\n",
       "      <td>0.497202</td>\n",
       "      <td>0.344444</td>\n",
       "    </tr>\n",
       "  </tbody>\n",
       "</table>\n",
       "<p>888816 rows × 12 columns</p>\n",
       "</div>"
      ],
      "text/plain": [
       "       Subject  Cycle        Time      RR-I         HR    R-H    P-H  \\\n",
       "0           E1      1    1.072000  0.932000  64.377682  3.305  3.810   \n",
       "1           E1      2    2.004000  1.004000  59.760956  3.285  3.810   \n",
       "2           E1      3    3.008000  0.996000  60.240964  3.340  3.830   \n",
       "3           E1      4    4.004000  1.016000  59.055118  3.325  3.810   \n",
       "4           E1      5    5.020000  0.972000  61.728395  3.290  3.765   \n",
       "...        ...    ...         ...       ...        ...    ...    ...   \n",
       "888811     M28    738  481.522222  0.638889  93.913043  0.680 -0.315   \n",
       "888812     M28    739  482.161111  0.652778  91.914894  0.660 -0.335   \n",
       "888813     M28    740  482.813889  0.675000  88.888889  0.605 -0.345   \n",
       "888814     M28    741  483.488889  0.647222  92.703863  0.795 -0.335   \n",
       "888815     M28    742  484.136111  0.647222  92.703863  0.825 -0.330   \n",
       "\n",
       "             QRS       PRQ        QT       QTC        ST  \n",
       "0       0.088000  0.160000  0.384000  0.397762  0.296000  \n",
       "1       0.100000  0.160000  0.640000  0.638724  0.540000  \n",
       "2       0.128000  0.148000  0.628000  0.629260  0.500000  \n",
       "3       0.108000  0.172000  0.388000  0.384933  0.280000  \n",
       "4       0.100000  0.160000  0.372000  0.377320  0.272000  \n",
       "...          ...       ...       ...       ...       ...  \n",
       "888811  0.063889  0.158333  0.402778  0.503910  0.350000  \n",
       "888812  0.066667  0.163889  0.411111  0.508834  0.355556  \n",
       "888813  0.066667  0.172222  0.413889  0.503770  0.358333  \n",
       "888814  0.055556  0.161111  0.397222  0.493750  0.341667  \n",
       "888815  0.069444  0.152778  0.400000  0.497202  0.344444  \n",
       "\n",
       "[888816 rows x 12 columns]"
      ]
     },
     "execution_count": 5,
     "metadata": {},
     "output_type": "execute_result"
    }
   ],
   "source": [
    "X= data.loc[:,data.columns != target]\n",
    "\n",
    "X.head(-1)"
   ]
  },
  {
   "cell_type": "code",
   "execution_count": 6,
   "metadata": {
    "colab": {
     "base_uri": "https://localhost:8080/"
    },
    "id": "ip1sz9ZFZI_4",
    "outputId": "d92446e9-46dc-4819-cc80-c89863f363fb"
   },
   "outputs": [
    {
     "data": {
      "text/plain": [
       "0    ischemic\n",
       "1    ischemic\n",
       "2    ischemic\n",
       "3    ischemic\n",
       "4    ischemic\n",
       "Name: Type, dtype: object"
      ]
     },
     "execution_count": 6,
     "metadata": {},
     "output_type": "execute_result"
    }
   ],
   "source": [
    "Y = data[target]\n",
    "\n",
    "Y.head() "
   ]
  },
  {
   "cell_type": "code",
   "execution_count": 7,
   "metadata": {
    "colab": {
     "base_uri": "https://localhost:8080/"
    },
    "id": "pp2T7tHy52RY",
    "outputId": "c901e3b1-56c2-4f25-cdc9-00d8b18366d8"
   },
   "outputs": [
    {
     "data": {
      "text/plain": [
       "ischemic      581219\n",
       "healthy       267360\n",
       "arrhythmic     40238\n",
       "Name: Type, dtype: int64"
      ]
     },
     "execution_count": 7,
     "metadata": {},
     "output_type": "execute_result"
    }
   ],
   "source": [
    "Y.value_counts()"
   ]
  },
  {
   "cell_type": "code",
   "execution_count": 8,
   "metadata": {
    "id": "ntfY_FwPwUvB"
   },
   "outputs": [],
   "source": [
    "def train_test_split(X,Y,test_size,feature):\n",
    "\n",
    "    f=Y.value_counts()\n",
    "    rows=X.shape[0]\n",
    "    talika=[]\n",
    "    count=0\n",
    "    for i in f:\n",
    "        talika.append(i)\n",
    "    train_size=1-test_size\n",
    "    start=0\n",
    "\n",
    "    switch=False\n",
    "\n",
    "    for i in talika :\n",
    "\n",
    "        train=start+int(i*train_size)\n",
    "        f= X[feature][train]\n",
    "        count1=0\n",
    "        count2=0\n",
    "        index1=train\n",
    "        index2=train+1\n",
    "        end=start+i-1\n",
    "        \n",
    "        while X[feature][index1]==f:\n",
    "            if index1<start:\n",
    "                break\n",
    "            index1-=1\n",
    "            count1+=1\n",
    "            \n",
    "            \n",
    "        while X[feature][index2]==f:\n",
    "            if index2>end:\n",
    "                break\n",
    "            index2+=1\n",
    "            count2+=1\n",
    "\n",
    "        if count1>=count2:\n",
    "            train+=count2\n",
    "        else:\n",
    "            train-=count1\n",
    "        \n",
    "        \n",
    "        if switch == False:\n",
    "            X_train= X[start:train+1]\n",
    "            X_test= X[train+1:end]\n",
    "            Y_train = Y[start:train+1]\n",
    "            Y_test = Y[train+1:end]\n",
    "            switch=True\n",
    "\n",
    "        else:\n",
    "            X_train=pd.concat([X_train, X[start:train+1]], ignore_index=True)\n",
    "            X_test=pd.concat([X_test, X[train+1:end+1]], ignore_index=True)\n",
    "            Y_train=pd.concat([Y_train, Y[start:train+1]], ignore_index=True)\n",
    "            Y_test=pd.concat([Y_test, Y[train+1:end+1]], ignore_index=True)\n",
    "\n",
    "        start=start+i\n",
    "\n",
    "    print('Train Percentage:',X_train.shape[0]/rows)\n",
    "\n",
    "    return X_train,X_test,Y_train,Y_test"
   ]
  },
  {
   "cell_type": "code",
   "execution_count": 9,
   "metadata": {
    "id": "UGDUc9EbgWz1",
    "outputId": "47d7637c-2883-4e42-fbb4-d1d31fec5d0c"
   },
   "outputs": [
    {
     "name": "stdout",
     "output_type": "stream",
     "text": [
      "Train Percentage: 0.8002839729663137\n"
     ]
    }
   ],
   "source": [
    " X_train, X_test, Y_train, Y_test = train_test_split(X,Y, test_size=0.2, feature= 'Subject')"
   ]
  },
  {
   "cell_type": "code",
   "execution_count": 10,
   "metadata": {
    "id": "G4TP6fPUgWz3"
   },
   "outputs": [],
   "source": [
    "X_train= X_train.loc[:,X_train.columns != 'Subject']\n",
    "X_train= X_train.loc[:,X_train.columns != 'Time']\n",
    "X_train= X_train.loc[:,X_train.columns != 'Cycle']\n",
    "\n",
    "X_test= X_test.loc[:,X_test.columns != 'Subject']\n",
    "X_test= X_test.loc[:,X_test.columns != 'Time']\n",
    "X_test= X_test.loc[:,X_test.columns != 'Cycle']"
   ]
  },
  {
   "cell_type": "code",
   "execution_count": 11,
   "metadata": {
    "id": "C7N5PLwogWz3",
    "outputId": "022276f4-8341-4dcf-e490-eec9fc60974c"
   },
   "outputs": [
    {
     "data": {
      "text/plain": [
       "ischemic      116816\n",
       "healthy        53135\n",
       "arrhythmic      7559\n",
       "Name: Type, dtype: int64"
      ]
     },
     "execution_count": 11,
     "metadata": {},
     "output_type": "execute_result"
    }
   ],
   "source": [
    "Y_test.value_counts()"
   ]
  },
  {
   "cell_type": "code",
   "execution_count": 12,
   "metadata": {
    "id": "EWEEftJ4gWz3",
    "outputId": "251f55e1-163e-4cdb-9161-c99f3e383fc0"
   },
   "outputs": [
    {
     "data": {
      "text/plain": [
       "ischemic      464402\n",
       "healthy       214225\n",
       "arrhythmic     32679\n",
       "Name: Type, dtype: int64"
      ]
     },
     "execution_count": 12,
     "metadata": {},
     "output_type": "execute_result"
    }
   ],
   "source": [
    "Y_train.value_counts()"
   ]
  },
  {
   "cell_type": "code",
   "execution_count": 13,
   "metadata": {
    "id": "Q9DC74tWgWz4",
    "outputId": "2a8a6942-90c4-41b7-9d56-0a90c1ed77ec"
   },
   "outputs": [
    {
     "data": {
      "text/html": [
       "<div>\n",
       "<style scoped>\n",
       "    .dataframe tbody tr th:only-of-type {\n",
       "        vertical-align: middle;\n",
       "    }\n",
       "\n",
       "    .dataframe tbody tr th {\n",
       "        vertical-align: top;\n",
       "    }\n",
       "\n",
       "    .dataframe thead th {\n",
       "        text-align: right;\n",
       "    }\n",
       "</style>\n",
       "<table border=\"1\" class=\"dataframe\">\n",
       "  <thead>\n",
       "    <tr style=\"text-align: right;\">\n",
       "      <th></th>\n",
       "      <th>RR-I</th>\n",
       "      <th>HR</th>\n",
       "      <th>R-H</th>\n",
       "      <th>P-H</th>\n",
       "      <th>QRS</th>\n",
       "      <th>PRQ</th>\n",
       "      <th>QT</th>\n",
       "      <th>QTC</th>\n",
       "      <th>ST</th>\n",
       "    </tr>\n",
       "  </thead>\n",
       "  <tbody>\n",
       "    <tr>\n",
       "      <th>0</th>\n",
       "      <td>0.932000</td>\n",
       "      <td>64.377682</td>\n",
       "      <td>3.305</td>\n",
       "      <td>3.810</td>\n",
       "      <td>0.088000</td>\n",
       "      <td>0.160000</td>\n",
       "      <td>0.384000</td>\n",
       "      <td>0.397762</td>\n",
       "      <td>0.296000</td>\n",
       "    </tr>\n",
       "    <tr>\n",
       "      <th>1</th>\n",
       "      <td>1.004000</td>\n",
       "      <td>59.760956</td>\n",
       "      <td>3.285</td>\n",
       "      <td>3.810</td>\n",
       "      <td>0.100000</td>\n",
       "      <td>0.160000</td>\n",
       "      <td>0.640000</td>\n",
       "      <td>0.638724</td>\n",
       "      <td>0.540000</td>\n",
       "    </tr>\n",
       "    <tr>\n",
       "      <th>2</th>\n",
       "      <td>0.996000</td>\n",
       "      <td>60.240964</td>\n",
       "      <td>3.340</td>\n",
       "      <td>3.830</td>\n",
       "      <td>0.128000</td>\n",
       "      <td>0.148000</td>\n",
       "      <td>0.628000</td>\n",
       "      <td>0.629260</td>\n",
       "      <td>0.500000</td>\n",
       "    </tr>\n",
       "    <tr>\n",
       "      <th>3</th>\n",
       "      <td>1.016000</td>\n",
       "      <td>59.055118</td>\n",
       "      <td>3.325</td>\n",
       "      <td>3.810</td>\n",
       "      <td>0.108000</td>\n",
       "      <td>0.172000</td>\n",
       "      <td>0.388000</td>\n",
       "      <td>0.384933</td>\n",
       "      <td>0.280000</td>\n",
       "    </tr>\n",
       "    <tr>\n",
       "      <th>4</th>\n",
       "      <td>0.972000</td>\n",
       "      <td>61.728395</td>\n",
       "      <td>3.290</td>\n",
       "      <td>3.765</td>\n",
       "      <td>0.100000</td>\n",
       "      <td>0.160000</td>\n",
       "      <td>0.372000</td>\n",
       "      <td>0.377320</td>\n",
       "      <td>0.272000</td>\n",
       "    </tr>\n",
       "    <tr>\n",
       "      <th>...</th>\n",
       "      <td>...</td>\n",
       "      <td>...</td>\n",
       "      <td>...</td>\n",
       "      <td>...</td>\n",
       "      <td>...</td>\n",
       "      <td>...</td>\n",
       "      <td>...</td>\n",
       "      <td>...</td>\n",
       "      <td>...</td>\n",
       "    </tr>\n",
       "    <tr>\n",
       "      <th>711300</th>\n",
       "      <td>0.716667</td>\n",
       "      <td>83.720930</td>\n",
       "      <td>0.725</td>\n",
       "      <td>-0.765</td>\n",
       "      <td>0.111111</td>\n",
       "      <td>0.161111</td>\n",
       "      <td>0.472222</td>\n",
       "      <td>0.557812</td>\n",
       "      <td>0.372222</td>\n",
       "    </tr>\n",
       "    <tr>\n",
       "      <th>711301</th>\n",
       "      <td>0.694444</td>\n",
       "      <td>86.400000</td>\n",
       "      <td>0.725</td>\n",
       "      <td>-0.795</td>\n",
       "      <td>0.105556</td>\n",
       "      <td>0.161111</td>\n",
       "      <td>0.452778</td>\n",
       "      <td>0.543333</td>\n",
       "      <td>0.355556</td>\n",
       "    </tr>\n",
       "    <tr>\n",
       "      <th>711302</th>\n",
       "      <td>0.722222</td>\n",
       "      <td>83.076923</td>\n",
       "      <td>0.685</td>\n",
       "      <td>-0.780</td>\n",
       "      <td>0.094444</td>\n",
       "      <td>0.155556</td>\n",
       "      <td>0.477778</td>\n",
       "      <td>0.562200</td>\n",
       "      <td>0.383333</td>\n",
       "    </tr>\n",
       "    <tr>\n",
       "      <th>711303</th>\n",
       "      <td>0.713889</td>\n",
       "      <td>84.046693</td>\n",
       "      <td>0.760</td>\n",
       "      <td>-0.730</td>\n",
       "      <td>0.111111</td>\n",
       "      <td>0.161111</td>\n",
       "      <td>0.480556</td>\n",
       "      <td>0.568759</td>\n",
       "      <td>0.372222</td>\n",
       "    </tr>\n",
       "    <tr>\n",
       "      <th>711304</th>\n",
       "      <td>0.711111</td>\n",
       "      <td>84.375000</td>\n",
       "      <td>0.735</td>\n",
       "      <td>-0.725</td>\n",
       "      <td>0.105556</td>\n",
       "      <td>0.161111</td>\n",
       "      <td>0.458333</td>\n",
       "      <td>0.543516</td>\n",
       "      <td>0.361111</td>\n",
       "    </tr>\n",
       "  </tbody>\n",
       "</table>\n",
       "<p>711305 rows × 9 columns</p>\n",
       "</div>"
      ],
      "text/plain": [
       "            RR-I         HR    R-H    P-H       QRS       PRQ        QT  \\\n",
       "0       0.932000  64.377682  3.305  3.810  0.088000  0.160000  0.384000   \n",
       "1       1.004000  59.760956  3.285  3.810  0.100000  0.160000  0.640000   \n",
       "2       0.996000  60.240964  3.340  3.830  0.128000  0.148000  0.628000   \n",
       "3       1.016000  59.055118  3.325  3.810  0.108000  0.172000  0.388000   \n",
       "4       0.972000  61.728395  3.290  3.765  0.100000  0.160000  0.372000   \n",
       "...          ...        ...    ...    ...       ...       ...       ...   \n",
       "711300  0.716667  83.720930  0.725 -0.765  0.111111  0.161111  0.472222   \n",
       "711301  0.694444  86.400000  0.725 -0.795  0.105556  0.161111  0.452778   \n",
       "711302  0.722222  83.076923  0.685 -0.780  0.094444  0.155556  0.477778   \n",
       "711303  0.713889  84.046693  0.760 -0.730  0.111111  0.161111  0.480556   \n",
       "711304  0.711111  84.375000  0.735 -0.725  0.105556  0.161111  0.458333   \n",
       "\n",
       "             QTC        ST  \n",
       "0       0.397762  0.296000  \n",
       "1       0.638724  0.540000  \n",
       "2       0.629260  0.500000  \n",
       "3       0.384933  0.280000  \n",
       "4       0.377320  0.272000  \n",
       "...          ...       ...  \n",
       "711300  0.557812  0.372222  \n",
       "711301  0.543333  0.355556  \n",
       "711302  0.562200  0.383333  \n",
       "711303  0.568759  0.372222  \n",
       "711304  0.543516  0.361111  \n",
       "\n",
       "[711305 rows x 9 columns]"
      ]
     },
     "execution_count": 13,
     "metadata": {},
     "output_type": "execute_result"
    }
   ],
   "source": [
    "X_train.head(-1)"
   ]
  },
  {
   "cell_type": "code",
   "execution_count": 14,
   "metadata": {
    "id": "b9_EWx6egWz4",
    "outputId": "51802f51-ccc8-40d8-881f-0d19dfbf22c7"
   },
   "outputs": [
    {
     "data": {
      "text/html": [
       "<div>\n",
       "<style scoped>\n",
       "    .dataframe tbody tr th:only-of-type {\n",
       "        vertical-align: middle;\n",
       "    }\n",
       "\n",
       "    .dataframe tbody tr th {\n",
       "        vertical-align: top;\n",
       "    }\n",
       "\n",
       "    .dataframe thead th {\n",
       "        text-align: right;\n",
       "    }\n",
       "</style>\n",
       "<table border=\"1\" class=\"dataframe\">\n",
       "  <thead>\n",
       "    <tr style=\"text-align: right;\">\n",
       "      <th></th>\n",
       "      <th>RR-I</th>\n",
       "      <th>HR</th>\n",
       "      <th>R-H</th>\n",
       "      <th>P-H</th>\n",
       "      <th>QRS</th>\n",
       "      <th>PRQ</th>\n",
       "      <th>QT</th>\n",
       "      <th>QTC</th>\n",
       "      <th>ST</th>\n",
       "    </tr>\n",
       "  </thead>\n",
       "  <tbody>\n",
       "    <tr>\n",
       "      <th>0</th>\n",
       "      <td>0.856000</td>\n",
       "      <td>70.093458</td>\n",
       "      <td>2.275</td>\n",
       "      <td>-0.435</td>\n",
       "      <td>0.140000</td>\n",
       "      <td>0.132000</td>\n",
       "      <td>0.412000</td>\n",
       "      <td>0.445308</td>\n",
       "      <td>0.292000</td>\n",
       "    </tr>\n",
       "    <tr>\n",
       "      <th>1</th>\n",
       "      <td>0.796000</td>\n",
       "      <td>75.376884</td>\n",
       "      <td>1.905</td>\n",
       "      <td>-0.590</td>\n",
       "      <td>0.132000</td>\n",
       "      <td>0.128000</td>\n",
       "      <td>0.380000</td>\n",
       "      <td>0.425919</td>\n",
       "      <td>0.272000</td>\n",
       "    </tr>\n",
       "    <tr>\n",
       "      <th>2</th>\n",
       "      <td>0.916000</td>\n",
       "      <td>65.502183</td>\n",
       "      <td>1.860</td>\n",
       "      <td>-0.425</td>\n",
       "      <td>0.132000</td>\n",
       "      <td>0.128000</td>\n",
       "      <td>0.392000</td>\n",
       "      <td>0.409580</td>\n",
       "      <td>0.284000</td>\n",
       "    </tr>\n",
       "    <tr>\n",
       "      <th>3</th>\n",
       "      <td>1.388000</td>\n",
       "      <td>43.227666</td>\n",
       "      <td>0.955</td>\n",
       "      <td>-0.480</td>\n",
       "      <td>0.144000</td>\n",
       "      <td>0.132000</td>\n",
       "      <td>0.400000</td>\n",
       "      <td>0.339520</td>\n",
       "      <td>0.304000</td>\n",
       "    </tr>\n",
       "    <tr>\n",
       "      <th>4</th>\n",
       "      <td>0.680000</td>\n",
       "      <td>88.235294</td>\n",
       "      <td>2.200</td>\n",
       "      <td>-0.435</td>\n",
       "      <td>0.136000</td>\n",
       "      <td>0.128000</td>\n",
       "      <td>0.372000</td>\n",
       "      <td>0.451116</td>\n",
       "      <td>0.260000</td>\n",
       "    </tr>\n",
       "    <tr>\n",
       "      <th>...</th>\n",
       "      <td>...</td>\n",
       "      <td>...</td>\n",
       "      <td>...</td>\n",
       "      <td>...</td>\n",
       "      <td>...</td>\n",
       "      <td>...</td>\n",
       "      <td>...</td>\n",
       "      <td>...</td>\n",
       "      <td>...</td>\n",
       "    </tr>\n",
       "    <tr>\n",
       "      <th>177504</th>\n",
       "      <td>0.638889</td>\n",
       "      <td>93.913043</td>\n",
       "      <td>0.680</td>\n",
       "      <td>-0.315</td>\n",
       "      <td>0.063889</td>\n",
       "      <td>0.158333</td>\n",
       "      <td>0.402778</td>\n",
       "      <td>0.503910</td>\n",
       "      <td>0.350000</td>\n",
       "    </tr>\n",
       "    <tr>\n",
       "      <th>177505</th>\n",
       "      <td>0.652778</td>\n",
       "      <td>91.914894</td>\n",
       "      <td>0.660</td>\n",
       "      <td>-0.335</td>\n",
       "      <td>0.066667</td>\n",
       "      <td>0.163889</td>\n",
       "      <td>0.411111</td>\n",
       "      <td>0.508834</td>\n",
       "      <td>0.355556</td>\n",
       "    </tr>\n",
       "    <tr>\n",
       "      <th>177506</th>\n",
       "      <td>0.675000</td>\n",
       "      <td>88.888889</td>\n",
       "      <td>0.605</td>\n",
       "      <td>-0.345</td>\n",
       "      <td>0.066667</td>\n",
       "      <td>0.172222</td>\n",
       "      <td>0.413889</td>\n",
       "      <td>0.503770</td>\n",
       "      <td>0.358333</td>\n",
       "    </tr>\n",
       "    <tr>\n",
       "      <th>177507</th>\n",
       "      <td>0.647222</td>\n",
       "      <td>92.703863</td>\n",
       "      <td>0.795</td>\n",
       "      <td>-0.335</td>\n",
       "      <td>0.055556</td>\n",
       "      <td>0.161111</td>\n",
       "      <td>0.397222</td>\n",
       "      <td>0.493750</td>\n",
       "      <td>0.341667</td>\n",
       "    </tr>\n",
       "    <tr>\n",
       "      <th>177508</th>\n",
       "      <td>0.647222</td>\n",
       "      <td>92.703863</td>\n",
       "      <td>0.825</td>\n",
       "      <td>-0.330</td>\n",
       "      <td>0.069444</td>\n",
       "      <td>0.152778</td>\n",
       "      <td>0.400000</td>\n",
       "      <td>0.497202</td>\n",
       "      <td>0.344444</td>\n",
       "    </tr>\n",
       "  </tbody>\n",
       "</table>\n",
       "<p>177509 rows × 9 columns</p>\n",
       "</div>"
      ],
      "text/plain": [
       "            RR-I         HR    R-H    P-H       QRS       PRQ        QT  \\\n",
       "0       0.856000  70.093458  2.275 -0.435  0.140000  0.132000  0.412000   \n",
       "1       0.796000  75.376884  1.905 -0.590  0.132000  0.128000  0.380000   \n",
       "2       0.916000  65.502183  1.860 -0.425  0.132000  0.128000  0.392000   \n",
       "3       1.388000  43.227666  0.955 -0.480  0.144000  0.132000  0.400000   \n",
       "4       0.680000  88.235294  2.200 -0.435  0.136000  0.128000  0.372000   \n",
       "...          ...        ...    ...    ...       ...       ...       ...   \n",
       "177504  0.638889  93.913043  0.680 -0.315  0.063889  0.158333  0.402778   \n",
       "177505  0.652778  91.914894  0.660 -0.335  0.066667  0.163889  0.411111   \n",
       "177506  0.675000  88.888889  0.605 -0.345  0.066667  0.172222  0.413889   \n",
       "177507  0.647222  92.703863  0.795 -0.335  0.055556  0.161111  0.397222   \n",
       "177508  0.647222  92.703863  0.825 -0.330  0.069444  0.152778  0.400000   \n",
       "\n",
       "             QTC        ST  \n",
       "0       0.445308  0.292000  \n",
       "1       0.425919  0.272000  \n",
       "2       0.409580  0.284000  \n",
       "3       0.339520  0.304000  \n",
       "4       0.451116  0.260000  \n",
       "...          ...       ...  \n",
       "177504  0.503910  0.350000  \n",
       "177505  0.508834  0.355556  \n",
       "177506  0.503770  0.358333  \n",
       "177507  0.493750  0.341667  \n",
       "177508  0.497202  0.344444  \n",
       "\n",
       "[177509 rows x 9 columns]"
      ]
     },
     "execution_count": 14,
     "metadata": {},
     "output_type": "execute_result"
    }
   ],
   "source": [
    "X_test.head(-1)"
   ]
  },
  {
   "cell_type": "code",
   "execution_count": 15,
   "metadata": {
    "id": "dzpKxk9jgWz5"
   },
   "outputs": [],
   "source": [
    "from sklearn.ensemble import RandomForestClassifier\n",
    "\n",
    "rf = RandomForestClassifier (n_estimators=200, max_depth=10, random_state=0)\n",
    "\n",
    "rf.fit(X_train,Y_train)\n",
    "\n",
    "y_pred = rf.predict(X_test)"
   ]
  },
  {
   "cell_type": "code",
   "execution_count": 16,
   "metadata": {
    "id": "2TvAfLMxgWz5",
    "outputId": "a4e1e6d2-0a4f-44b3-ea25-7582c42b9645"
   },
   "outputs": [
    {
     "name": "stdout",
     "output_type": "stream",
     "text": [
      "0.8071432595346741\n"
     ]
    }
   ],
   "source": [
    "from sklearn.metrics import accuracy_score\n",
    "\n",
    "print(accuracy_score(Y_test,y_pred)) # model prediction"
   ]
  },
  {
   "cell_type": "code",
   "execution_count": 17,
   "metadata": {
    "id": "RgcrinRigWz6"
   },
   "outputs": [],
   "source": [
    "from sklearn.ensemble import AdaBoostClassifier\n",
    "\n",
    "ada = AdaBoostClassifier()\n",
    "\n",
    "ada.fit(X_train, Y_train)\n",
    "\n",
    "y_pred = ada.predict(X_test)"
   ]
  },
  {
   "cell_type": "code",
   "execution_count": 18,
   "metadata": {
    "id": "F7cCpRI9gWz6",
    "outputId": "c30ee6b7-57dc-4c40-ab0b-415fb24ffeb7"
   },
   "outputs": [
    {
     "name": "stdout",
     "output_type": "stream",
     "text": [
      "0.8468255309560024\n"
     ]
    }
   ],
   "source": [
    "from sklearn.metrics import accuracy_score\n",
    "\n",
    "print(accuracy_score(Y_test,y_pred))"
   ]
  },
  {
   "cell_type": "code",
   "execution_count": null,
   "metadata": {
    "id": "gT2qmnXWgWz6"
   },
   "outputs": [],
   "source": [
    "from sklearn.ensemble import GradientBoostingClassifier\n",
    "\n",
    "GBC = GradientBoostingClassifier()\n",
    "GBC.fit(X_train, Y_train)\n",
    "\n",
    "y_pred = GBC.predict(X_test)"
   ]
  },
  {
   "cell_type": "code",
   "execution_count": null,
   "metadata": {
    "id": "0S1y9jpugWz7",
    "outputId": "75d5061f-ad5b-4b54-d42a-23683015f7ce"
   },
   "outputs": [],
   "source": [
    "from sklearn.metrics import accuracy_score\n",
    "\n",
    "print(accuracy_score(Y_test,y_pred))"
   ]
  },
  {
   "cell_type": "code",
   "execution_count": null,
   "metadata": {
    "id": "cuk9TFq_gWz7",
    "outputId": "3ac319ce-7ce2-4f0f-ba76-de1e89396353"
   },
   "outputs": [
    {
     "name": "stderr",
     "output_type": "stream",
     "text": [
      "C:\\Users\\ahtes\\anaconda3\\lib\\site-packages\\sklearn\\neighbors\\_classification.py:228: FutureWarning: Unlike other reduction functions (e.g. `skew`, `kurtosis`), the default behavior of `mode` typically preserves the axis it acts along. In SciPy 1.11.0, this behavior will change: the default value of `keepdims` will become False, the `axis` over which the statistic is taken will be eliminated, and the value None will no longer be accepted. Set `keepdims` to True or False to avoid this warning.\n",
      "  mode, _ = stats.mode(_y[neigh_ind, k], axis=1)\n"
     ]
    },
    {
     "name": "stdout",
     "output_type": "stream",
     "text": [
      "0.8167651709713235\n"
     ]
    }
   ],
   "source": [
    "from sklearn.neighbors import KNeighborsClassifier\n",
    "knn = KNeighborsClassifier()\n",
    "knn.fit(X_train, Y_train)\n",
    "\n",
    "y_pred=knn.predict(X_test)\n",
    "\n",
    "from sklearn.metrics import accuracy_score\n",
    "\n",
    "print(accuracy_score(Y_test,y_pred))\n"
   ]
  },
  {
   "cell_type": "code",
   "execution_count": null,
   "metadata": {
    "id": "_etr0rezgWz7",
    "outputId": "d1a1c9d3-497f-471f-d905-c63ff0170181"
   },
   "outputs": [
    {
     "name": "stdout",
     "output_type": "stream",
     "text": [
      "0.9156414368544417\n"
     ]
    }
   ],
   "source": [
    "from sklearn.naive_bayes import GaussianNB\n",
    "\n",
    "gnb = GaussianNB()\n",
    "\n",
    "gnb.fit(X_train, Y_train)\n",
    "\n",
    "y_pred = gnb.predict(X_test)\n",
    "\n",
    "\n",
    "from sklearn.metrics import accuracy_score\n",
    "\n",
    "print(accuracy_score(Y_test,y_pred))"
   ]
  },
  {
   "cell_type": "code",
   "execution_count": null,
   "metadata": {
    "id": "YUuW-lx_ZK7V"
   },
   "outputs": [],
   "source": [
    "def train_test_split(X,Y,test_size,feature):\n",
    "    dict={}\n",
    "    count=0\n",
    "    for i in Y:\n",
    "        if i not in dict.keys():\n",
    "            dict[i]=count\n",
    "        count+=1\n",
    "    rows=X.shape[0]\n",
    "    train_size=1-test_size\n",
    "    train=int(rows*train_size)\n",
    "    \n",
    "    f=X[feature][train]\n",
    "    count1=0\n",
    "    index1=train\n",
    "\n",
    "    while X[feature][index1]==f:\n",
    "        index1-=1\n",
    "        count1+=1\n",
    "    index2=train+1\n",
    "    count2=0\n",
    "    while X[feature][index2]==f:\n",
    "        index2+=1\n",
    "        count2+=1\n",
    "    if count1>count2:\n",
    "        train+=count2\n",
    "    else:\n",
    "        train-=count1\n",
    "\n",
    "    test=rows-train\n",
    "    print('Train Subject start and end:',X['Subject'][0],'To',X['Subject'][train])\n",
    "    print('Test Subject start and end:',X['Subject'][train+1],'To',X['Subject'][rows-1])\n",
    "    print('Train Percentage:',train/rows)\n",
    "    X_train= X[:train+2]\n",
    "    X_test= X[train+1:]\n",
    "    Y_train = Y[:train+2]\n",
    "    Y_test = Y[train+1:]\n",
    "    return X_train,X_test,Y_train,Y_test"
   ]
  },
  {
   "cell_type": "code",
   "execution_count": null,
   "metadata": {
    "id": "n6lTOBtijjuI"
   },
   "outputs": [],
   "source": []
  }
 ],
 "metadata": {
  "colab": {
   "include_colab_link": true,
   "provenance": []
  },
  "kernelspec": {
   "display_name": "Python 3 (ipykernel)",
   "language": "python",
   "name": "python3"
  },
  "language_info": {
   "codemirror_mode": {
    "name": "ipython",
    "version": 3
   },
   "file_extension": ".py",
   "mimetype": "text/x-python",
   "name": "python",
   "nbconvert_exporter": "python",
   "pygments_lexer": "ipython3",
   "version": "3.9.13"
  }
 },
 "nbformat": 4,
 "nbformat_minor": 1
}
