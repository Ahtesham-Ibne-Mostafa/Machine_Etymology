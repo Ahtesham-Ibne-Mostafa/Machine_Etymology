{
  "nbformat": 4,
  "nbformat_minor": 0,
  "metadata": {
    "colab": {
      "provenance": [],
      "authorship_tag": "ABX9TyMMGwzKiLFhFwKGx2ZKP3JU",
      "include_colab_link": true
    },
    "kernelspec": {
      "name": "python3",
      "display_name": "Python 3"
    },
    "language_info": {
      "name": "python"
    }
  },
  "cells": [
    {
      "cell_type": "markdown",
      "metadata": {
        "id": "view-in-github",
        "colab_type": "text"
      },
      "source": [
        "<a href=\"https://colab.research.google.com/github/Ahtesham-Ibne-Mostafa/Machine_Etymology/blob/main/2nd_Day_Machine_learning.ipynb\" target=\"_parent\"><img src=\"https://colab.research.google.com/assets/colab-badge.svg\" alt=\"Open In Colab\"/></a>"
      ]
    },
    {
      "cell_type": "code",
      "execution_count": 1,
      "metadata": {
        "id": "Y_MmZiq27NUp"
      },
      "outputs": [],
      "source": [
        "import numpy as np\n",
        "import pandas as pd\n",
        "\n",
        "dataset =pd.read_csv('https://raw.githubusercontent.com/RafsanJany-44/Research-NREM-REM/main/dataset/O2/REM_NREM_O2.csv')"
      ]
    },
    {
      "cell_type": "code",
      "source": [
        "dataset.head(10)"
      ],
      "metadata": {
        "colab": {
          "base_uri": "https://localhost:8080/",
          "height": 474
        },
        "id": "YHATVe8g_zvj",
        "outputId": "b72d7085-4060-46b3-819a-a112f6a7c775"
      },
      "execution_count": 3,
      "outputs": [
        {
          "output_type": "execute_result",
          "data": {
            "text/plain": [
              "  Sleep_Stage  MeanP_Alpha_O2  MedianF_Alpha_O2  MeanF_Alpha_O2  \\\n",
              "0        NREM         0.00023          10.61463        18.48195   \n",
              "1        NREM         0.00023          10.36488        18.10732   \n",
              "2        NREM         0.00025           9.74049        17.35805   \n",
              "3        NREM         0.00027           9.49073        17.60780   \n",
              "4        NREM         0.00036           9.24098        16.48390   \n",
              "5        NREM         0.00035           9.24098        16.60878   \n",
              "6        NREM         0.00038           9.24098        15.85951   \n",
              "7        NREM         0.00044           9.11610        15.36000   \n",
              "8        NREM         0.00043           9.24098        15.36000   \n",
              "9        NREM         0.00044           9.11610        14.86049   \n",
              "\n",
              "   Spectral Edge_Alpha_O2  PeakF_Alpha_O2  MeanP_Beta_O2  MedianF_Beta_O2  \\\n",
              "0                17.98244        10.73951        0.00034         18.23220   \n",
              "1                17.48293        10.24000        0.00032         18.10732   \n",
              "2                16.73366         9.86537        0.00031         17.23317   \n",
              "3                16.85854         8.11707        0.00033         17.73268   \n",
              "4                15.98439         8.11707        0.00039         15.98439   \n",
              "5                15.48488        11.48878        0.00034         15.98439   \n",
              "6                15.36000         8.11707        0.00034         15.36000   \n",
              "7                14.23610         7.36780        0.00037         13.86146   \n",
              "8                14.48585         6.61854        0.00036         13.98634   \n",
              "9                13.86146         9.86537        0.00034         13.36195   \n",
              "\n",
              "   MeanF_Beta_O2  Spectral Edge_Beta_O2  ...  MeanP_Delta_O2  \\\n",
              "0       25.84976               28.47220  ...         0.00112   \n",
              "1       26.22439               28.72195  ...         0.00070   \n",
              "2       26.47415               28.84683  ...         0.00077   \n",
              "3       26.47415               28.59707  ...         0.00130   \n",
              "4       24.47610               25.97463  ...         0.00123   \n",
              "5       24.35122               25.84976  ...         0.00217   \n",
              "6       23.97659               25.47512  ...         0.00223   \n",
              "7       22.85268               24.10146  ...         0.00216   \n",
              "8       22.85268               23.97659  ...         0.00230   \n",
              "9       22.60293               23.60195  ...         0.00253   \n",
              "\n",
              "   MedianF_Delta_O2  MeanF_Delta_O2  Spectral Edge_Delta_O2  PeakF_Delta_O2  \\\n",
              "0           0.74927         6.36878                 2.87220         0.62439   \n",
              "1           0.99902         6.86829                 3.62146         0.74927   \n",
              "2           1.49854         6.49366                 4.12098         0.74927   \n",
              "3           1.87317         6.11902                 3.74634         0.37463   \n",
              "4           1.49854         6.61854                 3.74634         0.74927   \n",
              "5           1.99805         5.74439                 3.62146         2.74732   \n",
              "6           1.37366         5.86927                 3.62146         1.12390   \n",
              "7           1.62341         6.24390                 3.87122         0.62439   \n",
              "8           1.74829         5.74439                 3.87122         0.49951   \n",
              "9           1.74829         5.86927                 3.62146         0.49951   \n",
              "\n",
              "   MeanP_Gamma_O2  MedianF_Gamma_O2  MeanF_Gamma_O2  Spectral Edge_Gamma_O2  \\\n",
              "0        0.000076          32.71805        43.83220                49.95122   \n",
              "1        0.000072          32.09366        44.33171                49.95122   \n",
              "2        0.000069          33.09268        43.95707                49.95122   \n",
              "3        0.000070          31.59415        42.83317                49.95122   \n",
              "4        0.000060          29.47122        45.08098                49.95122   \n",
              "5        0.000053          30.09561        47.82829                49.95122   \n",
              "6        0.000050          29.72098        49.70146                49.95122   \n",
              "7        0.000046          29.59610        49.82634                49.95122   \n",
              "8        0.000044          28.84683        49.82634                49.95122   \n",
              "9        0.000041          31.21951        49.82634                49.95122   \n",
              "\n",
              "   PeakF_Gamma_O2  \n",
              "0        49.95122  \n",
              "1        49.95122  \n",
              "2        49.95122  \n",
              "3        49.95122  \n",
              "4        49.95122  \n",
              "5        49.95122  \n",
              "6        49.95122  \n",
              "7        49.95122  \n",
              "8        49.95122  \n",
              "9        49.95122  \n",
              "\n",
              "[10 rows x 26 columns]"
            ],
            "text/html": [
              "\n",
              "  <div id=\"df-5231e04d-3834-481b-ae93-30bc058af757\">\n",
              "    <div class=\"colab-df-container\">\n",
              "      <div>\n",
              "<style scoped>\n",
              "    .dataframe tbody tr th:only-of-type {\n",
              "        vertical-align: middle;\n",
              "    }\n",
              "\n",
              "    .dataframe tbody tr th {\n",
              "        vertical-align: top;\n",
              "    }\n",
              "\n",
              "    .dataframe thead th {\n",
              "        text-align: right;\n",
              "    }\n",
              "</style>\n",
              "<table border=\"1\" class=\"dataframe\">\n",
              "  <thead>\n",
              "    <tr style=\"text-align: right;\">\n",
              "      <th></th>\n",
              "      <th>Sleep_Stage</th>\n",
              "      <th>MeanP_Alpha_O2</th>\n",
              "      <th>MedianF_Alpha_O2</th>\n",
              "      <th>MeanF_Alpha_O2</th>\n",
              "      <th>Spectral Edge_Alpha_O2</th>\n",
              "      <th>PeakF_Alpha_O2</th>\n",
              "      <th>MeanP_Beta_O2</th>\n",
              "      <th>MedianF_Beta_O2</th>\n",
              "      <th>MeanF_Beta_O2</th>\n",
              "      <th>Spectral Edge_Beta_O2</th>\n",
              "      <th>...</th>\n",
              "      <th>MeanP_Delta_O2</th>\n",
              "      <th>MedianF_Delta_O2</th>\n",
              "      <th>MeanF_Delta_O2</th>\n",
              "      <th>Spectral Edge_Delta_O2</th>\n",
              "      <th>PeakF_Delta_O2</th>\n",
              "      <th>MeanP_Gamma_O2</th>\n",
              "      <th>MedianF_Gamma_O2</th>\n",
              "      <th>MeanF_Gamma_O2</th>\n",
              "      <th>Spectral Edge_Gamma_O2</th>\n",
              "      <th>PeakF_Gamma_O2</th>\n",
              "    </tr>\n",
              "  </thead>\n",
              "  <tbody>\n",
              "    <tr>\n",
              "      <th>0</th>\n",
              "      <td>NREM</td>\n",
              "      <td>0.00023</td>\n",
              "      <td>10.61463</td>\n",
              "      <td>18.48195</td>\n",
              "      <td>17.98244</td>\n",
              "      <td>10.73951</td>\n",
              "      <td>0.00034</td>\n",
              "      <td>18.23220</td>\n",
              "      <td>25.84976</td>\n",
              "      <td>28.47220</td>\n",
              "      <td>...</td>\n",
              "      <td>0.00112</td>\n",
              "      <td>0.74927</td>\n",
              "      <td>6.36878</td>\n",
              "      <td>2.87220</td>\n",
              "      <td>0.62439</td>\n",
              "      <td>0.000076</td>\n",
              "      <td>32.71805</td>\n",
              "      <td>43.83220</td>\n",
              "      <td>49.95122</td>\n",
              "      <td>49.95122</td>\n",
              "    </tr>\n",
              "    <tr>\n",
              "      <th>1</th>\n",
              "      <td>NREM</td>\n",
              "      <td>0.00023</td>\n",
              "      <td>10.36488</td>\n",
              "      <td>18.10732</td>\n",
              "      <td>17.48293</td>\n",
              "      <td>10.24000</td>\n",
              "      <td>0.00032</td>\n",
              "      <td>18.10732</td>\n",
              "      <td>26.22439</td>\n",
              "      <td>28.72195</td>\n",
              "      <td>...</td>\n",
              "      <td>0.00070</td>\n",
              "      <td>0.99902</td>\n",
              "      <td>6.86829</td>\n",
              "      <td>3.62146</td>\n",
              "      <td>0.74927</td>\n",
              "      <td>0.000072</td>\n",
              "      <td>32.09366</td>\n",
              "      <td>44.33171</td>\n",
              "      <td>49.95122</td>\n",
              "      <td>49.95122</td>\n",
              "    </tr>\n",
              "    <tr>\n",
              "      <th>2</th>\n",
              "      <td>NREM</td>\n",
              "      <td>0.00025</td>\n",
              "      <td>9.74049</td>\n",
              "      <td>17.35805</td>\n",
              "      <td>16.73366</td>\n",
              "      <td>9.86537</td>\n",
              "      <td>0.00031</td>\n",
              "      <td>17.23317</td>\n",
              "      <td>26.47415</td>\n",
              "      <td>28.84683</td>\n",
              "      <td>...</td>\n",
              "      <td>0.00077</td>\n",
              "      <td>1.49854</td>\n",
              "      <td>6.49366</td>\n",
              "      <td>4.12098</td>\n",
              "      <td>0.74927</td>\n",
              "      <td>0.000069</td>\n",
              "      <td>33.09268</td>\n",
              "      <td>43.95707</td>\n",
              "      <td>49.95122</td>\n",
              "      <td>49.95122</td>\n",
              "    </tr>\n",
              "    <tr>\n",
              "      <th>3</th>\n",
              "      <td>NREM</td>\n",
              "      <td>0.00027</td>\n",
              "      <td>9.49073</td>\n",
              "      <td>17.60780</td>\n",
              "      <td>16.85854</td>\n",
              "      <td>8.11707</td>\n",
              "      <td>0.00033</td>\n",
              "      <td>17.73268</td>\n",
              "      <td>26.47415</td>\n",
              "      <td>28.59707</td>\n",
              "      <td>...</td>\n",
              "      <td>0.00130</td>\n",
              "      <td>1.87317</td>\n",
              "      <td>6.11902</td>\n",
              "      <td>3.74634</td>\n",
              "      <td>0.37463</td>\n",
              "      <td>0.000070</td>\n",
              "      <td>31.59415</td>\n",
              "      <td>42.83317</td>\n",
              "      <td>49.95122</td>\n",
              "      <td>49.95122</td>\n",
              "    </tr>\n",
              "    <tr>\n",
              "      <th>4</th>\n",
              "      <td>NREM</td>\n",
              "      <td>0.00036</td>\n",
              "      <td>9.24098</td>\n",
              "      <td>16.48390</td>\n",
              "      <td>15.98439</td>\n",
              "      <td>8.11707</td>\n",
              "      <td>0.00039</td>\n",
              "      <td>15.98439</td>\n",
              "      <td>24.47610</td>\n",
              "      <td>25.97463</td>\n",
              "      <td>...</td>\n",
              "      <td>0.00123</td>\n",
              "      <td>1.49854</td>\n",
              "      <td>6.61854</td>\n",
              "      <td>3.74634</td>\n",
              "      <td>0.74927</td>\n",
              "      <td>0.000060</td>\n",
              "      <td>29.47122</td>\n",
              "      <td>45.08098</td>\n",
              "      <td>49.95122</td>\n",
              "      <td>49.95122</td>\n",
              "    </tr>\n",
              "    <tr>\n",
              "      <th>5</th>\n",
              "      <td>NREM</td>\n",
              "      <td>0.00035</td>\n",
              "      <td>9.24098</td>\n",
              "      <td>16.60878</td>\n",
              "      <td>15.48488</td>\n",
              "      <td>11.48878</td>\n",
              "      <td>0.00034</td>\n",
              "      <td>15.98439</td>\n",
              "      <td>24.35122</td>\n",
              "      <td>25.84976</td>\n",
              "      <td>...</td>\n",
              "      <td>0.00217</td>\n",
              "      <td>1.99805</td>\n",
              "      <td>5.74439</td>\n",
              "      <td>3.62146</td>\n",
              "      <td>2.74732</td>\n",
              "      <td>0.000053</td>\n",
              "      <td>30.09561</td>\n",
              "      <td>47.82829</td>\n",
              "      <td>49.95122</td>\n",
              "      <td>49.95122</td>\n",
              "    </tr>\n",
              "    <tr>\n",
              "      <th>6</th>\n",
              "      <td>NREM</td>\n",
              "      <td>0.00038</td>\n",
              "      <td>9.24098</td>\n",
              "      <td>15.85951</td>\n",
              "      <td>15.36000</td>\n",
              "      <td>8.11707</td>\n",
              "      <td>0.00034</td>\n",
              "      <td>15.36000</td>\n",
              "      <td>23.97659</td>\n",
              "      <td>25.47512</td>\n",
              "      <td>...</td>\n",
              "      <td>0.00223</td>\n",
              "      <td>1.37366</td>\n",
              "      <td>5.86927</td>\n",
              "      <td>3.62146</td>\n",
              "      <td>1.12390</td>\n",
              "      <td>0.000050</td>\n",
              "      <td>29.72098</td>\n",
              "      <td>49.70146</td>\n",
              "      <td>49.95122</td>\n",
              "      <td>49.95122</td>\n",
              "    </tr>\n",
              "    <tr>\n",
              "      <th>7</th>\n",
              "      <td>NREM</td>\n",
              "      <td>0.00044</td>\n",
              "      <td>9.11610</td>\n",
              "      <td>15.36000</td>\n",
              "      <td>14.23610</td>\n",
              "      <td>7.36780</td>\n",
              "      <td>0.00037</td>\n",
              "      <td>13.86146</td>\n",
              "      <td>22.85268</td>\n",
              "      <td>24.10146</td>\n",
              "      <td>...</td>\n",
              "      <td>0.00216</td>\n",
              "      <td>1.62341</td>\n",
              "      <td>6.24390</td>\n",
              "      <td>3.87122</td>\n",
              "      <td>0.62439</td>\n",
              "      <td>0.000046</td>\n",
              "      <td>29.59610</td>\n",
              "      <td>49.82634</td>\n",
              "      <td>49.95122</td>\n",
              "      <td>49.95122</td>\n",
              "    </tr>\n",
              "    <tr>\n",
              "      <th>8</th>\n",
              "      <td>NREM</td>\n",
              "      <td>0.00043</td>\n",
              "      <td>9.24098</td>\n",
              "      <td>15.36000</td>\n",
              "      <td>14.48585</td>\n",
              "      <td>6.61854</td>\n",
              "      <td>0.00036</td>\n",
              "      <td>13.98634</td>\n",
              "      <td>22.85268</td>\n",
              "      <td>23.97659</td>\n",
              "      <td>...</td>\n",
              "      <td>0.00230</td>\n",
              "      <td>1.74829</td>\n",
              "      <td>5.74439</td>\n",
              "      <td>3.87122</td>\n",
              "      <td>0.49951</td>\n",
              "      <td>0.000044</td>\n",
              "      <td>28.84683</td>\n",
              "      <td>49.82634</td>\n",
              "      <td>49.95122</td>\n",
              "      <td>49.95122</td>\n",
              "    </tr>\n",
              "    <tr>\n",
              "      <th>9</th>\n",
              "      <td>NREM</td>\n",
              "      <td>0.00044</td>\n",
              "      <td>9.11610</td>\n",
              "      <td>14.86049</td>\n",
              "      <td>13.86146</td>\n",
              "      <td>9.86537</td>\n",
              "      <td>0.00034</td>\n",
              "      <td>13.36195</td>\n",
              "      <td>22.60293</td>\n",
              "      <td>23.60195</td>\n",
              "      <td>...</td>\n",
              "      <td>0.00253</td>\n",
              "      <td>1.74829</td>\n",
              "      <td>5.86927</td>\n",
              "      <td>3.62146</td>\n",
              "      <td>0.49951</td>\n",
              "      <td>0.000041</td>\n",
              "      <td>31.21951</td>\n",
              "      <td>49.82634</td>\n",
              "      <td>49.95122</td>\n",
              "      <td>49.95122</td>\n",
              "    </tr>\n",
              "  </tbody>\n",
              "</table>\n",
              "<p>10 rows × 26 columns</p>\n",
              "</div>\n",
              "      <button class=\"colab-df-convert\" onclick=\"convertToInteractive('df-5231e04d-3834-481b-ae93-30bc058af757')\"\n",
              "              title=\"Convert this dataframe to an interactive table.\"\n",
              "              style=\"display:none;\">\n",
              "        \n",
              "  <svg xmlns=\"http://www.w3.org/2000/svg\" height=\"24px\"viewBox=\"0 0 24 24\"\n",
              "       width=\"24px\">\n",
              "    <path d=\"M0 0h24v24H0V0z\" fill=\"none\"/>\n",
              "    <path d=\"M18.56 5.44l.94 2.06.94-2.06 2.06-.94-2.06-.94-.94-2.06-.94 2.06-2.06.94zm-11 1L8.5 8.5l.94-2.06 2.06-.94-2.06-.94L8.5 2.5l-.94 2.06-2.06.94zm10 10l.94 2.06.94-2.06 2.06-.94-2.06-.94-.94-2.06-.94 2.06-2.06.94z\"/><path d=\"M17.41 7.96l-1.37-1.37c-.4-.4-.92-.59-1.43-.59-.52 0-1.04.2-1.43.59L10.3 9.45l-7.72 7.72c-.78.78-.78 2.05 0 2.83L4 21.41c.39.39.9.59 1.41.59.51 0 1.02-.2 1.41-.59l7.78-7.78 2.81-2.81c.8-.78.8-2.07 0-2.86zM5.41 20L4 18.59l7.72-7.72 1.47 1.35L5.41 20z\"/>\n",
              "  </svg>\n",
              "      </button>\n",
              "      \n",
              "  <style>\n",
              "    .colab-df-container {\n",
              "      display:flex;\n",
              "      flex-wrap:wrap;\n",
              "      gap: 12px;\n",
              "    }\n",
              "\n",
              "    .colab-df-convert {\n",
              "      background-color: #E8F0FE;\n",
              "      border: none;\n",
              "      border-radius: 50%;\n",
              "      cursor: pointer;\n",
              "      display: none;\n",
              "      fill: #1967D2;\n",
              "      height: 32px;\n",
              "      padding: 0 0 0 0;\n",
              "      width: 32px;\n",
              "    }\n",
              "\n",
              "    .colab-df-convert:hover {\n",
              "      background-color: #E2EBFA;\n",
              "      box-shadow: 0px 1px 2px rgba(60, 64, 67, 0.3), 0px 1px 3px 1px rgba(60, 64, 67, 0.15);\n",
              "      fill: #174EA6;\n",
              "    }\n",
              "\n",
              "    [theme=dark] .colab-df-convert {\n",
              "      background-color: #3B4455;\n",
              "      fill: #D2E3FC;\n",
              "    }\n",
              "\n",
              "    [theme=dark] .colab-df-convert:hover {\n",
              "      background-color: #434B5C;\n",
              "      box-shadow: 0px 1px 3px 1px rgba(0, 0, 0, 0.15);\n",
              "      filter: drop-shadow(0px 1px 2px rgba(0, 0, 0, 0.3));\n",
              "      fill: #FFFFFF;\n",
              "    }\n",
              "  </style>\n",
              "\n",
              "      <script>\n",
              "        const buttonEl =\n",
              "          document.querySelector('#df-5231e04d-3834-481b-ae93-30bc058af757 button.colab-df-convert');\n",
              "        buttonEl.style.display =\n",
              "          google.colab.kernel.accessAllowed ? 'block' : 'none';\n",
              "\n",
              "        async function convertToInteractive(key) {\n",
              "          const element = document.querySelector('#df-5231e04d-3834-481b-ae93-30bc058af757');\n",
              "          const dataTable =\n",
              "            await google.colab.kernel.invokeFunction('convertToInteractive',\n",
              "                                                     [key], {});\n",
              "          if (!dataTable) return;\n",
              "\n",
              "          const docLinkHtml = 'Like what you see? Visit the ' +\n",
              "            '<a target=\"_blank\" href=https://colab.research.google.com/notebooks/data_table.ipynb>data table notebook</a>'\n",
              "            + ' to learn more about interactive tables.';\n",
              "          element.innerHTML = '';\n",
              "          dataTable['output_type'] = 'display_data';\n",
              "          await google.colab.output.renderOutput(dataTable, element);\n",
              "          const docLink = document.createElement('div');\n",
              "          docLink.innerHTML = docLinkHtml;\n",
              "          element.appendChild(docLink);\n",
              "        }\n",
              "      </script>\n",
              "    </div>\n",
              "  </div>\n",
              "  "
            ]
          },
          "metadata": {},
          "execution_count": 3
        }
      ]
    },
    {
      "cell_type": "code",
      "source": [
        "dataset.shape"
      ],
      "metadata": {
        "colab": {
          "base_uri": "https://localhost:8080/"
        },
        "id": "7q8X55qpA83d",
        "outputId": "9123bf98-10e0-4723-d45d-9a0f0deb614a"
      },
      "execution_count": 8,
      "outputs": [
        {
          "output_type": "execute_result",
          "data": {
            "text/plain": [
              "(89096, 26)"
            ]
          },
          "metadata": {},
          "execution_count": 8
        }
      ]
    },
    {
      "cell_type": "code",
      "source": [
        "dataset['Sleep_Stage'].unique()"
      ],
      "metadata": {
        "colab": {
          "base_uri": "https://localhost:8080/"
        },
        "id": "NvGqzLoU_y4w",
        "outputId": "cc71060a-b63e-4acc-90a6-134849c9611b"
      },
      "execution_count": 5,
      "outputs": [
        {
          "output_type": "execute_result",
          "data": {
            "text/plain": [
              "array(['NREM', 'REM'], dtype=object)"
            ]
          },
          "metadata": {},
          "execution_count": 5
        }
      ]
    },
    {
      "cell_type": "code",
      "source": [
        "dataset['Sleep_Stage'].value_counts()"
      ],
      "metadata": {
        "colab": {
          "base_uri": "https://localhost:8080/"
        },
        "id": "b9wWs0wiBhWA",
        "outputId": "0c56eb09-f892-4106-dadc-b12edda6ea65"
      },
      "execution_count": 9,
      "outputs": [
        {
          "output_type": "execute_result",
          "data": {
            "text/plain": [
              "NREM    72631\n",
              "REM     16465\n",
              "Name: Sleep_Stage, dtype: int64"
            ]
          },
          "metadata": {},
          "execution_count": 9
        }
      ]
    },
    {
      "cell_type": "markdown",
      "source": [
        "#Split\n"
      ],
      "metadata": {
        "id": "j8TmpNYhCN52"
      }
    },
    {
      "cell_type": "code",
      "source": [
        "X = dataset.loc[:,dataset.columns != 'Sleep_Stage'] #features\n",
        "Y = dataset['Sleep_Stage'] #target"
      ],
      "metadata": {
        "id": "LVbjkF03B6EA"
      },
      "execution_count": 10,
      "outputs": []
    },
    {
      "cell_type": "code",
      "source": [
        "print(Y)"
      ],
      "metadata": {
        "colab": {
          "base_uri": "https://localhost:8080/"
        },
        "id": "BnrDmYg7ChZc",
        "outputId": "17fa4295-f4d7-4ef9-c477-6d3cccf83228"
      },
      "execution_count": 11,
      "outputs": [
        {
          "output_type": "stream",
          "name": "stdout",
          "text": [
            "0        NREM\n",
            "1        NREM\n",
            "2        NREM\n",
            "3        NREM\n",
            "4        NREM\n",
            "         ... \n",
            "89091    NREM\n",
            "89092    NREM\n",
            "89093    NREM\n",
            "89094    NREM\n",
            "89095    NREM\n",
            "Name: Sleep_Stage, Length: 89096, dtype: object\n"
          ]
        }
      ]
    },
    {
      "cell_type": "code",
      "source": [
        "from sklearn.preprocessing import StandardScaler\n",
        "\n",
        "x=StandardScaler().fit_transform(X)"
      ],
      "metadata": {
        "id": "eNCxcCfNCkak"
      },
      "execution_count": 13,
      "outputs": []
    },
    {
      "cell_type": "code",
      "source": [
        "print(X)"
      ],
      "metadata": {
        "colab": {
          "base_uri": "https://localhost:8080/"
        },
        "id": "qsASPQ3_Eh0e",
        "outputId": "cba2737b-0597-4b1a-b508-85a1b4bd8a52"
      },
      "execution_count": 14,
      "outputs": [
        {
          "output_type": "stream",
          "name": "stdout",
          "text": [
            "       MeanP_Alpha_O2  MedianF_Alpha_O2  MeanF_Alpha_O2  \\\n",
            "0             0.00023          10.61463        18.48195   \n",
            "1             0.00023          10.36488        18.10732   \n",
            "2             0.00025           9.74049        17.35805   \n",
            "3             0.00027           9.49073        17.60780   \n",
            "4             0.00036           9.24098        16.48390   \n",
            "...               ...               ...             ...   \n",
            "89091         0.00055          11.36390        19.73073   \n",
            "89092         0.00052          10.61463        18.10732   \n",
            "89093         0.00031          10.11512        17.48293   \n",
            "89094         0.00042           9.99024        16.35902   \n",
            "89095         0.00040           9.86537        15.73463   \n",
            "\n",
            "       Spectral Edge_Alpha_O2  PeakF_Alpha_O2  MeanP_Beta_O2  MedianF_Beta_O2  \\\n",
            "0                    17.98244        10.73951        0.00034         18.23220   \n",
            "1                    17.48293        10.24000        0.00032         18.10732   \n",
            "2                    16.73366         9.86537        0.00031         17.23317   \n",
            "3                    16.85854         8.11707        0.00033         17.73268   \n",
            "4                    15.98439         8.11707        0.00039         15.98439   \n",
            "...                       ...             ...            ...              ...   \n",
            "89091                19.35610        10.36488        0.00112         21.35415   \n",
            "89092                17.60780         8.61659        0.00084         19.85561   \n",
            "89093                16.85854        10.11512        0.00039         16.73366   \n",
            "89094                15.85951         9.86537        0.00044         15.73463   \n",
            "89095                14.98537        10.36488        0.00037         14.48585   \n",
            "\n",
            "       MeanF_Beta_O2  Spectral Edge_Beta_O2  PeakF_Beta_O2  ...  \\\n",
            "0           25.84976               28.47220       17.73268  ...   \n",
            "1           26.22439               28.72195       13.23707  ...   \n",
            "2           26.47415               28.84683       16.73366  ...   \n",
            "3           26.47415               28.59707       17.23317  ...   \n",
            "4           24.47610               25.97463       14.61073  ...   \n",
            "...              ...                    ...            ...  ...   \n",
            "89091       31.34439               34.96585       17.85756  ...   \n",
            "89092       31.21951               36.33951       12.73756  ...   \n",
            "89093       24.97561               26.97366       16.60878  ...   \n",
            "89094       24.85073               26.47415       12.11317  ...   \n",
            "89095       22.72780               24.10146       11.61366  ...   \n",
            "\n",
            "       MeanP_Delta_O2  MedianF_Delta_O2  MeanF_Delta_O2  \\\n",
            "0             0.00112           0.74927         6.36878   \n",
            "1             0.00070           0.99902         6.86829   \n",
            "2             0.00077           1.49854         6.49366   \n",
            "3             0.00130           1.87317         6.11902   \n",
            "4             0.00123           1.49854         6.61854   \n",
            "...               ...               ...             ...   \n",
            "89091         0.00779           0.74927         4.87024   \n",
            "89092         0.00620           0.99902         4.87024   \n",
            "89093         0.00101           1.12390         6.99317   \n",
            "89094         0.00426           1.12390         5.24488   \n",
            "89095         0.00116           0.87415         7.36780   \n",
            "\n",
            "       Spectral Edge_Delta_O2  PeakF_Delta_O2  MeanP_Gamma_O2  \\\n",
            "0                     2.87220         0.62439        0.000076   \n",
            "1                     3.62146         0.74927        0.000072   \n",
            "2                     4.12098         0.74927        0.000069   \n",
            "3                     3.74634         0.37463        0.000070   \n",
            "4                     3.74634         0.74927        0.000060   \n",
            "...                       ...             ...             ...   \n",
            "89091                 1.87317         0.62439        0.000420   \n",
            "89092                 2.24780         0.49951        0.000330   \n",
            "89093                 3.74634         0.49951        0.000063   \n",
            "89094                 2.24780         1.24878        0.000065   \n",
            "89095                 3.99610         0.74927        0.000041   \n",
            "\n",
            "       MedianF_Gamma_O2  MeanF_Gamma_O2  Spectral Edge_Gamma_O2  \\\n",
            "0              32.71805        43.83220                49.95122   \n",
            "1              32.09366        44.33171                49.95122   \n",
            "2              33.09268        43.95707                49.95122   \n",
            "3              31.59415        42.83317                49.95122   \n",
            "4              29.47122        45.08098                49.95122   \n",
            "...                 ...             ...                     ...   \n",
            "89091          34.96585        41.08488                48.45268   \n",
            "89092          36.83902        43.45756                50.95024   \n",
            "89093          29.09659        37.58829                45.20585   \n",
            "89094          29.59610        39.08683                47.57854   \n",
            "89095          27.09854        36.58927                43.08293   \n",
            "\n",
            "       PeakF_Gamma_O2  \n",
            "0            49.95122  \n",
            "1            49.95122  \n",
            "2            49.95122  \n",
            "3            49.95122  \n",
            "4            49.95122  \n",
            "...               ...  \n",
            "89091        36.21463  \n",
            "89092        36.46439  \n",
            "89093        24.22634  \n",
            "89094        24.97561  \n",
            "89095        21.10439  \n",
            "\n",
            "[89096 rows x 25 columns]\n"
          ]
        }
      ]
    },
    {
      "cell_type": "code",
      "source": [
        "#random forest\n",
        "\n",
        "from sklearn.model_selection import train_test_split\n",
        "\n",
        "X_train,X_test,Y_train,Y_test = train_test_split(X,Y, test_size=0.2 , random_state=0)"
      ],
      "metadata": {
        "id": "cXl2a7RpE03w"
      },
      "execution_count": 15,
      "outputs": []
    },
    {
      "cell_type": "markdown",
      "source": [
        "#Training\n"
      ],
      "metadata": {
        "id": "09Qroo4LKgNs"
      }
    },
    {
      "cell_type": "markdown",
      "source": [
        "### N Estimator Tunning"
      ],
      "metadata": {
        "id": "XqkfJQS5N4bO"
      }
    },
    {
      "cell_type": "code",
      "source": [
        "from sklearn.ensemble import GradientBoostingClassifier\n",
        "from sklearn.metrics import accuracy_score\n",
        "\n",
        "\n",
        "for i in range(1,201):\n",
        "\n",
        "    clf = GradientBoostingClassifier(n_estimators = i)\n",
        "\n",
        "    clf.fit(X_train,Y_train)\n",
        "\n",
        "    y_pred = clf.predict(X_test)\n",
        "\n",
        "    print('Estimator: ',i,'__Accuracy: ',accuracy_score(Y_test,y_pred)) # model prediction"
      ],
      "metadata": {
        "id": "mqXPQ4FxFnXV"
      },
      "execution_count": null,
      "outputs": []
    },
    {
      "cell_type": "code",
      "source": [
        "from sklearn.ensemble import GradientBoostingClassifier\n",
        "from sklearn.metrics import accuracy_score\n",
        "\n",
        "\n",
        "for i in range(1,201):\n",
        "\n",
        "    clf = GradientBoostingClassifier(max_depth = i)\n",
        "\n",
        "    clf.fit(X_train,Y_train)\n",
        "\n",
        "    y_pred = clf.predict(X_test)\n",
        "\n",
        "    print('Max Depth: ',i,'__Accuracy: ',accuracy_score(Y_test,y_pred)) # model prediction"
      ],
      "metadata": {
        "id": "r9yWrToqOAOr"
      },
      "execution_count": null,
      "outputs": []
    },
    {
      "cell_type": "code",
      "source": [
        "from sklearn.metrics import accuracy_score\n",
        "\n",
        "print(accuracy_score(Y_test,y_pred)) # model prediction"
      ],
      "metadata": {
        "colab": {
          "base_uri": "https://localhost:8080/"
        },
        "id": "qQSAP27BGufg",
        "outputId": "26a4f2c5-5393-4895-c57e-b69ed3d68d76"
      },
      "execution_count": 20,
      "outputs": [
        {
          "output_type": "stream",
          "name": "stdout",
          "text": [
            "0.8528058361391695\n"
          ]
        }
      ]
    },
    {
      "cell_type": "markdown",
      "source": [
        "#Accuracy Mactrics\n"
      ],
      "metadata": {
        "id": "lKaAQILsIj6Y"
      }
    },
    {
      "cell_type": "code",
      "source": [
        "from sklearn.metrics import confusion_matrix, classification_report\n",
        "\n",
        "print(confusion_matrix(Y_test, y_pred))\n",
        "print(classification_report(Y_test, y_pred))"
      ],
      "metadata": {
        "colab": {
          "base_uri": "https://localhost:8080/"
        },
        "id": "YrOlaveNIcpb",
        "outputId": "eb302610-4237-441f-be2c-c4e4ad5ca6cc"
      },
      "execution_count": 24,
      "outputs": [
        {
          "output_type": "stream",
          "name": "stdout",
          "text": [
            "[[13999   461]\n",
            " [ 2162  1198]]\n",
            "              precision    recall  f1-score   support\n",
            "\n",
            "        NREM       0.87      0.97      0.91     14460\n",
            "         REM       0.72      0.36      0.48      3360\n",
            "\n",
            "    accuracy                           0.85     17820\n",
            "   macro avg       0.79      0.66      0.70     17820\n",
            "weighted avg       0.84      0.85      0.83     17820\n",
            "\n"
          ]
        }
      ]
    },
    {
      "cell_type": "code",
      "source": [],
      "metadata": {
        "id": "xyf9sSlsKTCt"
      },
      "execution_count": null,
      "outputs": []
    }
  ]
}