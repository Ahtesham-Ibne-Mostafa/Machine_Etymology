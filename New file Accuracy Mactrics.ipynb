{
 "cells": [
  {
   "cell_type": "markdown",
   "metadata": {
    "colab_type": "text",
    "id": "view-in-github"
   },
   "source": [
    "<a href=\"https://colab.research.google.com/github/Ahtesham-Ibne-Mostafa/Machine_Etymology/blob/main/EEG_HMC_underscore.ipynb\" target=\"_parent\"><img src=\"https://colab.research.google.com/assets/colab-badge.svg\" alt=\"Open In Colab\"/></a>"
   ]
  },
  {
   "cell_type": "code",
   "execution_count": 2,
   "metadata": {
    "id": "Wz7-V1xL625U"
   },
   "outputs": [],
   "source": [
    "import pandas as pd\n",
    "import numpy as np"
   ]
  },
  {
   "cell_type": "code",
   "execution_count": 8,
   "metadata": {},
   "outputs": [],
   "source": [
    "dataset=pd.read_csv('new.csv')"
   ]
  },
  {
   "cell_type": "code",
   "execution_count": 9,
   "metadata": {
    "colab": {
     "base_uri": "https://localhost:8080/",
     "height": 317
    },
    "id": "7H8IMp_a7RUG",
    "outputId": "71cad1fe-6ee9-401e-989e-8338a88db2f3"
   },
   "outputs": [
    {
     "data": {
      "text/html": [
       "<div>\n",
       "<style scoped>\n",
       "    .dataframe tbody tr th:only-of-type {\n",
       "        vertical-align: middle;\n",
       "    }\n",
       "\n",
       "    .dataframe tbody tr th {\n",
       "        vertical-align: top;\n",
       "    }\n",
       "\n",
       "    .dataframe thead th {\n",
       "        text-align: right;\n",
       "    }\n",
       "</style>\n",
       "<table border=\"1\" class=\"dataframe\">\n",
       "  <thead>\n",
       "    <tr style=\"text-align: right;\">\n",
       "      <th></th>\n",
       "      <th>Sleep_Stage</th>\n",
       "      <th>MeanP_Alpha_F4</th>\n",
       "      <th>MedianF_Alpha_F4</th>\n",
       "      <th>MeanF_Alpha_F4</th>\n",
       "      <th>Spectral Edge_Alpha_F4</th>\n",
       "      <th>PeakF_Alpha_F4</th>\n",
       "      <th>MeanP_Beta_F4</th>\n",
       "      <th>MedianF_Beta_F4</th>\n",
       "      <th>MeanF_Beta_F4</th>\n",
       "      <th>Spectral Edge_Beta_F4</th>\n",
       "      <th>...</th>\n",
       "      <th>MeanP_DTR_O2</th>\n",
       "      <th>MedianF_DTR_O2</th>\n",
       "      <th>MeanF_DTR_O2</th>\n",
       "      <th>Spectral Edge_DTR_O2</th>\n",
       "      <th>PeakF_DTR_O2</th>\n",
       "      <th>MeanP_DTABR_O2</th>\n",
       "      <th>MedianF_DTABR_O2</th>\n",
       "      <th>MeanF_DTABR_O2</th>\n",
       "      <th>Spectral Edge_DTABR_O2</th>\n",
       "      <th>PeakF_DTABR_O2</th>\n",
       "    </tr>\n",
       "  </thead>\n",
       "  <tbody>\n",
       "    <tr>\n",
       "      <th>0</th>\n",
       "      <td>W</td>\n",
       "      <td>0.00051</td>\n",
       "      <td>8.74146</td>\n",
       "      <td>18.48195</td>\n",
       "      <td>17.48293</td>\n",
       "      <td>8.24195</td>\n",
       "      <td>0.00071</td>\n",
       "      <td>19.73073</td>\n",
       "      <td>29.84585</td>\n",
       "      <td>33.84195</td>\n",
       "      <td>...</td>\n",
       "      <td>18.56410</td>\n",
       "      <td>0.16667</td>\n",
       "      <td>0.28704</td>\n",
       "      <td>0.18605</td>\n",
       "      <td>0.38889</td>\n",
       "      <td>8.67045</td>\n",
       "      <td>0.16342</td>\n",
       "      <td>0.34406</td>\n",
       "      <td>0.23288</td>\n",
       "      <td>0.09843</td>\n",
       "    </tr>\n",
       "    <tr>\n",
       "      <th>1</th>\n",
       "      <td>W</td>\n",
       "      <td>0.00040</td>\n",
       "      <td>10.24000</td>\n",
       "      <td>17.48293</td>\n",
       "      <td>16.85854</td>\n",
       "      <td>10.61463</td>\n",
       "      <td>0.00051</td>\n",
       "      <td>17.23317</td>\n",
       "      <td>26.34927</td>\n",
       "      <td>29.34634</td>\n",
       "      <td>...</td>\n",
       "      <td>28.92000</td>\n",
       "      <td>0.08511</td>\n",
       "      <td>0.27523</td>\n",
       "      <td>0.11111</td>\n",
       "      <td>0.16667</td>\n",
       "      <td>12.26230</td>\n",
       "      <td>0.22271</td>\n",
       "      <td>0.38187</td>\n",
       "      <td>0.25575</td>\n",
       "      <td>0.11618</td>\n",
       "    </tr>\n",
       "    <tr>\n",
       "      <th>2</th>\n",
       "      <td>W</td>\n",
       "      <td>0.00036</td>\n",
       "      <td>9.74049</td>\n",
       "      <td>17.98244</td>\n",
       "      <td>17.48293</td>\n",
       "      <td>8.74146</td>\n",
       "      <td>0.00047</td>\n",
       "      <td>17.60780</td>\n",
       "      <td>25.47512</td>\n",
       "      <td>28.22244</td>\n",
       "      <td>...</td>\n",
       "      <td>9.58333</td>\n",
       "      <td>0.10870</td>\n",
       "      <td>0.39252</td>\n",
       "      <td>0.19101</td>\n",
       "      <td>0.12195</td>\n",
       "      <td>4.61818</td>\n",
       "      <td>0.22368</td>\n",
       "      <td>0.42693</td>\n",
       "      <td>0.28571</td>\n",
       "      <td>0.18182</td>\n",
       "    </tr>\n",
       "    <tr>\n",
       "      <th>3</th>\n",
       "      <td>W</td>\n",
       "      <td>0.00035</td>\n",
       "      <td>10.11512</td>\n",
       "      <td>17.60780</td>\n",
       "      <td>17.10829</td>\n",
       "      <td>9.61561</td>\n",
       "      <td>0.00047</td>\n",
       "      <td>17.35805</td>\n",
       "      <td>26.47415</td>\n",
       "      <td>28.72195</td>\n",
       "      <td>...</td>\n",
       "      <td>3.64000</td>\n",
       "      <td>0.14286</td>\n",
       "      <td>0.50000</td>\n",
       "      <td>0.28409</td>\n",
       "      <td>0.17241</td>\n",
       "      <td>1.90164</td>\n",
       "      <td>0.24454</td>\n",
       "      <td>0.44044</td>\n",
       "      <td>0.30214</td>\n",
       "      <td>0.15962</td>\n",
       "    </tr>\n",
       "    <tr>\n",
       "      <th>4</th>\n",
       "      <td>W</td>\n",
       "      <td>0.00033</td>\n",
       "      <td>9.74049</td>\n",
       "      <td>17.60780</td>\n",
       "      <td>17.23317</td>\n",
       "      <td>8.11707</td>\n",
       "      <td>0.00043</td>\n",
       "      <td>17.23317</td>\n",
       "      <td>25.84976</td>\n",
       "      <td>28.09756</td>\n",
       "      <td>...</td>\n",
       "      <td>7.29167</td>\n",
       "      <td>0.08511</td>\n",
       "      <td>0.43396</td>\n",
       "      <td>0.20454</td>\n",
       "      <td>0.16667</td>\n",
       "      <td>3.49123</td>\n",
       "      <td>0.22174</td>\n",
       "      <td>0.42817</td>\n",
       "      <td>0.28342</td>\n",
       "      <td>0.11336</td>\n",
       "    </tr>\n",
       "  </tbody>\n",
       "</table>\n",
       "<p>5 rows × 121 columns</p>\n",
       "</div>"
      ],
      "text/plain": [
       "  Sleep_Stage  MeanP_Alpha_F4  MedianF_Alpha_F4  MeanF_Alpha_F4  \\\n",
       "0           W         0.00051           8.74146        18.48195   \n",
       "1           W         0.00040          10.24000        17.48293   \n",
       "2           W         0.00036           9.74049        17.98244   \n",
       "3           W         0.00035          10.11512        17.60780   \n",
       "4           W         0.00033           9.74049        17.60780   \n",
       "\n",
       "   Spectral Edge_Alpha_F4  PeakF_Alpha_F4  MeanP_Beta_F4  MedianF_Beta_F4  \\\n",
       "0                17.48293         8.24195        0.00071         19.73073   \n",
       "1                16.85854        10.61463        0.00051         17.23317   \n",
       "2                17.48293         8.74146        0.00047         17.60780   \n",
       "3                17.10829         9.61561        0.00047         17.35805   \n",
       "4                17.23317         8.11707        0.00043         17.23317   \n",
       "\n",
       "   MeanF_Beta_F4  Spectral Edge_Beta_F4  ...  MeanP_DTR_O2  MedianF_DTR_O2  \\\n",
       "0       29.84585               33.84195  ...      18.56410         0.16667   \n",
       "1       26.34927               29.34634  ...      28.92000         0.08511   \n",
       "2       25.47512               28.22244  ...       9.58333         0.10870   \n",
       "3       26.47415               28.72195  ...       3.64000         0.14286   \n",
       "4       25.84976               28.09756  ...       7.29167         0.08511   \n",
       "\n",
       "   MeanF_DTR_O2  Spectral Edge_DTR_O2  PeakF_DTR_O2  MeanP_DTABR_O2  \\\n",
       "0       0.28704               0.18605       0.38889         8.67045   \n",
       "1       0.27523               0.11111       0.16667        12.26230   \n",
       "2       0.39252               0.19101       0.12195         4.61818   \n",
       "3       0.50000               0.28409       0.17241         1.90164   \n",
       "4       0.43396               0.20454       0.16667         3.49123   \n",
       "\n",
       "   MedianF_DTABR_O2  MeanF_DTABR_O2  Spectral Edge_DTABR_O2  PeakF_DTABR_O2  \n",
       "0           0.16342         0.34406                 0.23288         0.09843  \n",
       "1           0.22271         0.38187                 0.25575         0.11618  \n",
       "2           0.22368         0.42693                 0.28571         0.18182  \n",
       "3           0.24454         0.44044                 0.30214         0.15962  \n",
       "4           0.22174         0.42817                 0.28342         0.11336  \n",
       "\n",
       "[5 rows x 121 columns]"
      ]
     },
     "execution_count": 9,
     "metadata": {},
     "output_type": "execute_result"
    }
   ],
   "source": [
    "dataset.head()"
   ]
  },
  {
   "cell_type": "code",
   "execution_count": 10,
   "metadata": {
    "colab": {
     "base_uri": "https://localhost:8080/"
    },
    "id": "q-lCqYxG7WPp",
    "outputId": "f7c59397-1e70-4fb6-ef88-dfe67534184c"
   },
   "outputs": [
    {
     "data": {
      "text/plain": [
       "(108451, 121)"
      ]
     },
     "execution_count": 10,
     "metadata": {},
     "output_type": "execute_result"
    }
   ],
   "source": [
    "dataset.shape"
   ]
  },
  {
   "cell_type": "code",
   "execution_count": 11,
   "metadata": {
    "id": "B6YZC5i07gC4"
   },
   "outputs": [],
   "source": [
    "\n",
    "\n",
    "\n",
    "X=dataset.loc[:,dataset.columns != 'Sleep_Stage']\n",
    "Y=dataset['Sleep_Stage']\n"
   ]
  },
  {
   "cell_type": "code",
   "execution_count": 12,
   "metadata": {
    "colab": {
     "base_uri": "https://localhost:8080/"
    },
    "id": "XLGHou1782ac",
    "outputId": "c0b5f076-178c-4552-df22-ea33aaca9913"
   },
   "outputs": [
    {
     "name": "stdout",
     "output_type": "stream",
     "text": [
      "0          W\n",
      "1          W\n",
      "2          W\n",
      "3          W\n",
      "4          W\n",
      "          ..\n",
      "108446    N1\n",
      "108447    N1\n",
      "108448    N1\n",
      "108449     W\n",
      "108450     W\n",
      "Name: Sleep_Stage, Length: 108451, dtype: object\n"
     ]
    }
   ],
   "source": [
    "print(Y)"
   ]
  },
  {
   "cell_type": "code",
   "execution_count": 13,
   "metadata": {
    "id": "eEfUaDVS85yZ"
   },
   "outputs": [],
   "source": [
    "from sklearn.preprocessing  import StandardScaler\n",
    "\n",
    "x=StandardScaler().fit_transform(X)"
   ]
  },
  {
   "cell_type": "code",
   "execution_count": 15,
   "metadata": {
    "colab": {
     "base_uri": "https://localhost:8080/"
    },
    "id": "oWUFd2ir9ar2",
    "outputId": "3947780e-80f5-4e1d-c2fe-106a1ebfd8d9"
   },
   "outputs": [
    {
     "name": "stdout",
     "output_type": "stream",
     "text": [
      "        MeanP_Alpha_F4  MedianF_Alpha_F4  MeanF_Alpha_F4  \\\n",
      "0              0.00051           8.74146        18.48195   \n",
      "1              0.00040          10.24000        17.48293   \n",
      "2              0.00036           9.74049        17.98244   \n",
      "3              0.00035          10.11512        17.60780   \n",
      "4              0.00033           9.74049        17.60780   \n",
      "...                ...               ...             ...   \n",
      "108446         0.00031          10.11512        17.48293   \n",
      "108447         0.00042           9.99024        16.35902   \n",
      "108448         0.00040           9.86537        15.73463   \n",
      "108449         0.00051          10.11512        17.85756   \n",
      "108450         0.00128          10.61463        21.47902   \n",
      "\n",
      "        Spectral Edge_Alpha_F4  PeakF_Alpha_F4  MeanP_Beta_F4  \\\n",
      "0                     17.48293         8.24195        0.00071   \n",
      "1                     16.85854        10.61463        0.00051   \n",
      "2                     17.48293         8.74146        0.00047   \n",
      "3                     17.10829         9.61561        0.00047   \n",
      "4                     17.23317         8.11707        0.00043   \n",
      "...                        ...             ...            ...   \n",
      "108446                16.85854        10.11512        0.00039   \n",
      "108447                15.85951         9.86537        0.00044   \n",
      "108448                14.98537        10.36488        0.00037   \n",
      "108449                17.48293        11.61366        0.00075   \n",
      "108450                21.35415         8.24195        0.00304   \n",
      "\n",
      "        MedianF_Beta_F4  MeanF_Beta_F4  Spectral Edge_Beta_F4  PeakF_Beta_F4  \\\n",
      "0              19.73073       29.84585               33.84195       15.98439   \n",
      "1              17.23317       26.34927               29.34634       19.60585   \n",
      "2              17.60780       25.47512               28.22244       18.73171   \n",
      "3              17.35805       26.47415               28.72195       16.35902   \n",
      "4              17.23317       25.84976               28.09756       17.60780   \n",
      "...                 ...            ...                    ...            ...   \n",
      "108446         16.73366       24.97561               26.97366       16.60878   \n",
      "108447         15.73463       24.85073               26.47415       12.11317   \n",
      "108448         14.48585       22.72780               24.10146       11.61366   \n",
      "108449         19.73073       29.72098               32.96780       22.85268   \n",
      "108450         23.22732       33.21756               38.08780       21.47902   \n",
      "\n",
      "        ...  MeanP_DTR_O2  MedianF_DTR_O2  MeanF_DTR_O2  Spectral Edge_DTR_O2  \\\n",
      "0       ...      18.56410         0.16667       0.28704               0.18605   \n",
      "1       ...      28.92000         0.08511       0.27523               0.11111   \n",
      "2       ...       9.58333         0.10870       0.39252               0.19101   \n",
      "3       ...       3.64000         0.14286       0.50000               0.28409   \n",
      "4       ...       7.29167         0.08511       0.43396               0.20454   \n",
      "...     ...           ...             ...           ...                   ...   \n",
      "108446  ...       2.72973         0.19149       0.54902               0.35294   \n",
      "108447  ...       8.19231         0.19565       0.42857               0.21176   \n",
      "108448  ...       2.36735         0.14286       0.60825               0.38095   \n",
      "108449  ...       8.46667         0.14894       0.43000               0.18824   \n",
      "108450  ...      12.78974         0.18919       0.34286               0.21795   \n",
      "\n",
      "        PeakF_DTR_O2  MeanP_DTABR_O2  MedianF_DTABR_O2  MeanF_DTABR_O2  \\\n",
      "0            0.38889         8.67045           0.16342         0.34406   \n",
      "1            0.16667        12.26230           0.22271         0.38187   \n",
      "2            0.12195         4.61818           0.22368         0.42693   \n",
      "3            0.17241         1.90164           0.24454         0.44044   \n",
      "4            0.16667         3.49123           0.22174         0.42817   \n",
      "...              ...             ...               ...             ...   \n",
      "108446       0.10811         1.97143           0.26047         0.46471   \n",
      "108447       0.20000         5.55814           0.26699         0.42424   \n",
      "108448       0.13636         2.14286           0.28718         0.50649   \n",
      "108449       0.21053         4.50794           0.22594         0.37533   \n",
      "108450       0.17391         6.22454           0.16236         0.32192   \n",
      "\n",
      "        Spectral Edge_DTABR_O2  PeakF_DTABR_O2  \n",
      "0                      0.23288         0.09843  \n",
      "1                      0.25575         0.11618  \n",
      "2                      0.28571         0.18182  \n",
      "3                      0.30214         0.15962  \n",
      "4                      0.28342         0.11336  \n",
      "...                        ...             ...  \n",
      "108446                 0.32764         0.19159  \n",
      "108447                 0.30383         0.34091  \n",
      "108448                 0.37061         0.28409  \n",
      "108449                 0.25000         0.16667  \n",
      "108450                 0.19958         0.11345  \n",
      "\n",
      "[108451 rows x 120 columns]\n"
     ]
    }
   ],
   "source": [
    "print(X)"
   ]
  },
  {
   "cell_type": "code",
   "execution_count": 17,
   "metadata": {
    "id": "Z2WyW6rQ9dF-"
   },
   "outputs": [],
   "source": [
    "from sklearn.model_selection import train_test_split \n",
    "\n",
    "X_train,X_test,Y_train,Y_test = train_test_split(X,Y, test_size=0.2, random_state=0)"
   ]
  },
  {
   "cell_type": "code",
   "execution_count": 18,
   "metadata": {
    "id": "nOEO0H3U-ZJl"
   },
   "outputs": [
    {
     "name": "stdout",
     "output_type": "stream",
     "text": [
      "Estimator:  1 __Accuracy:  0.36379143423539717\n"
     ]
    },
    {
     "ename": "KeyboardInterrupt",
     "evalue": "",
     "output_type": "error",
     "traceback": [
      "\u001b[1;31m---------------------------------------------------------------------------\u001b[0m",
      "\u001b[1;31mKeyboardInterrupt\u001b[0m                         Traceback (most recent call last)",
      "\u001b[1;32m~\\AppData\\Local\\Temp\\ipykernel_7712\\1657534839.py\u001b[0m in \u001b[0;36m<module>\u001b[1;34m\u001b[0m\n\u001b[0;32m      9\u001b[0m     \u001b[0mclf\u001b[0m \u001b[1;33m=\u001b[0m \u001b[0mGradientBoostingClassifier\u001b[0m\u001b[1;33m(\u001b[0m\u001b[0mn_estimators\u001b[0m \u001b[1;33m=\u001b[0m \u001b[0mi\u001b[0m\u001b[1;33m)\u001b[0m\u001b[1;33m\u001b[0m\u001b[1;33m\u001b[0m\u001b[0m\n\u001b[0;32m     10\u001b[0m \u001b[1;33m\u001b[0m\u001b[0m\n\u001b[1;32m---> 11\u001b[1;33m     \u001b[0mclf\u001b[0m\u001b[1;33m.\u001b[0m\u001b[0mfit\u001b[0m\u001b[1;33m(\u001b[0m\u001b[0mX_train\u001b[0m\u001b[1;33m,\u001b[0m\u001b[0mY_train\u001b[0m\u001b[1;33m)\u001b[0m\u001b[1;33m\u001b[0m\u001b[1;33m\u001b[0m\u001b[0m\n\u001b[0m\u001b[0;32m     12\u001b[0m \u001b[1;33m\u001b[0m\u001b[0m\n\u001b[0;32m     13\u001b[0m     \u001b[0my_pred\u001b[0m \u001b[1;33m=\u001b[0m \u001b[0mclf\u001b[0m\u001b[1;33m.\u001b[0m\u001b[0mpredict\u001b[0m\u001b[1;33m(\u001b[0m\u001b[0mX_test\u001b[0m\u001b[1;33m)\u001b[0m\u001b[1;33m\u001b[0m\u001b[1;33m\u001b[0m\u001b[0m\n",
      "\u001b[1;32mD:\\Github\\lib\\site-packages\\sklearn\\ensemble\\_gb.py\u001b[0m in \u001b[0;36mfit\u001b[1;34m(self, X, y, sample_weight, monitor)\u001b[0m\n\u001b[0;32m    584\u001b[0m \u001b[1;33m\u001b[0m\u001b[0m\n\u001b[0;32m    585\u001b[0m         \u001b[1;31m# fit the boosting stages\u001b[0m\u001b[1;33m\u001b[0m\u001b[1;33m\u001b[0m\u001b[0m\n\u001b[1;32m--> 586\u001b[1;33m         n_stages = self._fit_stages(\n\u001b[0m\u001b[0;32m    587\u001b[0m             \u001b[0mX\u001b[0m\u001b[1;33m,\u001b[0m\u001b[1;33m\u001b[0m\u001b[1;33m\u001b[0m\u001b[0m\n\u001b[0;32m    588\u001b[0m             \u001b[0my\u001b[0m\u001b[1;33m,\u001b[0m\u001b[1;33m\u001b[0m\u001b[1;33m\u001b[0m\u001b[0m\n",
      "\u001b[1;32mD:\\Github\\lib\\site-packages\\sklearn\\ensemble\\_gb.py\u001b[0m in \u001b[0;36m_fit_stages\u001b[1;34m(self, X, y, raw_predictions, sample_weight, random_state, X_val, y_val, sample_weight_val, begin_at_stage, monitor)\u001b[0m\n\u001b[0;32m    661\u001b[0m \u001b[1;33m\u001b[0m\u001b[0m\n\u001b[0;32m    662\u001b[0m             \u001b[1;31m# fit next stage of trees\u001b[0m\u001b[1;33m\u001b[0m\u001b[1;33m\u001b[0m\u001b[0m\n\u001b[1;32m--> 663\u001b[1;33m             raw_predictions = self._fit_stage(\n\u001b[0m\u001b[0;32m    664\u001b[0m                 \u001b[0mi\u001b[0m\u001b[1;33m,\u001b[0m\u001b[1;33m\u001b[0m\u001b[1;33m\u001b[0m\u001b[0m\n\u001b[0;32m    665\u001b[0m                 \u001b[0mX\u001b[0m\u001b[1;33m,\u001b[0m\u001b[1;33m\u001b[0m\u001b[1;33m\u001b[0m\u001b[0m\n",
      "\u001b[1;32mD:\\Github\\lib\\site-packages\\sklearn\\ensemble\\_gb.py\u001b[0m in \u001b[0;36m_fit_stage\u001b[1;34m(self, i, X, y, raw_predictions, sample_weight, sample_mask, random_state, X_csc, X_csr)\u001b[0m\n\u001b[0;32m    244\u001b[0m \u001b[1;33m\u001b[0m\u001b[0m\n\u001b[0;32m    245\u001b[0m             \u001b[0mX\u001b[0m \u001b[1;33m=\u001b[0m \u001b[0mX_csr\u001b[0m \u001b[1;32mif\u001b[0m \u001b[0mX_csr\u001b[0m \u001b[1;32mis\u001b[0m \u001b[1;32mnot\u001b[0m \u001b[1;32mNone\u001b[0m \u001b[1;32melse\u001b[0m \u001b[0mX\u001b[0m\u001b[1;33m\u001b[0m\u001b[1;33m\u001b[0m\u001b[0m\n\u001b[1;32m--> 246\u001b[1;33m             \u001b[0mtree\u001b[0m\u001b[1;33m.\u001b[0m\u001b[0mfit\u001b[0m\u001b[1;33m(\u001b[0m\u001b[0mX\u001b[0m\u001b[1;33m,\u001b[0m \u001b[0mresidual\u001b[0m\u001b[1;33m,\u001b[0m \u001b[0msample_weight\u001b[0m\u001b[1;33m=\u001b[0m\u001b[0msample_weight\u001b[0m\u001b[1;33m,\u001b[0m \u001b[0mcheck_input\u001b[0m\u001b[1;33m=\u001b[0m\u001b[1;32mFalse\u001b[0m\u001b[1;33m)\u001b[0m\u001b[1;33m\u001b[0m\u001b[1;33m\u001b[0m\u001b[0m\n\u001b[0m\u001b[0;32m    247\u001b[0m \u001b[1;33m\u001b[0m\u001b[0m\n\u001b[0;32m    248\u001b[0m             \u001b[1;31m# update tree leaves\u001b[0m\u001b[1;33m\u001b[0m\u001b[1;33m\u001b[0m\u001b[0m\n",
      "\u001b[1;32mD:\\Github\\lib\\site-packages\\sklearn\\tree\\_classes.py\u001b[0m in \u001b[0;36mfit\u001b[1;34m(self, X, y, sample_weight, check_input, X_idx_sorted)\u001b[0m\n\u001b[0;32m   1313\u001b[0m         \"\"\"\n\u001b[0;32m   1314\u001b[0m \u001b[1;33m\u001b[0m\u001b[0m\n\u001b[1;32m-> 1315\u001b[1;33m         super().fit(\n\u001b[0m\u001b[0;32m   1316\u001b[0m             \u001b[0mX\u001b[0m\u001b[1;33m,\u001b[0m\u001b[1;33m\u001b[0m\u001b[1;33m\u001b[0m\u001b[0m\n\u001b[0;32m   1317\u001b[0m             \u001b[0my\u001b[0m\u001b[1;33m,\u001b[0m\u001b[1;33m\u001b[0m\u001b[1;33m\u001b[0m\u001b[0m\n",
      "\u001b[1;32mD:\\Github\\lib\\site-packages\\sklearn\\tree\\_classes.py\u001b[0m in \u001b[0;36mfit\u001b[1;34m(self, X, y, sample_weight, check_input, X_idx_sorted)\u001b[0m\n\u001b[0;32m    418\u001b[0m             )\n\u001b[0;32m    419\u001b[0m \u001b[1;33m\u001b[0m\u001b[0m\n\u001b[1;32m--> 420\u001b[1;33m         \u001b[0mbuilder\u001b[0m\u001b[1;33m.\u001b[0m\u001b[0mbuild\u001b[0m\u001b[1;33m(\u001b[0m\u001b[0mself\u001b[0m\u001b[1;33m.\u001b[0m\u001b[0mtree_\u001b[0m\u001b[1;33m,\u001b[0m \u001b[0mX\u001b[0m\u001b[1;33m,\u001b[0m \u001b[0my\u001b[0m\u001b[1;33m,\u001b[0m \u001b[0msample_weight\u001b[0m\u001b[1;33m)\u001b[0m\u001b[1;33m\u001b[0m\u001b[1;33m\u001b[0m\u001b[0m\n\u001b[0m\u001b[0;32m    421\u001b[0m \u001b[1;33m\u001b[0m\u001b[0m\n\u001b[0;32m    422\u001b[0m         \u001b[1;32mif\u001b[0m \u001b[0mself\u001b[0m\u001b[1;33m.\u001b[0m\u001b[0mn_outputs_\u001b[0m \u001b[1;33m==\u001b[0m \u001b[1;36m1\u001b[0m \u001b[1;32mand\u001b[0m \u001b[0mis_classifier\u001b[0m\u001b[1;33m(\u001b[0m\u001b[0mself\u001b[0m\u001b[1;33m)\u001b[0m\u001b[1;33m:\u001b[0m\u001b[1;33m\u001b[0m\u001b[1;33m\u001b[0m\u001b[0m\n",
      "\u001b[1;31mKeyboardInterrupt\u001b[0m: "
     ]
    }
   ],
   "source": [
    "# Training\n",
    "\n",
    "from sklearn.ensemble import GradientBoostingClassifier\n",
    "from sklearn.metrics import accuracy_score\n",
    "\n",
    "\n",
    "for i in range(1,201):\n",
    "\n",
    "    clf = GradientBoostingClassifier(n_estimators = i)\n",
    "\n",
    "    clf.fit(X_train,Y_train)\n",
    "\n",
    "    y_pred = clf.predict(X_test)\n",
    "\n",
    "    print('Estimator: ',i,'__Accuracy: ',accuracy_score(Y_test,y_pred)) # model prediction"
   ]
  },
  {
   "cell_type": "code",
   "execution_count": 19,
   "metadata": {
    "colab": {
     "base_uri": "https://localhost:8080/",
     "height": 397
    },
    "id": "Jj8tq0RjBOwp",
    "outputId": "298d25c4-b6f1-4037-e090-043ffe86804f"
   },
   "outputs": [
    {
     "name": "stdout",
     "output_type": "stream",
     "text": [
      "Max Depth:  1 __Accuracy:  0.6651145636439076\n"
     ]
    },
    {
     "ename": "KeyboardInterrupt",
     "evalue": "",
     "output_type": "error",
     "traceback": [
      "\u001b[1;31m---------------------------------------------------------------------------\u001b[0m",
      "\u001b[1;31mKeyboardInterrupt\u001b[0m                         Traceback (most recent call last)",
      "\u001b[1;32m~\\AppData\\Local\\Temp\\ipykernel_7712\\3885907044.py\u001b[0m in \u001b[0;36m<module>\u001b[1;34m\u001b[0m\n\u001b[0;32m      3\u001b[0m     \u001b[0mclf\u001b[0m \u001b[1;33m=\u001b[0m \u001b[0mGradientBoostingClassifier\u001b[0m\u001b[1;33m(\u001b[0m\u001b[0mmax_depth\u001b[0m \u001b[1;33m=\u001b[0m \u001b[0mi\u001b[0m\u001b[1;33m)\u001b[0m\u001b[1;33m\u001b[0m\u001b[1;33m\u001b[0m\u001b[0m\n\u001b[0;32m      4\u001b[0m \u001b[1;33m\u001b[0m\u001b[0m\n\u001b[1;32m----> 5\u001b[1;33m     \u001b[0mclf\u001b[0m\u001b[1;33m.\u001b[0m\u001b[0mfit\u001b[0m\u001b[1;33m(\u001b[0m\u001b[0mX_train\u001b[0m\u001b[1;33m,\u001b[0m\u001b[0mY_train\u001b[0m\u001b[1;33m)\u001b[0m\u001b[1;33m\u001b[0m\u001b[1;33m\u001b[0m\u001b[0m\n\u001b[0m\u001b[0;32m      6\u001b[0m \u001b[1;33m\u001b[0m\u001b[0m\n\u001b[0;32m      7\u001b[0m     \u001b[0my_pred\u001b[0m \u001b[1;33m=\u001b[0m \u001b[0mclf\u001b[0m\u001b[1;33m.\u001b[0m\u001b[0mpredict\u001b[0m\u001b[1;33m(\u001b[0m\u001b[0mX_test\u001b[0m\u001b[1;33m)\u001b[0m\u001b[1;33m\u001b[0m\u001b[1;33m\u001b[0m\u001b[0m\n",
      "\u001b[1;32mD:\\Github\\lib\\site-packages\\sklearn\\ensemble\\_gb.py\u001b[0m in \u001b[0;36mfit\u001b[1;34m(self, X, y, sample_weight, monitor)\u001b[0m\n\u001b[0;32m    584\u001b[0m \u001b[1;33m\u001b[0m\u001b[0m\n\u001b[0;32m    585\u001b[0m         \u001b[1;31m# fit the boosting stages\u001b[0m\u001b[1;33m\u001b[0m\u001b[1;33m\u001b[0m\u001b[0m\n\u001b[1;32m--> 586\u001b[1;33m         n_stages = self._fit_stages(\n\u001b[0m\u001b[0;32m    587\u001b[0m             \u001b[0mX\u001b[0m\u001b[1;33m,\u001b[0m\u001b[1;33m\u001b[0m\u001b[1;33m\u001b[0m\u001b[0m\n\u001b[0;32m    588\u001b[0m             \u001b[0my\u001b[0m\u001b[1;33m,\u001b[0m\u001b[1;33m\u001b[0m\u001b[1;33m\u001b[0m\u001b[0m\n",
      "\u001b[1;32mD:\\Github\\lib\\site-packages\\sklearn\\ensemble\\_gb.py\u001b[0m in \u001b[0;36m_fit_stages\u001b[1;34m(self, X, y, raw_predictions, sample_weight, random_state, X_val, y_val, sample_weight_val, begin_at_stage, monitor)\u001b[0m\n\u001b[0;32m    661\u001b[0m \u001b[1;33m\u001b[0m\u001b[0m\n\u001b[0;32m    662\u001b[0m             \u001b[1;31m# fit next stage of trees\u001b[0m\u001b[1;33m\u001b[0m\u001b[1;33m\u001b[0m\u001b[0m\n\u001b[1;32m--> 663\u001b[1;33m             raw_predictions = self._fit_stage(\n\u001b[0m\u001b[0;32m    664\u001b[0m                 \u001b[0mi\u001b[0m\u001b[1;33m,\u001b[0m\u001b[1;33m\u001b[0m\u001b[1;33m\u001b[0m\u001b[0m\n\u001b[0;32m    665\u001b[0m                 \u001b[0mX\u001b[0m\u001b[1;33m,\u001b[0m\u001b[1;33m\u001b[0m\u001b[1;33m\u001b[0m\u001b[0m\n",
      "\u001b[1;32mD:\\Github\\lib\\site-packages\\sklearn\\ensemble\\_gb.py\u001b[0m in \u001b[0;36m_fit_stage\u001b[1;34m(self, i, X, y, raw_predictions, sample_weight, sample_mask, random_state, X_csc, X_csr)\u001b[0m\n\u001b[0;32m    244\u001b[0m \u001b[1;33m\u001b[0m\u001b[0m\n\u001b[0;32m    245\u001b[0m             \u001b[0mX\u001b[0m \u001b[1;33m=\u001b[0m \u001b[0mX_csr\u001b[0m \u001b[1;32mif\u001b[0m \u001b[0mX_csr\u001b[0m \u001b[1;32mis\u001b[0m \u001b[1;32mnot\u001b[0m \u001b[1;32mNone\u001b[0m \u001b[1;32melse\u001b[0m \u001b[0mX\u001b[0m\u001b[1;33m\u001b[0m\u001b[1;33m\u001b[0m\u001b[0m\n\u001b[1;32m--> 246\u001b[1;33m             \u001b[0mtree\u001b[0m\u001b[1;33m.\u001b[0m\u001b[0mfit\u001b[0m\u001b[1;33m(\u001b[0m\u001b[0mX\u001b[0m\u001b[1;33m,\u001b[0m \u001b[0mresidual\u001b[0m\u001b[1;33m,\u001b[0m \u001b[0msample_weight\u001b[0m\u001b[1;33m=\u001b[0m\u001b[0msample_weight\u001b[0m\u001b[1;33m,\u001b[0m \u001b[0mcheck_input\u001b[0m\u001b[1;33m=\u001b[0m\u001b[1;32mFalse\u001b[0m\u001b[1;33m)\u001b[0m\u001b[1;33m\u001b[0m\u001b[1;33m\u001b[0m\u001b[0m\n\u001b[0m\u001b[0;32m    247\u001b[0m \u001b[1;33m\u001b[0m\u001b[0m\n\u001b[0;32m    248\u001b[0m             \u001b[1;31m# update tree leaves\u001b[0m\u001b[1;33m\u001b[0m\u001b[1;33m\u001b[0m\u001b[0m\n",
      "\u001b[1;32mD:\\Github\\lib\\site-packages\\sklearn\\tree\\_classes.py\u001b[0m in \u001b[0;36mfit\u001b[1;34m(self, X, y, sample_weight, check_input, X_idx_sorted)\u001b[0m\n\u001b[0;32m   1313\u001b[0m         \"\"\"\n\u001b[0;32m   1314\u001b[0m \u001b[1;33m\u001b[0m\u001b[0m\n\u001b[1;32m-> 1315\u001b[1;33m         super().fit(\n\u001b[0m\u001b[0;32m   1316\u001b[0m             \u001b[0mX\u001b[0m\u001b[1;33m,\u001b[0m\u001b[1;33m\u001b[0m\u001b[1;33m\u001b[0m\u001b[0m\n\u001b[0;32m   1317\u001b[0m             \u001b[0my\u001b[0m\u001b[1;33m,\u001b[0m\u001b[1;33m\u001b[0m\u001b[1;33m\u001b[0m\u001b[0m\n",
      "\u001b[1;32mD:\\Github\\lib\\site-packages\\sklearn\\tree\\_classes.py\u001b[0m in \u001b[0;36mfit\u001b[1;34m(self, X, y, sample_weight, check_input, X_idx_sorted)\u001b[0m\n\u001b[0;32m    418\u001b[0m             )\n\u001b[0;32m    419\u001b[0m \u001b[1;33m\u001b[0m\u001b[0m\n\u001b[1;32m--> 420\u001b[1;33m         \u001b[0mbuilder\u001b[0m\u001b[1;33m.\u001b[0m\u001b[0mbuild\u001b[0m\u001b[1;33m(\u001b[0m\u001b[0mself\u001b[0m\u001b[1;33m.\u001b[0m\u001b[0mtree_\u001b[0m\u001b[1;33m,\u001b[0m \u001b[0mX\u001b[0m\u001b[1;33m,\u001b[0m \u001b[0my\u001b[0m\u001b[1;33m,\u001b[0m \u001b[0msample_weight\u001b[0m\u001b[1;33m)\u001b[0m\u001b[1;33m\u001b[0m\u001b[1;33m\u001b[0m\u001b[0m\n\u001b[0m\u001b[0;32m    421\u001b[0m \u001b[1;33m\u001b[0m\u001b[0m\n\u001b[0;32m    422\u001b[0m         \u001b[1;32mif\u001b[0m \u001b[0mself\u001b[0m\u001b[1;33m.\u001b[0m\u001b[0mn_outputs_\u001b[0m \u001b[1;33m==\u001b[0m \u001b[1;36m1\u001b[0m \u001b[1;32mand\u001b[0m \u001b[0mis_classifier\u001b[0m\u001b[1;33m(\u001b[0m\u001b[0mself\u001b[0m\u001b[1;33m)\u001b[0m\u001b[1;33m:\u001b[0m\u001b[1;33m\u001b[0m\u001b[1;33m\u001b[0m\u001b[0m\n",
      "\u001b[1;31mKeyboardInterrupt\u001b[0m: "
     ]
    }
   ],
   "source": [
    "\n",
    "for i in range(1,201):\n",
    "\n",
    "    clf = GradientBoostingClassifier(max_depth = i)\n",
    "\n",
    "    clf.fit(X_train,Y_train)\n",
    "\n",
    "    y_pred = clf.predict(X_test)\n",
    "\n",
    "    print('Max Depth: ',i,'__Accuracy: ',accuracy_score(Y_test,y_pred)) # model prediction"
   ]
  },
  {
   "cell_type": "code",
   "execution_count": 20,
   "metadata": {
    "colab": {
     "base_uri": "https://localhost:8080/"
    },
    "id": "G12keFORBRbD",
    "outputId": "ebe2db23-fde7-4959-90b2-d00295d941c8"
   },
   "outputs": [
    {
     "name": "stdout",
     "output_type": "stream",
     "text": [
      "0.6651145636439076\n"
     ]
    }
   ],
   "source": [
    "print(accuracy_score(Y_test,y_pred)) # model prediction"
   ]
  },
  {
   "cell_type": "code",
   "execution_count": 21,
   "metadata": {
    "id": "ofBzxq_kFESZ"
   },
   "outputs": [
    {
     "name": "stdout",
     "output_type": "stream",
     "text": [
      "[[ 363  830   59  439  677]\n",
      " [ 118 6258  861  377  277]\n",
      " [   4 1280 2932    7   31]\n",
      " [ 142 1199  102 1784  147]\n",
      " [ 183  358   73  100 3090]]\n",
      "              precision    recall  f1-score   support\n",
      "\n",
      "          N1       0.45      0.15      0.23      2368\n",
      "          N2       0.63      0.79      0.70      7891\n",
      "          N3       0.73      0.69      0.71      4254\n",
      "           R       0.66      0.53      0.59      3374\n",
      "           W       0.73      0.81      0.77      3804\n",
      "\n",
      "    accuracy                           0.67     21691\n",
      "   macro avg       0.64      0.60      0.60     21691\n",
      "weighted avg       0.65      0.67      0.65     21691\n",
      "\n"
     ]
    }
   ],
   "source": [
    "# Accuracy Mactrics\n",
    "\n",
    "from sklearn.metrics import confusion_matrix, classification_report\n",
    "\n",
    "print(confusion_matrix(Y_test, y_pred))\n",
    "print(classification_report(Y_test, y_pred))"
   ]
  },
  {
   "cell_type": "code",
   "execution_count": null,
   "metadata": {},
   "outputs": [],
   "source": []
  }
 ],
 "metadata": {
  "colab": {
   "include_colab_link": true,
   "machine_shape": "hm",
   "provenance": []
  },
  "gpuClass": "premium",
  "kernelspec": {
   "display_name": "Python 3 (ipykernel)",
   "language": "python",
   "name": "python3"
  },
  "language_info": {
   "codemirror_mode": {
    "name": "ipython",
    "version": 3
   },
   "file_extension": ".py",
   "mimetype": "text/x-python",
   "name": "python",
   "nbconvert_exporter": "python",
   "pygments_lexer": "ipython3",
   "version": "3.9.13"
  },
  "vscode": {
   "interpreter": {
    "hash": "e1428098f969ba8040c19d38af9b766c5f6dee252cc443f30dd0882cf99d5592"
   }
  }
 },
 "nbformat": 4,
 "nbformat_minor": 1
}
