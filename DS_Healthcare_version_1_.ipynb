{
  "cells": [
    {
      "cell_type": "markdown",
      "metadata": {
        "id": "view-in-github",
        "colab_type": "text"
      },
      "source": [
        "<a href=\"https://colab.research.google.com/github/Ahtesham-Ibne-Mostafa/Machine_Etymology/blob/main/DS_Healthcare_version_1_.ipynb\" target=\"_parent\"><img src=\"https://colab.research.google.com/assets/colab-badge.svg\" alt=\"Open In Colab\"/></a>"
      ]
    },
    {
      "cell_type": "code",
      "execution_count": null,
      "metadata": {
        "id": "bx4_EcpnY3Vc"
      },
      "outputs": [],
      "source": [
        "import pandas as pd\n",
        "import numpy as np"
      ]
    },
    {
      "cell_type": "code",
      "execution_count": null,
      "metadata": {
        "id": "OYyHLRlkZENE"
      },
      "outputs": [],
      "source": [
        "data= pd.read_excel('DS-Healthcare_version_2.xlsx')"
      ]
    },
    {
      "cell_type": "code",
      "execution_count": null,
      "metadata": {
        "id": "F9jV9MhwZxpe"
      },
      "outputs": [],
      "source": [
        "target = 'Type'"
      ]
    },
    {
      "cell_type": "code",
      "execution_count": null,
      "metadata": {
        "colab": {
          "base_uri": "https://localhost:8080/",
          "height": 206
        },
        "id": "sJ0A1jcRZGj3",
        "outputId": "e40a84a2-6877-4e8b-b206-501af367d2b4"
      },
      "outputs": [
        {
          "data": {
            "text/html": [
              "<div>\n",
              "<style scoped>\n",
              "    .dataframe tbody tr th:only-of-type {\n",
              "        vertical-align: middle;\n",
              "    }\n",
              "\n",
              "    .dataframe tbody tr th {\n",
              "        vertical-align: top;\n",
              "    }\n",
              "\n",
              "    .dataframe thead th {\n",
              "        text-align: right;\n",
              "    }\n",
              "</style>\n",
              "<table border=\"1\" class=\"dataframe\">\n",
              "  <thead>\n",
              "    <tr style=\"text-align: right;\">\n",
              "      <th></th>\n",
              "      <th>Subject</th>\n",
              "      <th>Cycle</th>\n",
              "      <th>Time</th>\n",
              "      <th>RR-I</th>\n",
              "      <th>HR</th>\n",
              "      <th>R-H</th>\n",
              "      <th>P-H</th>\n",
              "      <th>QRS</th>\n",
              "      <th>PRQ</th>\n",
              "      <th>QT</th>\n",
              "      <th>QTC</th>\n",
              "      <th>ST</th>\n",
              "    </tr>\n",
              "  </thead>\n",
              "  <tbody>\n",
              "    <tr>\n",
              "      <th>0</th>\n",
              "      <td>E1</td>\n",
              "      <td>1</td>\n",
              "      <td>1.072000</td>\n",
              "      <td>0.932000</td>\n",
              "      <td>64.377682</td>\n",
              "      <td>3.305</td>\n",
              "      <td>3.810</td>\n",
              "      <td>0.088000</td>\n",
              "      <td>0.160000</td>\n",
              "      <td>0.384000</td>\n",
              "      <td>0.397762</td>\n",
              "      <td>0.296000</td>\n",
              "    </tr>\n",
              "    <tr>\n",
              "      <th>1</th>\n",
              "      <td>E1</td>\n",
              "      <td>2</td>\n",
              "      <td>2.004000</td>\n",
              "      <td>1.004000</td>\n",
              "      <td>59.760956</td>\n",
              "      <td>3.285</td>\n",
              "      <td>3.810</td>\n",
              "      <td>0.100000</td>\n",
              "      <td>0.160000</td>\n",
              "      <td>0.640000</td>\n",
              "      <td>0.638724</td>\n",
              "      <td>0.540000</td>\n",
              "    </tr>\n",
              "    <tr>\n",
              "      <th>2</th>\n",
              "      <td>E1</td>\n",
              "      <td>3</td>\n",
              "      <td>3.008000</td>\n",
              "      <td>0.996000</td>\n",
              "      <td>60.240964</td>\n",
              "      <td>3.340</td>\n",
              "      <td>3.830</td>\n",
              "      <td>0.128000</td>\n",
              "      <td>0.148000</td>\n",
              "      <td>0.628000</td>\n",
              "      <td>0.629260</td>\n",
              "      <td>0.500000</td>\n",
              "    </tr>\n",
              "    <tr>\n",
              "      <th>3</th>\n",
              "      <td>E1</td>\n",
              "      <td>4</td>\n",
              "      <td>4.004000</td>\n",
              "      <td>1.016000</td>\n",
              "      <td>59.055118</td>\n",
              "      <td>3.325</td>\n",
              "      <td>3.810</td>\n",
              "      <td>0.108000</td>\n",
              "      <td>0.172000</td>\n",
              "      <td>0.388000</td>\n",
              "      <td>0.384933</td>\n",
              "      <td>0.280000</td>\n",
              "    </tr>\n",
              "    <tr>\n",
              "      <th>4</th>\n",
              "      <td>E1</td>\n",
              "      <td>5</td>\n",
              "      <td>5.020000</td>\n",
              "      <td>0.972000</td>\n",
              "      <td>61.728395</td>\n",
              "      <td>3.290</td>\n",
              "      <td>3.765</td>\n",
              "      <td>0.100000</td>\n",
              "      <td>0.160000</td>\n",
              "      <td>0.372000</td>\n",
              "      <td>0.377320</td>\n",
              "      <td>0.272000</td>\n",
              "    </tr>\n",
              "    <tr>\n",
              "      <th>...</th>\n",
              "      <td>...</td>\n",
              "      <td>...</td>\n",
              "      <td>...</td>\n",
              "      <td>...</td>\n",
              "      <td>...</td>\n",
              "      <td>...</td>\n",
              "      <td>...</td>\n",
              "      <td>...</td>\n",
              "      <td>...</td>\n",
              "      <td>...</td>\n",
              "      <td>...</td>\n",
              "      <td>...</td>\n",
              "    </tr>\n",
              "    <tr>\n",
              "      <th>888811</th>\n",
              "      <td>M28</td>\n",
              "      <td>738</td>\n",
              "      <td>481.522222</td>\n",
              "      <td>0.638889</td>\n",
              "      <td>93.913043</td>\n",
              "      <td>0.680</td>\n",
              "      <td>-0.315</td>\n",
              "      <td>0.063889</td>\n",
              "      <td>0.158333</td>\n",
              "      <td>0.402778</td>\n",
              "      <td>0.503910</td>\n",
              "      <td>0.350000</td>\n",
              "    </tr>\n",
              "    <tr>\n",
              "      <th>888812</th>\n",
              "      <td>M28</td>\n",
              "      <td>739</td>\n",
              "      <td>482.161111</td>\n",
              "      <td>0.652778</td>\n",
              "      <td>91.914894</td>\n",
              "      <td>0.660</td>\n",
              "      <td>-0.335</td>\n",
              "      <td>0.066667</td>\n",
              "      <td>0.163889</td>\n",
              "      <td>0.411111</td>\n",
              "      <td>0.508834</td>\n",
              "      <td>0.355556</td>\n",
              "    </tr>\n",
              "    <tr>\n",
              "      <th>888813</th>\n",
              "      <td>M28</td>\n",
              "      <td>740</td>\n",
              "      <td>482.813889</td>\n",
              "      <td>0.675000</td>\n",
              "      <td>88.888889</td>\n",
              "      <td>0.605</td>\n",
              "      <td>-0.345</td>\n",
              "      <td>0.066667</td>\n",
              "      <td>0.172222</td>\n",
              "      <td>0.413889</td>\n",
              "      <td>0.503770</td>\n",
              "      <td>0.358333</td>\n",
              "    </tr>\n",
              "    <tr>\n",
              "      <th>888814</th>\n",
              "      <td>M28</td>\n",
              "      <td>741</td>\n",
              "      <td>483.488889</td>\n",
              "      <td>0.647222</td>\n",
              "      <td>92.703863</td>\n",
              "      <td>0.795</td>\n",
              "      <td>-0.335</td>\n",
              "      <td>0.055556</td>\n",
              "      <td>0.161111</td>\n",
              "      <td>0.397222</td>\n",
              "      <td>0.493750</td>\n",
              "      <td>0.341667</td>\n",
              "    </tr>\n",
              "    <tr>\n",
              "      <th>888815</th>\n",
              "      <td>M28</td>\n",
              "      <td>742</td>\n",
              "      <td>484.136111</td>\n",
              "      <td>0.647222</td>\n",
              "      <td>92.703863</td>\n",
              "      <td>0.825</td>\n",
              "      <td>-0.330</td>\n",
              "      <td>0.069444</td>\n",
              "      <td>0.152778</td>\n",
              "      <td>0.400000</td>\n",
              "      <td>0.497202</td>\n",
              "      <td>0.344444</td>\n",
              "    </tr>\n",
              "  </tbody>\n",
              "</table>\n",
              "<p>888816 rows × 12 columns</p>\n",
              "</div>"
            ],
            "text/plain": [
              "       Subject  Cycle        Time      RR-I         HR    R-H    P-H  \\\n",
              "0           E1      1    1.072000  0.932000  64.377682  3.305  3.810   \n",
              "1           E1      2    2.004000  1.004000  59.760956  3.285  3.810   \n",
              "2           E1      3    3.008000  0.996000  60.240964  3.340  3.830   \n",
              "3           E1      4    4.004000  1.016000  59.055118  3.325  3.810   \n",
              "4           E1      5    5.020000  0.972000  61.728395  3.290  3.765   \n",
              "...        ...    ...         ...       ...        ...    ...    ...   \n",
              "888811     M28    738  481.522222  0.638889  93.913043  0.680 -0.315   \n",
              "888812     M28    739  482.161111  0.652778  91.914894  0.660 -0.335   \n",
              "888813     M28    740  482.813889  0.675000  88.888889  0.605 -0.345   \n",
              "888814     M28    741  483.488889  0.647222  92.703863  0.795 -0.335   \n",
              "888815     M28    742  484.136111  0.647222  92.703863  0.825 -0.330   \n",
              "\n",
              "             QRS       PRQ        QT       QTC        ST  \n",
              "0       0.088000  0.160000  0.384000  0.397762  0.296000  \n",
              "1       0.100000  0.160000  0.640000  0.638724  0.540000  \n",
              "2       0.128000  0.148000  0.628000  0.629260  0.500000  \n",
              "3       0.108000  0.172000  0.388000  0.384933  0.280000  \n",
              "4       0.100000  0.160000  0.372000  0.377320  0.272000  \n",
              "...          ...       ...       ...       ...       ...  \n",
              "888811  0.063889  0.158333  0.402778  0.503910  0.350000  \n",
              "888812  0.066667  0.163889  0.411111  0.508834  0.355556  \n",
              "888813  0.066667  0.172222  0.413889  0.503770  0.358333  \n",
              "888814  0.055556  0.161111  0.397222  0.493750  0.341667  \n",
              "888815  0.069444  0.152778  0.400000  0.497202  0.344444  \n",
              "\n",
              "[888816 rows x 12 columns]"
            ]
          },
          "execution_count": 6,
          "metadata": {},
          "output_type": "execute_result"
        }
      ],
      "source": [
        "X= data.loc[:,data.columns != target]\n",
        "\n",
        "X.head(-1)"
      ]
    },
    {
      "cell_type": "code",
      "execution_count": null,
      "metadata": {
        "colab": {
          "base_uri": "https://localhost:8080/"
        },
        "id": "ip1sz9ZFZI_4",
        "outputId": "d92446e9-46dc-4819-cc80-c89863f363fb"
      },
      "outputs": [
        {
          "data": {
            "text/plain": [
              "0    ischemic\n",
              "1    ischemic\n",
              "2    ischemic\n",
              "3    ischemic\n",
              "4    ischemic\n",
              "Name: Type, dtype: object"
            ]
          },
          "execution_count": 7,
          "metadata": {},
          "output_type": "execute_result"
        }
      ],
      "source": [
        "Y = data[target]\n",
        "\n",
        "Y.head() "
      ]
    },
    {
      "cell_type": "code",
      "execution_count": null,
      "metadata": {
        "colab": {
          "base_uri": "https://localhost:8080/"
        },
        "id": "pp2T7tHy52RY",
        "outputId": "c901e3b1-56c2-4f25-cdc9-00d8b18366d8"
      },
      "outputs": [
        {
          "data": {
            "text/plain": [
              "ischemic      581219\n",
              "healthy       267360\n",
              "arrhythmic     40238\n",
              "Name: Type, dtype: int64"
            ]
          },
          "execution_count": 8,
          "metadata": {},
          "output_type": "execute_result"
        }
      ],
      "source": [
        "Y.value_counts()"
      ]
    },
    {
      "cell_type": "code",
      "execution_count": null,
      "metadata": {
        "id": "ntfY_FwPwUvB"
      },
      "outputs": [],
      "source": [
        "def train_test_split(X,Y,test_size,feature):\n",
        "    dict={}\n",
        "    count=0\n",
        "    for i in Y:\n",
        "        if i not in dict.keys():\n",
        "            dict[i]=count\n",
        "        count+=1\n",
        "    rows=X.shape[0]\n",
        "    train_size=1-test_size\n",
        "    train=int(rows*train_size)\n",
        "    \n",
        "    f=X[feature][train]\n",
        "    count1=0\n",
        "    index1=train\n",
        "\n",
        "    while X[feature][index1]==f:\n",
        "        index1-=1\n",
        "        count1+=1\n",
        "    index2=train+1\n",
        "    count2=0\n",
        "    while X[feature][index2]==f:\n",
        "        index2+=1\n",
        "        count2+=1\n",
        "    if count1>count2:\n",
        "        train+=count2\n",
        "    else:\n",
        "        train-=count1\n",
        "\n",
        "    test=rows-train\n",
        "    print('Train Subject start and end:',X['Subject'][0],'To',X['Subject'][train])\n",
        "    print('Test Subject start and end:',X['Subject'][train+1],'To',X['Subject'][rows-1])\n",
        "    print('Train Percentage:',train/rows)\n",
        "    X_train= X[:train+2]\n",
        "    X_test= X[train+1:]\n",
        "    Y_train = Y[:train+2]\n",
        "    Y_test = Y[train+1:]\n",
        "    return X_train,X_test,Y_train,Y_test"
      ]
    },
    {
      "cell_type": "code",
      "execution_count": null,
      "metadata": {
        "id": "kIPn5NqPgG8r",
        "outputId": "4febb2dd-35ff-45ed-f888-864f1ecf7568"
      },
      "outputs": [
        {
          "name": "stdout",
          "output_type": "stream",
          "text": [
            "Train Percentage: 0.040001485120109086\n"
          ]
        }
      ],
      "source": [
        " X_train, X_test, Y_train, Y_test = train_test_split(X,Y, test_size=0.2, feature= 'Subject',split_size=0.05)"
      ]
    },
    {
      "cell_type": "code",
      "execution_count": null,
      "metadata": {
        "id": "AtHXuJItgG8s"
      },
      "outputs": [],
      "source": [
        "X_train= X_train.loc[:,X_train.columns != 'Subject']\n",
        "X_train= X_train.loc[:,X_train.columns != 'Time']\n",
        "X_train= X_train.loc[:,X_train.columns != 'Cycle']\n",
        "\n",
        "X_test= X_test.loc[:,X_test.columns != 'Subject']\n",
        "X_test= X_test.loc[:,X_test.columns != 'Time']\n",
        "X_test= X_test.loc[:,X_test.columns != 'Cycle']"
      ]
    },
    {
      "cell_type": "code",
      "execution_count": null,
      "metadata": {
        "id": "wi7Opx9FgG8t",
        "outputId": "2ccc3ee9-723b-4bb5-8ce7-0d606ed96dfb"
      },
      "outputs": [
        {
          "data": {
            "text/plain": [
              "ischemic      5812\n",
              "healthy       2673\n",
              "arrhythmic     402\n",
              "Name: Type, dtype: int64"
            ]
          },
          "execution_count": 13,
          "metadata": {},
          "output_type": "execute_result"
        }
      ],
      "source": [
        "Y_test.value_counts()"
      ]
    },
    {
      "cell_type": "code",
      "execution_count": null,
      "metadata": {
        "id": "zqx8tn1OgG8u",
        "outputId": "915d8b00-6800-4360-a825-36830f5d39e4"
      },
      "outputs": [
        {
          "data": {
            "text/plain": [
              "ischemic      23249\n",
              "healthy       10695\n",
              "arrhythmic     1610\n",
              "Name: Type, dtype: int64"
            ]
          },
          "execution_count": 14,
          "metadata": {},
          "output_type": "execute_result"
        }
      ],
      "source": [
        "Y_train.value_counts()"
      ]
    },
    {
      "cell_type": "code",
      "execution_count": null,
      "metadata": {
        "id": "WsvhVFvEgG8u",
        "outputId": "630bbf8a-45f8-4aeb-be41-735012f83f1c"
      },
      "outputs": [
        {
          "data": {
            "text/html": [
              "<div>\n",
              "<style scoped>\n",
              "    .dataframe tbody tr th:only-of-type {\n",
              "        vertical-align: middle;\n",
              "    }\n",
              "\n",
              "    .dataframe tbody tr th {\n",
              "        vertical-align: top;\n",
              "    }\n",
              "\n",
              "    .dataframe thead th {\n",
              "        text-align: right;\n",
              "    }\n",
              "</style>\n",
              "<table border=\"1\" class=\"dataframe\">\n",
              "  <thead>\n",
              "    <tr style=\"text-align: right;\">\n",
              "      <th></th>\n",
              "      <th>RR-I</th>\n",
              "      <th>HR</th>\n",
              "      <th>R-H</th>\n",
              "      <th>P-H</th>\n",
              "      <th>QRS</th>\n",
              "      <th>PRQ</th>\n",
              "      <th>QT</th>\n",
              "      <th>QTC</th>\n",
              "      <th>ST</th>\n",
              "    </tr>\n",
              "  </thead>\n",
              "  <tbody>\n",
              "    <tr>\n",
              "      <th>0</th>\n",
              "      <td>0.93200</td>\n",
              "      <td>64.377682</td>\n",
              "      <td>3.305</td>\n",
              "      <td>3.810</td>\n",
              "      <td>0.08800</td>\n",
              "      <td>0.16000</td>\n",
              "      <td>0.38400</td>\n",
              "      <td>0.397762</td>\n",
              "      <td>0.29600</td>\n",
              "    </tr>\n",
              "    <tr>\n",
              "      <th>1</th>\n",
              "      <td>1.00400</td>\n",
              "      <td>59.760956</td>\n",
              "      <td>3.285</td>\n",
              "      <td>3.810</td>\n",
              "      <td>0.10000</td>\n",
              "      <td>0.16000</td>\n",
              "      <td>0.64000</td>\n",
              "      <td>0.638724</td>\n",
              "      <td>0.54000</td>\n",
              "    </tr>\n",
              "    <tr>\n",
              "      <th>2</th>\n",
              "      <td>0.99600</td>\n",
              "      <td>60.240964</td>\n",
              "      <td>3.340</td>\n",
              "      <td>3.830</td>\n",
              "      <td>0.12800</td>\n",
              "      <td>0.14800</td>\n",
              "      <td>0.62800</td>\n",
              "      <td>0.629260</td>\n",
              "      <td>0.50000</td>\n",
              "    </tr>\n",
              "    <tr>\n",
              "      <th>3</th>\n",
              "      <td>1.01600</td>\n",
              "      <td>59.055118</td>\n",
              "      <td>3.325</td>\n",
              "      <td>3.810</td>\n",
              "      <td>0.10800</td>\n",
              "      <td>0.17200</td>\n",
              "      <td>0.38800</td>\n",
              "      <td>0.384933</td>\n",
              "      <td>0.28000</td>\n",
              "    </tr>\n",
              "    <tr>\n",
              "      <th>4</th>\n",
              "      <td>0.97200</td>\n",
              "      <td>61.728395</td>\n",
              "      <td>3.290</td>\n",
              "      <td>3.765</td>\n",
              "      <td>0.10000</td>\n",
              "      <td>0.16000</td>\n",
              "      <td>0.37200</td>\n",
              "      <td>0.377320</td>\n",
              "      <td>0.27200</td>\n",
              "    </tr>\n",
              "    <tr>\n",
              "      <th>...</th>\n",
              "      <td>...</td>\n",
              "      <td>...</td>\n",
              "      <td>...</td>\n",
              "      <td>...</td>\n",
              "      <td>...</td>\n",
              "      <td>...</td>\n",
              "      <td>...</td>\n",
              "      <td>...</td>\n",
              "      <td>...</td>\n",
              "    </tr>\n",
              "    <tr>\n",
              "      <th>35548</th>\n",
              "      <td>0.80278</td>\n",
              "      <td>74.740480</td>\n",
              "      <td>0.385</td>\n",
              "      <td>-0.220</td>\n",
              "      <td>0.09167</td>\n",
              "      <td>0.20000</td>\n",
              "      <td>0.51667</td>\n",
              "      <td>0.576650</td>\n",
              "      <td>0.44722</td>\n",
              "    </tr>\n",
              "    <tr>\n",
              "      <th>35549</th>\n",
              "      <td>0.80556</td>\n",
              "      <td>74.482760</td>\n",
              "      <td>0.885</td>\n",
              "      <td>-0.250</td>\n",
              "      <td>0.08333</td>\n",
              "      <td>0.20833</td>\n",
              "      <td>0.51667</td>\n",
              "      <td>0.575660</td>\n",
              "      <td>0.43889</td>\n",
              "    </tr>\n",
              "    <tr>\n",
              "      <th>35550</th>\n",
              "      <td>0.80833</td>\n",
              "      <td>74.226800</td>\n",
              "      <td>0.780</td>\n",
              "      <td>-0.275</td>\n",
              "      <td>0.08056</td>\n",
              "      <td>0.20000</td>\n",
              "      <td>0.50556</td>\n",
              "      <td>0.562310</td>\n",
              "      <td>0.43333</td>\n",
              "    </tr>\n",
              "    <tr>\n",
              "      <th>35551</th>\n",
              "      <td>0.81667</td>\n",
              "      <td>73.469390</td>\n",
              "      <td>0.950</td>\n",
              "      <td>-0.310</td>\n",
              "      <td>0.10278</td>\n",
              "      <td>0.20556</td>\n",
              "      <td>0.51944</td>\n",
              "      <td>0.574800</td>\n",
              "      <td>0.43611</td>\n",
              "    </tr>\n",
              "    <tr>\n",
              "      <th>35552</th>\n",
              "      <td>0.86111</td>\n",
              "      <td>69.677420</td>\n",
              "      <td>0.740</td>\n",
              "      <td>-0.210</td>\n",
              "      <td>0.09167</td>\n",
              "      <td>0.21111</td>\n",
              "      <td>0.56944</td>\n",
              "      <td>0.613650</td>\n",
              "      <td>0.49722</td>\n",
              "    </tr>\n",
              "  </tbody>\n",
              "</table>\n",
              "<p>35553 rows × 9 columns</p>\n",
              "</div>"
            ],
            "text/plain": [
              "          RR-I         HR    R-H    P-H      QRS      PRQ       QT       QTC  \\\n",
              "0      0.93200  64.377682  3.305  3.810  0.08800  0.16000  0.38400  0.397762   \n",
              "1      1.00400  59.760956  3.285  3.810  0.10000  0.16000  0.64000  0.638724   \n",
              "2      0.99600  60.240964  3.340  3.830  0.12800  0.14800  0.62800  0.629260   \n",
              "3      1.01600  59.055118  3.325  3.810  0.10800  0.17200  0.38800  0.384933   \n",
              "4      0.97200  61.728395  3.290  3.765  0.10000  0.16000  0.37200  0.377320   \n",
              "...        ...        ...    ...    ...      ...      ...      ...       ...   \n",
              "35548  0.80278  74.740480  0.385 -0.220  0.09167  0.20000  0.51667  0.576650   \n",
              "35549  0.80556  74.482760  0.885 -0.250  0.08333  0.20833  0.51667  0.575660   \n",
              "35550  0.80833  74.226800  0.780 -0.275  0.08056  0.20000  0.50556  0.562310   \n",
              "35551  0.81667  73.469390  0.950 -0.310  0.10278  0.20556  0.51944  0.574800   \n",
              "35552  0.86111  69.677420  0.740 -0.210  0.09167  0.21111  0.56944  0.613650   \n",
              "\n",
              "            ST  \n",
              "0      0.29600  \n",
              "1      0.54000  \n",
              "2      0.50000  \n",
              "3      0.28000  \n",
              "4      0.27200  \n",
              "...        ...  \n",
              "35548  0.44722  \n",
              "35549  0.43889  \n",
              "35550  0.43333  \n",
              "35551  0.43611  \n",
              "35552  0.49722  \n",
              "\n",
              "[35553 rows x 9 columns]"
            ]
          },
          "execution_count": 15,
          "metadata": {},
          "output_type": "execute_result"
        }
      ],
      "source": [
        "X_train.head(-1)"
      ]
    },
    {
      "cell_type": "code",
      "execution_count": null,
      "metadata": {
        "id": "XSY2KinSgG8v",
        "outputId": "33bef825-d3b3-4be6-becf-32831609a391"
      },
      "outputs": [
        {
          "data": {
            "text/html": [
              "<div>\n",
              "<style scoped>\n",
              "    .dataframe tbody tr th:only-of-type {\n",
              "        vertical-align: middle;\n",
              "    }\n",
              "\n",
              "    .dataframe tbody tr th {\n",
              "        vertical-align: top;\n",
              "    }\n",
              "\n",
              "    .dataframe thead th {\n",
              "        text-align: right;\n",
              "    }\n",
              "</style>\n",
              "<table border=\"1\" class=\"dataframe\">\n",
              "  <thead>\n",
              "    <tr style=\"text-align: right;\">\n",
              "      <th></th>\n",
              "      <th>RR-I</th>\n",
              "      <th>HR</th>\n",
              "      <th>R-H</th>\n",
              "      <th>P-H</th>\n",
              "      <th>QRS</th>\n",
              "      <th>PRQ</th>\n",
              "      <th>QT</th>\n",
              "      <th>QTC</th>\n",
              "      <th>ST</th>\n",
              "    </tr>\n",
              "  </thead>\n",
              "  <tbody>\n",
              "    <tr>\n",
              "      <th>0</th>\n",
              "      <td>0.856000</td>\n",
              "      <td>70.093458</td>\n",
              "      <td>2.275</td>\n",
              "      <td>-0.435</td>\n",
              "      <td>0.140000</td>\n",
              "      <td>0.132000</td>\n",
              "      <td>0.412000</td>\n",
              "      <td>0.445308</td>\n",
              "      <td>0.292000</td>\n",
              "    </tr>\n",
              "    <tr>\n",
              "      <th>1</th>\n",
              "      <td>0.796000</td>\n",
              "      <td>75.376884</td>\n",
              "      <td>1.905</td>\n",
              "      <td>-0.590</td>\n",
              "      <td>0.132000</td>\n",
              "      <td>0.128000</td>\n",
              "      <td>0.380000</td>\n",
              "      <td>0.425919</td>\n",
              "      <td>0.272000</td>\n",
              "    </tr>\n",
              "    <tr>\n",
              "      <th>2</th>\n",
              "      <td>0.916000</td>\n",
              "      <td>65.502183</td>\n",
              "      <td>1.860</td>\n",
              "      <td>-0.425</td>\n",
              "      <td>0.132000</td>\n",
              "      <td>0.128000</td>\n",
              "      <td>0.392000</td>\n",
              "      <td>0.409580</td>\n",
              "      <td>0.284000</td>\n",
              "    </tr>\n",
              "    <tr>\n",
              "      <th>3</th>\n",
              "      <td>1.388000</td>\n",
              "      <td>43.227666</td>\n",
              "      <td>0.955</td>\n",
              "      <td>-0.480</td>\n",
              "      <td>0.144000</td>\n",
              "      <td>0.132000</td>\n",
              "      <td>0.400000</td>\n",
              "      <td>0.339520</td>\n",
              "      <td>0.304000</td>\n",
              "    </tr>\n",
              "    <tr>\n",
              "      <th>4</th>\n",
              "      <td>0.680000</td>\n",
              "      <td>88.235294</td>\n",
              "      <td>2.200</td>\n",
              "      <td>-0.435</td>\n",
              "      <td>0.136000</td>\n",
              "      <td>0.128000</td>\n",
              "      <td>0.372000</td>\n",
              "      <td>0.451116</td>\n",
              "      <td>0.260000</td>\n",
              "    </tr>\n",
              "    <tr>\n",
              "      <th>...</th>\n",
              "      <td>...</td>\n",
              "      <td>...</td>\n",
              "      <td>...</td>\n",
              "      <td>...</td>\n",
              "      <td>...</td>\n",
              "      <td>...</td>\n",
              "      <td>...</td>\n",
              "      <td>...</td>\n",
              "      <td>...</td>\n",
              "    </tr>\n",
              "    <tr>\n",
              "      <th>8881</th>\n",
              "      <td>1.250000</td>\n",
              "      <td>48.000000</td>\n",
              "      <td>0.920</td>\n",
              "      <td>-0.660</td>\n",
              "      <td>0.108333</td>\n",
              "      <td>0.205556</td>\n",
              "      <td>0.455556</td>\n",
              "      <td>0.407461</td>\n",
              "      <td>0.366667</td>\n",
              "    </tr>\n",
              "    <tr>\n",
              "      <th>8882</th>\n",
              "      <td>1.161111</td>\n",
              "      <td>51.674641</td>\n",
              "      <td>0.955</td>\n",
              "      <td>-0.715</td>\n",
              "      <td>0.102778</td>\n",
              "      <td>0.202778</td>\n",
              "      <td>0.461111</td>\n",
              "      <td>0.427926</td>\n",
              "      <td>0.383333</td>\n",
              "    </tr>\n",
              "    <tr>\n",
              "      <th>8883</th>\n",
              "      <td>1.197222</td>\n",
              "      <td>50.116009</td>\n",
              "      <td>0.940</td>\n",
              "      <td>-0.740</td>\n",
              "      <td>0.088889</td>\n",
              "      <td>0.202778</td>\n",
              "      <td>0.450000</td>\n",
              "      <td>0.411268</td>\n",
              "      <td>0.380556</td>\n",
              "    </tr>\n",
              "    <tr>\n",
              "      <th>8884</th>\n",
              "      <td>1.147222</td>\n",
              "      <td>52.300242</td>\n",
              "      <td>0.850</td>\n",
              "      <td>-0.720</td>\n",
              "      <td>0.091667</td>\n",
              "      <td>0.169444</td>\n",
              "      <td>0.447222</td>\n",
              "      <td>0.417541</td>\n",
              "      <td>0.375000</td>\n",
              "    </tr>\n",
              "    <tr>\n",
              "      <th>8885</th>\n",
              "      <td>1.044444</td>\n",
              "      <td>57.446809</td>\n",
              "      <td>0.895</td>\n",
              "      <td>-0.750</td>\n",
              "      <td>0.144444</td>\n",
              "      <td>0.186111</td>\n",
              "      <td>0.483333</td>\n",
              "      <td>0.472938</td>\n",
              "      <td>0.372222</td>\n",
              "    </tr>\n",
              "  </tbody>\n",
              "</table>\n",
              "<p>8886 rows × 9 columns</p>\n",
              "</div>"
            ],
            "text/plain": [
              "          RR-I         HR    R-H    P-H       QRS       PRQ        QT  \\\n",
              "0     0.856000  70.093458  2.275 -0.435  0.140000  0.132000  0.412000   \n",
              "1     0.796000  75.376884  1.905 -0.590  0.132000  0.128000  0.380000   \n",
              "2     0.916000  65.502183  1.860 -0.425  0.132000  0.128000  0.392000   \n",
              "3     1.388000  43.227666  0.955 -0.480  0.144000  0.132000  0.400000   \n",
              "4     0.680000  88.235294  2.200 -0.435  0.136000  0.128000  0.372000   \n",
              "...        ...        ...    ...    ...       ...       ...       ...   \n",
              "8881  1.250000  48.000000  0.920 -0.660  0.108333  0.205556  0.455556   \n",
              "8882  1.161111  51.674641  0.955 -0.715  0.102778  0.202778  0.461111   \n",
              "8883  1.197222  50.116009  0.940 -0.740  0.088889  0.202778  0.450000   \n",
              "8884  1.147222  52.300242  0.850 -0.720  0.091667  0.169444  0.447222   \n",
              "8885  1.044444  57.446809  0.895 -0.750  0.144444  0.186111  0.483333   \n",
              "\n",
              "           QTC        ST  \n",
              "0     0.445308  0.292000  \n",
              "1     0.425919  0.272000  \n",
              "2     0.409580  0.284000  \n",
              "3     0.339520  0.304000  \n",
              "4     0.451116  0.260000  \n",
              "...        ...       ...  \n",
              "8881  0.407461  0.366667  \n",
              "8882  0.427926  0.383333  \n",
              "8883  0.411268  0.380556  \n",
              "8884  0.417541  0.375000  \n",
              "8885  0.472938  0.372222  \n",
              "\n",
              "[8886 rows x 9 columns]"
            ]
          },
          "execution_count": 16,
          "metadata": {},
          "output_type": "execute_result"
        }
      ],
      "source": [
        "X_test.head(-1)"
      ]
    },
    {
      "cell_type": "code",
      "execution_count": null,
      "metadata": {
        "id": "uOjIDHRmgG8v"
      },
      "outputs": [],
      "source": [
        "from sklearn.ensemble import RandomForestClassifier\n",
        "\n",
        "rf = RandomForestClassifier (n_estimators=200, max_depth=10, random_state=0)\n",
        "\n",
        "rf.fit(X_train,Y_train)\n",
        "\n",
        "y_pred = rf.predict(X_test)"
      ]
    },
    {
      "cell_type": "code",
      "execution_count": null,
      "metadata": {
        "id": "hqTQNQcmgG8v",
        "outputId": "e54a1520-8190-47a5-9652-d24deaf748ea"
      },
      "outputs": [
        {
          "name": "stdout",
          "output_type": "stream",
          "text": [
            "0.6265331382918871\n"
          ]
        }
      ],
      "source": [
        "from sklearn.metrics import accuracy_score\n",
        "\n",
        "print(accuracy_score(Y_test,y_pred)) # model prediction"
      ]
    },
    {
      "cell_type": "code",
      "execution_count": null,
      "metadata": {
        "id": "dKsSsJZ7gG8v"
      },
      "outputs": [],
      "source": [
        "from sklearn.ensemble import AdaBoostClassifier\n",
        "\n",
        "ada = AdaBoostClassifier()\n",
        "\n",
        "ada.fit(X_train, Y_train)\n",
        "\n",
        "y_pred = ada.predict(X_test)"
      ]
    },
    {
      "cell_type": "code",
      "execution_count": null,
      "metadata": {
        "id": "EKirp--ugG8w",
        "outputId": "e280eb86-559d-4dbc-9144-2e3a7f48ffac"
      },
      "outputs": [
        {
          "name": "stdout",
          "output_type": "stream",
          "text": [
            "0.08135478789242714\n"
          ]
        }
      ],
      "source": [
        "from sklearn.metrics import accuracy_score\n",
        "\n",
        "print(accuracy_score(Y_test,y_pred))"
      ]
    },
    {
      "cell_type": "code",
      "execution_count": null,
      "metadata": {
        "id": "LQuforoRgG8w"
      },
      "outputs": [],
      "source": [
        "from sklearn.ensemble import GradientBoostingClassifier\n",
        "\n",
        "GBC = GradientBoostingClassifier()\n",
        "GBC.fit(X_train, Y_train)\n",
        "\n",
        "y_pred = GBC.predict(X_test)"
      ]
    },
    {
      "cell_type": "code",
      "execution_count": null,
      "metadata": {
        "id": "N1VFfrjygG8w",
        "outputId": "1738c1df-41b9-4983-b7a9-2155c82ab662"
      },
      "outputs": [
        {
          "name": "stdout",
          "output_type": "stream",
          "text": [
            "0.08169235962642062\n"
          ]
        }
      ],
      "source": [
        "from sklearn.metrics import accuracy_score\n",
        "\n",
        "print(accuracy_score(Y_test,y_pred))"
      ]
    },
    {
      "cell_type": "code",
      "execution_count": null,
      "metadata": {
        "id": "J_Wt-leLgG8x",
        "outputId": "de3326dc-b543-4d48-e260-7d6ba5b6cf83"
      },
      "outputs": [
        {
          "name": "stdout",
          "output_type": "stream",
          "text": [
            "0.15123213682907619\n"
          ]
        },
        {
          "name": "stderr",
          "output_type": "stream",
          "text": [
            "C:\\Users\\ahtes\\anaconda3\\lib\\site-packages\\sklearn\\neighbors\\_classification.py:228: FutureWarning: Unlike other reduction functions (e.g. `skew`, `kurtosis`), the default behavior of `mode` typically preserves the axis it acts along. In SciPy 1.11.0, this behavior will change: the default value of `keepdims` will become False, the `axis` over which the statistic is taken will be eliminated, and the value None will no longer be accepted. Set `keepdims` to True or False to avoid this warning.\n",
            "  mode, _ = stats.mode(_y[neigh_ind, k], axis=1)\n"
          ]
        }
      ],
      "source": [
        "from sklearn.neighbors import KNeighborsClassifier\n",
        "knn = KNeighborsClassifier()\n",
        "knn.fit(X_train, Y_train)\n",
        "\n",
        "y_pred=knn.predict(X_test)\n",
        "\n",
        "from sklearn.metrics import accuracy_score\n",
        "\n",
        "print(accuracy_score(Y_test,y_pred))\n"
      ]
    },
    {
      "cell_type": "code",
      "execution_count": null,
      "metadata": {
        "id": "h94vrulNgG8x",
        "outputId": "9c810815-e753-40c4-defb-eb798f953235"
      },
      "outputs": [
        {
          "name": "stdout",
          "output_type": "stream",
          "text": [
            "0.653651400922696\n"
          ]
        }
      ],
      "source": [
        "from sklearn.naive_bayes import GaussianNB\n",
        "\n",
        "gnb = GaussianNB()\n",
        "\n",
        "gnb.fit(X_train, Y_train)\n",
        "\n",
        "y_pred = gnb.predict(X_test)\n",
        "\n",
        "\n",
        "from sklearn.metrics import accuracy_score\n",
        "\n",
        "print(accuracy_score(Y_test,y_pred))"
      ]
    },
    {
      "cell_type": "code",
      "execution_count": null,
      "metadata": {
        "id": "YUuW-lx_ZK7V"
      },
      "outputs": [],
      "source": [
        "def train_test_split(X,Y,test_size,feature):\n",
        "    dict={}\n",
        "    count=0\n",
        "    for i in Y:\n",
        "        if i not in dict.keys():\n",
        "            dict[i]=count\n",
        "        count+=1\n",
        "    rows=X.shape[0]\n",
        "    train_size=1-test_size\n",
        "    train=int(rows*train_size)\n",
        "    \n",
        "    f=X[feature][train]\n",
        "    count1=0\n",
        "    index1=train\n",
        "\n",
        "    while X[feature][index1]==f:\n",
        "        index1-=1\n",
        "        count1+=1\n",
        "    index2=train+1\n",
        "    count2=0\n",
        "    while X[feature][index2]==f:\n",
        "        index2+=1\n",
        "        count2+=1\n",
        "    if count1>count2:\n",
        "        train+=count2\n",
        "    else:\n",
        "        train-=count1\n",
        "\n",
        "    test=rows-train\n",
        "    print('Train Subject start and end:',X['Subject'][0],'To',X['Subject'][train])\n",
        "    print('Test Subject start and end:',X['Subject'][train+1],'To',X['Subject'][rows-1])\n",
        "    print('Train Percentage:',train/rows)\n",
        "    X_train= X[:train+2]\n",
        "    X_test= X[train+1:]\n",
        "    Y_train = Y[:train+2]\n",
        "    Y_test = Y[train+1:]\n",
        "    return X_train,X_test,Y_train,Y_test"
      ]
    },
    {
      "cell_type": "code",
      "execution_count": null,
      "metadata": {
        "id": "n6lTOBtijjuI"
      },
      "outputs": [],
      "source": []
    }
  ],
  "metadata": {
    "colab": {
      "provenance": [],
      "include_colab_link": true
    },
    "kernelspec": {
      "display_name": "Python 3 (ipykernel)",
      "language": "python",
      "name": "python3"
    },
    "language_info": {
      "codemirror_mode": {
        "name": "ipython",
        "version": 3
      },
      "file_extension": ".py",
      "mimetype": "text/x-python",
      "name": "python",
      "nbconvert_exporter": "python",
      "pygments_lexer": "ipython3",
      "version": "3.9.13"
    }
  },
  "nbformat": 4,
  "nbformat_minor": 0
}