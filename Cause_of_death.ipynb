{
 "cells": [
  {
   "cell_type": "code",
   "execution_count": 2,
   "metadata": {
    "id": "oHfncz9Uizlq"
   },
   "outputs": [],
   "source": [
    "import pandas as pd\n",
    "import numpy as np"
   ]
  },
  {
   "cell_type": "code",
   "execution_count": 3,
   "metadata": {
    "id": "gxhOPT9QjUtG"
   },
   "outputs": [],
   "source": [
    "df=pd.read_csv('https://raw.githubusercontent.com/Ahtesham-Ibne-Mostafa/Machine_Etymology/main/Datasets/NCHS_-_Potentially_Excess_Deaths_from_the_Five_Leading_Causes_of_Death.csv')"
   ]
  },
  {
   "cell_type": "code",
   "execution_count": 4,
   "metadata": {
    "colab": {
     "base_uri": "https://localhost:8080/",
     "height": 278
    },
    "id": "GrlMHQD5jYYR",
    "outputId": "da488bde-a34c-4f02-d351-7fdb86e5e3ec"
   },
   "outputs": [
    {
     "data": {
      "text/html": [
       "<div>\n",
       "<style scoped>\n",
       "    .dataframe tbody tr th:only-of-type {\n",
       "        vertical-align: middle;\n",
       "    }\n",
       "\n",
       "    .dataframe tbody tr th {\n",
       "        vertical-align: top;\n",
       "    }\n",
       "\n",
       "    .dataframe thead th {\n",
       "        text-align: right;\n",
       "    }\n",
       "</style>\n",
       "<table border=\"1\" class=\"dataframe\">\n",
       "  <thead>\n",
       "    <tr style=\"text-align: right;\">\n",
       "      <th></th>\n",
       "      <th>Year</th>\n",
       "      <th>Cause of Death</th>\n",
       "      <th>State</th>\n",
       "      <th>State FIPS Code</th>\n",
       "      <th>HHS Region</th>\n",
       "      <th>Age Range</th>\n",
       "      <th>Benchmark</th>\n",
       "      <th>Locality</th>\n",
       "      <th>Observed Deaths</th>\n",
       "      <th>Population</th>\n",
       "      <th>Expected Deaths</th>\n",
       "      <th>Potentially Excess Deaths</th>\n",
       "      <th>Percent Potentially Excess Deaths</th>\n",
       "    </tr>\n",
       "  </thead>\n",
       "  <tbody>\n",
       "    <tr>\n",
       "      <th>0</th>\n",
       "      <td>2005</td>\n",
       "      <td>Cancer</td>\n",
       "      <td>Alabama</td>\n",
       "      <td>AL</td>\n",
       "      <td>4</td>\n",
       "      <td>0-49</td>\n",
       "      <td>2005 Fixed</td>\n",
       "      <td>All</td>\n",
       "      <td>756.0</td>\n",
       "      <td>3148377.0</td>\n",
       "      <td>451.0</td>\n",
       "      <td>305.0</td>\n",
       "      <td>40.3</td>\n",
       "    </tr>\n",
       "    <tr>\n",
       "      <th>1</th>\n",
       "      <td>2005</td>\n",
       "      <td>Cancer</td>\n",
       "      <td>Alabama</td>\n",
       "      <td>AL</td>\n",
       "      <td>4</td>\n",
       "      <td>0-49</td>\n",
       "      <td>2005 Fixed</td>\n",
       "      <td>Metropolitan</td>\n",
       "      <td>556.0</td>\n",
       "      <td>2379871.0</td>\n",
       "      <td>341.0</td>\n",
       "      <td>217.0</td>\n",
       "      <td>39.0</td>\n",
       "    </tr>\n",
       "    <tr>\n",
       "      <th>2</th>\n",
       "      <td>2005</td>\n",
       "      <td>Cancer</td>\n",
       "      <td>Alabama</td>\n",
       "      <td>AL</td>\n",
       "      <td>4</td>\n",
       "      <td>0-49</td>\n",
       "      <td>2005 Fixed</td>\n",
       "      <td>Nonmetropolitan</td>\n",
       "      <td>200.0</td>\n",
       "      <td>768506.0</td>\n",
       "      <td>111.0</td>\n",
       "      <td>89.0</td>\n",
       "      <td>44.5</td>\n",
       "    </tr>\n",
       "    <tr>\n",
       "      <th>3</th>\n",
       "      <td>2005</td>\n",
       "      <td>Cancer</td>\n",
       "      <td>Alabama</td>\n",
       "      <td>AL</td>\n",
       "      <td>4</td>\n",
       "      <td>0-49</td>\n",
       "      <td>2010 Fixed</td>\n",
       "      <td>All</td>\n",
       "      <td>756.0</td>\n",
       "      <td>3148377.0</td>\n",
       "      <td>421.0</td>\n",
       "      <td>335.0</td>\n",
       "      <td>44.3</td>\n",
       "    </tr>\n",
       "    <tr>\n",
       "      <th>4</th>\n",
       "      <td>2005</td>\n",
       "      <td>Cancer</td>\n",
       "      <td>Alabama</td>\n",
       "      <td>AL</td>\n",
       "      <td>4</td>\n",
       "      <td>0-49</td>\n",
       "      <td>2010 Fixed</td>\n",
       "      <td>Metropolitan</td>\n",
       "      <td>556.0</td>\n",
       "      <td>2379871.0</td>\n",
       "      <td>318.0</td>\n",
       "      <td>238.0</td>\n",
       "      <td>42.8</td>\n",
       "    </tr>\n",
       "  </tbody>\n",
       "</table>\n",
       "</div>"
      ],
      "text/plain": [
       "   Year Cause of Death    State State FIPS Code  HHS Region Age Range  \\\n",
       "0  2005         Cancer  Alabama              AL           4      0-49   \n",
       "1  2005         Cancer  Alabama              AL           4      0-49   \n",
       "2  2005         Cancer  Alabama              AL           4      0-49   \n",
       "3  2005         Cancer  Alabama              AL           4      0-49   \n",
       "4  2005         Cancer  Alabama              AL           4      0-49   \n",
       "\n",
       "    Benchmark         Locality  Observed Deaths  Population  Expected Deaths  \\\n",
       "0  2005 Fixed              All            756.0   3148377.0            451.0   \n",
       "1  2005 Fixed     Metropolitan            556.0   2379871.0            341.0   \n",
       "2  2005 Fixed  Nonmetropolitan            200.0    768506.0            111.0   \n",
       "3  2010 Fixed              All            756.0   3148377.0            421.0   \n",
       "4  2010 Fixed     Metropolitan            556.0   2379871.0            318.0   \n",
       "\n",
       "   Potentially Excess Deaths  Percent Potentially Excess Deaths  \n",
       "0                      305.0                               40.3  \n",
       "1                      217.0                               39.0  \n",
       "2                       89.0                               44.5  \n",
       "3                      335.0                               44.3  \n",
       "4                      238.0                               42.8  "
      ]
     },
     "execution_count": 4,
     "metadata": {},
     "output_type": "execute_result"
    }
   ],
   "source": [
    "df.head()"
   ]
  },
  {
   "cell_type": "code",
   "execution_count": 5,
   "metadata": {
    "colab": {
     "base_uri": "https://localhost:8080/"
    },
    "id": "x7KVxBVmrTW3",
    "outputId": "ca926321-7ad7-4450-fe0a-d0b94ec87d44"
   },
   "outputs": [
    {
     "data": {
      "text/plain": [
       "(205920, 13)"
      ]
     },
     "execution_count": 5,
     "metadata": {},
     "output_type": "execute_result"
    }
   ],
   "source": [
    "df.shape"
   ]
  },
  {
   "cell_type": "code",
   "execution_count": 6,
   "metadata": {
    "colab": {
     "base_uri": "https://localhost:8080/"
    },
    "id": "oRLIQ-UjjaR-",
    "outputId": "6bba0845-d92d-44e1-b5c9-d70da72f1de2"
   },
   "outputs": [
    {
     "data": {
      "text/plain": [
       "array(['Cancer', 'Chronic Lower Respiratory Disease', 'Heart Disease',\n",
       "       'Stroke', 'Unintentional Injury'], dtype=object)"
      ]
     },
     "execution_count": 6,
     "metadata": {},
     "output_type": "execute_result"
    }
   ],
   "source": [
    "df['Cause of Death'].unique()\n"
   ]
  },
  {
   "cell_type": "code",
   "execution_count": 7,
   "metadata": {
    "colab": {
     "base_uri": "https://localhost:8080/"
    },
    "id": "PlaFe9a3BTHv",
    "outputId": "4f178abe-38ca-4fab-c6ae-692609e15100"
   },
   "outputs": [
    {
     "data": {
      "text/plain": [
       "Cancer                               41184\n",
       "Chronic Lower Respiratory Disease    41184\n",
       "Heart Disease                        41184\n",
       "Stroke                               41184\n",
       "Unintentional Injury                 41184\n",
       "Name: Cause of Death, dtype: int64"
      ]
     },
     "execution_count": 7,
     "metadata": {},
     "output_type": "execute_result"
    }
   ],
   "source": [
    "df['Cause of Death'].value_counts()"
   ]
  },
  {
   "cell_type": "code",
   "execution_count": 8,
   "metadata": {
    "colab": {
     "base_uri": "https://localhost:8080/"
    },
    "id": "q9Tl9y5lCYhz",
    "outputId": "403438a8-bada-4aa0-a929-d802a27049a8"
   },
   "outputs": [
    {
     "data": {
      "text/plain": [
       "Alabama                  3960\n",
       "Alaska                   3960\n",
       "Montana                  3960\n",
       "Nebraska                 3960\n",
       "Nevada                   3960\n",
       "New Hampshire            3960\n",
       "New Mexico               3960\n",
       "New York                 3960\n",
       "North Carolina           3960\n",
       "North Dakota             3960\n",
       "Ohio                     3960\n",
       "Oklahoma                 3960\n",
       "Oregon                   3960\n",
       "Pennsylvania             3960\n",
       "South Carolina           3960\n",
       "South Dakota             3960\n",
       "Tennessee                3960\n",
       "Texas                    3960\n",
       "United States            3960\n",
       "Utah                     3960\n",
       "Vermont                  3960\n",
       "Virginia                 3960\n",
       "Washington               3960\n",
       "West Virginia            3960\n",
       "Wisconsin                3960\n",
       "Missouri                 3960\n",
       "Mississippi              3960\n",
       "Minnesota                3960\n",
       "Hawaii                   3960\n",
       "Arizona                  3960\n",
       "Arkansas                 3960\n",
       "Delaware                 3960\n",
       "California               3960\n",
       "Colorado                 3960\n",
       "Connecticut              3960\n",
       "New Jersey               3960\n",
       "District of\\nColumbia    3960\n",
       "Florida                  3960\n",
       "Georgia                  3960\n",
       "Idaho                    3960\n",
       "Michigan                 3960\n",
       "Illinois                 3960\n",
       "Indiana                  3960\n",
       "Iowa                     3960\n",
       "Rhode Island             3960\n",
       "Kansas                   3960\n",
       "Kentucky                 3960\n",
       "Louisiana                3960\n",
       "Maine                    3960\n",
       "Maryland                 3960\n",
       "Massachusetts            3960\n",
       "Wyoming                  3960\n",
       "Name: State, dtype: int64"
      ]
     },
     "execution_count": 8,
     "metadata": {},
     "output_type": "execute_result"
    }
   ],
   "source": [
    "df['State'].value_counts()"
   ]
  },
  {
   "cell_type": "code",
   "execution_count": 9,
   "metadata": {
    "colab": {
     "base_uri": "https://localhost:8080/"
    },
    "id": "u0RWcIbtCa0u",
    "outputId": "e7de86bf-b499-4716-a58c-04c070c17415"
   },
   "outputs": [
    {
     "data": {
      "text/plain": [
       "AL    3960\n",
       "AK    3960\n",
       "MT    3960\n",
       "NE    3960\n",
       "NV    3960\n",
       "NH    3960\n",
       "NM    3960\n",
       "NY    3960\n",
       "NC    3960\n",
       "ND    3960\n",
       "OH    3960\n",
       "OK    3960\n",
       "OR    3960\n",
       "PA    3960\n",
       "SC    3960\n",
       "SD    3960\n",
       "TN    3960\n",
       "TX    3960\n",
       "0     3960\n",
       "UT    3960\n",
       "VT    3960\n",
       "VA    3960\n",
       "WA    3960\n",
       "WV    3960\n",
       "WI    3960\n",
       "MO    3960\n",
       "MS    3960\n",
       "MN    3960\n",
       "HI    3960\n",
       "AZ    3960\n",
       "AR    3960\n",
       "DE    3960\n",
       "CA    3960\n",
       "CO    3960\n",
       "CT    3960\n",
       "NJ    3960\n",
       "DC    3960\n",
       "FL    3960\n",
       "GA    3960\n",
       "ID    3960\n",
       "MI    3960\n",
       "IL    3960\n",
       "IN    3960\n",
       "IA    3960\n",
       "RI    3960\n",
       "KS    3960\n",
       "KY    3960\n",
       "LA    3960\n",
       "ME    3960\n",
       "MD    3960\n",
       "MA    3960\n",
       "WY    3960\n",
       "Name: State FIPS Code, dtype: int64"
      ]
     },
     "execution_count": 9,
     "metadata": {},
     "output_type": "execute_result"
    }
   ],
   "source": [
    "df['State FIPS Code'].value_counts()"
   ]
  },
  {
   "cell_type": "code",
   "execution_count": 10,
   "metadata": {
    "colab": {
     "base_uri": "https://localhost:8080/"
    },
    "id": "hySr4K5uCrAJ",
    "outputId": "1696015c-2fa6-4baa-b242-1e9ae04ee153"
   },
   "outputs": [
    {
     "data": {
      "text/plain": [
       "4     31680\n",
       "3     23760\n",
       "8     23760\n",
       "1     23760\n",
       "5     23760\n",
       "6     19800\n",
       "10    15840\n",
       "9     15840\n",
       "7     15840\n",
       "2      7920\n",
       "0      3960\n",
       "Name: HHS Region, dtype: int64"
      ]
     },
     "execution_count": 10,
     "metadata": {},
     "output_type": "execute_result"
    }
   ],
   "source": [
    "df['HHS Region'].value_counts()"
   ]
  },
  {
   "cell_type": "code",
   "execution_count": 11,
   "metadata": {
    "colab": {
     "base_uri": "https://localhost:8080/"
    },
    "id": "fg6ykyxOmC5_",
    "outputId": "30caa3a3-238b-4bca-e4ed-04f9b00683a8"
   },
   "outputs": [
    {
     "data": {
      "text/plain": [
       "Year                                     0\n",
       "Cause of Death                           0\n",
       "State                                    0\n",
       "State FIPS Code                          0\n",
       "HHS Region                               0\n",
       "Age Range                                0\n",
       "Benchmark                                0\n",
       "Locality                                 0\n",
       "Observed Deaths                      10212\n",
       "Population                            5280\n",
       "Expected Deaths                      10212\n",
       "Potentially Excess Deaths            10212\n",
       "Percent Potentially Excess Deaths    10212\n",
       "dtype: int64"
      ]
     },
     "execution_count": 11,
     "metadata": {},
     "output_type": "execute_result"
    }
   ],
   "source": [
    "df.isnull().sum()"
   ]
  },
  {
   "cell_type": "code",
   "execution_count": 12,
   "metadata": {
    "id": "fgKxDZJ3v1hV"
   },
   "outputs": [],
   "source": [
    "def Chamber_of_nulls(df,target,type='mean'):\n",
    "    columns_with_null = df.columns[df.isnull().any()]\n",
    "    segments=df[target].unique()\n",
    "    for i in segments:\n",
    "\n",
    "        filtered_rows = df[df[target] == i]\n",
    "        for j in columns_with_null:\n",
    "            if type=='mean':\n",
    "              new_value = filtered_rows[j].mean()\n",
    "            elif type=='mode':\n",
    "              new_value = filtered_rows[j].mode()\n",
    "            elif type=='median':\n",
    "              new_value = filtered_rows[j].median()\n",
    "\n",
    "            filtered_null_rows = filtered_rows[filtered_rows[j].isna()]\n",
    "            df.loc[filtered_null_rows.index, j] = new_value\n",
    "    return df"
   ]
  },
  {
   "cell_type": "code",
   "execution_count": 13,
   "metadata": {
    "id": "oUDqddIF98K2"
   },
   "outputs": [],
   "source": [
    "feature='Cause of Death'\n",
    "df=Chamber_of_nulls(df, feature)"
   ]
  },
  {
   "cell_type": "code",
   "execution_count": 14,
   "metadata": {
    "id": "Fw8ZtzVdC4cW"
   },
   "outputs": [],
   "source": [
    "df = df.drop('State FIPS Code', axis=1)"
   ]
  },
  {
   "cell_type": "code",
   "execution_count": 15,
   "metadata": {
    "colab": {
     "base_uri": "https://localhost:8080/",
     "height": 278
    },
    "id": "hZHSwE5l-eMT",
    "outputId": "50fe28b6-ea80-4f67-d204-9f8a823b0887"
   },
   "outputs": [
    {
     "data": {
      "text/html": [
       "<div>\n",
       "<style scoped>\n",
       "    .dataframe tbody tr th:only-of-type {\n",
       "        vertical-align: middle;\n",
       "    }\n",
       "\n",
       "    .dataframe tbody tr th {\n",
       "        vertical-align: top;\n",
       "    }\n",
       "\n",
       "    .dataframe thead th {\n",
       "        text-align: right;\n",
       "    }\n",
       "</style>\n",
       "<table border=\"1\" class=\"dataframe\">\n",
       "  <thead>\n",
       "    <tr style=\"text-align: right;\">\n",
       "      <th></th>\n",
       "      <th>Year</th>\n",
       "      <th>Cause of Death</th>\n",
       "      <th>State</th>\n",
       "      <th>HHS Region</th>\n",
       "      <th>Age Range</th>\n",
       "      <th>Benchmark</th>\n",
       "      <th>Locality</th>\n",
       "      <th>Observed Deaths</th>\n",
       "      <th>Population</th>\n",
       "      <th>Expected Deaths</th>\n",
       "      <th>Potentially Excess Deaths</th>\n",
       "      <th>Percent Potentially Excess Deaths</th>\n",
       "    </tr>\n",
       "  </thead>\n",
       "  <tbody>\n",
       "    <tr>\n",
       "      <th>0</th>\n",
       "      <td>2005</td>\n",
       "      <td>Cancer</td>\n",
       "      <td>Alabama</td>\n",
       "      <td>4</td>\n",
       "      <td>0-49</td>\n",
       "      <td>2005 Fixed</td>\n",
       "      <td>All</td>\n",
       "      <td>756.0</td>\n",
       "      <td>3148377.0</td>\n",
       "      <td>451.0</td>\n",
       "      <td>305.0</td>\n",
       "      <td>40.3</td>\n",
       "    </tr>\n",
       "    <tr>\n",
       "      <th>1</th>\n",
       "      <td>2005</td>\n",
       "      <td>Cancer</td>\n",
       "      <td>Alabama</td>\n",
       "      <td>4</td>\n",
       "      <td>0-49</td>\n",
       "      <td>2005 Fixed</td>\n",
       "      <td>Metropolitan</td>\n",
       "      <td>556.0</td>\n",
       "      <td>2379871.0</td>\n",
       "      <td>341.0</td>\n",
       "      <td>217.0</td>\n",
       "      <td>39.0</td>\n",
       "    </tr>\n",
       "    <tr>\n",
       "      <th>2</th>\n",
       "      <td>2005</td>\n",
       "      <td>Cancer</td>\n",
       "      <td>Alabama</td>\n",
       "      <td>4</td>\n",
       "      <td>0-49</td>\n",
       "      <td>2005 Fixed</td>\n",
       "      <td>Nonmetropolitan</td>\n",
       "      <td>200.0</td>\n",
       "      <td>768506.0</td>\n",
       "      <td>111.0</td>\n",
       "      <td>89.0</td>\n",
       "      <td>44.5</td>\n",
       "    </tr>\n",
       "    <tr>\n",
       "      <th>3</th>\n",
       "      <td>2005</td>\n",
       "      <td>Cancer</td>\n",
       "      <td>Alabama</td>\n",
       "      <td>4</td>\n",
       "      <td>0-49</td>\n",
       "      <td>2010 Fixed</td>\n",
       "      <td>All</td>\n",
       "      <td>756.0</td>\n",
       "      <td>3148377.0</td>\n",
       "      <td>421.0</td>\n",
       "      <td>335.0</td>\n",
       "      <td>44.3</td>\n",
       "    </tr>\n",
       "    <tr>\n",
       "      <th>4</th>\n",
       "      <td>2005</td>\n",
       "      <td>Cancer</td>\n",
       "      <td>Alabama</td>\n",
       "      <td>4</td>\n",
       "      <td>0-49</td>\n",
       "      <td>2010 Fixed</td>\n",
       "      <td>Metropolitan</td>\n",
       "      <td>556.0</td>\n",
       "      <td>2379871.0</td>\n",
       "      <td>318.0</td>\n",
       "      <td>238.0</td>\n",
       "      <td>42.8</td>\n",
       "    </tr>\n",
       "  </tbody>\n",
       "</table>\n",
       "</div>"
      ],
      "text/plain": [
       "   Year Cause of Death    State  HHS Region Age Range   Benchmark  \\\n",
       "0  2005         Cancer  Alabama           4      0-49  2005 Fixed   \n",
       "1  2005         Cancer  Alabama           4      0-49  2005 Fixed   \n",
       "2  2005         Cancer  Alabama           4      0-49  2005 Fixed   \n",
       "3  2005         Cancer  Alabama           4      0-49  2010 Fixed   \n",
       "4  2005         Cancer  Alabama           4      0-49  2010 Fixed   \n",
       "\n",
       "          Locality  Observed Deaths  Population  Expected Deaths  \\\n",
       "0              All            756.0   3148377.0            451.0   \n",
       "1     Metropolitan            556.0   2379871.0            341.0   \n",
       "2  Nonmetropolitan            200.0    768506.0            111.0   \n",
       "3              All            756.0   3148377.0            421.0   \n",
       "4     Metropolitan            556.0   2379871.0            318.0   \n",
       "\n",
       "   Potentially Excess Deaths  Percent Potentially Excess Deaths  \n",
       "0                      305.0                               40.3  \n",
       "1                      217.0                               39.0  \n",
       "2                       89.0                               44.5  \n",
       "3                      335.0                               44.3  \n",
       "4                      238.0                               42.8  "
      ]
     },
     "execution_count": 15,
     "metadata": {},
     "output_type": "execute_result"
    }
   ],
   "source": [
    "df.head()"
   ]
  },
  {
   "cell_type": "code",
   "execution_count": 16,
   "metadata": {
    "colab": {
     "base_uri": "https://localhost:8080/"
    },
    "id": "sg_7llJH-jiP",
    "outputId": "b6f223ad-6b18-4cc0-f253-a3514c18fe98"
   },
   "outputs": [
    {
     "data": {
      "text/plain": [
       "(205920, 12)"
      ]
     },
     "execution_count": 16,
     "metadata": {},
     "output_type": "execute_result"
    }
   ],
   "source": [
    "df.shape"
   ]
  },
  {
   "cell_type": "code",
   "execution_count": 17,
   "metadata": {
    "colab": {
     "base_uri": "https://localhost:8080/"
    },
    "id": "ePg4zTel-mR2",
    "outputId": "317a3d1d-9349-401e-ae86-39dc458f353a"
   },
   "outputs": [
    {
     "data": {
      "text/plain": [
       "Year                                 0\n",
       "Cause of Death                       0\n",
       "State                                0\n",
       "HHS Region                           0\n",
       "Age Range                            0\n",
       "Benchmark                            0\n",
       "Locality                             0\n",
       "Observed Deaths                      0\n",
       "Population                           0\n",
       "Expected Deaths                      0\n",
       "Potentially Excess Deaths            0\n",
       "Percent Potentially Excess Deaths    0\n",
       "dtype: int64"
      ]
     },
     "execution_count": 17,
     "metadata": {},
     "output_type": "execute_result"
    }
   ],
   "source": [
    "df.isnull().sum()"
   ]
  },
  {
   "cell_type": "code",
   "execution_count": 18,
   "metadata": {
    "colab": {
     "base_uri": "https://localhost:8080/"
    },
    "id": "NGStBF7q-pAg",
    "outputId": "7d01b7a1-6857-402d-8db1-d3d3a7adb521"
   },
   "outputs": [
    {
     "name": "stdout",
     "output_type": "stream",
     "text": [
      "<class 'pandas.core.frame.DataFrame'>\n",
      "RangeIndex: 205920 entries, 0 to 205919\n",
      "Data columns (total 12 columns):\n",
      " #   Column                             Non-Null Count   Dtype  \n",
      "---  ------                             --------------   -----  \n",
      " 0   Year                               205920 non-null  int64  \n",
      " 1   Cause of Death                     205920 non-null  object \n",
      " 2   State                              205920 non-null  object \n",
      " 3   HHS Region                         205920 non-null  int64  \n",
      " 4   Age Range                          205920 non-null  object \n",
      " 5   Benchmark                          205920 non-null  object \n",
      " 6   Locality                           205920 non-null  object \n",
      " 7   Observed Deaths                    205920 non-null  float64\n",
      " 8   Population                         205920 non-null  float64\n",
      " 9   Expected Deaths                    205920 non-null  float64\n",
      " 10  Potentially Excess Deaths          205920 non-null  float64\n",
      " 11  Percent Potentially Excess Deaths  205920 non-null  float64\n",
      "dtypes: float64(5), int64(2), object(5)\n",
      "memory usage: 18.9+ MB\n"
     ]
    }
   ],
   "source": [
    "df.info()"
   ]
  },
  {
   "cell_type": "code",
   "execution_count": 19,
   "metadata": {
    "colab": {
     "base_uri": "https://localhost:8080/"
    },
    "id": "3pi-2i-5DPXO",
    "outputId": "0156c073-1d6c-4e27-c185-9d9c033b0d75"
   },
   "outputs": [
    {
     "data": {
      "text/plain": [
       "array(['2005 Fixed', '2010 Fixed', 'Floating'], dtype=object)"
      ]
     },
     "execution_count": 19,
     "metadata": {},
     "output_type": "execute_result"
    }
   ],
   "source": [
    "df['Benchmark'].unique()"
   ]
  },
  {
   "cell_type": "code",
   "execution_count": 20,
   "metadata": {
    "id": "tJb9DZarBnIh"
   },
   "outputs": [],
   "source": [
    "from sklearn.preprocessing import LabelEncoder                                # it helps to convert object to integer\n",
    "label_encoder = LabelEncoder()\n",
    "\n",
    "\n",
    "df['Cause of Death'] = label_encoder.fit_transform(df['Cause of Death'])\n",
    "df['State'] = label_encoder.fit_transform(df['State'])\n",
    "df['Age Range'] = label_encoder.fit_transform(df['Age Range'])\n",
    "df['Benchmark'] = label_encoder.fit_transform(df['Benchmark'])\n",
    "df['Locality'] = label_encoder.fit_transform(df['Locality'])"
   ]
  },
  {
   "cell_type": "code",
   "execution_count": 21,
   "metadata": {
    "colab": {
     "base_uri": "https://localhost:8080/"
    },
    "id": "6GMRa6qbDB7N",
    "outputId": "73ca449f-2d90-46a3-ac08-1a0b6e125f9d"
   },
   "outputs": [
    {
     "name": "stdout",
     "output_type": "stream",
     "text": [
      "<class 'pandas.core.frame.DataFrame'>\n",
      "RangeIndex: 205920 entries, 0 to 205919\n",
      "Data columns (total 12 columns):\n",
      " #   Column                             Non-Null Count   Dtype  \n",
      "---  ------                             --------------   -----  \n",
      " 0   Year                               205920 non-null  int64  \n",
      " 1   Cause of Death                     205920 non-null  int32  \n",
      " 2   State                              205920 non-null  int32  \n",
      " 3   HHS Region                         205920 non-null  int64  \n",
      " 4   Age Range                          205920 non-null  int32  \n",
      " 5   Benchmark                          205920 non-null  int32  \n",
      " 6   Locality                           205920 non-null  int32  \n",
      " 7   Observed Deaths                    205920 non-null  float64\n",
      " 8   Population                         205920 non-null  float64\n",
      " 9   Expected Deaths                    205920 non-null  float64\n",
      " 10  Potentially Excess Deaths          205920 non-null  float64\n",
      " 11  Percent Potentially Excess Deaths  205920 non-null  float64\n",
      "dtypes: float64(5), int32(5), int64(2)\n",
      "memory usage: 14.9 MB\n"
     ]
    }
   ],
   "source": [
    "df.info()"
   ]
  },
  {
   "cell_type": "code",
   "execution_count": 22,
   "metadata": {
    "id": "fg7YoMiKDf5i"
   },
   "outputs": [],
   "source": [
    "target = 'Cause of Death'"
   ]
  },
  {
   "cell_type": "code",
   "execution_count": 23,
   "metadata": {
    "id": "GmL4RcE0DlX-"
   },
   "outputs": [],
   "source": [
    "X= df.loc[:,df.columns != target]                                               # every columns goes to X except the target\n",
    "\n",
    "Y = df[target]                                                                  # target column is Y"
   ]
  },
  {
   "cell_type": "code",
   "execution_count": 24,
   "metadata": {
    "id": "jpeyzDwGDn88"
   },
   "outputs": [],
   "source": [
    "from sklearn.model_selection import train_test_split                            # X and Y is spited into text and train segments\n",
    "\n",
    "X_train, X_test, Y_train, Y_test = train_test_split(X,Y, test_size = 0.2)"
   ]
  },
  {
   "cell_type": "markdown",
   "metadata": {
    "id": "VMvY8RD0DuE5"
   },
   "source": [
    "#RandomForest Classifier"
   ]
  },
  {
   "cell_type": "code",
   "execution_count": 24,
   "metadata": {
    "id": "4NqyOrGKDtH0"
   },
   "outputs": [],
   "source": [
    "from sklearn.ensemble import RandomForestClassifier\n",
    "\n",
    "clf = RandomForestClassifier(n_jobs=-1)\n",
    "\n",
    "clf.fit(X_train, Y_train)                                                       # Fitting the training segment into the model\n",
    "\n",
    "y_pred = clf.predict(X_test)                                                    # the model is predicting the test cases"
   ]
  },
  {
   "cell_type": "code",
   "execution_count": 25,
   "metadata": {
    "colab": {
     "base_uri": "https://localhost:8080/"
    },
    "id": "13Z7SzDMD0GV",
    "outputId": "67e64fac-9da5-4447-9993-3f7cef00afae"
   },
   "outputs": [
    {
     "name": "stdout",
     "output_type": "stream",
     "text": [
      "[[8263    0   34    0   18]\n",
      " [   0 7788    0  299  171]\n",
      " [  32    0 8084    0   45]\n",
      " [   0  303    0 7775   29]\n",
      " [  21   96   35   11 8180]]\n",
      "              precision    recall  f1-score   support\n",
      "\n",
      "           0       0.99      0.99      0.99      8315\n",
      "           1       0.95      0.94      0.95      8258\n",
      "           2       0.99      0.99      0.99      8161\n",
      "           3       0.96      0.96      0.96      8107\n",
      "           4       0.97      0.98      0.97      8343\n",
      "\n",
      "    accuracy                           0.97     41184\n",
      "   macro avg       0.97      0.97      0.97     41184\n",
      "weighted avg       0.97      0.97      0.97     41184\n",
      "\n",
      "Accurecy:  0.973436285936286\n"
     ]
    }
   ],
   "source": [
    "from sklearn.metrics import classification_report, confusion_matrix, accuracy_score\n",
    "print(confusion_matrix(Y_test, y_pred))\n",
    "print(classification_report(Y_test,y_pred))\n",
    "print(\"Accurecy: \",accuracy_score(Y_test, y_pred))"
   ]
  },
  {
   "cell_type": "markdown",
   "metadata": {
    "id": "LqKX0mgaEQlb"
   },
   "source": [
    "#ADABoost Classifier"
   ]
  },
  {
   "cell_type": "code",
   "execution_count": 26,
   "metadata": {
    "id": "eJ-xMYPHEEDR"
   },
   "outputs": [],
   "source": [
    "from sklearn.ensemble import AdaBoostClassifier\n",
    "\n",
    "ada = AdaBoostClassifier()\n",
    "\n",
    "ada.fit(X_train, Y_train)\n",
    "\n",
    "y_pred = ada.predict(X_test)"
   ]
  },
  {
   "cell_type": "code",
   "execution_count": 27,
   "metadata": {
    "colab": {
     "base_uri": "https://localhost:8080/"
    },
    "id": "35XNvk2kEUQl",
    "outputId": "db5537b5-ca0c-403f-c6e2-33e462f3480b"
   },
   "outputs": [
    {
     "name": "stdout",
     "output_type": "stream",
     "text": [
      "[[4429    7 3494  143  242]\n",
      " [ 402 2669  160 2424 2603]\n",
      " [1611  138 3770  442 2200]\n",
      " [ 411 1497  148 4119 1932]\n",
      " [ 441 1211  919  650 5122]]\n",
      "              precision    recall  f1-score   support\n",
      "\n",
      "           0       0.61      0.53      0.57      8315\n",
      "           1       0.48      0.32      0.39      8258\n",
      "           2       0.44      0.46      0.45      8161\n",
      "           3       0.53      0.51      0.52      8107\n",
      "           4       0.42      0.61      0.50      8343\n",
      "\n",
      "    accuracy                           0.49     41184\n",
      "   macro avg       0.50      0.49      0.49     41184\n",
      "weighted avg       0.50      0.49      0.49     41184\n",
      "\n",
      "Accurecy:  0.4882721445221445\n"
     ]
    }
   ],
   "source": [
    "print(confusion_matrix(Y_test, y_pred))\n",
    "print(classification_report(Y_test,y_pred))\n",
    "print(\"Accurecy: \",accuracy_score(Y_test, y_pred))"
   ]
  },
  {
   "cell_type": "markdown",
   "metadata": {
    "id": "1iTXqKyWEWL5"
   },
   "source": [
    "#GradientBoosting Classifier"
   ]
  },
  {
   "cell_type": "code",
   "execution_count": 28,
   "metadata": {
    "id": "WzauH47wEZSa"
   },
   "outputs": [],
   "source": [
    "\n",
    "from sklearn.ensemble import GradientBoostingClassifier\n",
    "\n",
    "GBC = GradientBoostingClassifier()\n",
    "\n",
    "GBC.fit(X_train, Y_train)\n",
    "\n",
    "y_pred = ada.predict(X_test)"
   ]
  },
  {
   "cell_type": "code",
   "execution_count": 29,
   "metadata": {
    "id": "VcZ2x-NVEd91"
   },
   "outputs": [
    {
     "name": "stdout",
     "output_type": "stream",
     "text": [
      "[[4429    7 3494  143  242]\n",
      " [ 402 2669  160 2424 2603]\n",
      " [1611  138 3770  442 2200]\n",
      " [ 411 1497  148 4119 1932]\n",
      " [ 441 1211  919  650 5122]]\n",
      "              precision    recall  f1-score   support\n",
      "\n",
      "           0       0.61      0.53      0.57      8315\n",
      "           1       0.48      0.32      0.39      8258\n",
      "           2       0.44      0.46      0.45      8161\n",
      "           3       0.53      0.51      0.52      8107\n",
      "           4       0.42      0.61      0.50      8343\n",
      "\n",
      "    accuracy                           0.49     41184\n",
      "   macro avg       0.50      0.49      0.49     41184\n",
      "weighted avg       0.50      0.49      0.49     41184\n",
      "\n",
      "Accurecy:  0.4882721445221445\n"
     ]
    }
   ],
   "source": [
    "\n",
    "print(confusion_matrix(Y_test, y_pred))\n",
    "print(classification_report(Y_test,y_pred))\n",
    "print(\"Accurecy: \",accuracy_score(Y_test, y_pred))"
   ]
  },
  {
   "cell_type": "markdown",
   "metadata": {
    "id": "tRLe9f75EgNP"
   },
   "source": [
    "#KN Classifier"
   ]
  },
  {
   "cell_type": "code",
   "execution_count": 30,
   "metadata": {
    "id": "K0qbFrSoEjZa"
   },
   "outputs": [
    {
     "name": "stderr",
     "output_type": "stream",
     "text": [
      "C:\\Users\\ahtes\\anaconda3\\lib\\site-packages\\sklearn\\neighbors\\_classification.py:228: FutureWarning: Unlike other reduction functions (e.g. `skew`, `kurtosis`), the default behavior of `mode` typically preserves the axis it acts along. In SciPy 1.11.0, this behavior will change: the default value of `keepdims` will become False, the `axis` over which the statistic is taken will be eliminated, and the value None will no longer be accepted. Set `keepdims` to True or False to avoid this warning.\n",
      "  mode, _ = stats.mode(_y[neigh_ind, k], axis=1)\n"
     ]
    }
   ],
   "source": [
    "from sklearn.neighbors import KNeighborsClassifier\n",
    "knn = KNeighborsClassifier()\n",
    "knn.fit(X_train, Y_train)\n",
    "\n",
    "y_pred=knn.predict(X_test)"
   ]
  },
  {
   "cell_type": "code",
   "execution_count": 31,
   "metadata": {
    "id": "JU5oSdSYElji"
   },
   "outputs": [
    {
     "name": "stdout",
     "output_type": "stream",
     "text": [
      "[[4913   88 2870   49  395]\n",
      " [ 125 2962  229 3967  975]\n",
      " [2904  227 3478   98 1454]\n",
      " [ 167 4495  273 2820  352]\n",
      " [ 902 1974 1458  474 3535]]\n",
      "              precision    recall  f1-score   support\n",
      "\n",
      "           0       0.55      0.59      0.57      8315\n",
      "           1       0.30      0.36      0.33      8258\n",
      "           2       0.42      0.43      0.42      8161\n",
      "           3       0.38      0.35      0.36      8107\n",
      "           4       0.53      0.42      0.47      8343\n",
      "\n",
      "    accuracy                           0.43     41184\n",
      "   macro avg       0.44      0.43      0.43     41184\n",
      "weighted avg       0.44      0.43      0.43     41184\n",
      "\n",
      "Accurecy:  0.429972804972805\n"
     ]
    }
   ],
   "source": [
    "print(confusion_matrix(Y_test, y_pred))\n",
    "print(classification_report(Y_test,y_pred))\n",
    "print(\"Accurecy: \",accuracy_score(Y_test, y_pred))"
   ]
  },
  {
   "cell_type": "markdown",
   "metadata": {
    "id": "x4OkK5FFEpeR"
   },
   "source": [
    "#Naive Bayes"
   ]
  },
  {
   "cell_type": "code",
   "execution_count": 32,
   "metadata": {
    "id": "Enb_txCnEn_u"
   },
   "outputs": [],
   "source": [
    "from sklearn.naive_bayes import GaussianNB\n",
    "\n",
    "gnb = GaussianNB()\n",
    "\n",
    "gnb.fit(X_train, Y_train)\n",
    "\n",
    "y_pred = gnb.predict(X_test)"
   ]
  },
  {
   "cell_type": "code",
   "execution_count": 33,
   "metadata": {
    "id": "7DN3YGUXEvbR"
   },
   "outputs": [
    {
     "name": "stdout",
     "output_type": "stream",
     "text": [
      "[[ 257  597  223 6705  533]\n",
      " [   9   61   79 8074   35]\n",
      " [  90  405  194 7143  329]\n",
      " [   7   41   82 7949   28]\n",
      " [   9  177  147 7899  111]]\n",
      "              precision    recall  f1-score   support\n",
      "\n",
      "           0       0.69      0.03      0.06      8315\n",
      "           1       0.05      0.01      0.01      8258\n",
      "           2       0.27      0.02      0.04      8161\n",
      "           3       0.21      0.98      0.35      8107\n",
      "           4       0.11      0.01      0.02      8343\n",
      "\n",
      "    accuracy                           0.21     41184\n",
      "   macro avg       0.26      0.21      0.10     41184\n",
      "weighted avg       0.27      0.21      0.10     41184\n",
      "\n",
      "Accurecy:  0.20813908313908314\n"
     ]
    }
   ],
   "source": [
    "print(confusion_matrix(Y_test, y_pred))\n",
    "print(classification_report(Y_test,y_pred))\n",
    "print(\"Accurecy: \",accuracy_score(Y_test, y_pred))"
   ]
  },
  {
   "cell_type": "markdown",
   "metadata": {
    "id": "YMcsboWxEyV7"
   },
   "source": [
    "#SVM Classifier"
   ]
  },
  {
   "cell_type": "code",
   "execution_count": null,
   "metadata": {
    "id": "5TP2Lj6RExVB"
   },
   "outputs": [],
   "source": [
    "from sklearn.svm import SVC\n",
    "\n",
    "svm_classifier = SVC(kernel='linear')\n",
    "\n",
    "svm_classifier.fit(X_train, Y_train)\n",
    "\n",
    "y_pred = svm_classifier.predict(X_test)"
   ]
  },
  {
   "cell_type": "code",
   "execution_count": null,
   "metadata": {
    "id": "qMS6RwAcE28_"
   },
   "outputs": [],
   "source": [
    "print(confusion_matrix(Y_test, y_pred))\n",
    "print(classification_report(Y_test,y_pred))\n",
    "print(\"Accurecy: \",accuracy_score(Y_test, y_pred))"
   ]
  },
  {
   "cell_type": "markdown",
   "metadata": {
    "id": "BF8D0NJ1E5sN"
   },
   "source": [
    "#Logitic Regression"
   ]
  },
  {
   "cell_type": "code",
   "execution_count": 25,
   "metadata": {
    "id": "CS0WBCFAE5Ct"
   },
   "outputs": [],
   "source": [
    "from sklearn.linear_model import LogisticRegression\n",
    "lr = LogisticRegression(random_state = 0)\n",
    "lr.fit(X_train, Y_train)\n",
    "y_pred = lr.predict(X_test)"
   ]
  },
  {
   "cell_type": "code",
   "execution_count": 28,
   "metadata": {
    "id": "QoM6rYwzE_6h"
   },
   "outputs": [
    {
     "name": "stdout",
     "output_type": "stream",
     "text": [
      "[[5414 1068 1022  347  421]\n",
      " [ 685 2000  612 3952  847]\n",
      " [2875 1362 2778  693  586]\n",
      " [ 477 2212  109 5020  474]\n",
      " [ 298 1645 2651  156 3480]]\n",
      "              precision    recall  f1-score   support\n",
      "\n",
      "           0       0.56      0.65      0.60      8272\n",
      "           1       0.24      0.25      0.24      8096\n",
      "           2       0.39      0.33      0.36      8294\n",
      "           3       0.49      0.61      0.54      8292\n",
      "           4       0.60      0.42      0.50      8230\n",
      "\n",
      "    accuracy                           0.45     41184\n",
      "   macro avg       0.46      0.45      0.45     41184\n",
      "weighted avg       0.46      0.45      0.45     41184\n",
      "\n",
      "Accurecy:  0.4538655788655789\n"
     ]
    }
   ],
   "source": [
    "from sklearn.metrics import classification_report, confusion_matrix, accuracy_score\n",
    "print(confusion_matrix(Y_test, y_pred))\n",
    "print(classification_report(Y_test,y_pred))\n",
    "print(\"Accurecy: \",accuracy_score(Y_test, y_pred))"
   ]
  },
  {
   "cell_type": "markdown",
   "metadata": {
    "id": "t3TRZu0TFC8F"
   },
   "source": [
    "#CAT Boosting"
   ]
  },
  {
   "cell_type": "code",
   "execution_count": 29,
   "metadata": {},
   "outputs": [
    {
     "name": "stdout",
     "output_type": "stream",
     "text": [
      "Requirement already satisfied: catboost in c:\\users\\ahtes\\anaconda3\\lib\\site-packages (1.2)\n",
      "Requirement already satisfied: pandas>=0.24 in c:\\users\\ahtes\\anaconda3\\lib\\site-packages (from catboost) (1.4.4)\n",
      "Requirement already satisfied: graphviz in c:\\users\\ahtes\\anaconda3\\lib\\site-packages (from catboost) (0.20.1)\n",
      "Requirement already satisfied: numpy>=1.16.0 in c:\\users\\ahtes\\anaconda3\\lib\\site-packages (from catboost) (1.21.5)\n",
      "Requirement already satisfied: six in c:\\users\\ahtes\\anaconda3\\lib\\site-packages (from catboost) (1.16.0)\n",
      "Requirement already satisfied: scipy in c:\\users\\ahtes\\anaconda3\\lib\\site-packages (from catboost) (1.9.1)\n",
      "Requirement already satisfied: matplotlib in c:\\users\\ahtes\\anaconda3\\lib\\site-packages (from catboost) (3.5.2)\n",
      "Requirement already satisfied: plotly in c:\\users\\ahtes\\anaconda3\\lib\\site-packages (from catboost) (5.9.0)\n",
      "Requirement already satisfied: python-dateutil>=2.8.1 in c:\\users\\ahtes\\anaconda3\\lib\\site-packages (from pandas>=0.24->catboost) (2.8.2)\n",
      "Requirement already satisfied: pytz>=2020.1 in c:\\users\\ahtes\\anaconda3\\lib\\site-packages (from pandas>=0.24->catboost) (2022.1)\n",
      "Requirement already satisfied: cycler>=0.10 in c:\\users\\ahtes\\anaconda3\\lib\\site-packages (from matplotlib->catboost) (0.11.0)\n",
      "Requirement already satisfied: fonttools>=4.22.0 in c:\\users\\ahtes\\anaconda3\\lib\\site-packages (from matplotlib->catboost) (4.25.0)\n",
      "Requirement already satisfied: pillow>=6.2.0 in c:\\users\\ahtes\\anaconda3\\lib\\site-packages (from matplotlib->catboost) (9.2.0)\n",
      "Requirement already satisfied: pyparsing>=2.2.1 in c:\\users\\ahtes\\anaconda3\\lib\\site-packages (from matplotlib->catboost) (3.0.9)\n",
      "Requirement already satisfied: kiwisolver>=1.0.1 in c:\\users\\ahtes\\anaconda3\\lib\\site-packages (from matplotlib->catboost) (1.4.2)\n",
      "Requirement already satisfied: packaging>=20.0 in c:\\users\\ahtes\\anaconda3\\lib\\site-packages (from matplotlib->catboost) (21.3)\n",
      "Requirement already satisfied: tenacity>=6.2.0 in c:\\users\\ahtes\\anaconda3\\lib\\site-packages (from plotly->catboost) (8.0.1)\n"
     ]
    }
   ],
   "source": [
    "!pip install catboost"
   ]
  },
  {
   "cell_type": "code",
   "execution_count": 30,
   "metadata": {
    "id": "cg4uej-qFCf5"
   },
   "outputs": [
    {
     "name": "stdout",
     "output_type": "stream",
     "text": [
      "Learning rate set to 0.102655\n",
      "0:\tlearn: 1.5299271\ttotal: 207ms\tremaining: 3m 26s\n",
      "1:\tlearn: 1.4677876\ttotal: 256ms\tremaining: 2m 7s\n",
      "2:\tlearn: 1.4138405\ttotal: 304ms\tremaining: 1m 41s\n",
      "3:\tlearn: 1.3664972\ttotal: 350ms\tremaining: 1m 27s\n",
      "4:\tlearn: 1.3256191\ttotal: 394ms\tremaining: 1m 18s\n",
      "5:\tlearn: 1.2847208\ttotal: 451ms\tremaining: 1m 14s\n",
      "6:\tlearn: 1.2545636\ttotal: 498ms\tremaining: 1m 10s\n",
      "7:\tlearn: 1.2243104\ttotal: 544ms\tremaining: 1m 7s\n",
      "8:\tlearn: 1.1941423\ttotal: 590ms\tremaining: 1m 5s\n",
      "9:\tlearn: 1.1724340\ttotal: 636ms\tremaining: 1m 2s\n",
      "10:\tlearn: 1.1454672\ttotal: 686ms\tremaining: 1m 1s\n",
      "11:\tlearn: 1.1241453\ttotal: 731ms\tremaining: 1m\n",
      "12:\tlearn: 1.1037531\ttotal: 785ms\tremaining: 59.6s\n",
      "13:\tlearn: 1.0868366\ttotal: 828ms\tremaining: 58.3s\n",
      "14:\tlearn: 1.0672740\ttotal: 876ms\tremaining: 57.5s\n",
      "15:\tlearn: 1.0514929\ttotal: 923ms\tremaining: 56.8s\n",
      "16:\tlearn: 1.0340745\ttotal: 969ms\tremaining: 56.1s\n",
      "17:\tlearn: 1.0216259\ttotal: 1.01s\tremaining: 55s\n",
      "18:\tlearn: 1.0084872\ttotal: 1.05s\tremaining: 54.4s\n",
      "19:\tlearn: 0.9923646\ttotal: 1.1s\tremaining: 53.9s\n",
      "20:\tlearn: 0.9807171\ttotal: 1.14s\tremaining: 53.4s\n",
      "21:\tlearn: 0.9681650\ttotal: 1.19s\tremaining: 52.9s\n",
      "22:\tlearn: 0.9594468\ttotal: 1.23s\tremaining: 52.4s\n",
      "23:\tlearn: 0.9493520\ttotal: 1.27s\tremaining: 51.9s\n",
      "24:\tlearn: 0.9372725\ttotal: 1.32s\tremaining: 51.5s\n",
      "25:\tlearn: 0.9262914\ttotal: 1.36s\tremaining: 51.1s\n",
      "26:\tlearn: 0.9129827\ttotal: 1.41s\tremaining: 50.8s\n",
      "27:\tlearn: 0.9009735\ttotal: 1.45s\tremaining: 50.5s\n",
      "28:\tlearn: 0.8935355\ttotal: 1.5s\tremaining: 50.1s\n",
      "29:\tlearn: 0.8841033\ttotal: 1.54s\tremaining: 49.8s\n",
      "30:\tlearn: 0.8769248\ttotal: 1.58s\tremaining: 49.4s\n",
      "31:\tlearn: 0.8718468\ttotal: 1.62s\tremaining: 49.1s\n",
      "32:\tlearn: 0.8659117\ttotal: 1.66s\tremaining: 48.6s\n",
      "33:\tlearn: 0.8581511\ttotal: 1.7s\tremaining: 48.4s\n",
      "34:\tlearn: 0.8513517\ttotal: 1.75s\tremaining: 48.2s\n",
      "35:\tlearn: 0.8435727\ttotal: 1.79s\tremaining: 48.1s\n",
      "36:\tlearn: 0.8340062\ttotal: 1.84s\tremaining: 47.9s\n",
      "37:\tlearn: 0.8287089\ttotal: 1.88s\tremaining: 47.6s\n",
      "38:\tlearn: 0.8238921\ttotal: 1.92s\tremaining: 47.3s\n",
      "39:\tlearn: 0.8177348\ttotal: 1.96s\tremaining: 47.1s\n",
      "40:\tlearn: 0.8129609\ttotal: 2.01s\tremaining: 46.9s\n",
      "41:\tlearn: 0.8046036\ttotal: 2.06s\tremaining: 46.9s\n",
      "42:\tlearn: 0.7986709\ttotal: 2.11s\tremaining: 46.9s\n",
      "43:\tlearn: 0.7940606\ttotal: 2.15s\tremaining: 46.6s\n",
      "44:\tlearn: 0.7877653\ttotal: 2.19s\tremaining: 46.5s\n",
      "45:\tlearn: 0.7817534\ttotal: 2.24s\tremaining: 46.4s\n",
      "46:\tlearn: 0.7734403\ttotal: 2.29s\tremaining: 46.3s\n",
      "47:\tlearn: 0.7672155\ttotal: 2.32s\tremaining: 46.1s\n",
      "48:\tlearn: 0.7614056\ttotal: 2.37s\tremaining: 46s\n",
      "49:\tlearn: 0.7577069\ttotal: 2.42s\tremaining: 45.9s\n",
      "50:\tlearn: 0.7534376\ttotal: 2.46s\tremaining: 45.8s\n",
      "51:\tlearn: 0.7487779\ttotal: 2.5s\tremaining: 45.7s\n",
      "52:\tlearn: 0.7455153\ttotal: 2.55s\tremaining: 45.6s\n",
      "53:\tlearn: 0.7397663\ttotal: 2.6s\tremaining: 45.6s\n",
      "54:\tlearn: 0.7344686\ttotal: 2.65s\tremaining: 45.5s\n",
      "55:\tlearn: 0.7313369\ttotal: 2.7s\tremaining: 45.5s\n",
      "56:\tlearn: 0.7279089\ttotal: 2.74s\tremaining: 45.4s\n",
      "57:\tlearn: 0.7233039\ttotal: 2.79s\tremaining: 45.3s\n",
      "58:\tlearn: 0.7196251\ttotal: 2.84s\tremaining: 45.3s\n",
      "59:\tlearn: 0.7150131\ttotal: 2.9s\tremaining: 45.4s\n",
      "60:\tlearn: 0.7120271\ttotal: 2.98s\tremaining: 45.9s\n",
      "61:\tlearn: 0.7089123\ttotal: 3.03s\tremaining: 45.8s\n",
      "62:\tlearn: 0.7037014\ttotal: 3.09s\tremaining: 45.9s\n",
      "63:\tlearn: 0.7015073\ttotal: 3.13s\tremaining: 45.9s\n",
      "64:\tlearn: 0.6967598\ttotal: 3.19s\tremaining: 45.9s\n",
      "65:\tlearn: 0.6929804\ttotal: 3.24s\tremaining: 45.9s\n",
      "66:\tlearn: 0.6884512\ttotal: 3.29s\tremaining: 45.8s\n",
      "67:\tlearn: 0.6855014\ttotal: 3.35s\tremaining: 45.9s\n",
      "68:\tlearn: 0.6805888\ttotal: 3.39s\tremaining: 45.8s\n",
      "69:\tlearn: 0.6770187\ttotal: 3.44s\tremaining: 45.7s\n",
      "70:\tlearn: 0.6714949\ttotal: 3.5s\tremaining: 45.7s\n",
      "71:\tlearn: 0.6684089\ttotal: 3.54s\tremaining: 45.6s\n",
      "72:\tlearn: 0.6646948\ttotal: 3.59s\tremaining: 45.6s\n",
      "73:\tlearn: 0.6602670\ttotal: 3.64s\tremaining: 45.6s\n",
      "74:\tlearn: 0.6570506\ttotal: 3.7s\tremaining: 45.6s\n",
      "75:\tlearn: 0.6545152\ttotal: 3.75s\tremaining: 45.6s\n",
      "76:\tlearn: 0.6507082\ttotal: 3.8s\tremaining: 45.6s\n",
      "77:\tlearn: 0.6482634\ttotal: 3.85s\tremaining: 45.5s\n",
      "78:\tlearn: 0.6468237\ttotal: 3.89s\tremaining: 45.3s\n",
      "79:\tlearn: 0.6444241\ttotal: 3.93s\tremaining: 45.2s\n",
      "80:\tlearn: 0.6417094\ttotal: 3.98s\tremaining: 45.2s\n",
      "81:\tlearn: 0.6397843\ttotal: 4.03s\tremaining: 45.1s\n",
      "82:\tlearn: 0.6370417\ttotal: 4.07s\tremaining: 45s\n",
      "83:\tlearn: 0.6346788\ttotal: 4.12s\tremaining: 44.9s\n",
      "84:\tlearn: 0.6325846\ttotal: 4.17s\tremaining: 44.9s\n",
      "85:\tlearn: 0.6305563\ttotal: 4.23s\tremaining: 44.9s\n",
      "86:\tlearn: 0.6270629\ttotal: 4.28s\tremaining: 44.9s\n",
      "87:\tlearn: 0.6236221\ttotal: 4.33s\tremaining: 44.9s\n",
      "88:\tlearn: 0.6221771\ttotal: 4.38s\tremaining: 44.8s\n",
      "89:\tlearn: 0.6199384\ttotal: 4.42s\tremaining: 44.7s\n",
      "90:\tlearn: 0.6178000\ttotal: 4.47s\tremaining: 44.7s\n",
      "91:\tlearn: 0.6141159\ttotal: 4.52s\tremaining: 44.6s\n",
      "92:\tlearn: 0.6127822\ttotal: 4.57s\tremaining: 44.6s\n",
      "93:\tlearn: 0.6112768\ttotal: 4.61s\tremaining: 44.5s\n",
      "94:\tlearn: 0.6076014\ttotal: 4.66s\tremaining: 44.4s\n",
      "95:\tlearn: 0.6051368\ttotal: 4.71s\tremaining: 44.4s\n",
      "96:\tlearn: 0.6029316\ttotal: 4.76s\tremaining: 44.3s\n",
      "97:\tlearn: 0.6019051\ttotal: 4.8s\tremaining: 44.2s\n",
      "98:\tlearn: 0.5989483\ttotal: 4.85s\tremaining: 44.1s\n",
      "99:\tlearn: 0.5977744\ttotal: 4.89s\tremaining: 44s\n",
      "100:\tlearn: 0.5953091\ttotal: 4.94s\tremaining: 44s\n",
      "101:\tlearn: 0.5931064\ttotal: 4.99s\tremaining: 43.9s\n",
      "102:\tlearn: 0.5903669\ttotal: 5.03s\tremaining: 43.8s\n",
      "103:\tlearn: 0.5880598\ttotal: 5.08s\tremaining: 43.8s\n",
      "104:\tlearn: 0.5856953\ttotal: 5.13s\tremaining: 43.7s\n",
      "105:\tlearn: 0.5837439\ttotal: 5.18s\tremaining: 43.7s\n",
      "106:\tlearn: 0.5818156\ttotal: 5.23s\tremaining: 43.7s\n",
      "107:\tlearn: 0.5805771\ttotal: 5.28s\tremaining: 43.6s\n",
      "108:\tlearn: 0.5783348\ttotal: 5.32s\tremaining: 43.5s\n",
      "109:\tlearn: 0.5754173\ttotal: 5.37s\tremaining: 43.4s\n",
      "110:\tlearn: 0.5733869\ttotal: 5.41s\tremaining: 43.4s\n",
      "111:\tlearn: 0.5712982\ttotal: 5.46s\tremaining: 43.3s\n",
      "112:\tlearn: 0.5691436\ttotal: 5.5s\tremaining: 43.2s\n",
      "113:\tlearn: 0.5675681\ttotal: 5.54s\tremaining: 43.1s\n",
      "114:\tlearn: 0.5663002\ttotal: 5.58s\tremaining: 42.9s\n",
      "115:\tlearn: 0.5654502\ttotal: 5.62s\tremaining: 42.8s\n",
      "116:\tlearn: 0.5642169\ttotal: 5.66s\tremaining: 42.7s\n",
      "117:\tlearn: 0.5622392\ttotal: 5.71s\tremaining: 42.7s\n",
      "118:\tlearn: 0.5589614\ttotal: 5.75s\tremaining: 42.6s\n",
      "119:\tlearn: 0.5574484\ttotal: 5.79s\tremaining: 42.5s\n",
      "120:\tlearn: 0.5556298\ttotal: 5.83s\tremaining: 42.4s\n",
      "121:\tlearn: 0.5538346\ttotal: 5.88s\tremaining: 42.3s\n",
      "122:\tlearn: 0.5525030\ttotal: 5.92s\tremaining: 42.2s\n",
      "123:\tlearn: 0.5497288\ttotal: 5.96s\tremaining: 42.1s\n",
      "124:\tlearn: 0.5483553\ttotal: 6s\tremaining: 42s\n",
      "125:\tlearn: 0.5473942\ttotal: 6.04s\tremaining: 41.9s\n",
      "126:\tlearn: 0.5455482\ttotal: 6.09s\tremaining: 41.9s\n",
      "127:\tlearn: 0.5427822\ttotal: 6.13s\tremaining: 41.8s\n",
      "128:\tlearn: 0.5411239\ttotal: 6.17s\tremaining: 41.7s\n",
      "129:\tlearn: 0.5402017\ttotal: 6.21s\tremaining: 41.5s\n",
      "130:\tlearn: 0.5389341\ttotal: 6.25s\tremaining: 41.5s\n",
      "131:\tlearn: 0.5366244\ttotal: 6.29s\tremaining: 41.4s\n",
      "132:\tlearn: 0.5350734\ttotal: 6.34s\tremaining: 41.3s\n",
      "133:\tlearn: 0.5338087\ttotal: 6.38s\tremaining: 41.2s\n",
      "134:\tlearn: 0.5321906\ttotal: 6.42s\tremaining: 41.1s\n",
      "135:\tlearn: 0.5308256\ttotal: 6.46s\tremaining: 41s\n",
      "136:\tlearn: 0.5290473\ttotal: 6.5s\tremaining: 41s\n",
      "137:\tlearn: 0.5271099\ttotal: 6.55s\tremaining: 40.9s\n",
      "138:\tlearn: 0.5260632\ttotal: 6.59s\tremaining: 40.8s\n",
      "139:\tlearn: 0.5236485\ttotal: 6.63s\tremaining: 40.8s\n",
      "140:\tlearn: 0.5225721\ttotal: 6.68s\tremaining: 40.7s\n",
      "141:\tlearn: 0.5215360\ttotal: 6.72s\tremaining: 40.6s\n",
      "142:\tlearn: 0.5198209\ttotal: 6.77s\tremaining: 40.5s\n",
      "143:\tlearn: 0.5170990\ttotal: 6.82s\tremaining: 40.5s\n",
      "144:\tlearn: 0.5158137\ttotal: 6.86s\tremaining: 40.4s\n",
      "145:\tlearn: 0.5148906\ttotal: 6.9s\tremaining: 40.4s\n",
      "146:\tlearn: 0.5137538\ttotal: 6.95s\tremaining: 40.3s\n",
      "147:\tlearn: 0.5123636\ttotal: 6.98s\tremaining: 40.2s\n",
      "148:\tlearn: 0.5110352\ttotal: 7.03s\tremaining: 40.1s\n",
      "149:\tlearn: 0.5099284\ttotal: 7.07s\tremaining: 40s\n",
      "150:\tlearn: 0.5087404\ttotal: 7.11s\tremaining: 40s\n",
      "151:\tlearn: 0.5072350\ttotal: 7.16s\tremaining: 40s\n",
      "152:\tlearn: 0.5062855\ttotal: 7.2s\tremaining: 39.9s\n",
      "153:\tlearn: 0.5042971\ttotal: 7.25s\tremaining: 39.8s\n",
      "154:\tlearn: 0.5029896\ttotal: 7.29s\tremaining: 39.7s\n",
      "155:\tlearn: 0.5017075\ttotal: 7.33s\tremaining: 39.7s\n",
      "156:\tlearn: 0.4996385\ttotal: 7.38s\tremaining: 39.6s\n",
      "157:\tlearn: 0.4979088\ttotal: 7.43s\tremaining: 39.6s\n",
      "158:\tlearn: 0.4955875\ttotal: 7.48s\tremaining: 39.5s\n",
      "159:\tlearn: 0.4945827\ttotal: 7.51s\tremaining: 39.5s\n",
      "160:\tlearn: 0.4932130\ttotal: 7.56s\tremaining: 39.4s\n",
      "161:\tlearn: 0.4916801\ttotal: 7.61s\tremaining: 39.4s\n",
      "162:\tlearn: 0.4903305\ttotal: 7.65s\tremaining: 39.3s\n",
      "163:\tlearn: 0.4893722\ttotal: 7.7s\tremaining: 39.2s\n",
      "164:\tlearn: 0.4875700\ttotal: 7.74s\tremaining: 39.2s\n",
      "165:\tlearn: 0.4860039\ttotal: 7.79s\tremaining: 39.1s\n",
      "166:\tlearn: 0.4847895\ttotal: 7.83s\tremaining: 39s\n",
      "167:\tlearn: 0.4836218\ttotal: 7.87s\tremaining: 39s\n",
      "168:\tlearn: 0.4822489\ttotal: 7.91s\tremaining: 38.9s\n",
      "169:\tlearn: 0.4816706\ttotal: 7.95s\tremaining: 38.8s\n",
      "170:\tlearn: 0.4810763\ttotal: 7.99s\tremaining: 38.7s\n",
      "171:\tlearn: 0.4793469\ttotal: 8.04s\tremaining: 38.7s\n",
      "172:\tlearn: 0.4776207\ttotal: 8.08s\tremaining: 38.6s\n",
      "173:\tlearn: 0.4768012\ttotal: 8.13s\tremaining: 38.6s\n",
      "174:\tlearn: 0.4756750\ttotal: 8.17s\tremaining: 38.5s\n",
      "175:\tlearn: 0.4747269\ttotal: 8.21s\tremaining: 38.4s\n",
      "176:\tlearn: 0.4731992\ttotal: 8.26s\tremaining: 38.4s\n",
      "177:\tlearn: 0.4723989\ttotal: 8.3s\tremaining: 38.3s\n",
      "178:\tlearn: 0.4708696\ttotal: 8.35s\tremaining: 38.3s\n",
      "179:\tlearn: 0.4699712\ttotal: 8.39s\tremaining: 38.2s\n",
      "180:\tlearn: 0.4694545\ttotal: 8.43s\tremaining: 38.1s\n",
      "181:\tlearn: 0.4681135\ttotal: 8.48s\tremaining: 38.1s\n",
      "182:\tlearn: 0.4675845\ttotal: 8.52s\tremaining: 38s\n",
      "183:\tlearn: 0.4663193\ttotal: 8.56s\tremaining: 38s\n",
      "184:\tlearn: 0.4650227\ttotal: 8.6s\tremaining: 37.9s\n",
      "185:\tlearn: 0.4635780\ttotal: 8.65s\tremaining: 37.8s\n",
      "186:\tlearn: 0.4625988\ttotal: 8.69s\tremaining: 37.8s\n",
      "187:\tlearn: 0.4616288\ttotal: 8.73s\tremaining: 37.7s\n",
      "188:\tlearn: 0.4604710\ttotal: 8.78s\tremaining: 37.7s\n",
      "189:\tlearn: 0.4596699\ttotal: 8.82s\tremaining: 37.6s\n",
      "190:\tlearn: 0.4583616\ttotal: 8.86s\tremaining: 37.5s\n",
      "191:\tlearn: 0.4569835\ttotal: 8.91s\tremaining: 37.5s\n",
      "192:\tlearn: 0.4561028\ttotal: 8.95s\tremaining: 37.4s\n",
      "193:\tlearn: 0.4554236\ttotal: 8.99s\tremaining: 37.4s\n",
      "194:\tlearn: 0.4538319\ttotal: 9.04s\tremaining: 37.3s\n",
      "195:\tlearn: 0.4528159\ttotal: 9.08s\tremaining: 37.2s\n",
      "196:\tlearn: 0.4521120\ttotal: 9.12s\tremaining: 37.2s\n",
      "197:\tlearn: 0.4512410\ttotal: 9.16s\tremaining: 37.1s\n",
      "198:\tlearn: 0.4501015\ttotal: 9.21s\tremaining: 37.1s\n",
      "199:\tlearn: 0.4491759\ttotal: 9.25s\tremaining: 37s\n",
      "200:\tlearn: 0.4482413\ttotal: 9.29s\tremaining: 36.9s\n",
      "201:\tlearn: 0.4472933\ttotal: 9.33s\tremaining: 36.9s\n",
      "202:\tlearn: 0.4465058\ttotal: 9.38s\tremaining: 36.8s\n",
      "203:\tlearn: 0.4457724\ttotal: 9.42s\tremaining: 36.7s\n",
      "204:\tlearn: 0.4441288\ttotal: 9.47s\tremaining: 36.7s\n",
      "205:\tlearn: 0.4436305\ttotal: 9.5s\tremaining: 36.6s\n",
      "206:\tlearn: 0.4417992\ttotal: 9.55s\tremaining: 36.6s\n",
      "207:\tlearn: 0.4413707\ttotal: 9.59s\tremaining: 36.5s\n",
      "208:\tlearn: 0.4402979\ttotal: 9.64s\tremaining: 36.5s\n",
      "209:\tlearn: 0.4394558\ttotal: 9.68s\tremaining: 36.4s\n",
      "210:\tlearn: 0.4384476\ttotal: 9.72s\tremaining: 36.4s\n",
      "211:\tlearn: 0.4376548\ttotal: 9.77s\tremaining: 36.3s\n",
      "212:\tlearn: 0.4368617\ttotal: 9.82s\tremaining: 36.3s\n",
      "213:\tlearn: 0.4356916\ttotal: 9.87s\tremaining: 36.2s\n",
      "214:\tlearn: 0.4348755\ttotal: 9.9s\tremaining: 36.2s\n",
      "215:\tlearn: 0.4338643\ttotal: 9.95s\tremaining: 36.1s\n",
      "216:\tlearn: 0.4323765\ttotal: 9.99s\tremaining: 36.1s\n",
      "217:\tlearn: 0.4313909\ttotal: 10s\tremaining: 36s\n",
      "218:\tlearn: 0.4306172\ttotal: 10.1s\tremaining: 36s\n",
      "219:\tlearn: 0.4298678\ttotal: 10.1s\tremaining: 35.9s\n",
      "220:\tlearn: 0.4286320\ttotal: 10.2s\tremaining: 35.9s\n",
      "221:\tlearn: 0.4278888\ttotal: 10.2s\tremaining: 35.8s\n",
      "222:\tlearn: 0.4269926\ttotal: 10.3s\tremaining: 35.8s\n",
      "223:\tlearn: 0.4260118\ttotal: 10.3s\tremaining: 35.7s\n",
      "224:\tlearn: 0.4252044\ttotal: 10.3s\tremaining: 35.6s\n",
      "225:\tlearn: 0.4239094\ttotal: 10.4s\tremaining: 35.6s\n",
      "226:\tlearn: 0.4232151\ttotal: 10.4s\tremaining: 35.5s\n",
      "227:\tlearn: 0.4221155\ttotal: 10.5s\tremaining: 35.5s\n",
      "228:\tlearn: 0.4217032\ttotal: 10.5s\tremaining: 35.4s\n",
      "229:\tlearn: 0.4207290\ttotal: 10.6s\tremaining: 35.4s\n",
      "230:\tlearn: 0.4198693\ttotal: 10.6s\tremaining: 35.3s\n",
      "231:\tlearn: 0.4189313\ttotal: 10.6s\tremaining: 35.2s\n",
      "232:\tlearn: 0.4183377\ttotal: 10.7s\tremaining: 35.2s\n",
      "233:\tlearn: 0.4173700\ttotal: 10.7s\tremaining: 35.2s\n",
      "234:\tlearn: 0.4166524\ttotal: 10.8s\tremaining: 35.1s\n",
      "235:\tlearn: 0.4160359\ttotal: 10.8s\tremaining: 35s\n",
      "236:\tlearn: 0.4152738\ttotal: 10.9s\tremaining: 35s\n",
      "237:\tlearn: 0.4145166\ttotal: 10.9s\tremaining: 35s\n",
      "238:\tlearn: 0.4134284\ttotal: 11s\tremaining: 34.9s\n",
      "239:\tlearn: 0.4119706\ttotal: 11s\tremaining: 34.9s\n",
      "240:\tlearn: 0.4110198\ttotal: 11.1s\tremaining: 34.8s\n",
      "241:\tlearn: 0.4104807\ttotal: 11.1s\tremaining: 34.7s\n",
      "242:\tlearn: 0.4098682\ttotal: 11.1s\tremaining: 34.7s\n",
      "243:\tlearn: 0.4089672\ttotal: 11.2s\tremaining: 34.7s\n",
      "244:\tlearn: 0.4082017\ttotal: 11.2s\tremaining: 34.6s\n",
      "245:\tlearn: 0.4072097\ttotal: 11.3s\tremaining: 34.6s\n",
      "246:\tlearn: 0.4063006\ttotal: 11.3s\tremaining: 34.5s\n",
      "247:\tlearn: 0.4054766\ttotal: 11.4s\tremaining: 34.4s\n",
      "248:\tlearn: 0.4047777\ttotal: 11.4s\tremaining: 34.5s\n",
      "249:\tlearn: 0.4040895\ttotal: 11.5s\tremaining: 34.4s\n",
      "250:\tlearn: 0.4029904\ttotal: 11.5s\tremaining: 34.4s\n",
      "251:\tlearn: 0.4022031\ttotal: 11.6s\tremaining: 34.3s\n",
      "252:\tlearn: 0.4016467\ttotal: 11.6s\tremaining: 34.3s\n",
      "253:\tlearn: 0.4010127\ttotal: 11.6s\tremaining: 34.2s\n",
      "254:\tlearn: 0.4004069\ttotal: 11.7s\tremaining: 34.2s\n",
      "255:\tlearn: 0.3993616\ttotal: 11.7s\tremaining: 34.1s\n",
      "256:\tlearn: 0.3988447\ttotal: 11.8s\tremaining: 34s\n",
      "257:\tlearn: 0.3980722\ttotal: 11.8s\tremaining: 34s\n",
      "258:\tlearn: 0.3972097\ttotal: 11.9s\tremaining: 34s\n",
      "259:\tlearn: 0.3969047\ttotal: 11.9s\tremaining: 33.9s\n",
      "260:\tlearn: 0.3962012\ttotal: 12s\tremaining: 33.8s\n",
      "261:\tlearn: 0.3953775\ttotal: 12s\tremaining: 33.8s\n",
      "262:\tlearn: 0.3947604\ttotal: 12s\tremaining: 33.7s\n",
      "263:\tlearn: 0.3940757\ttotal: 12.1s\tremaining: 33.7s\n",
      "264:\tlearn: 0.3930218\ttotal: 12.1s\tremaining: 33.6s\n",
      "265:\tlearn: 0.3923998\ttotal: 12.2s\tremaining: 33.6s\n",
      "266:\tlearn: 0.3913612\ttotal: 12.2s\tremaining: 33.5s\n",
      "267:\tlearn: 0.3908661\ttotal: 12.3s\tremaining: 33.5s\n",
      "268:\tlearn: 0.3900000\ttotal: 12.3s\tremaining: 33.4s\n",
      "269:\tlearn: 0.3892634\ttotal: 12.4s\tremaining: 33.4s\n",
      "270:\tlearn: 0.3886771\ttotal: 12.4s\tremaining: 33.3s\n",
      "271:\tlearn: 0.3880266\ttotal: 12.4s\tremaining: 33.3s\n",
      "272:\tlearn: 0.3874572\ttotal: 12.5s\tremaining: 33.2s\n",
      "273:\tlearn: 0.3869596\ttotal: 12.5s\tremaining: 33.2s\n",
      "274:\tlearn: 0.3862536\ttotal: 12.6s\tremaining: 33.2s\n",
      "275:\tlearn: 0.3855755\ttotal: 12.6s\tremaining: 33.1s\n",
      "276:\tlearn: 0.3851696\ttotal: 12.7s\tremaining: 33s\n",
      "277:\tlearn: 0.3847454\ttotal: 12.7s\tremaining: 33s\n",
      "278:\tlearn: 0.3838532\ttotal: 12.8s\tremaining: 33s\n",
      "279:\tlearn: 0.3831957\ttotal: 12.8s\tremaining: 32.9s\n",
      "280:\tlearn: 0.3824399\ttotal: 12.8s\tremaining: 32.9s\n",
      "281:\tlearn: 0.3818063\ttotal: 12.9s\tremaining: 32.8s\n",
      "282:\tlearn: 0.3808502\ttotal: 12.9s\tremaining: 32.8s\n",
      "283:\tlearn: 0.3801241\ttotal: 13s\tremaining: 32.7s\n",
      "284:\tlearn: 0.3794243\ttotal: 13s\tremaining: 32.7s\n",
      "285:\tlearn: 0.3790319\ttotal: 13.1s\tremaining: 32.6s\n",
      "286:\tlearn: 0.3785712\ttotal: 13.1s\tremaining: 32.6s\n",
      "287:\tlearn: 0.3781411\ttotal: 13.2s\tremaining: 32.5s\n",
      "288:\tlearn: 0.3773300\ttotal: 13.2s\tremaining: 32.5s\n",
      "289:\tlearn: 0.3767234\ttotal: 13.3s\tremaining: 32.4s\n",
      "290:\tlearn: 0.3755484\ttotal: 13.3s\tremaining: 32.4s\n",
      "291:\tlearn: 0.3751577\ttotal: 13.3s\tremaining: 32.3s\n",
      "292:\tlearn: 0.3742255\ttotal: 13.4s\tremaining: 32.3s\n",
      "293:\tlearn: 0.3737770\ttotal: 13.4s\tremaining: 32.3s\n",
      "294:\tlearn: 0.3727895\ttotal: 13.5s\tremaining: 32.2s\n",
      "295:\tlearn: 0.3724644\ttotal: 13.5s\tremaining: 32.2s\n",
      "296:\tlearn: 0.3716901\ttotal: 13.6s\tremaining: 32.1s\n",
      "297:\tlearn: 0.3710199\ttotal: 13.6s\tremaining: 32.1s\n",
      "298:\tlearn: 0.3702674\ttotal: 13.7s\tremaining: 32s\n",
      "299:\tlearn: 0.3698211\ttotal: 13.7s\tremaining: 32s\n",
      "300:\tlearn: 0.3692251\ttotal: 13.7s\tremaining: 31.9s\n",
      "301:\tlearn: 0.3685364\ttotal: 13.8s\tremaining: 31.9s\n",
      "302:\tlearn: 0.3682409\ttotal: 13.8s\tremaining: 31.8s\n",
      "303:\tlearn: 0.3675683\ttotal: 13.9s\tremaining: 31.7s\n",
      "304:\tlearn: 0.3668930\ttotal: 13.9s\tremaining: 31.7s\n",
      "305:\tlearn: 0.3662359\ttotal: 14s\tremaining: 31.6s\n",
      "306:\tlearn: 0.3656285\ttotal: 14s\tremaining: 31.6s\n",
      "307:\tlearn: 0.3646632\ttotal: 14s\tremaining: 31.5s\n",
      "308:\tlearn: 0.3639473\ttotal: 14.1s\tremaining: 31.5s\n",
      "309:\tlearn: 0.3634959\ttotal: 14.1s\tremaining: 31.4s\n",
      "310:\tlearn: 0.3628524\ttotal: 14.2s\tremaining: 31.4s\n",
      "311:\tlearn: 0.3624180\ttotal: 14.2s\tremaining: 31.3s\n",
      "312:\tlearn: 0.3620221\ttotal: 14.2s\tremaining: 31.3s\n",
      "313:\tlearn: 0.3613197\ttotal: 14.3s\tremaining: 31.2s\n",
      "314:\tlearn: 0.3607207\ttotal: 14.3s\tremaining: 31.2s\n",
      "315:\tlearn: 0.3602378\ttotal: 14.4s\tremaining: 31.1s\n",
      "316:\tlearn: 0.3598931\ttotal: 14.4s\tremaining: 31.1s\n",
      "317:\tlearn: 0.3594734\ttotal: 14.5s\tremaining: 31s\n",
      "318:\tlearn: 0.3590324\ttotal: 14.5s\tremaining: 31s\n",
      "319:\tlearn: 0.3581145\ttotal: 14.6s\tremaining: 30.9s\n",
      "320:\tlearn: 0.3575681\ttotal: 14.6s\tremaining: 30.9s\n",
      "321:\tlearn: 0.3571205\ttotal: 14.6s\tremaining: 30.8s\n",
      "322:\tlearn: 0.3565551\ttotal: 14.7s\tremaining: 30.8s\n",
      "323:\tlearn: 0.3560944\ttotal: 14.7s\tremaining: 30.7s\n",
      "324:\tlearn: 0.3555449\ttotal: 14.8s\tremaining: 30.7s\n",
      "325:\tlearn: 0.3551186\ttotal: 14.8s\tremaining: 30.7s\n",
      "326:\tlearn: 0.3548292\ttotal: 14.9s\tremaining: 30.6s\n",
      "327:\tlearn: 0.3541316\ttotal: 14.9s\tremaining: 30.6s\n",
      "328:\tlearn: 0.3538218\ttotal: 15s\tremaining: 30.5s\n",
      "329:\tlearn: 0.3531561\ttotal: 15s\tremaining: 30.5s\n",
      "330:\tlearn: 0.3525542\ttotal: 15.1s\tremaining: 30.4s\n",
      "331:\tlearn: 0.3519279\ttotal: 15.1s\tremaining: 30.4s\n",
      "332:\tlearn: 0.3515487\ttotal: 15.1s\tremaining: 30.3s\n",
      "333:\tlearn: 0.3509401\ttotal: 15.2s\tremaining: 30.3s\n",
      "334:\tlearn: 0.3505460\ttotal: 15.2s\tremaining: 30.2s\n",
      "335:\tlearn: 0.3494639\ttotal: 15.3s\tremaining: 30.2s\n",
      "336:\tlearn: 0.3488394\ttotal: 15.3s\tremaining: 30.2s\n",
      "337:\tlearn: 0.3484269\ttotal: 15.4s\tremaining: 30.1s\n",
      "338:\tlearn: 0.3479971\ttotal: 15.4s\tremaining: 30.1s\n",
      "339:\tlearn: 0.3475729\ttotal: 15.5s\tremaining: 30s\n",
      "340:\tlearn: 0.3468338\ttotal: 15.5s\tremaining: 30s\n",
      "341:\tlearn: 0.3463743\ttotal: 15.6s\tremaining: 29.9s\n",
      "342:\tlearn: 0.3456963\ttotal: 15.6s\tremaining: 29.9s\n",
      "343:\tlearn: 0.3448460\ttotal: 15.6s\tremaining: 29.8s\n",
      "344:\tlearn: 0.3443478\ttotal: 15.7s\tremaining: 29.8s\n",
      "345:\tlearn: 0.3440783\ttotal: 15.7s\tremaining: 29.7s\n",
      "346:\tlearn: 0.3434711\ttotal: 15.8s\tremaining: 29.7s\n",
      "347:\tlearn: 0.3430871\ttotal: 15.8s\tremaining: 29.7s\n",
      "348:\tlearn: 0.3426818\ttotal: 15.9s\tremaining: 29.6s\n",
      "349:\tlearn: 0.3419440\ttotal: 15.9s\tremaining: 29.6s\n",
      "350:\tlearn: 0.3411528\ttotal: 16s\tremaining: 29.5s\n",
      "351:\tlearn: 0.3407703\ttotal: 16s\tremaining: 29.5s\n",
      "352:\tlearn: 0.3402625\ttotal: 16.1s\tremaining: 29.4s\n",
      "353:\tlearn: 0.3398315\ttotal: 16.1s\tremaining: 29.4s\n",
      "354:\tlearn: 0.3394150\ttotal: 16.1s\tremaining: 29.3s\n",
      "355:\tlearn: 0.3391933\ttotal: 16.2s\tremaining: 29.3s\n",
      "356:\tlearn: 0.3383593\ttotal: 16.2s\tremaining: 29.2s\n",
      "357:\tlearn: 0.3381689\ttotal: 16.3s\tremaining: 29.2s\n",
      "358:\tlearn: 0.3376638\ttotal: 16.3s\tremaining: 29.1s\n",
      "359:\tlearn: 0.3373675\ttotal: 16.4s\tremaining: 29.1s\n",
      "360:\tlearn: 0.3368956\ttotal: 16.4s\tremaining: 29.1s\n",
      "361:\tlearn: 0.3364955\ttotal: 16.5s\tremaining: 29s\n",
      "362:\tlearn: 0.3359777\ttotal: 16.5s\tremaining: 29s\n",
      "363:\tlearn: 0.3352730\ttotal: 16.5s\tremaining: 28.9s\n",
      "364:\tlearn: 0.3346554\ttotal: 16.6s\tremaining: 28.9s\n",
      "365:\tlearn: 0.3342434\ttotal: 16.6s\tremaining: 28.8s\n",
      "366:\tlearn: 0.3337533\ttotal: 16.7s\tremaining: 28.8s\n",
      "367:\tlearn: 0.3333797\ttotal: 16.7s\tremaining: 28.7s\n",
      "368:\tlearn: 0.3326844\ttotal: 16.8s\tremaining: 28.7s\n",
      "369:\tlearn: 0.3324033\ttotal: 16.8s\tremaining: 28.6s\n",
      "370:\tlearn: 0.3317732\ttotal: 16.9s\tremaining: 28.6s\n",
      "371:\tlearn: 0.3315351\ttotal: 16.9s\tremaining: 28.5s\n",
      "372:\tlearn: 0.3309374\ttotal: 16.9s\tremaining: 28.5s\n",
      "373:\tlearn: 0.3305361\ttotal: 17s\tremaining: 28.4s\n",
      "374:\tlearn: 0.3303197\ttotal: 17s\tremaining: 28.4s\n",
      "375:\tlearn: 0.3299156\ttotal: 17.1s\tremaining: 28.3s\n",
      "376:\tlearn: 0.3296411\ttotal: 17.1s\tremaining: 28.3s\n",
      "377:\tlearn: 0.3293890\ttotal: 17.2s\tremaining: 28.2s\n",
      "378:\tlearn: 0.3288434\ttotal: 17.2s\tremaining: 28.2s\n",
      "379:\tlearn: 0.3284026\ttotal: 17.2s\tremaining: 28.1s\n",
      "380:\tlearn: 0.3279599\ttotal: 17.3s\tremaining: 28.1s\n",
      "381:\tlearn: 0.3274590\ttotal: 17.3s\tremaining: 28s\n",
      "382:\tlearn: 0.3271167\ttotal: 17.4s\tremaining: 28s\n",
      "383:\tlearn: 0.3266599\ttotal: 17.4s\tremaining: 28s\n",
      "384:\tlearn: 0.3262632\ttotal: 17.5s\tremaining: 27.9s\n",
      "385:\tlearn: 0.3259047\ttotal: 17.5s\tremaining: 27.9s\n",
      "386:\tlearn: 0.3252372\ttotal: 17.6s\tremaining: 27.8s\n",
      "387:\tlearn: 0.3249068\ttotal: 17.6s\tremaining: 27.8s\n",
      "388:\tlearn: 0.3246171\ttotal: 17.6s\tremaining: 27.7s\n",
      "389:\tlearn: 0.3239100\ttotal: 17.7s\tremaining: 27.7s\n",
      "390:\tlearn: 0.3235832\ttotal: 17.7s\tremaining: 27.6s\n",
      "391:\tlearn: 0.3232497\ttotal: 17.8s\tremaining: 27.6s\n",
      "392:\tlearn: 0.3227394\ttotal: 17.8s\tremaining: 27.5s\n",
      "393:\tlearn: 0.3222702\ttotal: 17.9s\tremaining: 27.5s\n",
      "394:\tlearn: 0.3220540\ttotal: 17.9s\tremaining: 27.4s\n",
      "395:\tlearn: 0.3216265\ttotal: 17.9s\tremaining: 27.4s\n",
      "396:\tlearn: 0.3210813\ttotal: 18s\tremaining: 27.3s\n",
      "397:\tlearn: 0.3207485\ttotal: 18s\tremaining: 27.3s\n",
      "398:\tlearn: 0.3202979\ttotal: 18.1s\tremaining: 27.2s\n",
      "399:\tlearn: 0.3199167\ttotal: 18.1s\tremaining: 27.2s\n",
      "400:\tlearn: 0.3194162\ttotal: 18.2s\tremaining: 27.1s\n",
      "401:\tlearn: 0.3188802\ttotal: 18.2s\tremaining: 27.1s\n",
      "402:\tlearn: 0.3184846\ttotal: 18.3s\tremaining: 27.1s\n",
      "403:\tlearn: 0.3181520\ttotal: 18.3s\tremaining: 27s\n",
      "404:\tlearn: 0.3175610\ttotal: 18.3s\tremaining: 27s\n",
      "405:\tlearn: 0.3170825\ttotal: 18.4s\tremaining: 26.9s\n",
      "406:\tlearn: 0.3164495\ttotal: 18.4s\tremaining: 26.9s\n",
      "407:\tlearn: 0.3161058\ttotal: 18.5s\tremaining: 26.8s\n",
      "408:\tlearn: 0.3158566\ttotal: 18.5s\tremaining: 26.8s\n",
      "409:\tlearn: 0.3153483\ttotal: 18.6s\tremaining: 26.7s\n",
      "410:\tlearn: 0.3145566\ttotal: 18.6s\tremaining: 26.7s\n",
      "411:\tlearn: 0.3141933\ttotal: 18.7s\tremaining: 26.7s\n",
      "412:\tlearn: 0.3136643\ttotal: 18.7s\tremaining: 26.6s\n",
      "413:\tlearn: 0.3131013\ttotal: 18.8s\tremaining: 26.6s\n",
      "414:\tlearn: 0.3127683\ttotal: 18.8s\tremaining: 26.6s\n",
      "415:\tlearn: 0.3125313\ttotal: 18.9s\tremaining: 26.5s\n",
      "416:\tlearn: 0.3120589\ttotal: 18.9s\tremaining: 26.5s\n",
      "417:\tlearn: 0.3115828\ttotal: 19s\tremaining: 26.4s\n",
      "418:\tlearn: 0.3110350\ttotal: 19s\tremaining: 26.4s\n",
      "419:\tlearn: 0.3107886\ttotal: 19.1s\tremaining: 26.4s\n",
      "420:\tlearn: 0.3103593\ttotal: 19.1s\tremaining: 26.3s\n",
      "421:\tlearn: 0.3097984\ttotal: 19.2s\tremaining: 26.3s\n",
      "422:\tlearn: 0.3094617\ttotal: 19.3s\tremaining: 26.3s\n",
      "423:\tlearn: 0.3093166\ttotal: 19.3s\tremaining: 26.2s\n",
      "424:\tlearn: 0.3089887\ttotal: 19.3s\tremaining: 26.2s\n",
      "425:\tlearn: 0.3086613\ttotal: 19.4s\tremaining: 26.1s\n",
      "426:\tlearn: 0.3082471\ttotal: 19.4s\tremaining: 26.1s\n",
      "427:\tlearn: 0.3078854\ttotal: 19.5s\tremaining: 26.1s\n",
      "428:\tlearn: 0.3073902\ttotal: 19.5s\tremaining: 26s\n",
      "429:\tlearn: 0.3071971\ttotal: 19.6s\tremaining: 26s\n",
      "430:\tlearn: 0.3069366\ttotal: 19.6s\tremaining: 25.9s\n",
      "431:\tlearn: 0.3066013\ttotal: 19.7s\tremaining: 25.9s\n",
      "432:\tlearn: 0.3064034\ttotal: 19.7s\tremaining: 25.8s\n",
      "433:\tlearn: 0.3060712\ttotal: 19.8s\tremaining: 25.8s\n",
      "434:\tlearn: 0.3056153\ttotal: 19.8s\tremaining: 25.7s\n",
      "435:\tlearn: 0.3052351\ttotal: 19.9s\tremaining: 25.7s\n",
      "436:\tlearn: 0.3046716\ttotal: 19.9s\tremaining: 25.7s\n",
      "437:\tlearn: 0.3042370\ttotal: 20s\tremaining: 25.6s\n",
      "438:\tlearn: 0.3037933\ttotal: 20s\tremaining: 25.6s\n",
      "439:\tlearn: 0.3033329\ttotal: 20.1s\tremaining: 25.6s\n",
      "440:\tlearn: 0.3029770\ttotal: 20.2s\tremaining: 25.6s\n",
      "441:\tlearn: 0.3027306\ttotal: 20.2s\tremaining: 25.5s\n",
      "442:\tlearn: 0.3022771\ttotal: 20.3s\tremaining: 25.5s\n",
      "443:\tlearn: 0.3016225\ttotal: 20.3s\tremaining: 25.5s\n",
      "444:\tlearn: 0.3011703\ttotal: 20.4s\tremaining: 25.4s\n",
      "445:\tlearn: 0.3008150\ttotal: 20.4s\tremaining: 25.4s\n",
      "446:\tlearn: 0.3004207\ttotal: 20.5s\tremaining: 25.3s\n",
      "447:\tlearn: 0.3002626\ttotal: 20.5s\tremaining: 25.3s\n",
      "448:\tlearn: 0.2997531\ttotal: 20.6s\tremaining: 25.3s\n",
      "449:\tlearn: 0.2993614\ttotal: 20.6s\tremaining: 25.2s\n",
      "450:\tlearn: 0.2989880\ttotal: 20.7s\tremaining: 25.2s\n",
      "451:\tlearn: 0.2985046\ttotal: 20.7s\tremaining: 25.2s\n",
      "452:\tlearn: 0.2980322\ttotal: 20.8s\tremaining: 25.1s\n",
      "453:\tlearn: 0.2978990\ttotal: 20.8s\tremaining: 25.1s\n",
      "454:\tlearn: 0.2972097\ttotal: 20.9s\tremaining: 25s\n",
      "455:\tlearn: 0.2968150\ttotal: 21s\tremaining: 25s\n",
      "456:\tlearn: 0.2965991\ttotal: 21s\tremaining: 25s\n",
      "457:\tlearn: 0.2962622\ttotal: 21.1s\tremaining: 24.9s\n",
      "458:\tlearn: 0.2958385\ttotal: 21.1s\tremaining: 24.9s\n",
      "459:\tlearn: 0.2953131\ttotal: 21.2s\tremaining: 24.9s\n",
      "460:\tlearn: 0.2950956\ttotal: 21.2s\tremaining: 24.8s\n",
      "461:\tlearn: 0.2946786\ttotal: 21.3s\tremaining: 24.8s\n",
      "462:\tlearn: 0.2943857\ttotal: 21.3s\tremaining: 24.7s\n",
      "463:\tlearn: 0.2938816\ttotal: 21.4s\tremaining: 24.7s\n",
      "464:\tlearn: 0.2934865\ttotal: 21.4s\tremaining: 24.6s\n",
      "465:\tlearn: 0.2931041\ttotal: 21.5s\tremaining: 24.6s\n",
      "466:\tlearn: 0.2927602\ttotal: 21.5s\tremaining: 24.5s\n",
      "467:\tlearn: 0.2923287\ttotal: 21.6s\tremaining: 24.5s\n",
      "468:\tlearn: 0.2919853\ttotal: 21.6s\tremaining: 24.5s\n",
      "469:\tlearn: 0.2916312\ttotal: 21.6s\tremaining: 24.4s\n",
      "470:\tlearn: 0.2913851\ttotal: 21.7s\tremaining: 24.4s\n",
      "471:\tlearn: 0.2909207\ttotal: 21.7s\tremaining: 24.3s\n",
      "472:\tlearn: 0.2903976\ttotal: 21.8s\tremaining: 24.3s\n",
      "473:\tlearn: 0.2900655\ttotal: 21.8s\tremaining: 24.2s\n",
      "474:\tlearn: 0.2898253\ttotal: 21.9s\tremaining: 24.2s\n",
      "475:\tlearn: 0.2893168\ttotal: 21.9s\tremaining: 24.1s\n",
      "476:\tlearn: 0.2891918\ttotal: 22s\tremaining: 24.1s\n",
      "477:\tlearn: 0.2887277\ttotal: 22s\tremaining: 24.1s\n",
      "478:\tlearn: 0.2882016\ttotal: 22.1s\tremaining: 24s\n",
      "479:\tlearn: 0.2879437\ttotal: 22.1s\tremaining: 24s\n",
      "480:\tlearn: 0.2875644\ttotal: 22.2s\tremaining: 23.9s\n",
      "481:\tlearn: 0.2872904\ttotal: 22.2s\tremaining: 23.9s\n",
      "482:\tlearn: 0.2871055\ttotal: 22.2s\tremaining: 23.8s\n",
      "483:\tlearn: 0.2867458\ttotal: 22.3s\tremaining: 23.8s\n",
      "484:\tlearn: 0.2862564\ttotal: 22.3s\tremaining: 23.7s\n",
      "485:\tlearn: 0.2859688\ttotal: 22.4s\tremaining: 23.7s\n",
      "486:\tlearn: 0.2855869\ttotal: 22.4s\tremaining: 23.6s\n",
      "487:\tlearn: 0.2852147\ttotal: 22.5s\tremaining: 23.6s\n",
      "488:\tlearn: 0.2850042\ttotal: 22.5s\tremaining: 23.5s\n",
      "489:\tlearn: 0.2847277\ttotal: 22.6s\tremaining: 23.5s\n",
      "490:\tlearn: 0.2843746\ttotal: 22.6s\tremaining: 23.4s\n",
      "491:\tlearn: 0.2840467\ttotal: 22.7s\tremaining: 23.4s\n",
      "492:\tlearn: 0.2836164\ttotal: 22.7s\tremaining: 23.4s\n",
      "493:\tlearn: 0.2831979\ttotal: 22.8s\tremaining: 23.3s\n",
      "494:\tlearn: 0.2828628\ttotal: 22.8s\tremaining: 23.3s\n",
      "495:\tlearn: 0.2826455\ttotal: 22.8s\tremaining: 23.2s\n",
      "496:\tlearn: 0.2823693\ttotal: 22.9s\tremaining: 23.2s\n",
      "497:\tlearn: 0.2819888\ttotal: 22.9s\tremaining: 23.1s\n",
      "498:\tlearn: 0.2815398\ttotal: 23s\tremaining: 23.1s\n",
      "499:\tlearn: 0.2812584\ttotal: 23s\tremaining: 23s\n",
      "500:\tlearn: 0.2806532\ttotal: 23.1s\tremaining: 23s\n",
      "501:\tlearn: 0.2804249\ttotal: 23.1s\tremaining: 22.9s\n",
      "502:\tlearn: 0.2802099\ttotal: 23.2s\tremaining: 22.9s\n",
      "503:\tlearn: 0.2797701\ttotal: 23.2s\tremaining: 22.8s\n",
      "504:\tlearn: 0.2795273\ttotal: 23.3s\tremaining: 22.8s\n",
      "505:\tlearn: 0.2793225\ttotal: 23.3s\tremaining: 22.7s\n",
      "506:\tlearn: 0.2789558\ttotal: 23.3s\tremaining: 22.7s\n",
      "507:\tlearn: 0.2786754\ttotal: 23.4s\tremaining: 22.7s\n",
      "508:\tlearn: 0.2783912\ttotal: 23.4s\tremaining: 22.6s\n",
      "509:\tlearn: 0.2781584\ttotal: 23.5s\tremaining: 22.6s\n",
      "510:\tlearn: 0.2776283\ttotal: 23.5s\tremaining: 22.5s\n",
      "511:\tlearn: 0.2771393\ttotal: 23.6s\tremaining: 22.5s\n",
      "512:\tlearn: 0.2769599\ttotal: 23.6s\tremaining: 22.4s\n",
      "513:\tlearn: 0.2766316\ttotal: 23.7s\tremaining: 22.4s\n",
      "514:\tlearn: 0.2763009\ttotal: 23.7s\tremaining: 22.3s\n",
      "515:\tlearn: 0.2760718\ttotal: 23.8s\tremaining: 22.3s\n",
      "516:\tlearn: 0.2756479\ttotal: 23.8s\tremaining: 22.3s\n",
      "517:\tlearn: 0.2753625\ttotal: 23.9s\tremaining: 22.2s\n",
      "518:\tlearn: 0.2752105\ttotal: 23.9s\tremaining: 22.2s\n",
      "519:\tlearn: 0.2750174\ttotal: 23.9s\tremaining: 22.1s\n",
      "520:\tlearn: 0.2745933\ttotal: 24s\tremaining: 22.1s\n",
      "521:\tlearn: 0.2744573\ttotal: 24s\tremaining: 22s\n",
      "522:\tlearn: 0.2740743\ttotal: 24.1s\tremaining: 22s\n",
      "523:\tlearn: 0.2738393\ttotal: 24.1s\tremaining: 21.9s\n",
      "524:\tlearn: 0.2735229\ttotal: 24.2s\tremaining: 21.9s\n",
      "525:\tlearn: 0.2731476\ttotal: 24.2s\tremaining: 21.8s\n",
      "526:\tlearn: 0.2728120\ttotal: 24.3s\tremaining: 21.8s\n",
      "527:\tlearn: 0.2726877\ttotal: 24.3s\tremaining: 21.7s\n",
      "528:\tlearn: 0.2725057\ttotal: 24.3s\tremaining: 21.7s\n",
      "529:\tlearn: 0.2723076\ttotal: 24.4s\tremaining: 21.6s\n",
      "530:\tlearn: 0.2721162\ttotal: 24.4s\tremaining: 21.6s\n",
      "531:\tlearn: 0.2719970\ttotal: 24.5s\tremaining: 21.5s\n",
      "532:\tlearn: 0.2718562\ttotal: 24.5s\tremaining: 21.5s\n",
      "533:\tlearn: 0.2714973\ttotal: 24.6s\tremaining: 21.4s\n",
      "534:\tlearn: 0.2713610\ttotal: 24.6s\tremaining: 21.4s\n",
      "535:\tlearn: 0.2710891\ttotal: 24.6s\tremaining: 21.3s\n",
      "536:\tlearn: 0.2707906\ttotal: 24.7s\tremaining: 21.3s\n",
      "537:\tlearn: 0.2703725\ttotal: 24.7s\tremaining: 21.3s\n",
      "538:\tlearn: 0.2701184\ttotal: 24.8s\tremaining: 21.2s\n",
      "539:\tlearn: 0.2697613\ttotal: 24.8s\tremaining: 21.2s\n",
      "540:\tlearn: 0.2694387\ttotal: 24.9s\tremaining: 21.1s\n",
      "541:\tlearn: 0.2692392\ttotal: 24.9s\tremaining: 21.1s\n",
      "542:\tlearn: 0.2687375\ttotal: 25s\tremaining: 21s\n",
      "543:\tlearn: 0.2684688\ttotal: 25s\tremaining: 21s\n",
      "544:\tlearn: 0.2680895\ttotal: 25.1s\tremaining: 20.9s\n",
      "545:\tlearn: 0.2678250\ttotal: 25.1s\tremaining: 20.9s\n",
      "546:\tlearn: 0.2675341\ttotal: 25.2s\tremaining: 20.8s\n",
      "547:\tlearn: 0.2673778\ttotal: 25.2s\tremaining: 20.8s\n",
      "548:\tlearn: 0.2671918\ttotal: 25.3s\tremaining: 20.7s\n",
      "549:\tlearn: 0.2669512\ttotal: 25.3s\tremaining: 20.7s\n",
      "550:\tlearn: 0.2667564\ttotal: 25.3s\tremaining: 20.7s\n",
      "551:\tlearn: 0.2662927\ttotal: 25.4s\tremaining: 20.6s\n",
      "552:\tlearn: 0.2659773\ttotal: 25.4s\tremaining: 20.6s\n",
      "553:\tlearn: 0.2657425\ttotal: 25.5s\tremaining: 20.5s\n",
      "554:\tlearn: 0.2654560\ttotal: 25.5s\tremaining: 20.5s\n",
      "555:\tlearn: 0.2652470\ttotal: 25.6s\tremaining: 20.4s\n",
      "556:\tlearn: 0.2649850\ttotal: 25.6s\tremaining: 20.4s\n",
      "557:\tlearn: 0.2647784\ttotal: 25.7s\tremaining: 20.3s\n",
      "558:\tlearn: 0.2644532\ttotal: 25.7s\tremaining: 20.3s\n",
      "559:\tlearn: 0.2642143\ttotal: 25.8s\tremaining: 20.2s\n",
      "560:\tlearn: 0.2638458\ttotal: 25.8s\tremaining: 20.2s\n",
      "561:\tlearn: 0.2636779\ttotal: 25.9s\tremaining: 20.1s\n",
      "562:\tlearn: 0.2634216\ttotal: 25.9s\tremaining: 20.1s\n",
      "563:\tlearn: 0.2631178\ttotal: 25.9s\tremaining: 20.1s\n",
      "564:\tlearn: 0.2629848\ttotal: 26s\tremaining: 20s\n",
      "565:\tlearn: 0.2627719\ttotal: 26s\tremaining: 20s\n",
      "566:\tlearn: 0.2623919\ttotal: 26.1s\tremaining: 19.9s\n",
      "567:\tlearn: 0.2621606\ttotal: 26.1s\tremaining: 19.9s\n",
      "568:\tlearn: 0.2619177\ttotal: 26.2s\tremaining: 19.8s\n",
      "569:\tlearn: 0.2617501\ttotal: 26.2s\tremaining: 19.8s\n",
      "570:\tlearn: 0.2615534\ttotal: 26.2s\tremaining: 19.7s\n",
      "571:\tlearn: 0.2612209\ttotal: 26.3s\tremaining: 19.7s\n",
      "572:\tlearn: 0.2608823\ttotal: 26.3s\tremaining: 19.6s\n",
      "573:\tlearn: 0.2607753\ttotal: 26.4s\tremaining: 19.6s\n",
      "574:\tlearn: 0.2606375\ttotal: 26.4s\tremaining: 19.5s\n",
      "575:\tlearn: 0.2601931\ttotal: 26.5s\tremaining: 19.5s\n",
      "576:\tlearn: 0.2599706\ttotal: 26.5s\tremaining: 19.5s\n",
      "577:\tlearn: 0.2598106\ttotal: 26.6s\tremaining: 19.4s\n",
      "578:\tlearn: 0.2595170\ttotal: 26.6s\tremaining: 19.4s\n",
      "579:\tlearn: 0.2590823\ttotal: 26.7s\tremaining: 19.3s\n",
      "580:\tlearn: 0.2589623\ttotal: 26.7s\tremaining: 19.3s\n",
      "581:\tlearn: 0.2586944\ttotal: 26.8s\tremaining: 19.2s\n",
      "582:\tlearn: 0.2584946\ttotal: 26.8s\tremaining: 19.2s\n",
      "583:\tlearn: 0.2582981\ttotal: 26.9s\tremaining: 19.1s\n",
      "584:\tlearn: 0.2578384\ttotal: 26.9s\tremaining: 19.1s\n",
      "585:\tlearn: 0.2577159\ttotal: 27s\tremaining: 19s\n",
      "586:\tlearn: 0.2575137\ttotal: 27s\tremaining: 19s\n",
      "587:\tlearn: 0.2572474\ttotal: 27s\tremaining: 18.9s\n",
      "588:\tlearn: 0.2569659\ttotal: 27.1s\tremaining: 18.9s\n",
      "589:\tlearn: 0.2565431\ttotal: 27.1s\tremaining: 18.9s\n",
      "590:\tlearn: 0.2562858\ttotal: 27.2s\tremaining: 18.8s\n",
      "591:\tlearn: 0.2559619\ttotal: 27.2s\tremaining: 18.8s\n",
      "592:\tlearn: 0.2557211\ttotal: 27.3s\tremaining: 18.7s\n",
      "593:\tlearn: 0.2555109\ttotal: 27.3s\tremaining: 18.7s\n",
      "594:\tlearn: 0.2553477\ttotal: 27.4s\tremaining: 18.6s\n",
      "595:\tlearn: 0.2549568\ttotal: 27.4s\tremaining: 18.6s\n",
      "596:\tlearn: 0.2546800\ttotal: 27.5s\tremaining: 18.5s\n",
      "597:\tlearn: 0.2545693\ttotal: 27.5s\tremaining: 18.5s\n",
      "598:\tlearn: 0.2542093\ttotal: 27.6s\tremaining: 18.5s\n",
      "599:\tlearn: 0.2539442\ttotal: 27.6s\tremaining: 18.4s\n",
      "600:\tlearn: 0.2536729\ttotal: 27.7s\tremaining: 18.4s\n",
      "601:\tlearn: 0.2533955\ttotal: 27.7s\tremaining: 18.3s\n",
      "602:\tlearn: 0.2531599\ttotal: 27.8s\tremaining: 18.3s\n",
      "603:\tlearn: 0.2530409\ttotal: 27.8s\tremaining: 18.2s\n",
      "604:\tlearn: 0.2528309\ttotal: 27.8s\tremaining: 18.2s\n",
      "605:\tlearn: 0.2526913\ttotal: 27.9s\tremaining: 18.1s\n",
      "606:\tlearn: 0.2525609\ttotal: 27.9s\tremaining: 18.1s\n",
      "607:\tlearn: 0.2520983\ttotal: 28s\tremaining: 18s\n",
      "608:\tlearn: 0.2518776\ttotal: 28s\tremaining: 18s\n",
      "609:\tlearn: 0.2515239\ttotal: 28.1s\tremaining: 18s\n",
      "610:\tlearn: 0.2513394\ttotal: 28.1s\tremaining: 17.9s\n",
      "611:\tlearn: 0.2511830\ttotal: 28.2s\tremaining: 17.9s\n",
      "612:\tlearn: 0.2509367\ttotal: 28.2s\tremaining: 17.8s\n",
      "613:\tlearn: 0.2507384\ttotal: 28.3s\tremaining: 17.8s\n",
      "614:\tlearn: 0.2505666\ttotal: 28.3s\tremaining: 17.7s\n",
      "615:\tlearn: 0.2504515\ttotal: 28.3s\tremaining: 17.7s\n",
      "616:\tlearn: 0.2501953\ttotal: 28.4s\tremaining: 17.6s\n",
      "617:\tlearn: 0.2499992\ttotal: 28.4s\tremaining: 17.6s\n",
      "618:\tlearn: 0.2496980\ttotal: 28.5s\tremaining: 17.5s\n",
      "619:\tlearn: 0.2493857\ttotal: 28.5s\tremaining: 17.5s\n",
      "620:\tlearn: 0.2491399\ttotal: 28.6s\tremaining: 17.4s\n",
      "621:\tlearn: 0.2489434\ttotal: 28.6s\tremaining: 17.4s\n",
      "622:\tlearn: 0.2486252\ttotal: 28.7s\tremaining: 17.4s\n",
      "623:\tlearn: 0.2482595\ttotal: 28.7s\tremaining: 17.3s\n",
      "624:\tlearn: 0.2479107\ttotal: 28.8s\tremaining: 17.3s\n",
      "625:\tlearn: 0.2477470\ttotal: 28.8s\tremaining: 17.2s\n",
      "626:\tlearn: 0.2476515\ttotal: 28.9s\tremaining: 17.2s\n",
      "627:\tlearn: 0.2473697\ttotal: 28.9s\tremaining: 17.1s\n",
      "628:\tlearn: 0.2471639\ttotal: 29s\tremaining: 17.1s\n",
      "629:\tlearn: 0.2469321\ttotal: 29s\tremaining: 17s\n",
      "630:\tlearn: 0.2465761\ttotal: 29s\tremaining: 17s\n",
      "631:\tlearn: 0.2464494\ttotal: 29.1s\tremaining: 16.9s\n",
      "632:\tlearn: 0.2462251\ttotal: 29.1s\tremaining: 16.9s\n",
      "633:\tlearn: 0.2460560\ttotal: 29.2s\tremaining: 16.8s\n",
      "634:\tlearn: 0.2458843\ttotal: 29.2s\tremaining: 16.8s\n",
      "635:\tlearn: 0.2456633\ttotal: 29.3s\tremaining: 16.8s\n",
      "636:\tlearn: 0.2454529\ttotal: 29.3s\tremaining: 16.7s\n",
      "637:\tlearn: 0.2453464\ttotal: 29.4s\tremaining: 16.7s\n",
      "638:\tlearn: 0.2452212\ttotal: 29.4s\tremaining: 16.6s\n",
      "639:\tlearn: 0.2449826\ttotal: 29.5s\tremaining: 16.6s\n",
      "640:\tlearn: 0.2447103\ttotal: 29.5s\tremaining: 16.5s\n",
      "641:\tlearn: 0.2444994\ttotal: 29.6s\tremaining: 16.5s\n",
      "642:\tlearn: 0.2441683\ttotal: 29.6s\tremaining: 16.4s\n",
      "643:\tlearn: 0.2440067\ttotal: 29.7s\tremaining: 16.4s\n",
      "644:\tlearn: 0.2437961\ttotal: 29.7s\tremaining: 16.4s\n",
      "645:\tlearn: 0.2435492\ttotal: 29.8s\tremaining: 16.3s\n",
      "646:\tlearn: 0.2433230\ttotal: 29.8s\tremaining: 16.3s\n",
      "647:\tlearn: 0.2430618\ttotal: 29.9s\tremaining: 16.2s\n",
      "648:\tlearn: 0.2427604\ttotal: 29.9s\tremaining: 16.2s\n",
      "649:\tlearn: 0.2425077\ttotal: 30s\tremaining: 16.1s\n",
      "650:\tlearn: 0.2421638\ttotal: 30s\tremaining: 16.1s\n",
      "651:\tlearn: 0.2419481\ttotal: 30.1s\tremaining: 16.1s\n",
      "652:\tlearn: 0.2417283\ttotal: 30.1s\tremaining: 16s\n",
      "653:\tlearn: 0.2414583\ttotal: 30.2s\tremaining: 16s\n",
      "654:\tlearn: 0.2413171\ttotal: 30.2s\tremaining: 15.9s\n",
      "655:\tlearn: 0.2410333\ttotal: 30.2s\tremaining: 15.9s\n",
      "656:\tlearn: 0.2408717\ttotal: 30.3s\tremaining: 15.8s\n",
      "657:\tlearn: 0.2406143\ttotal: 30.3s\tremaining: 15.8s\n",
      "658:\tlearn: 0.2403846\ttotal: 30.4s\tremaining: 15.7s\n",
      "659:\tlearn: 0.2401738\ttotal: 30.4s\tremaining: 15.7s\n",
      "660:\tlearn: 0.2399200\ttotal: 30.5s\tremaining: 15.6s\n",
      "661:\tlearn: 0.2397803\ttotal: 30.5s\tremaining: 15.6s\n",
      "662:\tlearn: 0.2394951\ttotal: 30.6s\tremaining: 15.5s\n",
      "663:\tlearn: 0.2392469\ttotal: 30.6s\tremaining: 15.5s\n",
      "664:\tlearn: 0.2389728\ttotal: 30.7s\tremaining: 15.5s\n",
      "665:\tlearn: 0.2387894\ttotal: 30.7s\tremaining: 15.4s\n",
      "666:\tlearn: 0.2386124\ttotal: 30.8s\tremaining: 15.4s\n",
      "667:\tlearn: 0.2384993\ttotal: 30.8s\tremaining: 15.3s\n",
      "668:\tlearn: 0.2381845\ttotal: 30.9s\tremaining: 15.3s\n",
      "669:\tlearn: 0.2379729\ttotal: 30.9s\tremaining: 15.2s\n",
      "670:\tlearn: 0.2378519\ttotal: 30.9s\tremaining: 15.2s\n",
      "671:\tlearn: 0.2376009\ttotal: 31s\tremaining: 15.1s\n",
      "672:\tlearn: 0.2375092\ttotal: 31s\tremaining: 15.1s\n",
      "673:\tlearn: 0.2372440\ttotal: 31.1s\tremaining: 15s\n",
      "674:\tlearn: 0.2370838\ttotal: 31.1s\tremaining: 15s\n",
      "675:\tlearn: 0.2368916\ttotal: 31.2s\tremaining: 14.9s\n",
      "676:\tlearn: 0.2365445\ttotal: 31.2s\tremaining: 14.9s\n",
      "677:\tlearn: 0.2364305\ttotal: 31.3s\tremaining: 14.8s\n",
      "678:\tlearn: 0.2361466\ttotal: 31.3s\tremaining: 14.8s\n",
      "679:\tlearn: 0.2359702\ttotal: 31.4s\tremaining: 14.8s\n",
      "680:\tlearn: 0.2356734\ttotal: 31.4s\tremaining: 14.7s\n",
      "681:\tlearn: 0.2354854\ttotal: 31.4s\tremaining: 14.7s\n",
      "682:\tlearn: 0.2353145\ttotal: 31.5s\tremaining: 14.6s\n",
      "683:\tlearn: 0.2351611\ttotal: 31.5s\tremaining: 14.6s\n",
      "684:\tlearn: 0.2350932\ttotal: 31.6s\tremaining: 14.5s\n",
      "685:\tlearn: 0.2348275\ttotal: 31.6s\tremaining: 14.5s\n",
      "686:\tlearn: 0.2344308\ttotal: 31.7s\tremaining: 14.4s\n",
      "687:\tlearn: 0.2343784\ttotal: 31.7s\tremaining: 14.4s\n",
      "688:\tlearn: 0.2341613\ttotal: 31.8s\tremaining: 14.3s\n",
      "689:\tlearn: 0.2339304\ttotal: 31.8s\tremaining: 14.3s\n",
      "690:\tlearn: 0.2337435\ttotal: 31.9s\tremaining: 14.2s\n",
      "691:\tlearn: 0.2335311\ttotal: 31.9s\tremaining: 14.2s\n",
      "692:\tlearn: 0.2333281\ttotal: 32s\tremaining: 14.2s\n",
      "693:\tlearn: 0.2331300\ttotal: 32s\tremaining: 14.1s\n",
      "694:\tlearn: 0.2329041\ttotal: 32.1s\tremaining: 14.1s\n",
      "695:\tlearn: 0.2327646\ttotal: 32.1s\tremaining: 14s\n",
      "696:\tlearn: 0.2325555\ttotal: 32.1s\tremaining: 14s\n",
      "697:\tlearn: 0.2324246\ttotal: 32.2s\tremaining: 13.9s\n",
      "698:\tlearn: 0.2321645\ttotal: 32.2s\tremaining: 13.9s\n",
      "699:\tlearn: 0.2319822\ttotal: 32.3s\tremaining: 13.8s\n",
      "700:\tlearn: 0.2318060\ttotal: 32.3s\tremaining: 13.8s\n",
      "701:\tlearn: 0.2315104\ttotal: 32.4s\tremaining: 13.7s\n",
      "702:\tlearn: 0.2312888\ttotal: 32.4s\tremaining: 13.7s\n",
      "703:\tlearn: 0.2311146\ttotal: 32.5s\tremaining: 13.7s\n",
      "704:\tlearn: 0.2309381\ttotal: 32.5s\tremaining: 13.6s\n",
      "705:\tlearn: 0.2307386\ttotal: 32.6s\tremaining: 13.6s\n",
      "706:\tlearn: 0.2306486\ttotal: 32.6s\tremaining: 13.5s\n",
      "707:\tlearn: 0.2304311\ttotal: 32.7s\tremaining: 13.5s\n",
      "708:\tlearn: 0.2302738\ttotal: 32.7s\tremaining: 13.4s\n",
      "709:\tlearn: 0.2300891\ttotal: 32.8s\tremaining: 13.4s\n",
      "710:\tlearn: 0.2298070\ttotal: 32.8s\tremaining: 13.3s\n",
      "711:\tlearn: 0.2295209\ttotal: 32.9s\tremaining: 13.3s\n",
      "712:\tlearn: 0.2293415\ttotal: 32.9s\tremaining: 13.2s\n",
      "713:\tlearn: 0.2292356\ttotal: 32.9s\tremaining: 13.2s\n",
      "714:\tlearn: 0.2290699\ttotal: 33s\tremaining: 13.1s\n",
      "715:\tlearn: 0.2288868\ttotal: 33s\tremaining: 13.1s\n",
      "716:\tlearn: 0.2288152\ttotal: 33.1s\tremaining: 13.1s\n",
      "717:\tlearn: 0.2284756\ttotal: 33.1s\tremaining: 13s\n",
      "718:\tlearn: 0.2280468\ttotal: 33.2s\tremaining: 13s\n",
      "719:\tlearn: 0.2278489\ttotal: 33.2s\tremaining: 12.9s\n",
      "720:\tlearn: 0.2277347\ttotal: 33.3s\tremaining: 12.9s\n",
      "721:\tlearn: 0.2275865\ttotal: 33.3s\tremaining: 12.8s\n",
      "722:\tlearn: 0.2274788\ttotal: 33.4s\tremaining: 12.8s\n",
      "723:\tlearn: 0.2272743\ttotal: 33.4s\tremaining: 12.7s\n",
      "724:\tlearn: 0.2271362\ttotal: 33.4s\tremaining: 12.7s\n",
      "725:\tlearn: 0.2269140\ttotal: 33.5s\tremaining: 12.6s\n",
      "726:\tlearn: 0.2268355\ttotal: 33.5s\tremaining: 12.6s\n",
      "727:\tlearn: 0.2266249\ttotal: 33.6s\tremaining: 12.6s\n",
      "728:\tlearn: 0.2264246\ttotal: 33.6s\tremaining: 12.5s\n",
      "729:\tlearn: 0.2262970\ttotal: 33.7s\tremaining: 12.5s\n",
      "730:\tlearn: 0.2262226\ttotal: 33.7s\tremaining: 12.4s\n",
      "731:\tlearn: 0.2258868\ttotal: 33.8s\tremaining: 12.4s\n",
      "732:\tlearn: 0.2256231\ttotal: 33.8s\tremaining: 12.3s\n",
      "733:\tlearn: 0.2254260\ttotal: 33.9s\tremaining: 12.3s\n",
      "734:\tlearn: 0.2252609\ttotal: 33.9s\tremaining: 12.2s\n",
      "735:\tlearn: 0.2250859\ttotal: 34s\tremaining: 12.2s\n",
      "736:\tlearn: 0.2247950\ttotal: 34s\tremaining: 12.1s\n",
      "737:\tlearn: 0.2246317\ttotal: 34.1s\tremaining: 12.1s\n",
      "738:\tlearn: 0.2245208\ttotal: 34.1s\tremaining: 12s\n",
      "739:\tlearn: 0.2241974\ttotal: 34.2s\tremaining: 12s\n",
      "740:\tlearn: 0.2239897\ttotal: 34.2s\tremaining: 12s\n",
      "741:\tlearn: 0.2237494\ttotal: 34.3s\tremaining: 11.9s\n",
      "742:\tlearn: 0.2236865\ttotal: 34.3s\tremaining: 11.9s\n",
      "743:\tlearn: 0.2235230\ttotal: 34.3s\tremaining: 11.8s\n",
      "744:\tlearn: 0.2234070\ttotal: 34.4s\tremaining: 11.8s\n",
      "745:\tlearn: 0.2233458\ttotal: 34.4s\tremaining: 11.7s\n",
      "746:\tlearn: 0.2231065\ttotal: 34.5s\tremaining: 11.7s\n",
      "747:\tlearn: 0.2229863\ttotal: 34.5s\tremaining: 11.6s\n",
      "748:\tlearn: 0.2226992\ttotal: 34.6s\tremaining: 11.6s\n",
      "749:\tlearn: 0.2225833\ttotal: 34.6s\tremaining: 11.5s\n",
      "750:\tlearn: 0.2224014\ttotal: 34.7s\tremaining: 11.5s\n",
      "751:\tlearn: 0.2222004\ttotal: 34.7s\tremaining: 11.5s\n",
      "752:\tlearn: 0.2221097\ttotal: 34.8s\tremaining: 11.4s\n",
      "753:\tlearn: 0.2218456\ttotal: 34.8s\tremaining: 11.4s\n",
      "754:\tlearn: 0.2216703\ttotal: 34.9s\tremaining: 11.3s\n",
      "755:\tlearn: 0.2215943\ttotal: 34.9s\tremaining: 11.3s\n",
      "756:\tlearn: 0.2214374\ttotal: 35s\tremaining: 11.2s\n",
      "757:\tlearn: 0.2211536\ttotal: 35s\tremaining: 11.2s\n",
      "758:\tlearn: 0.2209281\ttotal: 35.1s\tremaining: 11.1s\n",
      "759:\tlearn: 0.2207852\ttotal: 35.2s\tremaining: 11.1s\n",
      "760:\tlearn: 0.2206732\ttotal: 35.2s\tremaining: 11.1s\n",
      "761:\tlearn: 0.2204387\ttotal: 35.3s\tremaining: 11s\n",
      "762:\tlearn: 0.2203628\ttotal: 35.3s\tremaining: 11s\n",
      "763:\tlearn: 0.2202542\ttotal: 35.4s\tremaining: 10.9s\n",
      "764:\tlearn: 0.2200612\ttotal: 35.4s\tremaining: 10.9s\n",
      "765:\tlearn: 0.2198832\ttotal: 35.5s\tremaining: 10.8s\n",
      "766:\tlearn: 0.2196128\ttotal: 35.5s\tremaining: 10.8s\n",
      "767:\tlearn: 0.2193134\ttotal: 35.6s\tremaining: 10.7s\n",
      "768:\tlearn: 0.2192264\ttotal: 35.6s\tremaining: 10.7s\n",
      "769:\tlearn: 0.2190238\ttotal: 35.7s\tremaining: 10.7s\n",
      "770:\tlearn: 0.2189015\ttotal: 35.7s\tremaining: 10.6s\n",
      "771:\tlearn: 0.2187865\ttotal: 35.8s\tremaining: 10.6s\n",
      "772:\tlearn: 0.2186344\ttotal: 35.8s\tremaining: 10.5s\n",
      "773:\tlearn: 0.2185530\ttotal: 35.9s\tremaining: 10.5s\n",
      "774:\tlearn: 0.2184869\ttotal: 35.9s\tremaining: 10.4s\n",
      "775:\tlearn: 0.2182588\ttotal: 36s\tremaining: 10.4s\n",
      "776:\tlearn: 0.2180880\ttotal: 36s\tremaining: 10.3s\n",
      "777:\tlearn: 0.2179652\ttotal: 36.1s\tremaining: 10.3s\n",
      "778:\tlearn: 0.2178388\ttotal: 36.1s\tremaining: 10.3s\n",
      "779:\tlearn: 0.2177029\ttotal: 36.2s\tremaining: 10.2s\n",
      "780:\tlearn: 0.2175688\ttotal: 36.2s\tremaining: 10.2s\n",
      "781:\tlearn: 0.2174571\ttotal: 36.3s\tremaining: 10.1s\n",
      "782:\tlearn: 0.2173725\ttotal: 36.3s\tremaining: 10.1s\n",
      "783:\tlearn: 0.2172400\ttotal: 36.4s\tremaining: 10s\n",
      "784:\tlearn: 0.2171438\ttotal: 36.4s\tremaining: 9.98s\n",
      "785:\tlearn: 0.2169649\ttotal: 36.5s\tremaining: 9.93s\n",
      "786:\tlearn: 0.2168993\ttotal: 36.5s\tremaining: 9.89s\n",
      "787:\tlearn: 0.2167007\ttotal: 36.6s\tremaining: 9.84s\n",
      "788:\tlearn: 0.2164559\ttotal: 36.6s\tremaining: 9.8s\n",
      "789:\tlearn: 0.2163352\ttotal: 36.7s\tremaining: 9.75s\n",
      "790:\tlearn: 0.2160631\ttotal: 36.8s\tremaining: 9.71s\n",
      "791:\tlearn: 0.2158856\ttotal: 36.8s\tremaining: 9.66s\n",
      "792:\tlearn: 0.2157167\ttotal: 36.9s\tremaining: 9.62s\n",
      "793:\tlearn: 0.2154712\ttotal: 37s\tremaining: 9.59s\n",
      "794:\tlearn: 0.2153841\ttotal: 37s\tremaining: 9.54s\n",
      "795:\tlearn: 0.2151432\ttotal: 37.1s\tremaining: 9.5s\n",
      "796:\tlearn: 0.2149857\ttotal: 37.1s\tremaining: 9.45s\n",
      "797:\tlearn: 0.2148085\ttotal: 37.2s\tremaining: 9.41s\n",
      "798:\tlearn: 0.2147079\ttotal: 37.2s\tremaining: 9.36s\n",
      "799:\tlearn: 0.2145437\ttotal: 37.3s\tremaining: 9.32s\n",
      "800:\tlearn: 0.2143916\ttotal: 37.3s\tremaining: 9.27s\n",
      "801:\tlearn: 0.2143018\ttotal: 37.4s\tremaining: 9.23s\n",
      "802:\tlearn: 0.2141789\ttotal: 37.4s\tremaining: 9.18s\n",
      "803:\tlearn: 0.2139374\ttotal: 37.5s\tremaining: 9.13s\n",
      "804:\tlearn: 0.2138116\ttotal: 37.5s\tremaining: 9.09s\n",
      "805:\tlearn: 0.2137319\ttotal: 37.6s\tremaining: 9.04s\n",
      "806:\tlearn: 0.2134881\ttotal: 37.6s\tremaining: 9s\n",
      "807:\tlearn: 0.2133760\ttotal: 37.7s\tremaining: 8.95s\n",
      "808:\tlearn: 0.2132855\ttotal: 37.7s\tremaining: 8.9s\n",
      "809:\tlearn: 0.2130957\ttotal: 37.8s\tremaining: 8.86s\n",
      "810:\tlearn: 0.2128831\ttotal: 37.8s\tremaining: 8.81s\n",
      "811:\tlearn: 0.2127731\ttotal: 37.9s\tremaining: 8.77s\n",
      "812:\tlearn: 0.2126843\ttotal: 37.9s\tremaining: 8.72s\n",
      "813:\tlearn: 0.2124712\ttotal: 38s\tremaining: 8.67s\n",
      "814:\tlearn: 0.2123866\ttotal: 38s\tremaining: 8.62s\n",
      "815:\tlearn: 0.2122778\ttotal: 38s\tremaining: 8.58s\n",
      "816:\tlearn: 0.2121389\ttotal: 38.1s\tremaining: 8.53s\n",
      "817:\tlearn: 0.2119741\ttotal: 38.1s\tremaining: 8.48s\n",
      "818:\tlearn: 0.2117967\ttotal: 38.2s\tremaining: 8.44s\n",
      "819:\tlearn: 0.2116348\ttotal: 38.2s\tremaining: 8.39s\n",
      "820:\tlearn: 0.2114904\ttotal: 38.3s\tremaining: 8.35s\n",
      "821:\tlearn: 0.2112752\ttotal: 38.3s\tremaining: 8.3s\n",
      "822:\tlearn: 0.2110707\ttotal: 38.4s\tremaining: 8.26s\n",
      "823:\tlearn: 0.2109808\ttotal: 38.4s\tremaining: 8.21s\n",
      "824:\tlearn: 0.2108290\ttotal: 38.5s\tremaining: 8.16s\n",
      "825:\tlearn: 0.2107135\ttotal: 38.5s\tremaining: 8.11s\n",
      "826:\tlearn: 0.2105852\ttotal: 38.6s\tremaining: 8.07s\n",
      "827:\tlearn: 0.2105245\ttotal: 38.6s\tremaining: 8.02s\n",
      "828:\tlearn: 0.2103479\ttotal: 38.7s\tremaining: 7.97s\n",
      "829:\tlearn: 0.2101342\ttotal: 38.7s\tremaining: 7.93s\n",
      "830:\tlearn: 0.2099784\ttotal: 38.8s\tremaining: 7.88s\n",
      "831:\tlearn: 0.2097354\ttotal: 38.8s\tremaining: 7.83s\n",
      "832:\tlearn: 0.2096439\ttotal: 38.8s\tremaining: 7.79s\n",
      "833:\tlearn: 0.2095121\ttotal: 38.9s\tremaining: 7.74s\n",
      "834:\tlearn: 0.2093677\ttotal: 38.9s\tremaining: 7.69s\n",
      "835:\tlearn: 0.2092373\ttotal: 39s\tremaining: 7.64s\n",
      "836:\tlearn: 0.2091806\ttotal: 39s\tremaining: 7.6s\n",
      "837:\tlearn: 0.2089191\ttotal: 39.1s\tremaining: 7.55s\n",
      "838:\tlearn: 0.2087634\ttotal: 39.1s\tremaining: 7.51s\n",
      "839:\tlearn: 0.2085799\ttotal: 39.2s\tremaining: 7.46s\n",
      "840:\tlearn: 0.2084743\ttotal: 39.2s\tremaining: 7.41s\n",
      "841:\tlearn: 0.2081726\ttotal: 39.3s\tremaining: 7.37s\n",
      "842:\tlearn: 0.2080693\ttotal: 39.3s\tremaining: 7.32s\n",
      "843:\tlearn: 0.2080218\ttotal: 39.3s\tremaining: 7.27s\n",
      "844:\tlearn: 0.2079042\ttotal: 39.4s\tremaining: 7.22s\n",
      "845:\tlearn: 0.2077839\ttotal: 39.4s\tremaining: 7.18s\n",
      "846:\tlearn: 0.2075967\ttotal: 39.5s\tremaining: 7.13s\n",
      "847:\tlearn: 0.2075373\ttotal: 39.5s\tremaining: 7.08s\n",
      "848:\tlearn: 0.2073614\ttotal: 39.6s\tremaining: 7.04s\n",
      "849:\tlearn: 0.2071754\ttotal: 39.6s\tremaining: 6.99s\n",
      "850:\tlearn: 0.2070073\ttotal: 39.7s\tremaining: 6.95s\n",
      "851:\tlearn: 0.2067617\ttotal: 39.7s\tremaining: 6.9s\n",
      "852:\tlearn: 0.2066667\ttotal: 39.8s\tremaining: 6.85s\n",
      "853:\tlearn: 0.2064951\ttotal: 39.8s\tremaining: 6.81s\n",
      "854:\tlearn: 0.2063317\ttotal: 39.9s\tremaining: 6.76s\n",
      "855:\tlearn: 0.2061210\ttotal: 39.9s\tremaining: 6.71s\n",
      "856:\tlearn: 0.2060366\ttotal: 40s\tremaining: 6.67s\n",
      "857:\tlearn: 0.2059781\ttotal: 40s\tremaining: 6.62s\n",
      "858:\tlearn: 0.2057860\ttotal: 40s\tremaining: 6.57s\n",
      "859:\tlearn: 0.2056560\ttotal: 40.1s\tremaining: 6.53s\n",
      "860:\tlearn: 0.2055992\ttotal: 40.1s\tremaining: 6.48s\n",
      "861:\tlearn: 0.2054157\ttotal: 40.2s\tremaining: 6.43s\n",
      "862:\tlearn: 0.2053255\ttotal: 40.2s\tremaining: 6.38s\n",
      "863:\tlearn: 0.2051389\ttotal: 40.3s\tremaining: 6.34s\n",
      "864:\tlearn: 0.2049344\ttotal: 40.3s\tremaining: 6.29s\n",
      "865:\tlearn: 0.2048619\ttotal: 40.4s\tremaining: 6.25s\n",
      "866:\tlearn: 0.2047113\ttotal: 40.4s\tremaining: 6.2s\n",
      "867:\tlearn: 0.2045048\ttotal: 40.5s\tremaining: 6.15s\n",
      "868:\tlearn: 0.2042801\ttotal: 40.5s\tremaining: 6.11s\n",
      "869:\tlearn: 0.2040922\ttotal: 40.6s\tremaining: 6.06s\n",
      "870:\tlearn: 0.2040121\ttotal: 40.6s\tremaining: 6.01s\n",
      "871:\tlearn: 0.2038999\ttotal: 40.7s\tremaining: 5.97s\n",
      "872:\tlearn: 0.2037829\ttotal: 40.7s\tremaining: 5.92s\n",
      "873:\tlearn: 0.2037452\ttotal: 40.7s\tremaining: 5.87s\n",
      "874:\tlearn: 0.2036809\ttotal: 40.8s\tremaining: 5.83s\n",
      "875:\tlearn: 0.2034892\ttotal: 40.8s\tremaining: 5.78s\n",
      "876:\tlearn: 0.2033602\ttotal: 40.9s\tremaining: 5.73s\n",
      "877:\tlearn: 0.2031747\ttotal: 40.9s\tremaining: 5.69s\n",
      "878:\tlearn: 0.2030262\ttotal: 41s\tremaining: 5.64s\n",
      "879:\tlearn: 0.2028881\ttotal: 41s\tremaining: 5.59s\n",
      "880:\tlearn: 0.2028270\ttotal: 41.1s\tremaining: 5.55s\n",
      "881:\tlearn: 0.2026537\ttotal: 41.1s\tremaining: 5.5s\n",
      "882:\tlearn: 0.2025795\ttotal: 41.2s\tremaining: 5.45s\n",
      "883:\tlearn: 0.2023267\ttotal: 41.2s\tremaining: 5.41s\n",
      "884:\tlearn: 0.2022170\ttotal: 41.3s\tremaining: 5.36s\n",
      "885:\tlearn: 0.2020516\ttotal: 41.3s\tremaining: 5.31s\n",
      "886:\tlearn: 0.2019464\ttotal: 41.4s\tremaining: 5.27s\n",
      "887:\tlearn: 0.2018688\ttotal: 41.4s\tremaining: 5.22s\n",
      "888:\tlearn: 0.2017751\ttotal: 41.4s\tremaining: 5.17s\n",
      "889:\tlearn: 0.2015827\ttotal: 41.5s\tremaining: 5.13s\n",
      "890:\tlearn: 0.2014656\ttotal: 41.5s\tremaining: 5.08s\n",
      "891:\tlearn: 0.2013485\ttotal: 41.6s\tremaining: 5.04s\n",
      "892:\tlearn: 0.2013040\ttotal: 41.6s\tremaining: 4.99s\n",
      "893:\tlearn: 0.2011786\ttotal: 41.7s\tremaining: 4.94s\n",
      "894:\tlearn: 0.2010329\ttotal: 41.7s\tremaining: 4.89s\n",
      "895:\tlearn: 0.2009068\ttotal: 41.8s\tremaining: 4.85s\n",
      "896:\tlearn: 0.2007993\ttotal: 41.8s\tremaining: 4.8s\n",
      "897:\tlearn: 0.2005874\ttotal: 41.9s\tremaining: 4.75s\n",
      "898:\tlearn: 0.2005153\ttotal: 41.9s\tremaining: 4.71s\n",
      "899:\tlearn: 0.2004275\ttotal: 42s\tremaining: 4.66s\n",
      "900:\tlearn: 0.2003442\ttotal: 42s\tremaining: 4.61s\n",
      "901:\tlearn: 0.2001379\ttotal: 42s\tremaining: 4.57s\n",
      "902:\tlearn: 0.2000219\ttotal: 42.1s\tremaining: 4.52s\n",
      "903:\tlearn: 0.1998731\ttotal: 42.1s\tremaining: 4.47s\n",
      "904:\tlearn: 0.1998209\ttotal: 42.2s\tremaining: 4.43s\n",
      "905:\tlearn: 0.1997333\ttotal: 42.2s\tremaining: 4.38s\n",
      "906:\tlearn: 0.1995360\ttotal: 42.3s\tremaining: 4.33s\n",
      "907:\tlearn: 0.1994842\ttotal: 42.3s\tremaining: 4.29s\n",
      "908:\tlearn: 0.1994172\ttotal: 42.4s\tremaining: 4.24s\n",
      "909:\tlearn: 0.1992911\ttotal: 42.4s\tremaining: 4.19s\n",
      "910:\tlearn: 0.1992347\ttotal: 42.4s\tremaining: 4.15s\n",
      "911:\tlearn: 0.1991766\ttotal: 42.5s\tremaining: 4.1s\n",
      "912:\tlearn: 0.1990599\ttotal: 42.5s\tremaining: 4.05s\n",
      "913:\tlearn: 0.1989230\ttotal: 42.6s\tremaining: 4.01s\n",
      "914:\tlearn: 0.1987428\ttotal: 42.6s\tremaining: 3.96s\n",
      "915:\tlearn: 0.1985393\ttotal: 42.7s\tremaining: 3.92s\n",
      "916:\tlearn: 0.1983515\ttotal: 42.8s\tremaining: 3.87s\n",
      "917:\tlearn: 0.1982695\ttotal: 42.8s\tremaining: 3.82s\n",
      "918:\tlearn: 0.1981623\ttotal: 42.8s\tremaining: 3.78s\n",
      "919:\tlearn: 0.1979732\ttotal: 42.9s\tremaining: 3.73s\n",
      "920:\tlearn: 0.1978989\ttotal: 42.9s\tremaining: 3.68s\n",
      "921:\tlearn: 0.1977983\ttotal: 43s\tremaining: 3.64s\n",
      "922:\tlearn: 0.1976871\ttotal: 43.1s\tremaining: 3.59s\n",
      "923:\tlearn: 0.1974791\ttotal: 43.1s\tremaining: 3.55s\n",
      "924:\tlearn: 0.1973434\ttotal: 43.2s\tremaining: 3.5s\n",
      "925:\tlearn: 0.1971628\ttotal: 43.2s\tremaining: 3.45s\n",
      "926:\tlearn: 0.1970235\ttotal: 43.3s\tremaining: 3.41s\n",
      "927:\tlearn: 0.1969149\ttotal: 43.3s\tremaining: 3.36s\n",
      "928:\tlearn: 0.1968342\ttotal: 43.4s\tremaining: 3.31s\n",
      "929:\tlearn: 0.1967992\ttotal: 43.4s\tremaining: 3.27s\n",
      "930:\tlearn: 0.1966311\ttotal: 43.5s\tremaining: 3.22s\n",
      "931:\tlearn: 0.1964179\ttotal: 43.5s\tremaining: 3.17s\n",
      "932:\tlearn: 0.1963092\ttotal: 43.5s\tremaining: 3.13s\n",
      "933:\tlearn: 0.1961129\ttotal: 43.6s\tremaining: 3.08s\n",
      "934:\tlearn: 0.1959539\ttotal: 43.7s\tremaining: 3.03s\n",
      "935:\tlearn: 0.1958498\ttotal: 43.7s\tremaining: 2.99s\n",
      "936:\tlearn: 0.1956776\ttotal: 43.8s\tremaining: 2.94s\n",
      "937:\tlearn: 0.1954805\ttotal: 43.8s\tremaining: 2.9s\n",
      "938:\tlearn: 0.1954062\ttotal: 43.8s\tremaining: 2.85s\n",
      "939:\tlearn: 0.1952384\ttotal: 43.9s\tremaining: 2.8s\n",
      "940:\tlearn: 0.1951671\ttotal: 43.9s\tremaining: 2.75s\n",
      "941:\tlearn: 0.1950468\ttotal: 44s\tremaining: 2.71s\n",
      "942:\tlearn: 0.1948596\ttotal: 44s\tremaining: 2.66s\n",
      "943:\tlearn: 0.1947544\ttotal: 44.1s\tremaining: 2.61s\n",
      "944:\tlearn: 0.1946955\ttotal: 44.1s\tremaining: 2.57s\n",
      "945:\tlearn: 0.1945391\ttotal: 44.2s\tremaining: 2.52s\n",
      "946:\tlearn: 0.1944325\ttotal: 44.2s\tremaining: 2.47s\n",
      "947:\tlearn: 0.1943513\ttotal: 44.3s\tremaining: 2.43s\n",
      "948:\tlearn: 0.1942014\ttotal: 44.3s\tremaining: 2.38s\n",
      "949:\tlearn: 0.1941102\ttotal: 44.4s\tremaining: 2.33s\n",
      "950:\tlearn: 0.1940781\ttotal: 44.4s\tremaining: 2.29s\n",
      "951:\tlearn: 0.1938748\ttotal: 44.5s\tremaining: 2.24s\n",
      "952:\tlearn: 0.1936812\ttotal: 44.5s\tremaining: 2.19s\n",
      "953:\tlearn: 0.1935790\ttotal: 44.5s\tremaining: 2.15s\n",
      "954:\tlearn: 0.1935271\ttotal: 44.6s\tremaining: 2.1s\n",
      "955:\tlearn: 0.1934124\ttotal: 44.6s\tremaining: 2.05s\n",
      "956:\tlearn: 0.1933155\ttotal: 44.7s\tremaining: 2.01s\n",
      "957:\tlearn: 0.1931731\ttotal: 44.7s\tremaining: 1.96s\n",
      "958:\tlearn: 0.1930344\ttotal: 44.8s\tremaining: 1.91s\n",
      "959:\tlearn: 0.1929064\ttotal: 44.8s\tremaining: 1.87s\n",
      "960:\tlearn: 0.1927837\ttotal: 44.9s\tremaining: 1.82s\n",
      "961:\tlearn: 0.1925830\ttotal: 44.9s\tremaining: 1.77s\n",
      "962:\tlearn: 0.1925284\ttotal: 45s\tremaining: 1.73s\n",
      "963:\tlearn: 0.1924576\ttotal: 45s\tremaining: 1.68s\n",
      "964:\tlearn: 0.1922511\ttotal: 45.1s\tremaining: 1.63s\n",
      "965:\tlearn: 0.1920488\ttotal: 45.1s\tremaining: 1.59s\n",
      "966:\tlearn: 0.1918951\ttotal: 45.2s\tremaining: 1.54s\n",
      "967:\tlearn: 0.1917365\ttotal: 45.2s\tremaining: 1.49s\n",
      "968:\tlearn: 0.1916283\ttotal: 45.3s\tremaining: 1.45s\n",
      "969:\tlearn: 0.1914932\ttotal: 45.3s\tremaining: 1.4s\n",
      "970:\tlearn: 0.1914130\ttotal: 45.4s\tremaining: 1.35s\n",
      "971:\tlearn: 0.1912156\ttotal: 45.4s\tremaining: 1.31s\n",
      "972:\tlearn: 0.1911538\ttotal: 45.4s\tremaining: 1.26s\n",
      "973:\tlearn: 0.1909738\ttotal: 45.5s\tremaining: 1.21s\n",
      "974:\tlearn: 0.1908296\ttotal: 45.5s\tremaining: 1.17s\n",
      "975:\tlearn: 0.1906605\ttotal: 45.6s\tremaining: 1.12s\n",
      "976:\tlearn: 0.1904010\ttotal: 45.7s\tremaining: 1.07s\n",
      "977:\tlearn: 0.1902346\ttotal: 45.7s\tremaining: 1.03s\n",
      "978:\tlearn: 0.1901304\ttotal: 45.7s\tremaining: 981ms\n",
      "979:\tlearn: 0.1900501\ttotal: 45.8s\tremaining: 935ms\n",
      "980:\tlearn: 0.1898342\ttotal: 45.8s\tremaining: 888ms\n",
      "981:\tlearn: 0.1896672\ttotal: 45.9s\tremaining: 841ms\n",
      "982:\tlearn: 0.1896182\ttotal: 45.9s\tremaining: 794ms\n",
      "983:\tlearn: 0.1894809\ttotal: 46s\tremaining: 748ms\n",
      "984:\tlearn: 0.1894339\ttotal: 46s\tremaining: 701ms\n",
      "985:\tlearn: 0.1893090\ttotal: 46.1s\tremaining: 654ms\n",
      "986:\tlearn: 0.1892348\ttotal: 46.1s\tremaining: 607ms\n",
      "987:\tlearn: 0.1891772\ttotal: 46.2s\tremaining: 561ms\n",
      "988:\tlearn: 0.1891146\ttotal: 46.2s\tremaining: 514ms\n",
      "989:\tlearn: 0.1890597\ttotal: 46.2s\tremaining: 467ms\n",
      "990:\tlearn: 0.1889375\ttotal: 46.3s\tremaining: 420ms\n",
      "991:\tlearn: 0.1887852\ttotal: 46.3s\tremaining: 374ms\n",
      "992:\tlearn: 0.1886022\ttotal: 46.4s\tremaining: 327ms\n",
      "993:\tlearn: 0.1884134\ttotal: 46.4s\tremaining: 280ms\n",
      "994:\tlearn: 0.1883890\ttotal: 46.5s\tremaining: 234ms\n",
      "995:\tlearn: 0.1882459\ttotal: 46.5s\tremaining: 187ms\n",
      "996:\tlearn: 0.1881003\ttotal: 46.6s\tremaining: 140ms\n",
      "997:\tlearn: 0.1880076\ttotal: 46.6s\tremaining: 93.5ms\n",
      "998:\tlearn: 0.1879425\ttotal: 46.7s\tremaining: 46.7ms\n",
      "999:\tlearn: 0.1877429\ttotal: 46.7s\tremaining: 0us\n"
     ]
    }
   ],
   "source": [
    "from catboost import CatBoostClassifier\n",
    "\n",
    "# Create a CatBoostClassifier\n",
    "model = CatBoostClassifier()\n",
    "\n",
    "# Fit the model to the training data\n",
    "model.fit(X_train, Y_train)\n",
    "\n",
    "# Make predictions on test data\n",
    "y_pred = model.predict(X_test)"
   ]
  },
  {
   "cell_type": "code",
   "execution_count": 31,
   "metadata": {
    "id": "J43it-RvFKj-"
   },
   "outputs": [
    {
     "name": "stdout",
     "output_type": "stream",
     "text": [
      "[[8222    0   10    0   40]\n",
      " [   0 7041    1  678  376]\n",
      " [  13    0 8148    0  133]\n",
      " [   0  493    0 7781   18]\n",
      " [  74  207   65   33 7851]]\n",
      "              precision    recall  f1-score   support\n",
      "\n",
      "           0       0.99      0.99      0.99      8272\n",
      "           1       0.91      0.87      0.89      8096\n",
      "           2       0.99      0.98      0.99      8294\n",
      "           3       0.92      0.94      0.93      8292\n",
      "           4       0.93      0.95      0.94      8230\n",
      "\n",
      "    accuracy                           0.95     41184\n",
      "   macro avg       0.95      0.95      0.95     41184\n",
      "weighted avg       0.95      0.95      0.95     41184\n",
      "\n",
      "Accurecy:  0.9480137917637917\n"
     ]
    }
   ],
   "source": [
    "print(confusion_matrix(Y_test, y_pred))\n",
    "print(classification_report(Y_test,y_pred))\n",
    "print(\"Accurecy: \",accuracy_score(Y_test, y_pred))"
   ]
  },
  {
   "cell_type": "code",
   "execution_count": null,
   "metadata": {
    "id": "h2Rm5UXiFKdF"
   },
   "outputs": [],
   "source": []
  }
 ],
 "metadata": {
  "colab": {
   "provenance": []
  },
  "kernelspec": {
   "display_name": "Python 3 (ipykernel)",
   "language": "python",
   "name": "python3"
  },
  "language_info": {
   "codemirror_mode": {
    "name": "ipython",
    "version": 3
   },
   "file_extension": ".py",
   "mimetype": "text/x-python",
   "name": "python",
   "nbconvert_exporter": "python",
   "pygments_lexer": "ipython3",
   "version": "3.9.13"
  }
 },
 "nbformat": 4,
 "nbformat_minor": 4
}
