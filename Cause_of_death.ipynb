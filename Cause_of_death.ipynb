{
  "nbformat": 4,
  "nbformat_minor": 0,
  "metadata": {
    "colab": {
      "provenance": [],
      "include_colab_link": true
    },
    "kernelspec": {
      "name": "python3",
      "display_name": "Python 3"
    },
    "language_info": {
      "name": "python"
    }
  },
  "cells": [
    {
      "cell_type": "markdown",
      "metadata": {
        "id": "view-in-github",
        "colab_type": "text"
      },
      "source": [
        "<a href=\"https://colab.research.google.com/github/Ahtesham-Ibne-Mostafa/Machine_Etymology/blob/main/Cause_of_death.ipynb\" target=\"_parent\"><img src=\"https://colab.research.google.com/assets/colab-badge.svg\" alt=\"Open In Colab\"/></a>"
      ]
    },
    {
      "cell_type": "code",
      "execution_count": 1,
      "metadata": {
        "id": "oHfncz9Uizlq"
      },
      "outputs": [],
      "source": [
        "import pandas as pd\n",
        "import numpy as np"
      ]
    },
    {
      "cell_type": "code",
      "source": [
        "df=pd.read_csv('https://raw.githubusercontent.com/Ahtesham-Ibne-Mostafa/Machine_Etymology/main/Datasets/NCHS_-_Potentially_Excess_Deaths_from_the_Five_Leading_Causes_of_Death.csv')"
      ],
      "metadata": {
        "id": "gxhOPT9QjUtG"
      },
      "execution_count": 2,
      "outputs": []
    },
    {
      "cell_type": "code",
      "source": [
        "df.head()"
      ],
      "metadata": {
        "colab": {
          "base_uri": "https://localhost:8080/",
          "height": 278
        },
        "id": "GrlMHQD5jYYR",
        "outputId": "47d0ed6e-35ad-44c0-936e-0399f7107de1"
      },
      "execution_count": 3,
      "outputs": [
        {
          "output_type": "execute_result",
          "data": {
            "text/plain": [
              "   Year Cause of Death    State State FIPS Code  HHS Region Age Range  \\\n",
              "0  2005         Cancer  Alabama              AL           4      0-49   \n",
              "1  2005         Cancer  Alabama              AL           4      0-49   \n",
              "2  2005         Cancer  Alabama              AL           4      0-49   \n",
              "3  2005         Cancer  Alabama              AL           4      0-49   \n",
              "4  2005         Cancer  Alabama              AL           4      0-49   \n",
              "\n",
              "    Benchmark         Locality  Observed Deaths  Population  Expected Deaths  \\\n",
              "0  2005 Fixed              All            756.0   3148377.0            451.0   \n",
              "1  2005 Fixed     Metropolitan            556.0   2379871.0            341.0   \n",
              "2  2005 Fixed  Nonmetropolitan            200.0    768506.0            111.0   \n",
              "3  2010 Fixed              All            756.0   3148377.0            421.0   \n",
              "4  2010 Fixed     Metropolitan            556.0   2379871.0            318.0   \n",
              "\n",
              "   Potentially Excess Deaths  Percent Potentially Excess Deaths  \n",
              "0                      305.0                               40.3  \n",
              "1                      217.0                               39.0  \n",
              "2                       89.0                               44.5  \n",
              "3                      335.0                               44.3  \n",
              "4                      238.0                               42.8  "
            ],
            "text/html": [
              "\n",
              "  <div id=\"df-50e3d1b0-e117-44c8-bff9-3fb3468c302b\" class=\"colab-df-container\">\n",
              "    <div>\n",
              "<style scoped>\n",
              "    .dataframe tbody tr th:only-of-type {\n",
              "        vertical-align: middle;\n",
              "    }\n",
              "\n",
              "    .dataframe tbody tr th {\n",
              "        vertical-align: top;\n",
              "    }\n",
              "\n",
              "    .dataframe thead th {\n",
              "        text-align: right;\n",
              "    }\n",
              "</style>\n",
              "<table border=\"1\" class=\"dataframe\">\n",
              "  <thead>\n",
              "    <tr style=\"text-align: right;\">\n",
              "      <th></th>\n",
              "      <th>Year</th>\n",
              "      <th>Cause of Death</th>\n",
              "      <th>State</th>\n",
              "      <th>State FIPS Code</th>\n",
              "      <th>HHS Region</th>\n",
              "      <th>Age Range</th>\n",
              "      <th>Benchmark</th>\n",
              "      <th>Locality</th>\n",
              "      <th>Observed Deaths</th>\n",
              "      <th>Population</th>\n",
              "      <th>Expected Deaths</th>\n",
              "      <th>Potentially Excess Deaths</th>\n",
              "      <th>Percent Potentially Excess Deaths</th>\n",
              "    </tr>\n",
              "  </thead>\n",
              "  <tbody>\n",
              "    <tr>\n",
              "      <th>0</th>\n",
              "      <td>2005</td>\n",
              "      <td>Cancer</td>\n",
              "      <td>Alabama</td>\n",
              "      <td>AL</td>\n",
              "      <td>4</td>\n",
              "      <td>0-49</td>\n",
              "      <td>2005 Fixed</td>\n",
              "      <td>All</td>\n",
              "      <td>756.0</td>\n",
              "      <td>3148377.0</td>\n",
              "      <td>451.0</td>\n",
              "      <td>305.0</td>\n",
              "      <td>40.3</td>\n",
              "    </tr>\n",
              "    <tr>\n",
              "      <th>1</th>\n",
              "      <td>2005</td>\n",
              "      <td>Cancer</td>\n",
              "      <td>Alabama</td>\n",
              "      <td>AL</td>\n",
              "      <td>4</td>\n",
              "      <td>0-49</td>\n",
              "      <td>2005 Fixed</td>\n",
              "      <td>Metropolitan</td>\n",
              "      <td>556.0</td>\n",
              "      <td>2379871.0</td>\n",
              "      <td>341.0</td>\n",
              "      <td>217.0</td>\n",
              "      <td>39.0</td>\n",
              "    </tr>\n",
              "    <tr>\n",
              "      <th>2</th>\n",
              "      <td>2005</td>\n",
              "      <td>Cancer</td>\n",
              "      <td>Alabama</td>\n",
              "      <td>AL</td>\n",
              "      <td>4</td>\n",
              "      <td>0-49</td>\n",
              "      <td>2005 Fixed</td>\n",
              "      <td>Nonmetropolitan</td>\n",
              "      <td>200.0</td>\n",
              "      <td>768506.0</td>\n",
              "      <td>111.0</td>\n",
              "      <td>89.0</td>\n",
              "      <td>44.5</td>\n",
              "    </tr>\n",
              "    <tr>\n",
              "      <th>3</th>\n",
              "      <td>2005</td>\n",
              "      <td>Cancer</td>\n",
              "      <td>Alabama</td>\n",
              "      <td>AL</td>\n",
              "      <td>4</td>\n",
              "      <td>0-49</td>\n",
              "      <td>2010 Fixed</td>\n",
              "      <td>All</td>\n",
              "      <td>756.0</td>\n",
              "      <td>3148377.0</td>\n",
              "      <td>421.0</td>\n",
              "      <td>335.0</td>\n",
              "      <td>44.3</td>\n",
              "    </tr>\n",
              "    <tr>\n",
              "      <th>4</th>\n",
              "      <td>2005</td>\n",
              "      <td>Cancer</td>\n",
              "      <td>Alabama</td>\n",
              "      <td>AL</td>\n",
              "      <td>4</td>\n",
              "      <td>0-49</td>\n",
              "      <td>2010 Fixed</td>\n",
              "      <td>Metropolitan</td>\n",
              "      <td>556.0</td>\n",
              "      <td>2379871.0</td>\n",
              "      <td>318.0</td>\n",
              "      <td>238.0</td>\n",
              "      <td>42.8</td>\n",
              "    </tr>\n",
              "  </tbody>\n",
              "</table>\n",
              "</div>\n",
              "    <div class=\"colab-df-buttons\">\n",
              "\n",
              "  <div class=\"colab-df-container\">\n",
              "    <button class=\"colab-df-convert\" onclick=\"convertToInteractive('df-50e3d1b0-e117-44c8-bff9-3fb3468c302b')\"\n",
              "            title=\"Convert this dataframe to an interactive table.\"\n",
              "            style=\"display:none;\">\n",
              "\n",
              "  <svg xmlns=\"http://www.w3.org/2000/svg\" height=\"24px\" viewBox=\"0 -960 960 960\">\n",
              "    <path d=\"M120-120v-720h720v720H120Zm60-500h600v-160H180v160Zm220 220h160v-160H400v160Zm0 220h160v-160H400v160ZM180-400h160v-160H180v160Zm440 0h160v-160H620v160ZM180-180h160v-160H180v160Zm440 0h160v-160H620v160Z\"/>\n",
              "  </svg>\n",
              "    </button>\n",
              "\n",
              "  <style>\n",
              "    .colab-df-container {\n",
              "      display:flex;\n",
              "      gap: 12px;\n",
              "    }\n",
              "\n",
              "    .colab-df-convert {\n",
              "      background-color: #E8F0FE;\n",
              "      border: none;\n",
              "      border-radius: 50%;\n",
              "      cursor: pointer;\n",
              "      display: none;\n",
              "      fill: #1967D2;\n",
              "      height: 32px;\n",
              "      padding: 0 0 0 0;\n",
              "      width: 32px;\n",
              "    }\n",
              "\n",
              "    .colab-df-convert:hover {\n",
              "      background-color: #E2EBFA;\n",
              "      box-shadow: 0px 1px 2px rgba(60, 64, 67, 0.3), 0px 1px 3px 1px rgba(60, 64, 67, 0.15);\n",
              "      fill: #174EA6;\n",
              "    }\n",
              "\n",
              "    .colab-df-buttons div {\n",
              "      margin-bottom: 4px;\n",
              "    }\n",
              "\n",
              "    [theme=dark] .colab-df-convert {\n",
              "      background-color: #3B4455;\n",
              "      fill: #D2E3FC;\n",
              "    }\n",
              "\n",
              "    [theme=dark] .colab-df-convert:hover {\n",
              "      background-color: #434B5C;\n",
              "      box-shadow: 0px 1px 3px 1px rgba(0, 0, 0, 0.15);\n",
              "      filter: drop-shadow(0px 1px 2px rgba(0, 0, 0, 0.3));\n",
              "      fill: #FFFFFF;\n",
              "    }\n",
              "  </style>\n",
              "\n",
              "    <script>\n",
              "      const buttonEl =\n",
              "        document.querySelector('#df-50e3d1b0-e117-44c8-bff9-3fb3468c302b button.colab-df-convert');\n",
              "      buttonEl.style.display =\n",
              "        google.colab.kernel.accessAllowed ? 'block' : 'none';\n",
              "\n",
              "      async function convertToInteractive(key) {\n",
              "        const element = document.querySelector('#df-50e3d1b0-e117-44c8-bff9-3fb3468c302b');\n",
              "        const dataTable =\n",
              "          await google.colab.kernel.invokeFunction('convertToInteractive',\n",
              "                                                    [key], {});\n",
              "        if (!dataTable) return;\n",
              "\n",
              "        const docLinkHtml = 'Like what you see? Visit the ' +\n",
              "          '<a target=\"_blank\" href=https://colab.research.google.com/notebooks/data_table.ipynb>data table notebook</a>'\n",
              "          + ' to learn more about interactive tables.';\n",
              "        element.innerHTML = '';\n",
              "        dataTable['output_type'] = 'display_data';\n",
              "        await google.colab.output.renderOutput(dataTable, element);\n",
              "        const docLink = document.createElement('div');\n",
              "        docLink.innerHTML = docLinkHtml;\n",
              "        element.appendChild(docLink);\n",
              "      }\n",
              "    </script>\n",
              "  </div>\n",
              "\n",
              "\n",
              "<div id=\"df-c784a124-ac59-4a0d-a997-81559c7e3c15\">\n",
              "  <button class=\"colab-df-quickchart\" onclick=\"quickchart('df-c784a124-ac59-4a0d-a997-81559c7e3c15')\"\n",
              "            title=\"Suggest charts.\"\n",
              "            style=\"display:none;\">\n",
              "\n",
              "<svg xmlns=\"http://www.w3.org/2000/svg\" height=\"24px\"viewBox=\"0 0 24 24\"\n",
              "     width=\"24px\">\n",
              "    <g>\n",
              "        <path d=\"M19 3H5c-1.1 0-2 .9-2 2v14c0 1.1.9 2 2 2h14c1.1 0 2-.9 2-2V5c0-1.1-.9-2-2-2zM9 17H7v-7h2v7zm4 0h-2V7h2v10zm4 0h-2v-4h2v4z\"/>\n",
              "    </g>\n",
              "</svg>\n",
              "  </button>\n",
              "\n",
              "<style>\n",
              "  .colab-df-quickchart {\n",
              "      --bg-color: #E8F0FE;\n",
              "      --fill-color: #1967D2;\n",
              "      --hover-bg-color: #E2EBFA;\n",
              "      --hover-fill-color: #174EA6;\n",
              "      --disabled-fill-color: #AAA;\n",
              "      --disabled-bg-color: #DDD;\n",
              "  }\n",
              "\n",
              "  [theme=dark] .colab-df-quickchart {\n",
              "      --bg-color: #3B4455;\n",
              "      --fill-color: #D2E3FC;\n",
              "      --hover-bg-color: #434B5C;\n",
              "      --hover-fill-color: #FFFFFF;\n",
              "      --disabled-bg-color: #3B4455;\n",
              "      --disabled-fill-color: #666;\n",
              "  }\n",
              "\n",
              "  .colab-df-quickchart {\n",
              "    background-color: var(--bg-color);\n",
              "    border: none;\n",
              "    border-radius: 50%;\n",
              "    cursor: pointer;\n",
              "    display: none;\n",
              "    fill: var(--fill-color);\n",
              "    height: 32px;\n",
              "    padding: 0;\n",
              "    width: 32px;\n",
              "  }\n",
              "\n",
              "  .colab-df-quickchart:hover {\n",
              "    background-color: var(--hover-bg-color);\n",
              "    box-shadow: 0 1px 2px rgba(60, 64, 67, 0.3), 0 1px 3px 1px rgba(60, 64, 67, 0.15);\n",
              "    fill: var(--button-hover-fill-color);\n",
              "  }\n",
              "\n",
              "  .colab-df-quickchart-complete:disabled,\n",
              "  .colab-df-quickchart-complete:disabled:hover {\n",
              "    background-color: var(--disabled-bg-color);\n",
              "    fill: var(--disabled-fill-color);\n",
              "    box-shadow: none;\n",
              "  }\n",
              "\n",
              "  .colab-df-spinner {\n",
              "    border: 2px solid var(--fill-color);\n",
              "    border-color: transparent;\n",
              "    border-bottom-color: var(--fill-color);\n",
              "    animation:\n",
              "      spin 1s steps(1) infinite;\n",
              "  }\n",
              "\n",
              "  @keyframes spin {\n",
              "    0% {\n",
              "      border-color: transparent;\n",
              "      border-bottom-color: var(--fill-color);\n",
              "      border-left-color: var(--fill-color);\n",
              "    }\n",
              "    20% {\n",
              "      border-color: transparent;\n",
              "      border-left-color: var(--fill-color);\n",
              "      border-top-color: var(--fill-color);\n",
              "    }\n",
              "    30% {\n",
              "      border-color: transparent;\n",
              "      border-left-color: var(--fill-color);\n",
              "      border-top-color: var(--fill-color);\n",
              "      border-right-color: var(--fill-color);\n",
              "    }\n",
              "    40% {\n",
              "      border-color: transparent;\n",
              "      border-right-color: var(--fill-color);\n",
              "      border-top-color: var(--fill-color);\n",
              "    }\n",
              "    60% {\n",
              "      border-color: transparent;\n",
              "      border-right-color: var(--fill-color);\n",
              "    }\n",
              "    80% {\n",
              "      border-color: transparent;\n",
              "      border-right-color: var(--fill-color);\n",
              "      border-bottom-color: var(--fill-color);\n",
              "    }\n",
              "    90% {\n",
              "      border-color: transparent;\n",
              "      border-bottom-color: var(--fill-color);\n",
              "    }\n",
              "  }\n",
              "</style>\n",
              "\n",
              "  <script>\n",
              "    async function quickchart(key) {\n",
              "      const quickchartButtonEl =\n",
              "        document.querySelector('#' + key + ' button');\n",
              "      quickchartButtonEl.disabled = true;  // To prevent multiple clicks.\n",
              "      quickchartButtonEl.classList.add('colab-df-spinner');\n",
              "      try {\n",
              "        const charts = await google.colab.kernel.invokeFunction(\n",
              "            'suggestCharts', [key], {});\n",
              "      } catch (error) {\n",
              "        console.error('Error during call to suggestCharts:', error);\n",
              "      }\n",
              "      quickchartButtonEl.classList.remove('colab-df-spinner');\n",
              "      quickchartButtonEl.classList.add('colab-df-quickchart-complete');\n",
              "    }\n",
              "    (() => {\n",
              "      let quickchartButtonEl =\n",
              "        document.querySelector('#df-c784a124-ac59-4a0d-a997-81559c7e3c15 button');\n",
              "      quickchartButtonEl.style.display =\n",
              "        google.colab.kernel.accessAllowed ? 'block' : 'none';\n",
              "    })();\n",
              "  </script>\n",
              "</div>\n",
              "    </div>\n",
              "  </div>\n"
            ]
          },
          "metadata": {},
          "execution_count": 3
        }
      ]
    },
    {
      "cell_type": "code",
      "source": [
        "df.shape"
      ],
      "metadata": {
        "colab": {
          "base_uri": "https://localhost:8080/"
        },
        "id": "x7KVxBVmrTW3",
        "outputId": "aec21c05-c5bd-4c2c-8a99-2f6d301945fb"
      },
      "execution_count": 4,
      "outputs": [
        {
          "output_type": "execute_result",
          "data": {
            "text/plain": [
              "(205920, 13)"
            ]
          },
          "metadata": {},
          "execution_count": 4
        }
      ]
    },
    {
      "cell_type": "code",
      "source": [
        "df['Cause of Death'].unique()\n"
      ],
      "metadata": {
        "colab": {
          "base_uri": "https://localhost:8080/"
        },
        "id": "oRLIQ-UjjaR-",
        "outputId": "d9756a60-57dc-4d9a-9493-ccd64955a50b"
      },
      "execution_count": 5,
      "outputs": [
        {
          "output_type": "execute_result",
          "data": {
            "text/plain": [
              "array(['Cancer', 'Chronic Lower Respiratory Disease', 'Heart Disease',\n",
              "       'Stroke', 'Unintentional Injury'], dtype=object)"
            ]
          },
          "metadata": {},
          "execution_count": 5
        }
      ]
    },
    {
      "cell_type": "code",
      "source": [
        "df['Cause of Death'].value_counts()"
      ],
      "metadata": {
        "colab": {
          "base_uri": "https://localhost:8080/"
        },
        "id": "PlaFe9a3BTHv",
        "outputId": "21503c69-26c4-4dfe-d553-da7a90dbb204"
      },
      "execution_count": 6,
      "outputs": [
        {
          "output_type": "execute_result",
          "data": {
            "text/plain": [
              "Cancer                               41184\n",
              "Chronic Lower Respiratory Disease    41184\n",
              "Heart Disease                        41184\n",
              "Stroke                               41184\n",
              "Unintentional Injury                 41184\n",
              "Name: Cause of Death, dtype: int64"
            ]
          },
          "metadata": {},
          "execution_count": 6
        }
      ]
    },
    {
      "cell_type": "code",
      "source": [
        "df['State'].value_counts()"
      ],
      "metadata": {
        "colab": {
          "base_uri": "https://localhost:8080/"
        },
        "id": "q9Tl9y5lCYhz",
        "outputId": "49b34219-739a-4f4a-f708-13492fd9d5df"
      },
      "execution_count": 14,
      "outputs": [
        {
          "output_type": "execute_result",
          "data": {
            "text/plain": [
              "Alabama                  3960\n",
              "Alaska                   3960\n",
              "Montana                  3960\n",
              "Nebraska                 3960\n",
              "Nevada                   3960\n",
              "New Hampshire            3960\n",
              "New Mexico               3960\n",
              "New York                 3960\n",
              "North Carolina           3960\n",
              "North Dakota             3960\n",
              "Ohio                     3960\n",
              "Oklahoma                 3960\n",
              "Oregon                   3960\n",
              "Pennsylvania             3960\n",
              "South Carolina           3960\n",
              "South Dakota             3960\n",
              "Tennessee                3960\n",
              "Texas                    3960\n",
              "United States            3960\n",
              "Utah                     3960\n",
              "Vermont                  3960\n",
              "Virginia                 3960\n",
              "Washington               3960\n",
              "West Virginia            3960\n",
              "Wisconsin                3960\n",
              "Missouri                 3960\n",
              "Mississippi              3960\n",
              "Minnesota                3960\n",
              "Hawaii                   3960\n",
              "Arizona                  3960\n",
              "Arkansas                 3960\n",
              "Delaware                 3960\n",
              "California               3960\n",
              "Colorado                 3960\n",
              "Connecticut              3960\n",
              "New Jersey               3960\n",
              "District of\\nColumbia    3960\n",
              "Florida                  3960\n",
              "Georgia                  3960\n",
              "Idaho                    3960\n",
              "Michigan                 3960\n",
              "Illinois                 3960\n",
              "Indiana                  3960\n",
              "Iowa                     3960\n",
              "Rhode Island             3960\n",
              "Kansas                   3960\n",
              "Kentucky                 3960\n",
              "Louisiana                3960\n",
              "Maine                    3960\n",
              "Maryland                 3960\n",
              "Massachusetts            3960\n",
              "Wyoming                  3960\n",
              "Name: State, dtype: int64"
            ]
          },
          "metadata": {},
          "execution_count": 14
        }
      ]
    },
    {
      "cell_type": "code",
      "source": [
        "df['State FIPS Code'].value_counts()"
      ],
      "metadata": {
        "colab": {
          "base_uri": "https://localhost:8080/"
        },
        "id": "u0RWcIbtCa0u",
        "outputId": "2f8beed9-a929-452c-e811-077dc95955ed"
      },
      "execution_count": 15,
      "outputs": [
        {
          "output_type": "execute_result",
          "data": {
            "text/plain": [
              "AL    3960\n",
              "AK    3960\n",
              "MT    3960\n",
              "NE    3960\n",
              "NV    3960\n",
              "NH    3960\n",
              "NM    3960\n",
              "NY    3960\n",
              "NC    3960\n",
              "ND    3960\n",
              "OH    3960\n",
              "OK    3960\n",
              "OR    3960\n",
              "PA    3960\n",
              "SC    3960\n",
              "SD    3960\n",
              "TN    3960\n",
              "TX    3960\n",
              "0     3960\n",
              "UT    3960\n",
              "VT    3960\n",
              "VA    3960\n",
              "WA    3960\n",
              "WV    3960\n",
              "WI    3960\n",
              "MO    3960\n",
              "MS    3960\n",
              "MN    3960\n",
              "HI    3960\n",
              "AZ    3960\n",
              "AR    3960\n",
              "DE    3960\n",
              "CA    3960\n",
              "CO    3960\n",
              "CT    3960\n",
              "NJ    3960\n",
              "DC    3960\n",
              "FL    3960\n",
              "GA    3960\n",
              "ID    3960\n",
              "MI    3960\n",
              "IL    3960\n",
              "IN    3960\n",
              "IA    3960\n",
              "RI    3960\n",
              "KS    3960\n",
              "KY    3960\n",
              "LA    3960\n",
              "ME    3960\n",
              "MD    3960\n",
              "MA    3960\n",
              "WY    3960\n",
              "Name: State FIPS Code, dtype: int64"
            ]
          },
          "metadata": {},
          "execution_count": 15
        }
      ]
    },
    {
      "cell_type": "code",
      "source": [
        "df['HHS Region'].value_counts()"
      ],
      "metadata": {
        "colab": {
          "base_uri": "https://localhost:8080/"
        },
        "id": "hySr4K5uCrAJ",
        "outputId": "f08ded24-8830-4d71-b72a-cc7213740055"
      },
      "execution_count": 16,
      "outputs": [
        {
          "output_type": "execute_result",
          "data": {
            "text/plain": [
              "4     31680\n",
              "3     23760\n",
              "8     23760\n",
              "1     23760\n",
              "5     23760\n",
              "6     19800\n",
              "10    15840\n",
              "9     15840\n",
              "7     15840\n",
              "2      7920\n",
              "0      3960\n",
              "Name: HHS Region, dtype: int64"
            ]
          },
          "metadata": {},
          "execution_count": 16
        }
      ]
    },
    {
      "cell_type": "code",
      "source": [
        "df.isnull().sum()"
      ],
      "metadata": {
        "colab": {
          "base_uri": "https://localhost:8080/"
        },
        "id": "fg6ykyxOmC5_",
        "outputId": "2f9cc205-e79e-49f0-f1fd-c7c33b9c7da9"
      },
      "execution_count": 7,
      "outputs": [
        {
          "output_type": "execute_result",
          "data": {
            "text/plain": [
              "Year                                     0\n",
              "Cause of Death                           0\n",
              "State                                    0\n",
              "State FIPS Code                          0\n",
              "HHS Region                               0\n",
              "Age Range                                0\n",
              "Benchmark                                0\n",
              "Locality                                 0\n",
              "Observed Deaths                      10212\n",
              "Population                            5280\n",
              "Expected Deaths                      10212\n",
              "Potentially Excess Deaths            10212\n",
              "Percent Potentially Excess Deaths    10212\n",
              "dtype: int64"
            ]
          },
          "metadata": {},
          "execution_count": 7
        }
      ]
    },
    {
      "cell_type": "code",
      "source": [
        "def Chamber_of_nulls(df,target,type='mean'):\n",
        "    columns_with_null = df.columns[df.isnull().any()]\n",
        "    segments=df[target].unique()\n",
        "    for i in segments:\n",
        "\n",
        "        filtered_rows = df[df[target] == i]\n",
        "        for j in columns_with_null:\n",
        "            if type=='mean':\n",
        "              new_value = filtered_rows[j].mean()\n",
        "            elif type=='mode':\n",
        "              new_value = filtered_rows[j].mode()\n",
        "            elif type=='median':\n",
        "              new_value = filtered_rows[j].median()\n",
        "\n",
        "            filtered_null_rows = filtered_rows[filtered_rows[j].isna()]\n",
        "            df.loc[filtered_null_rows.index, j] = new_value\n",
        "    return df"
      ],
      "metadata": {
        "id": "fgKxDZJ3v1hV"
      },
      "execution_count": 8,
      "outputs": []
    },
    {
      "cell_type": "code",
      "source": [
        "feature='Cause of Death'\n",
        "df=Chamber_of_nulls(df, feature)"
      ],
      "metadata": {
        "id": "oUDqddIF98K2"
      },
      "execution_count": 9,
      "outputs": []
    },
    {
      "cell_type": "code",
      "source": [
        "df = df.drop('State FIPS Code', axis=1)"
      ],
      "metadata": {
        "id": "Fw8ZtzVdC4cW"
      },
      "execution_count": 17,
      "outputs": []
    },
    {
      "cell_type": "code",
      "source": [
        "df.head()"
      ],
      "metadata": {
        "id": "hZHSwE5l-eMT",
        "outputId": "c52fa9aa-a827-4b57-bbf7-2bedfe532b26",
        "colab": {
          "base_uri": "https://localhost:8080/",
          "height": 278
        }
      },
      "execution_count": 18,
      "outputs": [
        {
          "output_type": "execute_result",
          "data": {
            "text/plain": [
              "   Year Cause of Death    State  HHS Region Age Range   Benchmark  \\\n",
              "0  2005         Cancer  Alabama           4      0-49  2005 Fixed   \n",
              "1  2005         Cancer  Alabama           4      0-49  2005 Fixed   \n",
              "2  2005         Cancer  Alabama           4      0-49  2005 Fixed   \n",
              "3  2005         Cancer  Alabama           4      0-49  2010 Fixed   \n",
              "4  2005         Cancer  Alabama           4      0-49  2010 Fixed   \n",
              "\n",
              "          Locality  Observed Deaths  Population  Expected Deaths  \\\n",
              "0              All            756.0   3148377.0            451.0   \n",
              "1     Metropolitan            556.0   2379871.0            341.0   \n",
              "2  Nonmetropolitan            200.0    768506.0            111.0   \n",
              "3              All            756.0   3148377.0            421.0   \n",
              "4     Metropolitan            556.0   2379871.0            318.0   \n",
              "\n",
              "   Potentially Excess Deaths  Percent Potentially Excess Deaths  \n",
              "0                      305.0                               40.3  \n",
              "1                      217.0                               39.0  \n",
              "2                       89.0                               44.5  \n",
              "3                      335.0                               44.3  \n",
              "4                      238.0                               42.8  "
            ],
            "text/html": [
              "\n",
              "  <div id=\"df-1fe7d39b-7a75-4369-9fb1-c8673fc41cb4\" class=\"colab-df-container\">\n",
              "    <div>\n",
              "<style scoped>\n",
              "    .dataframe tbody tr th:only-of-type {\n",
              "        vertical-align: middle;\n",
              "    }\n",
              "\n",
              "    .dataframe tbody tr th {\n",
              "        vertical-align: top;\n",
              "    }\n",
              "\n",
              "    .dataframe thead th {\n",
              "        text-align: right;\n",
              "    }\n",
              "</style>\n",
              "<table border=\"1\" class=\"dataframe\">\n",
              "  <thead>\n",
              "    <tr style=\"text-align: right;\">\n",
              "      <th></th>\n",
              "      <th>Year</th>\n",
              "      <th>Cause of Death</th>\n",
              "      <th>State</th>\n",
              "      <th>HHS Region</th>\n",
              "      <th>Age Range</th>\n",
              "      <th>Benchmark</th>\n",
              "      <th>Locality</th>\n",
              "      <th>Observed Deaths</th>\n",
              "      <th>Population</th>\n",
              "      <th>Expected Deaths</th>\n",
              "      <th>Potentially Excess Deaths</th>\n",
              "      <th>Percent Potentially Excess Deaths</th>\n",
              "    </tr>\n",
              "  </thead>\n",
              "  <tbody>\n",
              "    <tr>\n",
              "      <th>0</th>\n",
              "      <td>2005</td>\n",
              "      <td>Cancer</td>\n",
              "      <td>Alabama</td>\n",
              "      <td>4</td>\n",
              "      <td>0-49</td>\n",
              "      <td>2005 Fixed</td>\n",
              "      <td>All</td>\n",
              "      <td>756.0</td>\n",
              "      <td>3148377.0</td>\n",
              "      <td>451.0</td>\n",
              "      <td>305.0</td>\n",
              "      <td>40.3</td>\n",
              "    </tr>\n",
              "    <tr>\n",
              "      <th>1</th>\n",
              "      <td>2005</td>\n",
              "      <td>Cancer</td>\n",
              "      <td>Alabama</td>\n",
              "      <td>4</td>\n",
              "      <td>0-49</td>\n",
              "      <td>2005 Fixed</td>\n",
              "      <td>Metropolitan</td>\n",
              "      <td>556.0</td>\n",
              "      <td>2379871.0</td>\n",
              "      <td>341.0</td>\n",
              "      <td>217.0</td>\n",
              "      <td>39.0</td>\n",
              "    </tr>\n",
              "    <tr>\n",
              "      <th>2</th>\n",
              "      <td>2005</td>\n",
              "      <td>Cancer</td>\n",
              "      <td>Alabama</td>\n",
              "      <td>4</td>\n",
              "      <td>0-49</td>\n",
              "      <td>2005 Fixed</td>\n",
              "      <td>Nonmetropolitan</td>\n",
              "      <td>200.0</td>\n",
              "      <td>768506.0</td>\n",
              "      <td>111.0</td>\n",
              "      <td>89.0</td>\n",
              "      <td>44.5</td>\n",
              "    </tr>\n",
              "    <tr>\n",
              "      <th>3</th>\n",
              "      <td>2005</td>\n",
              "      <td>Cancer</td>\n",
              "      <td>Alabama</td>\n",
              "      <td>4</td>\n",
              "      <td>0-49</td>\n",
              "      <td>2010 Fixed</td>\n",
              "      <td>All</td>\n",
              "      <td>756.0</td>\n",
              "      <td>3148377.0</td>\n",
              "      <td>421.0</td>\n",
              "      <td>335.0</td>\n",
              "      <td>44.3</td>\n",
              "    </tr>\n",
              "    <tr>\n",
              "      <th>4</th>\n",
              "      <td>2005</td>\n",
              "      <td>Cancer</td>\n",
              "      <td>Alabama</td>\n",
              "      <td>4</td>\n",
              "      <td>0-49</td>\n",
              "      <td>2010 Fixed</td>\n",
              "      <td>Metropolitan</td>\n",
              "      <td>556.0</td>\n",
              "      <td>2379871.0</td>\n",
              "      <td>318.0</td>\n",
              "      <td>238.0</td>\n",
              "      <td>42.8</td>\n",
              "    </tr>\n",
              "  </tbody>\n",
              "</table>\n",
              "</div>\n",
              "    <div class=\"colab-df-buttons\">\n",
              "\n",
              "  <div class=\"colab-df-container\">\n",
              "    <button class=\"colab-df-convert\" onclick=\"convertToInteractive('df-1fe7d39b-7a75-4369-9fb1-c8673fc41cb4')\"\n",
              "            title=\"Convert this dataframe to an interactive table.\"\n",
              "            style=\"display:none;\">\n",
              "\n",
              "  <svg xmlns=\"http://www.w3.org/2000/svg\" height=\"24px\" viewBox=\"0 -960 960 960\">\n",
              "    <path d=\"M120-120v-720h720v720H120Zm60-500h600v-160H180v160Zm220 220h160v-160H400v160Zm0 220h160v-160H400v160ZM180-400h160v-160H180v160Zm440 0h160v-160H620v160ZM180-180h160v-160H180v160Zm440 0h160v-160H620v160Z\"/>\n",
              "  </svg>\n",
              "    </button>\n",
              "\n",
              "  <style>\n",
              "    .colab-df-container {\n",
              "      display:flex;\n",
              "      gap: 12px;\n",
              "    }\n",
              "\n",
              "    .colab-df-convert {\n",
              "      background-color: #E8F0FE;\n",
              "      border: none;\n",
              "      border-radius: 50%;\n",
              "      cursor: pointer;\n",
              "      display: none;\n",
              "      fill: #1967D2;\n",
              "      height: 32px;\n",
              "      padding: 0 0 0 0;\n",
              "      width: 32px;\n",
              "    }\n",
              "\n",
              "    .colab-df-convert:hover {\n",
              "      background-color: #E2EBFA;\n",
              "      box-shadow: 0px 1px 2px rgba(60, 64, 67, 0.3), 0px 1px 3px 1px rgba(60, 64, 67, 0.15);\n",
              "      fill: #174EA6;\n",
              "    }\n",
              "\n",
              "    .colab-df-buttons div {\n",
              "      margin-bottom: 4px;\n",
              "    }\n",
              "\n",
              "    [theme=dark] .colab-df-convert {\n",
              "      background-color: #3B4455;\n",
              "      fill: #D2E3FC;\n",
              "    }\n",
              "\n",
              "    [theme=dark] .colab-df-convert:hover {\n",
              "      background-color: #434B5C;\n",
              "      box-shadow: 0px 1px 3px 1px rgba(0, 0, 0, 0.15);\n",
              "      filter: drop-shadow(0px 1px 2px rgba(0, 0, 0, 0.3));\n",
              "      fill: #FFFFFF;\n",
              "    }\n",
              "  </style>\n",
              "\n",
              "    <script>\n",
              "      const buttonEl =\n",
              "        document.querySelector('#df-1fe7d39b-7a75-4369-9fb1-c8673fc41cb4 button.colab-df-convert');\n",
              "      buttonEl.style.display =\n",
              "        google.colab.kernel.accessAllowed ? 'block' : 'none';\n",
              "\n",
              "      async function convertToInteractive(key) {\n",
              "        const element = document.querySelector('#df-1fe7d39b-7a75-4369-9fb1-c8673fc41cb4');\n",
              "        const dataTable =\n",
              "          await google.colab.kernel.invokeFunction('convertToInteractive',\n",
              "                                                    [key], {});\n",
              "        if (!dataTable) return;\n",
              "\n",
              "        const docLinkHtml = 'Like what you see? Visit the ' +\n",
              "          '<a target=\"_blank\" href=https://colab.research.google.com/notebooks/data_table.ipynb>data table notebook</a>'\n",
              "          + ' to learn more about interactive tables.';\n",
              "        element.innerHTML = '';\n",
              "        dataTable['output_type'] = 'display_data';\n",
              "        await google.colab.output.renderOutput(dataTable, element);\n",
              "        const docLink = document.createElement('div');\n",
              "        docLink.innerHTML = docLinkHtml;\n",
              "        element.appendChild(docLink);\n",
              "      }\n",
              "    </script>\n",
              "  </div>\n",
              "\n",
              "\n",
              "<div id=\"df-d65027d6-56b8-4dad-9e01-5d97e6245edf\">\n",
              "  <button class=\"colab-df-quickchart\" onclick=\"quickchart('df-d65027d6-56b8-4dad-9e01-5d97e6245edf')\"\n",
              "            title=\"Suggest charts.\"\n",
              "            style=\"display:none;\">\n",
              "\n",
              "<svg xmlns=\"http://www.w3.org/2000/svg\" height=\"24px\"viewBox=\"0 0 24 24\"\n",
              "     width=\"24px\">\n",
              "    <g>\n",
              "        <path d=\"M19 3H5c-1.1 0-2 .9-2 2v14c0 1.1.9 2 2 2h14c1.1 0 2-.9 2-2V5c0-1.1-.9-2-2-2zM9 17H7v-7h2v7zm4 0h-2V7h2v10zm4 0h-2v-4h2v4z\"/>\n",
              "    </g>\n",
              "</svg>\n",
              "  </button>\n",
              "\n",
              "<style>\n",
              "  .colab-df-quickchart {\n",
              "      --bg-color: #E8F0FE;\n",
              "      --fill-color: #1967D2;\n",
              "      --hover-bg-color: #E2EBFA;\n",
              "      --hover-fill-color: #174EA6;\n",
              "      --disabled-fill-color: #AAA;\n",
              "      --disabled-bg-color: #DDD;\n",
              "  }\n",
              "\n",
              "  [theme=dark] .colab-df-quickchart {\n",
              "      --bg-color: #3B4455;\n",
              "      --fill-color: #D2E3FC;\n",
              "      --hover-bg-color: #434B5C;\n",
              "      --hover-fill-color: #FFFFFF;\n",
              "      --disabled-bg-color: #3B4455;\n",
              "      --disabled-fill-color: #666;\n",
              "  }\n",
              "\n",
              "  .colab-df-quickchart {\n",
              "    background-color: var(--bg-color);\n",
              "    border: none;\n",
              "    border-radius: 50%;\n",
              "    cursor: pointer;\n",
              "    display: none;\n",
              "    fill: var(--fill-color);\n",
              "    height: 32px;\n",
              "    padding: 0;\n",
              "    width: 32px;\n",
              "  }\n",
              "\n",
              "  .colab-df-quickchart:hover {\n",
              "    background-color: var(--hover-bg-color);\n",
              "    box-shadow: 0 1px 2px rgba(60, 64, 67, 0.3), 0 1px 3px 1px rgba(60, 64, 67, 0.15);\n",
              "    fill: var(--button-hover-fill-color);\n",
              "  }\n",
              "\n",
              "  .colab-df-quickchart-complete:disabled,\n",
              "  .colab-df-quickchart-complete:disabled:hover {\n",
              "    background-color: var(--disabled-bg-color);\n",
              "    fill: var(--disabled-fill-color);\n",
              "    box-shadow: none;\n",
              "  }\n",
              "\n",
              "  .colab-df-spinner {\n",
              "    border: 2px solid var(--fill-color);\n",
              "    border-color: transparent;\n",
              "    border-bottom-color: var(--fill-color);\n",
              "    animation:\n",
              "      spin 1s steps(1) infinite;\n",
              "  }\n",
              "\n",
              "  @keyframes spin {\n",
              "    0% {\n",
              "      border-color: transparent;\n",
              "      border-bottom-color: var(--fill-color);\n",
              "      border-left-color: var(--fill-color);\n",
              "    }\n",
              "    20% {\n",
              "      border-color: transparent;\n",
              "      border-left-color: var(--fill-color);\n",
              "      border-top-color: var(--fill-color);\n",
              "    }\n",
              "    30% {\n",
              "      border-color: transparent;\n",
              "      border-left-color: var(--fill-color);\n",
              "      border-top-color: var(--fill-color);\n",
              "      border-right-color: var(--fill-color);\n",
              "    }\n",
              "    40% {\n",
              "      border-color: transparent;\n",
              "      border-right-color: var(--fill-color);\n",
              "      border-top-color: var(--fill-color);\n",
              "    }\n",
              "    60% {\n",
              "      border-color: transparent;\n",
              "      border-right-color: var(--fill-color);\n",
              "    }\n",
              "    80% {\n",
              "      border-color: transparent;\n",
              "      border-right-color: var(--fill-color);\n",
              "      border-bottom-color: var(--fill-color);\n",
              "    }\n",
              "    90% {\n",
              "      border-color: transparent;\n",
              "      border-bottom-color: var(--fill-color);\n",
              "    }\n",
              "  }\n",
              "</style>\n",
              "\n",
              "  <script>\n",
              "    async function quickchart(key) {\n",
              "      const quickchartButtonEl =\n",
              "        document.querySelector('#' + key + ' button');\n",
              "      quickchartButtonEl.disabled = true;  // To prevent multiple clicks.\n",
              "      quickchartButtonEl.classList.add('colab-df-spinner');\n",
              "      try {\n",
              "        const charts = await google.colab.kernel.invokeFunction(\n",
              "            'suggestCharts', [key], {});\n",
              "      } catch (error) {\n",
              "        console.error('Error during call to suggestCharts:', error);\n",
              "      }\n",
              "      quickchartButtonEl.classList.remove('colab-df-spinner');\n",
              "      quickchartButtonEl.classList.add('colab-df-quickchart-complete');\n",
              "    }\n",
              "    (() => {\n",
              "      let quickchartButtonEl =\n",
              "        document.querySelector('#df-d65027d6-56b8-4dad-9e01-5d97e6245edf button');\n",
              "      quickchartButtonEl.style.display =\n",
              "        google.colab.kernel.accessAllowed ? 'block' : 'none';\n",
              "    })();\n",
              "  </script>\n",
              "</div>\n",
              "    </div>\n",
              "  </div>\n"
            ]
          },
          "metadata": {},
          "execution_count": 18
        }
      ]
    },
    {
      "cell_type": "code",
      "source": [
        "df.shape"
      ],
      "metadata": {
        "id": "sg_7llJH-jiP",
        "outputId": "9dfd59ee-3630-4fa5-80f9-1b568289c43b",
        "colab": {
          "base_uri": "https://localhost:8080/"
        }
      },
      "execution_count": 19,
      "outputs": [
        {
          "output_type": "execute_result",
          "data": {
            "text/plain": [
              "(205920, 12)"
            ]
          },
          "metadata": {},
          "execution_count": 19
        }
      ]
    },
    {
      "cell_type": "code",
      "source": [
        "df.isnull().sum()"
      ],
      "metadata": {
        "id": "ePg4zTel-mR2",
        "outputId": "4a3abcc5-a94e-4787-c5f2-07ad8eacc3ce",
        "colab": {
          "base_uri": "https://localhost:8080/"
        }
      },
      "execution_count": 20,
      "outputs": [
        {
          "output_type": "execute_result",
          "data": {
            "text/plain": [
              "Year                                 0\n",
              "Cause of Death                       0\n",
              "State                                0\n",
              "HHS Region                           0\n",
              "Age Range                            0\n",
              "Benchmark                            0\n",
              "Locality                             0\n",
              "Observed Deaths                      0\n",
              "Population                           0\n",
              "Expected Deaths                      0\n",
              "Potentially Excess Deaths            0\n",
              "Percent Potentially Excess Deaths    0\n",
              "dtype: int64"
            ]
          },
          "metadata": {},
          "execution_count": 20
        }
      ]
    },
    {
      "cell_type": "code",
      "source": [
        "df.info()"
      ],
      "metadata": {
        "id": "NGStBF7q-pAg",
        "colab": {
          "base_uri": "https://localhost:8080/"
        },
        "outputId": "5751f5d4-c9e4-403d-aeb0-acdb72a4d8b2"
      },
      "execution_count": 21,
      "outputs": [
        {
          "output_type": "stream",
          "name": "stdout",
          "text": [
            "<class 'pandas.core.frame.DataFrame'>\n",
            "RangeIndex: 205920 entries, 0 to 205919\n",
            "Data columns (total 12 columns):\n",
            " #   Column                             Non-Null Count   Dtype  \n",
            "---  ------                             --------------   -----  \n",
            " 0   Year                               205920 non-null  int64  \n",
            " 1   Cause of Death                     205920 non-null  object \n",
            " 2   State                              205920 non-null  object \n",
            " 3   HHS Region                         205920 non-null  int64  \n",
            " 4   Age Range                          205920 non-null  object \n",
            " 5   Benchmark                          205920 non-null  object \n",
            " 6   Locality                           205920 non-null  object \n",
            " 7   Observed Deaths                    205920 non-null  float64\n",
            " 8   Population                         205920 non-null  float64\n",
            " 9   Expected Deaths                    205920 non-null  float64\n",
            " 10  Potentially Excess Deaths          205920 non-null  float64\n",
            " 11  Percent Potentially Excess Deaths  205920 non-null  float64\n",
            "dtypes: float64(5), int64(2), object(5)\n",
            "memory usage: 18.9+ MB\n"
          ]
        }
      ]
    },
    {
      "cell_type": "code",
      "source": [
        "df['Benchmark'].unique()"
      ],
      "metadata": {
        "colab": {
          "base_uri": "https://localhost:8080/"
        },
        "id": "3pi-2i-5DPXO",
        "outputId": "9e470f87-4040-467f-d5c3-0503547f8d27"
      },
      "execution_count": 23,
      "outputs": [
        {
          "output_type": "execute_result",
          "data": {
            "text/plain": [
              "array(['2005 Fixed', '2010 Fixed', 'Floating'], dtype=object)"
            ]
          },
          "metadata": {},
          "execution_count": 23
        }
      ]
    },
    {
      "cell_type": "code",
      "source": [
        "from sklearn.preprocessing import LabelEncoder                                # it helps to convert object to integer\n",
        "label_encoder = LabelEncoder()\n",
        "\n",
        "\n",
        "df['Cause of Death'] = label_encoder.fit_transform(df['Cause of Death'])\n",
        "df['State'] = label_encoder.fit_transform(df['State'])\n",
        "df['Age Range'] = label_encoder.fit_transform(df['Age Range'])\n",
        "df['Benchmark'] = label_encoder.fit_transform(df['Benchmark'])\n",
        "df['Locality'] = label_encoder.fit_transform(df['Locality'])"
      ],
      "metadata": {
        "id": "tJb9DZarBnIh"
      },
      "execution_count": 24,
      "outputs": []
    },
    {
      "cell_type": "code",
      "source": [
        "df.info()"
      ],
      "metadata": {
        "colab": {
          "base_uri": "https://localhost:8080/"
        },
        "id": "6GMRa6qbDB7N",
        "outputId": "80ff242a-7e56-482c-bbbb-8a8b9cbbe33f"
      },
      "execution_count": 25,
      "outputs": [
        {
          "output_type": "stream",
          "name": "stdout",
          "text": [
            "<class 'pandas.core.frame.DataFrame'>\n",
            "RangeIndex: 205920 entries, 0 to 205919\n",
            "Data columns (total 12 columns):\n",
            " #   Column                             Non-Null Count   Dtype  \n",
            "---  ------                             --------------   -----  \n",
            " 0   Year                               205920 non-null  int64  \n",
            " 1   Cause of Death                     205920 non-null  int64  \n",
            " 2   State                              205920 non-null  int64  \n",
            " 3   HHS Region                         205920 non-null  int64  \n",
            " 4   Age Range                          205920 non-null  int64  \n",
            " 5   Benchmark                          205920 non-null  int64  \n",
            " 6   Locality                           205920 non-null  int64  \n",
            " 7   Observed Deaths                    205920 non-null  float64\n",
            " 8   Population                         205920 non-null  float64\n",
            " 9   Expected Deaths                    205920 non-null  float64\n",
            " 10  Potentially Excess Deaths          205920 non-null  float64\n",
            " 11  Percent Potentially Excess Deaths  205920 non-null  float64\n",
            "dtypes: float64(5), int64(7)\n",
            "memory usage: 18.9 MB\n"
          ]
        }
      ]
    },
    {
      "cell_type": "code",
      "source": [
        "target = 'Cause of Death'"
      ],
      "metadata": {
        "id": "fg7YoMiKDf5i"
      },
      "execution_count": 26,
      "outputs": []
    },
    {
      "cell_type": "code",
      "source": [
        "X= df.loc[:,df.columns != target]                                               # every columns goes to X except the target\n",
        "\n",
        "Y = df[target]                                                                  # target column is Y"
      ],
      "metadata": {
        "id": "GmL4RcE0DlX-"
      },
      "execution_count": 28,
      "outputs": []
    },
    {
      "cell_type": "code",
      "source": [
        "from sklearn.model_selection import train_test_split                            # X and Y is spited into text and train segments\n",
        "\n",
        "X_train, X_test, Y_train, Y_test = train_test_split(X,Y, test_size = 0.2)"
      ],
      "metadata": {
        "id": "jpeyzDwGDn88"
      },
      "execution_count": 29,
      "outputs": []
    },
    {
      "cell_type": "markdown",
      "source": [
        "#RandomForest Classifier"
      ],
      "metadata": {
        "id": "VMvY8RD0DuE5"
      }
    },
    {
      "cell_type": "code",
      "source": [
        "from sklearn.ensemble import RandomForestClassifier\n",
        "\n",
        "clf = RandomForestClassifier(n_jobs=-1)\n",
        "\n",
        "clf.fit(X_train, Y_train)                                                       # Fitting the training segment into the model\n",
        "\n",
        "y_pred = clf.predict(X_test)                                                    # the model is predicting the test cases"
      ],
      "metadata": {
        "id": "4NqyOrGKDtH0"
      },
      "execution_count": 30,
      "outputs": []
    },
    {
      "cell_type": "code",
      "source": [
        "from sklearn.metrics import classification_report, confusion_matrix, accuracy_score\n",
        "print(confusion_matrix(Y_test, y_pred))\n",
        "print(classification_report(Y_test,y_pred))\n",
        "print(\"Accurecy: \",accuracy_score(Y_test, y_pred))"
      ],
      "metadata": {
        "colab": {
          "base_uri": "https://localhost:8080/"
        },
        "id": "13Z7SzDMD0GV",
        "outputId": "f07f4ec1-ded0-437e-b593-42462888c837"
      },
      "execution_count": 31,
      "outputs": [
        {
          "output_type": "stream",
          "name": "stdout",
          "text": [
            "[[8179    0   22    0   12]\n",
            " [   0 7714    0  342  201]\n",
            " [  39    0 8124    0   45]\n",
            " [   0  322    0 7862   21]\n",
            " [  14   95   40   21 8131]]\n",
            "              precision    recall  f1-score   support\n",
            "\n",
            "           0       0.99      1.00      0.99      8213\n",
            "           1       0.95      0.93      0.94      8257\n",
            "           2       0.99      0.99      0.99      8208\n",
            "           3       0.96      0.96      0.96      8205\n",
            "           4       0.97      0.98      0.97      8301\n",
            "\n",
            "    accuracy                           0.97     41184\n",
            "   macro avg       0.97      0.97      0.97     41184\n",
            "weighted avg       0.97      0.97      0.97     41184\n",
            "\n",
            "Accurecy:  0.9714937839937839\n"
          ]
        }
      ]
    },
    {
      "cell_type": "markdown",
      "source": [
        "#ADABoost Classifier"
      ],
      "metadata": {
        "id": "LqKX0mgaEQlb"
      }
    },
    {
      "cell_type": "code",
      "source": [
        "from sklearn.ensemble import AdaBoostClassifier\n",
        "\n",
        "ada = AdaBoostClassifier()\n",
        "\n",
        "ada.fit(X_train, Y_train)\n",
        "\n",
        "y_pred = ada.predict(X_test)"
      ],
      "metadata": {
        "id": "eJ-xMYPHEEDR"
      },
      "execution_count": 32,
      "outputs": []
    },
    {
      "cell_type": "code",
      "source": [
        "print(confusion_matrix(Y_test, y_pred))\n",
        "print(classification_report(Y_test,y_pred))\n",
        "print(\"Accurecy: \",accuracy_score(Y_test, y_pred))"
      ],
      "metadata": {
        "colab": {
          "base_uri": "https://localhost:8080/"
        },
        "id": "35XNvk2kEUQl",
        "outputId": "735b577d-9be5-4d06-8376-76dd988bc381"
      },
      "execution_count": 33,
      "outputs": [
        {
          "output_type": "stream",
          "name": "stdout",
          "text": [
            "[[4321    2 3622  135  133]\n",
            " [ 252 2540  400 2508 2557]\n",
            " [1452   95 3984  505 2172]\n",
            " [ 413 1596  173 4248 1775]\n",
            " [ 391  993  760  743 5414]]\n",
            "              precision    recall  f1-score   support\n",
            "\n",
            "           0       0.63      0.53      0.57      8213\n",
            "           1       0.49      0.31      0.38      8257\n",
            "           2       0.45      0.49      0.46      8208\n",
            "           3       0.52      0.52      0.52      8205\n",
            "           4       0.45      0.65      0.53      8301\n",
            "\n",
            "    accuracy                           0.50     41184\n",
            "   macro avg       0.51      0.50      0.49     41184\n",
            "weighted avg       0.51      0.50      0.49     41184\n",
            "\n",
            "Accurecy:  0.4979360916860917\n"
          ]
        }
      ]
    },
    {
      "cell_type": "markdown",
      "source": [
        "#GradientBoosting Classifier"
      ],
      "metadata": {
        "id": "1iTXqKyWEWL5"
      }
    },
    {
      "cell_type": "code",
      "source": [
        "\n",
        "from sklearn.ensemble import GradientBoostingClassifier\n",
        "\n",
        "GBC = GradientBoostingClassifier()\n",
        "\n",
        "GBC.fit(X_train, Y_train)\n",
        "\n",
        "y_pred = ada.predict(X_test)"
      ],
      "metadata": {
        "id": "WzauH47wEZSa"
      },
      "execution_count": null,
      "outputs": []
    },
    {
      "cell_type": "code",
      "source": [
        "\n",
        "print(confusion_matrix(Y_test, y_pred))\n",
        "print(classification_report(Y_test,y_pred))\n",
        "print(\"Accurecy: \",accuracy_score(Y_test, y_pred))"
      ],
      "metadata": {
        "id": "VcZ2x-NVEd91"
      },
      "execution_count": null,
      "outputs": []
    },
    {
      "cell_type": "markdown",
      "source": [
        "#KN Classifier"
      ],
      "metadata": {
        "id": "tRLe9f75EgNP"
      }
    },
    {
      "cell_type": "code",
      "source": [
        "from sklearn.neighbors import KNeighborsClassifier\n",
        "knn = KNeighborsClassifier()\n",
        "knn.fit(X_train, Y_train)\n",
        "\n",
        "y_pred=knn.predict(X_test)"
      ],
      "metadata": {
        "id": "K0qbFrSoEjZa"
      },
      "execution_count": null,
      "outputs": []
    },
    {
      "cell_type": "code",
      "source": [
        "print(confusion_matrix(Y_test, y_pred))\n",
        "print(classification_report(Y_test,y_pred))\n",
        "print(\"Accurecy: \",accuracy_score(Y_test, y_pred))"
      ],
      "metadata": {
        "id": "JU5oSdSYElji"
      },
      "execution_count": null,
      "outputs": []
    },
    {
      "cell_type": "markdown",
      "source": [
        "#Naive Bayes"
      ],
      "metadata": {
        "id": "x4OkK5FFEpeR"
      }
    },
    {
      "cell_type": "code",
      "source": [
        "from sklearn.naive_bayes import GaussianNB\n",
        "\n",
        "gnb = GaussianNB()\n",
        "\n",
        "gnb.fit(X_train, Y_train)\n",
        "\n",
        "y_pred = gnb.predict(X_test)"
      ],
      "metadata": {
        "id": "Enb_txCnEn_u"
      },
      "execution_count": null,
      "outputs": []
    },
    {
      "cell_type": "code",
      "source": [
        "print(confusion_matrix(Y_test, y_pred))\n",
        "print(classification_report(Y_test,y_pred))\n",
        "print(\"Accurecy: \",accuracy_score(Y_test, y_pred))"
      ],
      "metadata": {
        "id": "7DN3YGUXEvbR"
      },
      "execution_count": null,
      "outputs": []
    },
    {
      "cell_type": "markdown",
      "source": [
        "#SVM Classifier"
      ],
      "metadata": {
        "id": "YMcsboWxEyV7"
      }
    },
    {
      "cell_type": "code",
      "source": [
        "from sklearn.svm import SVC\n",
        "\n",
        "svm_classifier = SVC(kernel='linear')\n",
        "\n",
        "svm_classifier.fit(X_train, Y_train)\n",
        "\n",
        "y_pred = svm_classifier.predict(X_test)"
      ],
      "metadata": {
        "id": "5TP2Lj6RExVB"
      },
      "execution_count": null,
      "outputs": []
    },
    {
      "cell_type": "code",
      "source": [
        "print(confusion_matrix(Y_test, y_pred))\n",
        "print(classification_report(Y_test,y_pred))\n",
        "print(\"Accurecy: \",accuracy_score(Y_test, y_pred))"
      ],
      "metadata": {
        "id": "qMS6RwAcE28_"
      },
      "execution_count": null,
      "outputs": []
    },
    {
      "cell_type": "markdown",
      "source": [
        "#Logitic Regression"
      ],
      "metadata": {
        "id": "BF8D0NJ1E5sN"
      }
    },
    {
      "cell_type": "code",
      "source": [
        "from sklearn.linear_model import LogisticRegression\n",
        "lr = LogisticRegression(random_state = 0)\n",
        "lr.fit(X_train, Y_train)\n",
        "y_pred = lr.predict(X_test)"
      ],
      "metadata": {
        "id": "CS0WBCFAE5Ct"
      },
      "execution_count": null,
      "outputs": []
    },
    {
      "cell_type": "code",
      "source": [
        "print(confusion_matrix(Y_test, y_pred))\n",
        "print(classification_report(Y_test,y_pred))\n",
        "print(\"Accurecy: \",accuracy_score(Y_test, y_pred))"
      ],
      "metadata": {
        "id": "QoM6rYwzE_6h"
      },
      "execution_count": null,
      "outputs": []
    },
    {
      "cell_type": "markdown",
      "source": [
        "#CAT Boosting"
      ],
      "metadata": {
        "id": "t3TRZu0TFC8F"
      }
    },
    {
      "cell_type": "code",
      "source": [
        "from catboost import CatBoostClassifier\n",
        "\n",
        "# Create a CatBoostClassifier\n",
        "model = CatBoostClassifier()\n",
        "\n",
        "# Fit the model to the training data\n",
        "model.fit(X_train, Y_train)\n",
        "\n",
        "# Make predictions on test data\n",
        "y_pred = model.predict(X_test)"
      ],
      "metadata": {
        "id": "cg4uej-qFCf5"
      },
      "execution_count": null,
      "outputs": []
    },
    {
      "cell_type": "code",
      "source": [
        "print(confusion_matrix(Y_test, y_pred))\n",
        "print(classification_report(Y_test,y_pred))\n",
        "print(\"Accurecy: \",accuracy_score(Y_test, y_pred))"
      ],
      "metadata": {
        "id": "J43it-RvFKj-"
      },
      "execution_count": null,
      "outputs": []
    },
    {
      "cell_type": "code",
      "source": [],
      "metadata": {
        "id": "h2Rm5UXiFKdF"
      },
      "execution_count": null,
      "outputs": []
    }
  ]
}