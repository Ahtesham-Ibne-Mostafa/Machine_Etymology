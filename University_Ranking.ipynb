{
  "nbformat": 4,
  "nbformat_minor": 0,
  "metadata": {
    "colab": {
      "provenance": [],
      "authorship_tag": "ABX9TyMuJEYAgAl/W0kVkwiLOO9U",
      "include_colab_link": true
    },
    "kernelspec": {
      "name": "python3",
      "display_name": "Python 3"
    },
    "language_info": {
      "name": "python"
    }
  },
  "cells": [
    {
      "cell_type": "markdown",
      "metadata": {
        "id": "view-in-github",
        "colab_type": "text"
      },
      "source": [
        "<a href=\"https://colab.research.google.com/github/Ahtesham-Ibne-Mostafa/Machine_Etymology/blob/main/University_Ranking.ipynb\" target=\"_parent\"><img src=\"https://colab.research.google.com/assets/colab-badge.svg\" alt=\"Open In Colab\"/></a>"
      ]
    },
    {
      "cell_type": "code",
      "execution_count": null,
      "metadata": {
        "id": "VKotR9uMyi6k"
      },
      "outputs": [],
      "source": [
        "import pandas as pd\n",
        "import numpy as np\n",
        "import math"
      ]
    },
    {
      "cell_type": "code",
      "source": [
        "df=pd.read_csv('/content/World University Rankings 2023.csv')                       # Reading Csv file with pandas"
      ],
      "metadata": {
        "id": "txQOxuJqy0gk"
      },
      "execution_count": null,
      "outputs": []
    },
    {
      "cell_type": "code",
      "source": [
        "df.head()                                                              # shows the first 5 rows of the csv file"
      ],
      "metadata": {
        "colab": {
          "base_uri": "https://localhost:8080/",
          "height": 345
        },
        "id": "pX-a_Dhwy3Aw",
        "outputId": "88325aef-8769-420b-b143-52809cbf0ef1"
      },
      "execution_count": null,
      "outputs": [
        {
          "output_type": "execute_result",
          "data": {
            "text/plain": [
              "  University Rank                     Name of University        Location  \\\n",
              "0               1                   University of Oxford  United Kingdom   \n",
              "1               2                     Harvard University   United States   \n",
              "2               3                University of Cambridge  United Kingdom   \n",
              "3               3                    Stanford University   United States   \n",
              "4               5  Massachusetts Institute of Technology   United States   \n",
              "\n",
              "  No of student  No of student per staff International Student  \\\n",
              "0        20,965                     10.6                   42%   \n",
              "1        21,887                      9.6                   25%   \n",
              "2        20,185                     11.3                   39%   \n",
              "3        16,164                      7.1                   24%   \n",
              "4        11,415                      8.2                   33%   \n",
              "\n",
              "  Female:Male Ratio OverAll Score  Teaching Score  Research Score  \\\n",
              "0           48 : 52          96.4            92.3            99.7   \n",
              "1           50 : 50          95.2            94.8            99.0   \n",
              "2           47 : 53          94.8            90.9            99.5   \n",
              "3           46 : 54          94.8            94.2            96.7   \n",
              "4           40 : 60          94.2            90.7            93.6   \n",
              "\n",
              "   Citations Score  Industry Income Score  International Outlook Score  \n",
              "0             99.0                   74.9                         96.2  \n",
              "1             99.3                   49.5                         80.5  \n",
              "2             97.0                   54.2                         95.8  \n",
              "3             99.8                   65.0                         79.8  \n",
              "4             99.8                   90.9                         89.3  "
            ],
            "text/html": [
              "\n",
              "  <div id=\"df-a788fba3-762a-4c56-b270-34dcc5cf7515\" class=\"colab-df-container\">\n",
              "    <div>\n",
              "<style scoped>\n",
              "    .dataframe tbody tr th:only-of-type {\n",
              "        vertical-align: middle;\n",
              "    }\n",
              "\n",
              "    .dataframe tbody tr th {\n",
              "        vertical-align: top;\n",
              "    }\n",
              "\n",
              "    .dataframe thead th {\n",
              "        text-align: right;\n",
              "    }\n",
              "</style>\n",
              "<table border=\"1\" class=\"dataframe\">\n",
              "  <thead>\n",
              "    <tr style=\"text-align: right;\">\n",
              "      <th></th>\n",
              "      <th>University Rank</th>\n",
              "      <th>Name of University</th>\n",
              "      <th>Location</th>\n",
              "      <th>No of student</th>\n",
              "      <th>No of student per staff</th>\n",
              "      <th>International Student</th>\n",
              "      <th>Female:Male Ratio</th>\n",
              "      <th>OverAll Score</th>\n",
              "      <th>Teaching Score</th>\n",
              "      <th>Research Score</th>\n",
              "      <th>Citations Score</th>\n",
              "      <th>Industry Income Score</th>\n",
              "      <th>International Outlook Score</th>\n",
              "    </tr>\n",
              "  </thead>\n",
              "  <tbody>\n",
              "    <tr>\n",
              "      <th>0</th>\n",
              "      <td>1</td>\n",
              "      <td>University of Oxford</td>\n",
              "      <td>United Kingdom</td>\n",
              "      <td>20,965</td>\n",
              "      <td>10.6</td>\n",
              "      <td>42%</td>\n",
              "      <td>48 : 52</td>\n",
              "      <td>96.4</td>\n",
              "      <td>92.3</td>\n",
              "      <td>99.7</td>\n",
              "      <td>99.0</td>\n",
              "      <td>74.9</td>\n",
              "      <td>96.2</td>\n",
              "    </tr>\n",
              "    <tr>\n",
              "      <th>1</th>\n",
              "      <td>2</td>\n",
              "      <td>Harvard University</td>\n",
              "      <td>United States</td>\n",
              "      <td>21,887</td>\n",
              "      <td>9.6</td>\n",
              "      <td>25%</td>\n",
              "      <td>50 : 50</td>\n",
              "      <td>95.2</td>\n",
              "      <td>94.8</td>\n",
              "      <td>99.0</td>\n",
              "      <td>99.3</td>\n",
              "      <td>49.5</td>\n",
              "      <td>80.5</td>\n",
              "    </tr>\n",
              "    <tr>\n",
              "      <th>2</th>\n",
              "      <td>3</td>\n",
              "      <td>University of Cambridge</td>\n",
              "      <td>United Kingdom</td>\n",
              "      <td>20,185</td>\n",
              "      <td>11.3</td>\n",
              "      <td>39%</td>\n",
              "      <td>47 : 53</td>\n",
              "      <td>94.8</td>\n",
              "      <td>90.9</td>\n",
              "      <td>99.5</td>\n",
              "      <td>97.0</td>\n",
              "      <td>54.2</td>\n",
              "      <td>95.8</td>\n",
              "    </tr>\n",
              "    <tr>\n",
              "      <th>3</th>\n",
              "      <td>3</td>\n",
              "      <td>Stanford University</td>\n",
              "      <td>United States</td>\n",
              "      <td>16,164</td>\n",
              "      <td>7.1</td>\n",
              "      <td>24%</td>\n",
              "      <td>46 : 54</td>\n",
              "      <td>94.8</td>\n",
              "      <td>94.2</td>\n",
              "      <td>96.7</td>\n",
              "      <td>99.8</td>\n",
              "      <td>65.0</td>\n",
              "      <td>79.8</td>\n",
              "    </tr>\n",
              "    <tr>\n",
              "      <th>4</th>\n",
              "      <td>5</td>\n",
              "      <td>Massachusetts Institute of Technology</td>\n",
              "      <td>United States</td>\n",
              "      <td>11,415</td>\n",
              "      <td>8.2</td>\n",
              "      <td>33%</td>\n",
              "      <td>40 : 60</td>\n",
              "      <td>94.2</td>\n",
              "      <td>90.7</td>\n",
              "      <td>93.6</td>\n",
              "      <td>99.8</td>\n",
              "      <td>90.9</td>\n",
              "      <td>89.3</td>\n",
              "    </tr>\n",
              "  </tbody>\n",
              "</table>\n",
              "</div>\n",
              "    <div class=\"colab-df-buttons\">\n",
              "\n",
              "  <div class=\"colab-df-container\">\n",
              "    <button class=\"colab-df-convert\" onclick=\"convertToInteractive('df-a788fba3-762a-4c56-b270-34dcc5cf7515')\"\n",
              "            title=\"Convert this dataframe to an interactive table.\"\n",
              "            style=\"display:none;\">\n",
              "\n",
              "  <svg xmlns=\"http://www.w3.org/2000/svg\" height=\"24px\" viewBox=\"0 -960 960 960\">\n",
              "    <path d=\"M120-120v-720h720v720H120Zm60-500h600v-160H180v160Zm220 220h160v-160H400v160Zm0 220h160v-160H400v160ZM180-400h160v-160H180v160Zm440 0h160v-160H620v160ZM180-180h160v-160H180v160Zm440 0h160v-160H620v160Z\"/>\n",
              "  </svg>\n",
              "    </button>\n",
              "\n",
              "  <style>\n",
              "    .colab-df-container {\n",
              "      display:flex;\n",
              "      gap: 12px;\n",
              "    }\n",
              "\n",
              "    .colab-df-convert {\n",
              "      background-color: #E8F0FE;\n",
              "      border: none;\n",
              "      border-radius: 50%;\n",
              "      cursor: pointer;\n",
              "      display: none;\n",
              "      fill: #1967D2;\n",
              "      height: 32px;\n",
              "      padding: 0 0 0 0;\n",
              "      width: 32px;\n",
              "    }\n",
              "\n",
              "    .colab-df-convert:hover {\n",
              "      background-color: #E2EBFA;\n",
              "      box-shadow: 0px 1px 2px rgba(60, 64, 67, 0.3), 0px 1px 3px 1px rgba(60, 64, 67, 0.15);\n",
              "      fill: #174EA6;\n",
              "    }\n",
              "\n",
              "    .colab-df-buttons div {\n",
              "      margin-bottom: 4px;\n",
              "    }\n",
              "\n",
              "    [theme=dark] .colab-df-convert {\n",
              "      background-color: #3B4455;\n",
              "      fill: #D2E3FC;\n",
              "    }\n",
              "\n",
              "    [theme=dark] .colab-df-convert:hover {\n",
              "      background-color: #434B5C;\n",
              "      box-shadow: 0px 1px 3px 1px rgba(0, 0, 0, 0.15);\n",
              "      filter: drop-shadow(0px 1px 2px rgba(0, 0, 0, 0.3));\n",
              "      fill: #FFFFFF;\n",
              "    }\n",
              "  </style>\n",
              "\n",
              "    <script>\n",
              "      const buttonEl =\n",
              "        document.querySelector('#df-a788fba3-762a-4c56-b270-34dcc5cf7515 button.colab-df-convert');\n",
              "      buttonEl.style.display =\n",
              "        google.colab.kernel.accessAllowed ? 'block' : 'none';\n",
              "\n",
              "      async function convertToInteractive(key) {\n",
              "        const element = document.querySelector('#df-a788fba3-762a-4c56-b270-34dcc5cf7515');\n",
              "        const dataTable =\n",
              "          await google.colab.kernel.invokeFunction('convertToInteractive',\n",
              "                                                    [key], {});\n",
              "        if (!dataTable) return;\n",
              "\n",
              "        const docLinkHtml = 'Like what you see? Visit the ' +\n",
              "          '<a target=\"_blank\" href=https://colab.research.google.com/notebooks/data_table.ipynb>data table notebook</a>'\n",
              "          + ' to learn more about interactive tables.';\n",
              "        element.innerHTML = '';\n",
              "        dataTable['output_type'] = 'display_data';\n",
              "        await google.colab.output.renderOutput(dataTable, element);\n",
              "        const docLink = document.createElement('div');\n",
              "        docLink.innerHTML = docLinkHtml;\n",
              "        element.appendChild(docLink);\n",
              "      }\n",
              "    </script>\n",
              "  </div>\n",
              "\n",
              "\n",
              "<div id=\"df-fb3d0543-688c-4889-bf26-242d85ec0f25\">\n",
              "  <button class=\"colab-df-quickchart\" onclick=\"quickchart('df-fb3d0543-688c-4889-bf26-242d85ec0f25')\"\n",
              "            title=\"Suggest charts.\"\n",
              "            style=\"display:none;\">\n",
              "\n",
              "<svg xmlns=\"http://www.w3.org/2000/svg\" height=\"24px\"viewBox=\"0 0 24 24\"\n",
              "     width=\"24px\">\n",
              "    <g>\n",
              "        <path d=\"M19 3H5c-1.1 0-2 .9-2 2v14c0 1.1.9 2 2 2h14c1.1 0 2-.9 2-2V5c0-1.1-.9-2-2-2zM9 17H7v-7h2v7zm4 0h-2V7h2v10zm4 0h-2v-4h2v4z\"/>\n",
              "    </g>\n",
              "</svg>\n",
              "  </button>\n",
              "\n",
              "<style>\n",
              "  .colab-df-quickchart {\n",
              "      --bg-color: #E8F0FE;\n",
              "      --fill-color: #1967D2;\n",
              "      --hover-bg-color: #E2EBFA;\n",
              "      --hover-fill-color: #174EA6;\n",
              "      --disabled-fill-color: #AAA;\n",
              "      --disabled-bg-color: #DDD;\n",
              "  }\n",
              "\n",
              "  [theme=dark] .colab-df-quickchart {\n",
              "      --bg-color: #3B4455;\n",
              "      --fill-color: #D2E3FC;\n",
              "      --hover-bg-color: #434B5C;\n",
              "      --hover-fill-color: #FFFFFF;\n",
              "      --disabled-bg-color: #3B4455;\n",
              "      --disabled-fill-color: #666;\n",
              "  }\n",
              "\n",
              "  .colab-df-quickchart {\n",
              "    background-color: var(--bg-color);\n",
              "    border: none;\n",
              "    border-radius: 50%;\n",
              "    cursor: pointer;\n",
              "    display: none;\n",
              "    fill: var(--fill-color);\n",
              "    height: 32px;\n",
              "    padding: 0;\n",
              "    width: 32px;\n",
              "  }\n",
              "\n",
              "  .colab-df-quickchart:hover {\n",
              "    background-color: var(--hover-bg-color);\n",
              "    box-shadow: 0 1px 2px rgba(60, 64, 67, 0.3), 0 1px 3px 1px rgba(60, 64, 67, 0.15);\n",
              "    fill: var(--button-hover-fill-color);\n",
              "  }\n",
              "\n",
              "  .colab-df-quickchart-complete:disabled,\n",
              "  .colab-df-quickchart-complete:disabled:hover {\n",
              "    background-color: var(--disabled-bg-color);\n",
              "    fill: var(--disabled-fill-color);\n",
              "    box-shadow: none;\n",
              "  }\n",
              "\n",
              "  .colab-df-spinner {\n",
              "    border: 2px solid var(--fill-color);\n",
              "    border-color: transparent;\n",
              "    border-bottom-color: var(--fill-color);\n",
              "    animation:\n",
              "      spin 1s steps(1) infinite;\n",
              "  }\n",
              "\n",
              "  @keyframes spin {\n",
              "    0% {\n",
              "      border-color: transparent;\n",
              "      border-bottom-color: var(--fill-color);\n",
              "      border-left-color: var(--fill-color);\n",
              "    }\n",
              "    20% {\n",
              "      border-color: transparent;\n",
              "      border-left-color: var(--fill-color);\n",
              "      border-top-color: var(--fill-color);\n",
              "    }\n",
              "    30% {\n",
              "      border-color: transparent;\n",
              "      border-left-color: var(--fill-color);\n",
              "      border-top-color: var(--fill-color);\n",
              "      border-right-color: var(--fill-color);\n",
              "    }\n",
              "    40% {\n",
              "      border-color: transparent;\n",
              "      border-right-color: var(--fill-color);\n",
              "      border-top-color: var(--fill-color);\n",
              "    }\n",
              "    60% {\n",
              "      border-color: transparent;\n",
              "      border-right-color: var(--fill-color);\n",
              "    }\n",
              "    80% {\n",
              "      border-color: transparent;\n",
              "      border-right-color: var(--fill-color);\n",
              "      border-bottom-color: var(--fill-color);\n",
              "    }\n",
              "    90% {\n",
              "      border-color: transparent;\n",
              "      border-bottom-color: var(--fill-color);\n",
              "    }\n",
              "  }\n",
              "</style>\n",
              "\n",
              "  <script>\n",
              "    async function quickchart(key) {\n",
              "      const quickchartButtonEl =\n",
              "        document.querySelector('#' + key + ' button');\n",
              "      quickchartButtonEl.disabled = true;  // To prevent multiple clicks.\n",
              "      quickchartButtonEl.classList.add('colab-df-spinner');\n",
              "      try {\n",
              "        const charts = await google.colab.kernel.invokeFunction(\n",
              "            'suggestCharts', [key], {});\n",
              "      } catch (error) {\n",
              "        console.error('Error during call to suggestCharts:', error);\n",
              "      }\n",
              "      quickchartButtonEl.classList.remove('colab-df-spinner');\n",
              "      quickchartButtonEl.classList.add('colab-df-quickchart-complete');\n",
              "    }\n",
              "    (() => {\n",
              "      let quickchartButtonEl =\n",
              "        document.querySelector('#df-fb3d0543-688c-4889-bf26-242d85ec0f25 button');\n",
              "      quickchartButtonEl.style.display =\n",
              "        google.colab.kernel.accessAllowed ? 'block' : 'none';\n",
              "    })();\n",
              "  </script>\n",
              "</div>\n",
              "    </div>\n",
              "  </div>\n"
            ]
          },
          "metadata": {},
          "execution_count": 42
        }
      ]
    },
    {
      "cell_type": "code",
      "source": [
        "\n",
        "df.columns                                                        #---> returns all names of columns as a list\n"
      ],
      "metadata": {
        "id": "dZUlUI-p5kLn"
      },
      "execution_count": null,
      "outputs": []
    },
    {
      "cell_type": "code",
      "source": [
        "df.describe()                                                #--> Statistical descriptions of different types of data"
      ],
      "metadata": {
        "id": "npiN8uls5nZA"
      },
      "execution_count": null,
      "outputs": []
    },
    {
      "cell_type": "code",
      "source": [
        "df.info()                                                     # shows Non null value and data type(string == object)"
      ],
      "metadata": {
        "colab": {
          "base_uri": "https://localhost:8080/"
        },
        "id": "cM28nMSFy9Wd",
        "outputId": "05b5bbb5-09e4-40e2-980d-22960b4ce2bc"
      },
      "execution_count": null,
      "outputs": [
        {
          "output_type": "stream",
          "name": "stdout",
          "text": [
            "<class 'pandas.core.frame.DataFrame'>\n",
            "RangeIndex: 2341 entries, 0 to 2340\n",
            "Data columns (total 13 columns):\n",
            " #   Column                       Non-Null Count  Dtype  \n",
            "---  ------                       --------------  -----  \n",
            " 0   University Rank              2341 non-null   object \n",
            " 1   Name of University           2233 non-null   object \n",
            " 2   Location                     2047 non-null   object \n",
            " 3   No of student                2209 non-null   object \n",
            " 4   No of student per staff      2208 non-null   float64\n",
            " 5   International Student        2209 non-null   object \n",
            " 6   Female:Male Ratio            2128 non-null   object \n",
            " 7   OverAll Score                1799 non-null   object \n",
            " 8   Teaching Score               1799 non-null   float64\n",
            " 9   Research Score               1799 non-null   float64\n",
            " 10  Citations Score              1799 non-null   float64\n",
            " 11  Industry Income Score        1799 non-null   float64\n",
            " 12  International Outlook Score  1799 non-null   float64\n",
            "dtypes: float64(6), object(7)\n",
            "memory usage: 237.9+ KB\n"
          ]
        }
      ]
    },
    {
      "cell_type": "code",
      "source": [
        "df.shape                                                      # shows rows and columns"
      ],
      "metadata": {
        "colab": {
          "base_uri": "https://localhost:8080/"
        },
        "id": "iqMXu3m3zG69",
        "outputId": "ca2acc4a-47f4-4bd3-d9da-b4e935635edc"
      },
      "execution_count": null,
      "outputs": [
        {
          "output_type": "execute_result",
          "data": {
            "text/plain": [
              "(2341, 13)"
            ]
          },
          "metadata": {},
          "execution_count": 44
        }
      ]
    },
    {
      "cell_type": "code",
      "source": [
        "df = df.drop('Location', axis=1)                            # drops the column"
      ],
      "metadata": {
        "id": "LYVKNwAs4IrH"
      },
      "execution_count": null,
      "outputs": []
    },
    {
      "cell_type": "code",
      "source": [
        "df=df.dropna().reset_index(drop=True)                           # drops all the null values rows and resets the index number"
      ],
      "metadata": {
        "id": "TqJ-rJz53cTE"
      },
      "execution_count": null,
      "outputs": []
    },
    {
      "cell_type": "code",
      "source": [
        "df.info()"
      ],
      "metadata": {
        "colab": {
          "base_uri": "https://localhost:8080/"
        },
        "id": "eqULoGbq3r2u",
        "outputId": "e98e9af3-ef84-42f4-9ad0-403c4f32cc33"
      },
      "execution_count": null,
      "outputs": [
        {
          "output_type": "stream",
          "name": "stdout",
          "text": [
            "<class 'pandas.core.frame.DataFrame'>\n",
            "RangeIndex: 1621 entries, 0 to 1620\n",
            "Data columns (total 12 columns):\n",
            " #   Column                       Non-Null Count  Dtype  \n",
            "---  ------                       --------------  -----  \n",
            " 0   University Rank              1621 non-null   object \n",
            " 1   Name of University           1621 non-null   object \n",
            " 2   No of student                1621 non-null   object \n",
            " 3   No of student per staff      1621 non-null   float64\n",
            " 4   International Student        1621 non-null   object \n",
            " 5   Female:Male Ratio            1621 non-null   object \n",
            " 6   OverAll Score                1621 non-null   object \n",
            " 7   Teaching Score               1621 non-null   float64\n",
            " 8   Research Score               1621 non-null   float64\n",
            " 9   Citations Score              1621 non-null   float64\n",
            " 10  Industry Income Score        1621 non-null   float64\n",
            " 11  International Outlook Score  1621 non-null   float64\n",
            "dtypes: float64(6), object(6)\n",
            "memory usage: 152.1+ KB\n"
          ]
        }
      ]
    },
    {
      "cell_type": "code",
      "source": [
        "target='University Rank'"
      ],
      "metadata": {
        "id": "sWv5soi14CrR"
      },
      "execution_count": null,
      "outputs": []
    },
    {
      "cell_type": "code",
      "source": [
        "\n",
        "df[target].unique()                         # shows the unique values of a column"
      ],
      "metadata": {
        "id": "su1yp-P_7Abx"
      },
      "execution_count": null,
      "outputs": []
    },
    {
      "cell_type": "code",
      "source": [
        "from sklearn.preprocessing import LabelEncoder                                # it helps to convert object to integer\n",
        "label_encoder = LabelEncoder()\n",
        "\n",
        "\n",
        "df['University Rank'] = label_encoder.fit_transform(df['University Rank'])\n",
        "df['Name of University'] = label_encoder.fit_transform(df['Name of University'])\n",
        "df['No of student'] = label_encoder.fit_transform(df['No of student'])\n",
        "df['International Student'] = label_encoder.fit_transform(df['International Student'])\n",
        "df['Female:Male Ratio'] = label_encoder.fit_transform(df['Female:Male Ratio'])\n",
        "df['OverAll Score'] = label_encoder.fit_transform(df['OverAll Score'])"
      ],
      "metadata": {
        "id": "Cem0Wy7O46J_"
      },
      "execution_count": null,
      "outputs": []
    },
    {
      "cell_type": "code",
      "source": [
        "df.info()"
      ],
      "metadata": {
        "colab": {
          "base_uri": "https://localhost:8080/"
        },
        "id": "_mx1bEp5725L",
        "outputId": "ed9fc53d-3bac-4184-f129-de3c3a62a923"
      },
      "execution_count": null,
      "outputs": [
        {
          "output_type": "stream",
          "name": "stdout",
          "text": [
            "<class 'pandas.core.frame.DataFrame'>\n",
            "RangeIndex: 1621 entries, 0 to 1620\n",
            "Data columns (total 12 columns):\n",
            " #   Column                       Non-Null Count  Dtype  \n",
            "---  ------                       --------------  -----  \n",
            " 0   University Rank              1621 non-null   int64  \n",
            " 1   Name of University           1621 non-null   int64  \n",
            " 2   No of student                1621 non-null   int64  \n",
            " 3   No of student per staff      1621 non-null   float64\n",
            " 4   International Student        1621 non-null   int64  \n",
            " 5   Female:Male Ratio            1621 non-null   int64  \n",
            " 6   OverAll Score                1621 non-null   int64  \n",
            " 7   Teaching Score               1621 non-null   float64\n",
            " 8   Research Score               1621 non-null   float64\n",
            " 9   Citations Score              1621 non-null   float64\n",
            " 10  Industry Income Score        1621 non-null   float64\n",
            " 11  International Outlook Score  1621 non-null   float64\n",
            "dtypes: float64(6), int64(6)\n",
            "memory usage: 152.1 KB\n"
          ]
        }
      ]
    },
    {
      "cell_type": "code",
      "source": [
        "X= df.loc[:,df.columns != target]                                               # every columns goes to X except the target\n",
        "\n",
        "Y = df[target]                                                                  # target column is Y"
      ],
      "metadata": {
        "id": "ZQcZfLUz8Hky"
      },
      "execution_count": null,
      "outputs": []
    },
    {
      "cell_type": "code",
      "source": [
        "from sklearn.model_selection import train_test_split                            # X and Y is spited into text and train segments\n",
        "\n",
        "X_train, X_test, Y_train, Y_test = train_test_split(X,Y, test_size = 0.2)"
      ],
      "metadata": {
        "id": "yIwFwV3j-LUd"
      },
      "execution_count": null,
      "outputs": []
    },
    {
      "cell_type": "markdown",
      "source": [
        "RandomForest Classifier"
      ],
      "metadata": {
        "id": "eTOtmMGQ8DtP"
      }
    },
    {
      "cell_type": "code",
      "source": [
        "%%time                                                                          # shows the run time\n",
        "\n",
        "from sklearn.ensemble import RandomForestClassifier\n",
        "\n",
        "clf = RandomForestClassifier(n_jobs=-1)\n",
        "\n",
        "clf.fit(X_train, Y_train)                                                       # Fitting the training segment into the model\n",
        "\n",
        "y_pred = clf.predict(X_test)                                                    # the model is predicting the test cases"
      ],
      "metadata": {
        "colab": {
          "base_uri": "https://localhost:8080/"
        },
        "id": "bvId3Eqo-pd6",
        "outputId": "f9040ed4-1a2a-4030-d9b9-01e29a1a3874"
      },
      "execution_count": null,
      "outputs": [
        {
          "output_type": "stream",
          "name": "stdout",
          "text": [
            "CPU times: user 1.29 s, sys: 56.6 ms, total: 1.35 s\n",
            "Wall time: 1.54 s\n"
          ]
        }
      ]
    },
    {
      "cell_type": "code",
      "source": [
        "from sklearn.metrics import accuracy_score                                      # it compares the predicted values with the real values and give a score of prediction rate\n",
        "\n",
        "score = accuracy_score(Y_test,y_pred)\n",
        "\n",
        "print(score)"
      ],
      "metadata": {
        "colab": {
          "base_uri": "https://localhost:8080/"
        },
        "id": "5wt9xL0i-xk2",
        "outputId": "720aaec4-5f7c-42e0-b19c-2dd83f3fe828"
      },
      "execution_count": null,
      "outputs": [
        {
          "output_type": "stream",
          "name": "stdout",
          "text": [
            "0.8676923076923077\n"
          ]
        }
      ]
    },
    {
      "cell_type": "markdown",
      "source": [
        "ADABoost Classifier"
      ],
      "metadata": {
        "id": "bmlz9jEg8Iag"
      }
    },
    {
      "cell_type": "code",
      "source": [
        "from sklearn.ensemble import AdaBoostClassifier\n",
        "\n",
        "ada = AdaBoostClassifier()\n",
        "\n",
        "ada.fit(X_train, Y_train)\n",
        "\n",
        "y_pred = ada.predict(X_test)"
      ],
      "metadata": {
        "id": "8lrUy3tC-28O"
      },
      "execution_count": null,
      "outputs": []
    },
    {
      "cell_type": "code",
      "source": [
        "score = accuracy_score(Y_test,y_pred)\n",
        "\n",
        "print(score)"
      ],
      "metadata": {
        "colab": {
          "base_uri": "https://localhost:8080/"
        },
        "id": "5urueHG-_CLr",
        "outputId": "6b3ac271-e064-4abd-b002-b27bc91cf96b"
      },
      "execution_count": null,
      "outputs": [
        {
          "output_type": "stream",
          "name": "stdout",
          "text": [
            "0.3230769230769231\n"
          ]
        }
      ]
    },
    {
      "cell_type": "markdown",
      "source": [
        "GradientBoosting Classifier"
      ],
      "metadata": {
        "id": "BHUXTEMm8NF0"
      }
    },
    {
      "cell_type": "code",
      "source": [
        "from sklearn.ensemble import GradientBoostingClassifier\n",
        "\n",
        "GBC = GradientBoostingClassifier()\n",
        "\n",
        "GBC.fit(X_train, Y_train)\n",
        "\n",
        "y_pred = ada.predict(X_test)"
      ],
      "metadata": {
        "id": "FltTTNzf_C7I"
      },
      "execution_count": null,
      "outputs": []
    },
    {
      "cell_type": "code",
      "source": [
        "print(accuracy_score(Y_test,y_pred))"
      ],
      "metadata": {
        "colab": {
          "base_uri": "https://localhost:8080/"
        },
        "id": "560A8-n5_Ix_",
        "outputId": "19dc3a79-1f85-4a57-d547-3ffffaf5bbed"
      },
      "execution_count": null,
      "outputs": [
        {
          "output_type": "stream",
          "name": "stdout",
          "text": [
            "0.3230769230769231\n"
          ]
        }
      ]
    },
    {
      "cell_type": "markdown",
      "source": [
        "KN Classifier"
      ],
      "metadata": {
        "id": "nZ93nffX8S4K"
      }
    },
    {
      "cell_type": "code",
      "source": [
        "from sklearn.neighbors import KNeighborsClassifier\n",
        "knn = KNeighborsClassifier()\n",
        "knn.fit(X_train, Y_train)\n",
        "\n",
        "y_pred=knn.predict(X_test)"
      ],
      "metadata": {
        "id": "uKZrmZng_N_r"
      },
      "execution_count": null,
      "outputs": []
    },
    {
      "cell_type": "code",
      "source": [
        "print(accuracy_score(Y_test,y_pred))"
      ],
      "metadata": {
        "colab": {
          "base_uri": "https://localhost:8080/"
        },
        "id": "CtY_UJ0a_ZKL",
        "outputId": "77d1f85e-5e34-459c-bb7d-d2859b97fa4c"
      },
      "execution_count": null,
      "outputs": [
        {
          "output_type": "stream",
          "name": "stdout",
          "text": [
            "0.2123076923076923\n"
          ]
        }
      ]
    },
    {
      "cell_type": "markdown",
      "source": [
        "Naive Bayes"
      ],
      "metadata": {
        "id": "gY83D7WE8WUq"
      }
    },
    {
      "cell_type": "code",
      "source": [
        "from sklearn.naive_bayes import GaussianNB\n",
        "\n",
        "gnb = GaussianNB()\n",
        "\n",
        "gnb.fit(X_train, Y_train)\n",
        "\n",
        "y_pred = gnb.predict(X_test)"
      ],
      "metadata": {
        "id": "xqyW3dc-_bPc"
      },
      "execution_count": null,
      "outputs": []
    },
    {
      "cell_type": "code",
      "source": [
        "print(accuracy_score(Y_test,y_pred))"
      ],
      "metadata": {
        "colab": {
          "base_uri": "https://localhost:8080/"
        },
        "id": "Uv2M8iMe_exj",
        "outputId": "cac55313-df3f-4f72-a246-95d12213b515"
      },
      "execution_count": null,
      "outputs": [
        {
          "output_type": "stream",
          "name": "stdout",
          "text": [
            "0.8923076923076924\n"
          ]
        }
      ]
    },
    {
      "cell_type": "markdown",
      "source": [
        "SVM Classifier"
      ],
      "metadata": {
        "id": "x1pKvKUy8asi"
      }
    },
    {
      "cell_type": "code",
      "source": [
        "from sklearn.svm import SVC\n",
        "\n",
        "svm_classifier = SVC(kernel='linear')\n",
        "\n",
        "svm_classifier.fit(X_train, Y_train)\n",
        "\n",
        "y_pred = svm_classifier.predict(X_test)"
      ],
      "metadata": {
        "id": "20_P7zyA_ghP"
      },
      "execution_count": null,
      "outputs": []
    },
    {
      "cell_type": "code",
      "source": [
        "print(accuracy_score(Y_test,y_pred))"
      ],
      "metadata": {
        "colab": {
          "base_uri": "https://localhost:8080/"
        },
        "id": "DvygdJrP_kab",
        "outputId": "9930a25d-c552-4ad7-bf29-ce6c3caae67f"
      },
      "execution_count": null,
      "outputs": [
        {
          "output_type": "stream",
          "name": "stdout",
          "text": [
            "0.8523076923076923\n"
          ]
        }
      ]
    },
    {
      "cell_type": "markdown",
      "source": [
        "Logitic Regression"
      ],
      "metadata": {
        "id": "WKixCwZj8e_i"
      }
    },
    {
      "cell_type": "code",
      "source": [
        "from sklearn.linear_model import LogisticRegression\n",
        "lr = LogisticRegression(random_state = 0)\n",
        "lr.fit(X_train, Y_train)\n",
        "y_pred = lr.predict(X_test)"
      ],
      "metadata": {
        "colab": {
          "base_uri": "https://localhost:8080/"
        },
        "id": "t5uxJZhR_mIq",
        "outputId": "bf970a3c-cf57-4661-93f7-bc6b38c10407"
      },
      "execution_count": null,
      "outputs": [
        {
          "output_type": "stream",
          "name": "stderr",
          "text": [
            "/usr/local/lib/python3.10/dist-packages/sklearn/linear_model/_logistic.py:458: ConvergenceWarning: lbfgs failed to converge (status=1):\n",
            "STOP: TOTAL NO. of ITERATIONS REACHED LIMIT.\n",
            "\n",
            "Increase the number of iterations (max_iter) or scale the data as shown in:\n",
            "    https://scikit-learn.org/stable/modules/preprocessing.html\n",
            "Please also refer to the documentation for alternative solver options:\n",
            "    https://scikit-learn.org/stable/modules/linear_model.html#logistic-regression\n",
            "  n_iter_i = _check_optimize_result(\n"
          ]
        }
      ]
    },
    {
      "cell_type": "code",
      "source": [
        "print(accuracy_score(Y_test,y_pred))"
      ],
      "metadata": {
        "colab": {
          "base_uri": "https://localhost:8080/"
        },
        "id": "MmRUUQCb_-Ov",
        "outputId": "be47eab4-c28f-4d74-bad7-46ecfb93e25c"
      },
      "execution_count": null,
      "outputs": [
        {
          "output_type": "stream",
          "name": "stdout",
          "text": [
            "0.3076923076923077\n"
          ]
        }
      ]
    },
    {
      "cell_type": "markdown",
      "source": [
        "CAT Boosting"
      ],
      "metadata": {
        "id": "gLE7dQQA8i3w"
      }
    },
    {
      "cell_type": "code",
      "source": [],
      "metadata": {
        "id": "G1MS4-5qAAH2"
      },
      "execution_count": null,
      "outputs": []
    }
  ]
}