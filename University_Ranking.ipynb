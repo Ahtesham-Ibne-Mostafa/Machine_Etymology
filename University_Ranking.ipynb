{
 "cells": [
  {
   "cell_type": "markdown",
   "metadata": {
    "colab_type": "text",
    "id": "view-in-github"
   },
   "source": [
    "<a href=\"https://colab.research.google.com/github/Ahtesham-Ibne-Mostafa/Machine_Etymology/blob/main/University_Ranking.ipynb\" target=\"_parent\"><img src=\"https://colab.research.google.com/assets/colab-badge.svg\" alt=\"Open In Colab\"/></a>"
   ]
  },
  {
   "cell_type": "code",
   "execution_count": 141,
   "metadata": {
    "id": "VKotR9uMyi6k"
   },
   "outputs": [],
   "source": [
    "import pandas as pd\n",
    "import numpy as np\n",
    "import math"
   ]
  },
  {
   "cell_type": "code",
   "execution_count": 142,
   "metadata": {
    "id": "txQOxuJqy0gk"
   },
   "outputs": [],
   "source": [
    "df=pd.read_csv('https://raw.githubusercontent.com/Ahtesham-Ibne-Mostafa/Machine_Etymology/main/Datasets/World%20University%20Rankings%202023.csv')                       # Reading Csv file with pandas"
   ]
  },
  {
   "cell_type": "code",
   "execution_count": 143,
   "metadata": {
    "colab": {
     "base_uri": "https://localhost:8080/",
     "height": 345
    },
    "id": "pX-a_Dhwy3Aw",
    "outputId": "88325aef-8769-420b-b143-52809cbf0ef1"
   },
   "outputs": [
    {
     "data": {
      "text/html": [
       "<div>\n",
       "<style scoped>\n",
       "    .dataframe tbody tr th:only-of-type {\n",
       "        vertical-align: middle;\n",
       "    }\n",
       "\n",
       "    .dataframe tbody tr th {\n",
       "        vertical-align: top;\n",
       "    }\n",
       "\n",
       "    .dataframe thead th {\n",
       "        text-align: right;\n",
       "    }\n",
       "</style>\n",
       "<table border=\"1\" class=\"dataframe\">\n",
       "  <thead>\n",
       "    <tr style=\"text-align: right;\">\n",
       "      <th></th>\n",
       "      <th>University Rank</th>\n",
       "      <th>Name of University</th>\n",
       "      <th>Location</th>\n",
       "      <th>No of student</th>\n",
       "      <th>No of student per staff</th>\n",
       "      <th>International Student</th>\n",
       "      <th>Female:Male Ratio</th>\n",
       "      <th>OverAll Score</th>\n",
       "      <th>Teaching Score</th>\n",
       "      <th>Research Score</th>\n",
       "      <th>Citations Score</th>\n",
       "      <th>Industry Income Score</th>\n",
       "      <th>International Outlook Score</th>\n",
       "    </tr>\n",
       "  </thead>\n",
       "  <tbody>\n",
       "    <tr>\n",
       "      <th>0</th>\n",
       "      <td>1</td>\n",
       "      <td>University of Oxford</td>\n",
       "      <td>United Kingdom</td>\n",
       "      <td>20,965</td>\n",
       "      <td>10.6</td>\n",
       "      <td>42%</td>\n",
       "      <td>48 : 52</td>\n",
       "      <td>96.4</td>\n",
       "      <td>92.3</td>\n",
       "      <td>99.7</td>\n",
       "      <td>99.0</td>\n",
       "      <td>74.9</td>\n",
       "      <td>96.2</td>\n",
       "    </tr>\n",
       "    <tr>\n",
       "      <th>1</th>\n",
       "      <td>2</td>\n",
       "      <td>Harvard University</td>\n",
       "      <td>United States</td>\n",
       "      <td>21,887</td>\n",
       "      <td>9.6</td>\n",
       "      <td>25%</td>\n",
       "      <td>50 : 50</td>\n",
       "      <td>95.2</td>\n",
       "      <td>94.8</td>\n",
       "      <td>99.0</td>\n",
       "      <td>99.3</td>\n",
       "      <td>49.5</td>\n",
       "      <td>80.5</td>\n",
       "    </tr>\n",
       "    <tr>\n",
       "      <th>2</th>\n",
       "      <td>3</td>\n",
       "      <td>University of Cambridge</td>\n",
       "      <td>United Kingdom</td>\n",
       "      <td>20,185</td>\n",
       "      <td>11.3</td>\n",
       "      <td>39%</td>\n",
       "      <td>47 : 53</td>\n",
       "      <td>94.8</td>\n",
       "      <td>90.9</td>\n",
       "      <td>99.5</td>\n",
       "      <td>97.0</td>\n",
       "      <td>54.2</td>\n",
       "      <td>95.8</td>\n",
       "    </tr>\n",
       "    <tr>\n",
       "      <th>3</th>\n",
       "      <td>3</td>\n",
       "      <td>Stanford University</td>\n",
       "      <td>United States</td>\n",
       "      <td>16,164</td>\n",
       "      <td>7.1</td>\n",
       "      <td>24%</td>\n",
       "      <td>46 : 54</td>\n",
       "      <td>94.8</td>\n",
       "      <td>94.2</td>\n",
       "      <td>96.7</td>\n",
       "      <td>99.8</td>\n",
       "      <td>65.0</td>\n",
       "      <td>79.8</td>\n",
       "    </tr>\n",
       "    <tr>\n",
       "      <th>4</th>\n",
       "      <td>5</td>\n",
       "      <td>Massachusetts Institute of Technology</td>\n",
       "      <td>United States</td>\n",
       "      <td>11,415</td>\n",
       "      <td>8.2</td>\n",
       "      <td>33%</td>\n",
       "      <td>40 : 60</td>\n",
       "      <td>94.2</td>\n",
       "      <td>90.7</td>\n",
       "      <td>93.6</td>\n",
       "      <td>99.8</td>\n",
       "      <td>90.9</td>\n",
       "      <td>89.3</td>\n",
       "    </tr>\n",
       "  </tbody>\n",
       "</table>\n",
       "</div>"
      ],
      "text/plain": [
       "  University Rank                     Name of University        Location  \\\n",
       "0               1                   University of Oxford  United Kingdom   \n",
       "1               2                     Harvard University   United States   \n",
       "2               3                University of Cambridge  United Kingdom   \n",
       "3               3                    Stanford University   United States   \n",
       "4               5  Massachusetts Institute of Technology   United States   \n",
       "\n",
       "  No of student  No of student per staff International Student  \\\n",
       "0        20,965                     10.6                   42%   \n",
       "1        21,887                      9.6                   25%   \n",
       "2        20,185                     11.3                   39%   \n",
       "3        16,164                      7.1                   24%   \n",
       "4        11,415                      8.2                   33%   \n",
       "\n",
       "  Female:Male Ratio OverAll Score  Teaching Score  Research Score  \\\n",
       "0           48 : 52          96.4            92.3            99.7   \n",
       "1           50 : 50          95.2            94.8            99.0   \n",
       "2           47 : 53          94.8            90.9            99.5   \n",
       "3           46 : 54          94.8            94.2            96.7   \n",
       "4           40 : 60          94.2            90.7            93.6   \n",
       "\n",
       "   Citations Score  Industry Income Score  International Outlook Score  \n",
       "0             99.0                   74.9                         96.2  \n",
       "1             99.3                   49.5                         80.5  \n",
       "2             97.0                   54.2                         95.8  \n",
       "3             99.8                   65.0                         79.8  \n",
       "4             99.8                   90.9                         89.3  "
      ]
     },
     "execution_count": 143,
     "metadata": {},
     "output_type": "execute_result"
    }
   ],
   "source": [
    "df.head()                                                              # shows the first 5 rows of the csv file"
   ]
  },
  {
   "cell_type": "code",
   "execution_count": 144,
   "metadata": {
    "id": "dZUlUI-p5kLn"
   },
   "outputs": [
    {
     "data": {
      "text/plain": [
       "Index(['University Rank', 'Name of University', 'Location', 'No of student',\n",
       "       'No of student per staff', 'International Student', 'Female:Male Ratio',\n",
       "       'OverAll Score', 'Teaching Score', 'Research Score', 'Citations Score',\n",
       "       'Industry Income Score', 'International Outlook Score'],\n",
       "      dtype='object')"
      ]
     },
     "execution_count": 144,
     "metadata": {},
     "output_type": "execute_result"
    }
   ],
   "source": [
    "\n",
    "df.columns                                                        #---> returns all names of columns as a list\n"
   ]
  },
  {
   "cell_type": "code",
   "execution_count": 145,
   "metadata": {
    "id": "npiN8uls5nZA"
   },
   "outputs": [
    {
     "data": {
      "text/html": [
       "<div>\n",
       "<style scoped>\n",
       "    .dataframe tbody tr th:only-of-type {\n",
       "        vertical-align: middle;\n",
       "    }\n",
       "\n",
       "    .dataframe tbody tr th {\n",
       "        vertical-align: top;\n",
       "    }\n",
       "\n",
       "    .dataframe thead th {\n",
       "        text-align: right;\n",
       "    }\n",
       "</style>\n",
       "<table border=\"1\" class=\"dataframe\">\n",
       "  <thead>\n",
       "    <tr style=\"text-align: right;\">\n",
       "      <th></th>\n",
       "      <th>No of student per staff</th>\n",
       "      <th>Teaching Score</th>\n",
       "      <th>Research Score</th>\n",
       "      <th>Citations Score</th>\n",
       "      <th>Industry Income Score</th>\n",
       "      <th>International Outlook Score</th>\n",
       "    </tr>\n",
       "  </thead>\n",
       "  <tbody>\n",
       "    <tr>\n",
       "      <th>count</th>\n",
       "      <td>2208.000000</td>\n",
       "      <td>1799.000000</td>\n",
       "      <td>1799.000000</td>\n",
       "      <td>1799.000000</td>\n",
       "      <td>1799.000000</td>\n",
       "      <td>1799.000000</td>\n",
       "    </tr>\n",
       "    <tr>\n",
       "      <th>mean</th>\n",
       "      <td>19.000408</td>\n",
       "      <td>27.018010</td>\n",
       "      <td>23.016898</td>\n",
       "      <td>48.495887</td>\n",
       "      <td>47.104558</td>\n",
       "      <td>46.880378</td>\n",
       "    </tr>\n",
       "    <tr>\n",
       "      <th>std</th>\n",
       "      <td>12.132224</td>\n",
       "      <td>13.282243</td>\n",
       "      <td>16.763819</td>\n",
       "      <td>27.967185</td>\n",
       "      <td>15.093682</td>\n",
       "      <td>22.582401</td>\n",
       "    </tr>\n",
       "    <tr>\n",
       "      <th>min</th>\n",
       "      <td>0.400000</td>\n",
       "      <td>11.600000</td>\n",
       "      <td>7.400000</td>\n",
       "      <td>0.800000</td>\n",
       "      <td>36.900000</td>\n",
       "      <td>14.100000</td>\n",
       "    </tr>\n",
       "    <tr>\n",
       "      <th>25%</th>\n",
       "      <td>12.600000</td>\n",
       "      <td>18.000000</td>\n",
       "      <td>11.300000</td>\n",
       "      <td>23.100000</td>\n",
       "      <td>37.800000</td>\n",
       "      <td>27.900000</td>\n",
       "    </tr>\n",
       "    <tr>\n",
       "      <th>50%</th>\n",
       "      <td>16.600000</td>\n",
       "      <td>22.700000</td>\n",
       "      <td>17.000000</td>\n",
       "      <td>47.200000</td>\n",
       "      <td>40.500000</td>\n",
       "      <td>42.100000</td>\n",
       "    </tr>\n",
       "    <tr>\n",
       "      <th>75%</th>\n",
       "      <td>22.200000</td>\n",
       "      <td>31.850000</td>\n",
       "      <td>28.900000</td>\n",
       "      <td>72.350000</td>\n",
       "      <td>48.300000</td>\n",
       "      <td>62.100000</td>\n",
       "    </tr>\n",
       "    <tr>\n",
       "      <th>max</th>\n",
       "      <td>232.200000</td>\n",
       "      <td>94.800000</td>\n",
       "      <td>99.700000</td>\n",
       "      <td>100.000000</td>\n",
       "      <td>100.000000</td>\n",
       "      <td>99.700000</td>\n",
       "    </tr>\n",
       "  </tbody>\n",
       "</table>\n",
       "</div>"
      ],
      "text/plain": [
       "       No of student per staff  Teaching Score  Research Score  \\\n",
       "count              2208.000000     1799.000000     1799.000000   \n",
       "mean                 19.000408       27.018010       23.016898   \n",
       "std                  12.132224       13.282243       16.763819   \n",
       "min                   0.400000       11.600000        7.400000   \n",
       "25%                  12.600000       18.000000       11.300000   \n",
       "50%                  16.600000       22.700000       17.000000   \n",
       "75%                  22.200000       31.850000       28.900000   \n",
       "max                 232.200000       94.800000       99.700000   \n",
       "\n",
       "       Citations Score  Industry Income Score  International Outlook Score  \n",
       "count      1799.000000            1799.000000                  1799.000000  \n",
       "mean         48.495887              47.104558                    46.880378  \n",
       "std          27.967185              15.093682                    22.582401  \n",
       "min           0.800000              36.900000                    14.100000  \n",
       "25%          23.100000              37.800000                    27.900000  \n",
       "50%          47.200000              40.500000                    42.100000  \n",
       "75%          72.350000              48.300000                    62.100000  \n",
       "max         100.000000             100.000000                    99.700000  "
      ]
     },
     "execution_count": 145,
     "metadata": {},
     "output_type": "execute_result"
    }
   ],
   "source": [
    "df.describe()                                                #--> Statistical descriptions of different types of data"
   ]
  },
  {
   "cell_type": "code",
   "execution_count": 146,
   "metadata": {
    "colab": {
     "base_uri": "https://localhost:8080/"
    },
    "id": "cM28nMSFy9Wd",
    "outputId": "05b5bbb5-09e4-40e2-980d-22960b4ce2bc"
   },
   "outputs": [
    {
     "name": "stdout",
     "output_type": "stream",
     "text": [
      "<class 'pandas.core.frame.DataFrame'>\n",
      "RangeIndex: 2341 entries, 0 to 2340\n",
      "Data columns (total 13 columns):\n",
      " #   Column                       Non-Null Count  Dtype  \n",
      "---  ------                       --------------  -----  \n",
      " 0   University Rank              2341 non-null   object \n",
      " 1   Name of University           2233 non-null   object \n",
      " 2   Location                     2047 non-null   object \n",
      " 3   No of student                2209 non-null   object \n",
      " 4   No of student per staff      2208 non-null   float64\n",
      " 5   International Student        2209 non-null   object \n",
      " 6   Female:Male Ratio            2128 non-null   object \n",
      " 7   OverAll Score                1799 non-null   object \n",
      " 8   Teaching Score               1799 non-null   float64\n",
      " 9   Research Score               1799 non-null   float64\n",
      " 10  Citations Score              1799 non-null   float64\n",
      " 11  Industry Income Score        1799 non-null   float64\n",
      " 12  International Outlook Score  1799 non-null   float64\n",
      "dtypes: float64(6), object(7)\n",
      "memory usage: 237.9+ KB\n"
     ]
    }
   ],
   "source": [
    "df.info()                                                     # shows Non null value and data type(string == object)"
   ]
  },
  {
   "cell_type": "code",
   "execution_count": 147,
   "metadata": {
    "colab": {
     "base_uri": "https://localhost:8080/"
    },
    "id": "iqMXu3m3zG69",
    "outputId": "ca2acc4a-47f4-4bd3-d9da-b4e935635edc"
   },
   "outputs": [
    {
     "data": {
      "text/plain": [
       "(2341, 13)"
      ]
     },
     "execution_count": 147,
     "metadata": {},
     "output_type": "execute_result"
    }
   ],
   "source": [
    "df.shape                                                      # shows rows and columns"
   ]
  },
  {
   "cell_type": "code",
   "execution_count": 148,
   "metadata": {
    "id": "LYVKNwAs4IrH"
   },
   "outputs": [],
   "source": [
    "df = df.drop('Location', axis=1)                            # drops the column"
   ]
  },
  {
   "cell_type": "code",
   "execution_count": 149,
   "metadata": {
    "id": "TqJ-rJz53cTE"
   },
   "outputs": [],
   "source": [
    "df=df.dropna().reset_index(drop=True)                           # drops all the null values rows and resets the index number"
   ]
  },
  {
   "cell_type": "code",
   "execution_count": 150,
   "metadata": {
    "colab": {
     "base_uri": "https://localhost:8080/"
    },
    "id": "eqULoGbq3r2u",
    "outputId": "e98e9af3-ef84-42f4-9ad0-403c4f32cc33"
   },
   "outputs": [
    {
     "name": "stdout",
     "output_type": "stream",
     "text": [
      "<class 'pandas.core.frame.DataFrame'>\n",
      "RangeIndex: 1621 entries, 0 to 1620\n",
      "Data columns (total 12 columns):\n",
      " #   Column                       Non-Null Count  Dtype  \n",
      "---  ------                       --------------  -----  \n",
      " 0   University Rank              1621 non-null   object \n",
      " 1   Name of University           1621 non-null   object \n",
      " 2   No of student                1621 non-null   object \n",
      " 3   No of student per staff      1621 non-null   float64\n",
      " 4   International Student        1621 non-null   object \n",
      " 5   Female:Male Ratio            1621 non-null   object \n",
      " 6   OverAll Score                1621 non-null   object \n",
      " 7   Teaching Score               1621 non-null   float64\n",
      " 8   Research Score               1621 non-null   float64\n",
      " 9   Citations Score              1621 non-null   float64\n",
      " 10  Industry Income Score        1621 non-null   float64\n",
      " 11  International Outlook Score  1621 non-null   float64\n",
      "dtypes: float64(6), object(6)\n",
      "memory usage: 152.1+ KB\n"
     ]
    }
   ],
   "source": [
    "df.info()"
   ]
  },
  {
   "cell_type": "code",
   "execution_count": 151,
   "metadata": {
    "id": "sWv5soi14CrR"
   },
   "outputs": [],
   "source": [
    "target='University Rank'"
   ]
  },
  {
   "cell_type": "code",
   "execution_count": 152,
   "metadata": {
    "id": "su1yp-P_7Abx"
   },
   "outputs": [
    {
     "data": {
      "text/plain": [
       "array(['1', '2', '3', '5', '6', '7', '8', '9', '10', '11', '13', '14',\n",
       "       '15', '18', '19', '20', '21', '22', '23', '24', '25', '26', '28',\n",
       "       '29', '30', '31', '32', '33', '34', '35', '36', '37', '38', '40',\n",
       "       '41', '42', '43', '44', '46', '47', '48', '49', '50', '51', '52',\n",
       "       '53', '54', '57', '59', '60', '62', '63', '64', '65', '66', '68',\n",
       "       '69', '70', '71', '73', '75', '76', '77', '78', '79', '80', '82',\n",
       "       '85', '86', '88', '89', '90', '91', '93', '94', '95', '98', '99',\n",
       "       '101', '104', '106', '107', '108', '110', '112', '113', '114',\n",
       "       '117', '119', '121', '122', '123', '124', '126', '127', '128',\n",
       "       '130', '131', '133', '134', '136', '137', '139', '144', '145',\n",
       "       '147', '148', '151', '154', '155', '156', '160', '161', '163',\n",
       "       '166', '168', '170', '174', '175', '176', '180', '181', '182',\n",
       "       '183', '186', '187', '189', '191', '192', '194', '196', '198',\n",
       "       '201–250', '251–300', '301–350', '351–400', '401–500', '501–600',\n",
       "       '601–800', '801–1000', '1001–1200', '1201–1500', '1501+'],\n",
       "      dtype=object)"
      ]
     },
     "execution_count": 152,
     "metadata": {},
     "output_type": "execute_result"
    }
   ],
   "source": [
    "\n",
    "df[target].unique()                         # shows the unique values of a column"
   ]
  },
  {
   "cell_type": "code",
   "execution_count": 153,
   "metadata": {
    "id": "Cem0Wy7O46J_"
   },
   "outputs": [],
   "source": [
    "from sklearn.preprocessing import LabelEncoder                                # it helps to convert object to integer\n",
    "label_encoder = LabelEncoder()\n",
    "\n",
    "\n",
    "df['University Rank'] = label_encoder.fit_transform(df['University Rank'])\n",
    "df['Name of University'] = label_encoder.fit_transform(df['Name of University'])\n",
    "df['No of student'] = label_encoder.fit_transform(df['No of student'])\n",
    "df['International Student'] = label_encoder.fit_transform(df['International Student'])\n",
    "df['Female:Male Ratio'] = label_encoder.fit_transform(df['Female:Male Ratio'])\n",
    "df['OverAll Score'] = label_encoder.fit_transform(df['OverAll Score'])"
   ]
  },
  {
   "cell_type": "code",
   "execution_count": 154,
   "metadata": {
    "colab": {
     "base_uri": "https://localhost:8080/"
    },
    "id": "_mx1bEp5725L",
    "outputId": "ed9fc53d-3bac-4184-f129-de3c3a62a923"
   },
   "outputs": [
    {
     "name": "stdout",
     "output_type": "stream",
     "text": [
      "<class 'pandas.core.frame.DataFrame'>\n",
      "RangeIndex: 1621 entries, 0 to 1620\n",
      "Data columns (total 12 columns):\n",
      " #   Column                       Non-Null Count  Dtype  \n",
      "---  ------                       --------------  -----  \n",
      " 0   University Rank              1621 non-null   int32  \n",
      " 1   Name of University           1621 non-null   int32  \n",
      " 2   No of student                1621 non-null   int32  \n",
      " 3   No of student per staff      1621 non-null   float64\n",
      " 4   International Student        1621 non-null   int32  \n",
      " 5   Female:Male Ratio            1621 non-null   int32  \n",
      " 6   OverAll Score                1621 non-null   int32  \n",
      " 7   Teaching Score               1621 non-null   float64\n",
      " 8   Research Score               1621 non-null   float64\n",
      " 9   Citations Score              1621 non-null   float64\n",
      " 10  Industry Income Score        1621 non-null   float64\n",
      " 11  International Outlook Score  1621 non-null   float64\n",
      "dtypes: float64(6), int32(6)\n",
      "memory usage: 114.1 KB\n"
     ]
    }
   ],
   "source": [
    "df.info()"
   ]
  },
  {
   "cell_type": "code",
   "execution_count": 155,
   "metadata": {
    "id": "ZQcZfLUz8Hky"
   },
   "outputs": [],
   "source": [
    "X= df.loc[:,df.columns != target]                                               # every columns goes to X except the target\n",
    "\n",
    "Y = df[target]                                                                  # target column is Y"
   ]
  },
  {
   "cell_type": "code",
   "execution_count": 156,
   "metadata": {
    "id": "yIwFwV3j-LUd"
   },
   "outputs": [],
   "source": [
    "from sklearn.model_selection import train_test_split                            # X and Y is spited into text and train segments\n",
    "\n",
    "X_train, X_test, Y_train, Y_test = train_test_split(X,Y, test_size = 0.2)"
   ]
  },
  {
   "cell_type": "markdown",
   "metadata": {
    "id": "eTOtmMGQ8DtP"
   },
   "source": [
    "RandomForest Classifier"
   ]
  },
  {
   "cell_type": "code",
   "execution_count": 157,
   "metadata": {
    "colab": {
     "base_uri": "https://localhost:8080/"
    },
    "id": "bvId3Eqo-pd6",
    "outputId": "f9040ed4-1a2a-4030-d9b9-01e29a1a3874"
   },
   "outputs": [],
   "source": [
    "\n",
    "from sklearn.ensemble import RandomForestClassifier\n",
    "\n",
    "clf = RandomForestClassifier(n_jobs=-1)\n",
    "\n",
    "clf.fit(X_train, Y_train)                                                       # Fitting the training segment into the model\n",
    "\n",
    "y_pred = clf.predict(X_test)                                                    # the model is predicting the test cases"
   ]
  },
  {
   "cell_type": "code",
   "execution_count": 158,
   "metadata": {
    "colab": {
     "base_uri": "https://localhost:8080/"
    },
    "id": "5wt9xL0i-xk2",
    "outputId": "720aaec4-5f7c-42e0-b19c-2dd83f3fe828"
   },
   "outputs": [
    {
     "name": "stdout",
     "output_type": "stream",
     "text": [
      "[[ 0  0  0 ...  0  0  0]\n",
      " [ 0 30  0 ...  0  0  0]\n",
      " [ 0  0  0 ...  0  0  0]\n",
      " ...\n",
      " [ 0  0  0 ...  0  0  0]\n",
      " [ 0  0  0 ...  0  0  0]\n",
      " [ 0  0  0 ...  0  0  0]]\n",
      "              precision    recall  f1-score   support\n",
      "\n",
      "           1       0.00      0.00      0.00         0\n",
      "           2       1.00      1.00      1.00        30\n",
      "           3       0.00      0.00      0.00         1\n",
      "           4       0.00      0.00      0.00         2\n",
      "           5       0.00      0.00      0.00         0\n",
      "           6       0.00      0.00      0.00         0\n",
      "           7       0.00      0.00      0.00         0\n",
      "           8       0.00      0.00      0.00         1\n",
      "          12       0.00      0.00      0.00         0\n",
      "          15       1.00      1.00      1.00        42\n",
      "          17       0.00      0.00      0.00         0\n",
      "          19       0.00      0.00      0.00         1\n",
      "          24       0.00      0.00      0.00         1\n",
      "          25       0.00      0.00      0.00         1\n",
      "          26       0.00      0.00      0.00         1\n",
      "          27       0.00      0.00      0.00         1\n",
      "          29       0.00      0.00      0.00         0\n",
      "          30       0.00      0.00      0.00         1\n",
      "          35       0.00      0.00      0.00         1\n",
      "          37       1.00      1.00      1.00        62\n",
      "          38       0.00      0.00      0.00         0\n",
      "          39       0.00      0.00      0.00         0\n",
      "          52       0.00      0.00      0.00         1\n",
      "          54       0.00      0.00      0.00         1\n",
      "          55       0.00      0.00      0.00         2\n",
      "          57       0.00      0.00      0.00         0\n",
      "          60       0.00      0.00      0.00         1\n",
      "          62       0.00      0.00      0.00         1\n",
      "          67       0.54      0.88      0.67         8\n",
      "          69       0.00      0.00      0.00         0\n",
      "          70       0.00      0.00      0.00         0\n",
      "          73       1.00      0.76      0.87        17\n",
      "          74       0.00      0.00      0.00         1\n",
      "          75       0.00      0.00      0.00         0\n",
      "          76       0.00      0.00      0.00         1\n",
      "          77       0.00      0.00      0.00         1\n",
      "          79       0.60      0.75      0.67         8\n",
      "          83       0.00      0.00      0.00         0\n",
      "          85       0.78      0.70      0.74        10\n",
      "          88       0.00      0.00      0.00         1\n",
      "          90       0.83      1.00      0.91        20\n",
      "          95       0.00      0.00      0.00         0\n",
      "         100       0.00      0.00      0.00         0\n",
      "         101       1.00      1.00      1.00        23\n",
      "         102       0.00      0.00      0.00         0\n",
      "         105       0.00      0.00      0.00         2\n",
      "         109       0.00      0.00      0.00         0\n",
      "         110       1.00      1.00      1.00        33\n",
      "         112       0.00      0.00      0.00         1\n",
      "         113       0.00      0.00      0.00         0\n",
      "         115       0.00      0.00      0.00         0\n",
      "         118       0.00      0.00      0.00         0\n",
      "         122       0.00      0.00      0.00         1\n",
      "         123       0.00      0.00      0.00         1\n",
      "         124       0.00      0.00      0.00         1\n",
      "         129       1.00      1.00      1.00        40\n",
      "         130       0.50      1.00      0.67         1\n",
      "         136       0.00      0.00      0.00         1\n",
      "         137       0.00      0.00      0.00         1\n",
      "         139       0.00      0.00      0.00         1\n",
      "         140       0.00      0.00      0.00         1\n",
      "\n",
      "    accuracy                           0.87       325\n",
      "   macro avg       0.17      0.18      0.17       325\n",
      "weighted avg       0.86      0.87      0.87       325\n",
      "\n",
      "Accurecy:  0.8738461538461538\n"
     ]
    },
    {
     "name": "stderr",
     "output_type": "stream",
     "text": [
      "C:\\Users\\ahtes\\anaconda3\\lib\\site-packages\\sklearn\\metrics\\_classification.py:1318: UndefinedMetricWarning: Precision and F-score are ill-defined and being set to 0.0 in labels with no predicted samples. Use `zero_division` parameter to control this behavior.\n",
      "  _warn_prf(average, modifier, msg_start, len(result))\n",
      "C:\\Users\\ahtes\\anaconda3\\lib\\site-packages\\sklearn\\metrics\\_classification.py:1318: UndefinedMetricWarning: Recall and F-score are ill-defined and being set to 0.0 in labels with no true samples. Use `zero_division` parameter to control this behavior.\n",
      "  _warn_prf(average, modifier, msg_start, len(result))\n",
      "C:\\Users\\ahtes\\anaconda3\\lib\\site-packages\\sklearn\\metrics\\_classification.py:1318: UndefinedMetricWarning: Precision and F-score are ill-defined and being set to 0.0 in labels with no predicted samples. Use `zero_division` parameter to control this behavior.\n",
      "  _warn_prf(average, modifier, msg_start, len(result))\n",
      "C:\\Users\\ahtes\\anaconda3\\lib\\site-packages\\sklearn\\metrics\\_classification.py:1318: UndefinedMetricWarning: Recall and F-score are ill-defined and being set to 0.0 in labels with no true samples. Use `zero_division` parameter to control this behavior.\n",
      "  _warn_prf(average, modifier, msg_start, len(result))\n",
      "C:\\Users\\ahtes\\anaconda3\\lib\\site-packages\\sklearn\\metrics\\_classification.py:1318: UndefinedMetricWarning: Precision and F-score are ill-defined and being set to 0.0 in labels with no predicted samples. Use `zero_division` parameter to control this behavior.\n",
      "  _warn_prf(average, modifier, msg_start, len(result))\n",
      "C:\\Users\\ahtes\\anaconda3\\lib\\site-packages\\sklearn\\metrics\\_classification.py:1318: UndefinedMetricWarning: Recall and F-score are ill-defined and being set to 0.0 in labels with no true samples. Use `zero_division` parameter to control this behavior.\n",
      "  _warn_prf(average, modifier, msg_start, len(result))\n"
     ]
    }
   ],
   "source": [
    "from sklearn.metrics import classification_report, confusion_matrix, accuracy_score\n",
    "print(confusion_matrix(Y_test, y_pred))\n",
    "print(classification_report(Y_test,y_pred))\n",
    "print(\"Accurecy: \",accuracy_score(Y_test, y_pred))"
   ]
  },
  {
   "cell_type": "markdown",
   "metadata": {
    "id": "bmlz9jEg8Iag"
   },
   "source": [
    "ADABoost Classifier"
   ]
  },
  {
   "cell_type": "code",
   "execution_count": 159,
   "metadata": {
    "id": "8lrUy3tC-28O"
   },
   "outputs": [],
   "source": [
    "from sklearn.ensemble import AdaBoostClassifier\n",
    "\n",
    "ada = AdaBoostClassifier()\n",
    "\n",
    "ada.fit(X_train, Y_train)\n",
    "\n",
    "y_pred = ada.predict(X_test)"
   ]
  },
  {
   "cell_type": "code",
   "execution_count": 160,
   "metadata": {
    "colab": {
     "base_uri": "https://localhost:8080/"
    },
    "id": "5urueHG-_CLr",
    "outputId": "6b3ac271-e064-4abd-b002-b27bc91cf96b"
   },
   "outputs": [
    {
     "name": "stdout",
     "output_type": "stream",
     "text": [
      "[[30  0  0 ...  0  0  0]\n",
      " [ 0  0  0 ...  0  0  0]\n",
      " [ 0  0  0 ...  0  0  0]\n",
      " ...\n",
      " [ 0  0  0 ...  0  0  0]\n",
      " [ 0  0  0 ...  0  0  0]\n",
      " [ 0  0  0 ...  0  0  0]]\n",
      "              precision    recall  f1-score   support\n",
      "\n",
      "           2       1.00      1.00      1.00        30\n",
      "           3       0.00      0.00      0.00         1\n",
      "           4       0.00      0.00      0.00         2\n",
      "           8       0.00      0.00      0.00         1\n",
      "          15       1.00      1.00      1.00        42\n",
      "          19       0.00      0.00      0.00         1\n",
      "          24       0.00      0.00      0.00         1\n",
      "          25       0.00      0.00      0.00         1\n",
      "          26       0.00      0.00      0.00         1\n",
      "          27       0.00      0.00      0.00         1\n",
      "          30       0.05      1.00      0.09         1\n",
      "          35       0.00      0.00      0.00         1\n",
      "          37       1.00      1.00      1.00        62\n",
      "          41       0.00      0.00      0.00         0\n",
      "          52       0.00      0.00      0.00         1\n",
      "          54       0.00      0.00      0.00         1\n",
      "          55       0.00      0.00      0.00         2\n",
      "          60       0.00      0.00      0.00         1\n",
      "          62       0.00      0.00      0.00         1\n",
      "          67       0.00      0.00      0.00         8\n",
      "          72       0.00      0.00      0.00         0\n",
      "          73       0.00      0.00      0.00        17\n",
      "          74       0.00      0.00      0.00         1\n",
      "          76       0.00      0.00      0.00         1\n",
      "          77       0.00      0.00      0.00         1\n",
      "          79       0.24      1.00      0.39         8\n",
      "          80       0.00      0.00      0.00         0\n",
      "          85       0.00      0.00      0.00        10\n",
      "          88       0.00      0.00      0.00         1\n",
      "          90       0.38      1.00      0.55        20\n",
      "         101       0.00      0.00      0.00        23\n",
      "         105       0.00      0.00      0.00         2\n",
      "         110       1.00      1.00      1.00        33\n",
      "         112       0.00      0.00      0.00         1\n",
      "         122       0.00      0.00      0.00         1\n",
      "         123       0.00      0.00      0.00         1\n",
      "         124       0.00      0.00      0.00         1\n",
      "         129       1.00      1.00      1.00        40\n",
      "         130       0.00      0.00      0.00         1\n",
      "         135       0.00      0.00      0.00         0\n",
      "         136       0.00      0.00      0.00         1\n",
      "         137       0.00      0.00      0.00         1\n",
      "         139       0.00      0.00      0.00         1\n",
      "         140       0.00      0.00      0.00         1\n",
      "\n",
      "    accuracy                           0.73       325\n",
      "   macro avg       0.13      0.18      0.14       325\n",
      "weighted avg       0.67      0.73      0.68       325\n",
      "\n",
      "Accurecy:  0.7261538461538461\n"
     ]
    },
    {
     "name": "stderr",
     "output_type": "stream",
     "text": [
      "C:\\Users\\ahtes\\anaconda3\\lib\\site-packages\\sklearn\\metrics\\_classification.py:1318: UndefinedMetricWarning: Precision and F-score are ill-defined and being set to 0.0 in labels with no predicted samples. Use `zero_division` parameter to control this behavior.\n",
      "  _warn_prf(average, modifier, msg_start, len(result))\n",
      "C:\\Users\\ahtes\\anaconda3\\lib\\site-packages\\sklearn\\metrics\\_classification.py:1318: UndefinedMetricWarning: Recall and F-score are ill-defined and being set to 0.0 in labels with no true samples. Use `zero_division` parameter to control this behavior.\n",
      "  _warn_prf(average, modifier, msg_start, len(result))\n",
      "C:\\Users\\ahtes\\anaconda3\\lib\\site-packages\\sklearn\\metrics\\_classification.py:1318: UndefinedMetricWarning: Precision and F-score are ill-defined and being set to 0.0 in labels with no predicted samples. Use `zero_division` parameter to control this behavior.\n",
      "  _warn_prf(average, modifier, msg_start, len(result))\n",
      "C:\\Users\\ahtes\\anaconda3\\lib\\site-packages\\sklearn\\metrics\\_classification.py:1318: UndefinedMetricWarning: Recall and F-score are ill-defined and being set to 0.0 in labels with no true samples. Use `zero_division` parameter to control this behavior.\n",
      "  _warn_prf(average, modifier, msg_start, len(result))\n",
      "C:\\Users\\ahtes\\anaconda3\\lib\\site-packages\\sklearn\\metrics\\_classification.py:1318: UndefinedMetricWarning: Precision and F-score are ill-defined and being set to 0.0 in labels with no predicted samples. Use `zero_division` parameter to control this behavior.\n",
      "  _warn_prf(average, modifier, msg_start, len(result))\n",
      "C:\\Users\\ahtes\\anaconda3\\lib\\site-packages\\sklearn\\metrics\\_classification.py:1318: UndefinedMetricWarning: Recall and F-score are ill-defined and being set to 0.0 in labels with no true samples. Use `zero_division` parameter to control this behavior.\n",
      "  _warn_prf(average, modifier, msg_start, len(result))\n"
     ]
    }
   ],
   "source": [
    "print(confusion_matrix(Y_test, y_pred))\n",
    "print(classification_report(Y_test,y_pred))\n",
    "print(\"Accurecy: \",accuracy_score(Y_test, y_pred))"
   ]
  },
  {
   "cell_type": "markdown",
   "metadata": {
    "id": "BHUXTEMm8NF0"
   },
   "source": [
    "GradientBoosting Classifier"
   ]
  },
  {
   "cell_type": "code",
   "execution_count": null,
   "metadata": {
    "id": "FltTTNzf_C7I"
   },
   "outputs": [],
   "source": [
    "from sklearn.ensemble import GradientBoostingClassifier\n",
    "\n",
    "GBC = GradientBoostingClassifier()\n",
    "\n",
    "GBC.fit(X_train, Y_train)\n",
    "\n",
    "y_pred = ada.predict(X_test)"
   ]
  },
  {
   "cell_type": "code",
   "execution_count": null,
   "metadata": {
    "colab": {
     "base_uri": "https://localhost:8080/"
    },
    "id": "560A8-n5_Ix_",
    "outputId": "19dc3a79-1f85-4a57-d547-3ffffaf5bbed"
   },
   "outputs": [],
   "source": [
    "print(confusion_matrix(Y_test, y_pred))\n",
    "print(classification_report(Y_test,y_pred))\n",
    "print(\"Accurecy: \",accuracy_score(Y_test, y_pred))"
   ]
  },
  {
   "cell_type": "markdown",
   "metadata": {
    "id": "nZ93nffX8S4K"
   },
   "source": [
    "KN Classifier"
   ]
  },
  {
   "cell_type": "code",
   "execution_count": null,
   "metadata": {
    "id": "uKZrmZng_N_r"
   },
   "outputs": [],
   "source": [
    "from sklearn.neighbors import KNeighborsClassifier\n",
    "knn = KNeighborsClassifier()\n",
    "knn.fit(X_train, Y_train)\n",
    "\n",
    "y_pred=knn.predict(X_test)"
   ]
  },
  {
   "cell_type": "code",
   "execution_count": null,
   "metadata": {
    "colab": {
     "base_uri": "https://localhost:8080/"
    },
    "id": "CtY_UJ0a_ZKL",
    "outputId": "77d1f85e-5e34-459c-bb7d-d2859b97fa4c"
   },
   "outputs": [],
   "source": [
    "print(confusion_matrix(Y_test, y_pred))\n",
    "print(classification_report(Y_test,y_pred))\n",
    "print(\"Accurecy: \",accuracy_score(Y_test, y_pred))"
   ]
  },
  {
   "cell_type": "markdown",
   "metadata": {
    "id": "gY83D7WE8WUq"
   },
   "source": [
    "Naive Bayes"
   ]
  },
  {
   "cell_type": "code",
   "execution_count": null,
   "metadata": {
    "id": "xqyW3dc-_bPc"
   },
   "outputs": [],
   "source": [
    "from sklearn.naive_bayes import GaussianNB\n",
    "\n",
    "gnb = GaussianNB()\n",
    "\n",
    "gnb.fit(X_train, Y_train)\n",
    "\n",
    "y_pred = gnb.predict(X_test)"
   ]
  },
  {
   "cell_type": "code",
   "execution_count": null,
   "metadata": {
    "colab": {
     "base_uri": "https://localhost:8080/"
    },
    "id": "Uv2M8iMe_exj",
    "outputId": "cac55313-df3f-4f72-a246-95d12213b515"
   },
   "outputs": [],
   "source": [
    "print(confusion_matrix(Y_test, y_pred))\n",
    "print(classification_report(Y_test,y_pred))\n",
    "print(\"Accurecy: \",accuracy_score(Y_test, y_pred))"
   ]
  },
  {
   "cell_type": "markdown",
   "metadata": {
    "id": "x1pKvKUy8asi"
   },
   "source": [
    "SVM Classifier"
   ]
  },
  {
   "cell_type": "code",
   "execution_count": null,
   "metadata": {
    "id": "20_P7zyA_ghP"
   },
   "outputs": [],
   "source": [
    "from sklearn.svm import SVC\n",
    "\n",
    "svm_classifier = SVC(kernel='linear')\n",
    "\n",
    "svm_classifier.fit(X_train, Y_train)\n",
    "\n",
    "y_pred = svm_classifier.predict(X_test)"
   ]
  },
  {
   "cell_type": "code",
   "execution_count": null,
   "metadata": {
    "colab": {
     "base_uri": "https://localhost:8080/"
    },
    "id": "DvygdJrP_kab",
    "outputId": "9930a25d-c552-4ad7-bf29-ce6c3caae67f"
   },
   "outputs": [],
   "source": [
    "print(confusion_matrix(Y_test, y_pred))\n",
    "print(classification_report(Y_test,y_pred))\n",
    "print(\"Accurecy: \",accuracy_score(Y_test, y_pred))"
   ]
  },
  {
   "cell_type": "markdown",
   "metadata": {
    "id": "WKixCwZj8e_i"
   },
   "source": [
    "Logitic Regression"
   ]
  },
  {
   "cell_type": "code",
   "execution_count": null,
   "metadata": {
    "colab": {
     "base_uri": "https://localhost:8080/"
    },
    "id": "t5uxJZhR_mIq",
    "outputId": "bf970a3c-cf57-4661-93f7-bc6b38c10407"
   },
   "outputs": [],
   "source": [
    "from sklearn.linear_model import LogisticRegression\n",
    "lr = LogisticRegression(random_state = 0)\n",
    "lr.fit(X_train, Y_train)\n",
    "y_pred = lr.predict(X_test)"
   ]
  },
  {
   "cell_type": "code",
   "execution_count": null,
   "metadata": {
    "colab": {
     "base_uri": "https://localhost:8080/"
    },
    "id": "MmRUUQCb_-Ov",
    "outputId": "be47eab4-c28f-4d74-bad7-46ecfb93e25c"
   },
   "outputs": [],
   "source": [
    "print(confusion_matrix(Y_test, y_pred))\n",
    "print(classification_report(Y_test,y_pred))\n",
    "print(\"Accurecy: \",accuracy_score(Y_test, y_pred))"
   ]
  },
  {
   "cell_type": "markdown",
   "metadata": {
    "id": "gLE7dQQA8i3w"
   },
   "source": [
    "CAT Boosting"
   ]
  },
  {
   "cell_type": "code",
   "execution_count": null,
   "metadata": {},
   "outputs": [],
   "source": [
    "!pip install catboost"
   ]
  },
  {
   "cell_type": "code",
   "execution_count": null,
   "metadata": {
    "id": "G1MS4-5qAAH2"
   },
   "outputs": [],
   "source": [
    "from catboost import CatBoostClassifier\n",
    "\n",
    "# Create a CatBoostClassifier\n",
    "model = CatBoostClassifier()\n",
    "\n",
    "# Fit the model to the training data\n",
    "model.fit(X_train, Y_train)\n",
    "\n",
    "# Make predictions on test data\n",
    "y_pred = model.predict(X_test)"
   ]
  },
  {
   "cell_type": "code",
   "execution_count": null,
   "metadata": {},
   "outputs": [],
   "source": [
    "print(confusion_matrix(Y_test, y_pred))\n",
    "print(classification_report(Y_test,y_pred))\n",
    "print(\"Accurecy: \",accuracy_score(Y_test, y_pred))"
   ]
  },
  {
   "cell_type": "code",
   "execution_count": null,
   "metadata": {},
   "outputs": [],
   "source": []
  }
 ],
 "metadata": {
  "colab": {
   "authorship_tag": "ABX9TyMuJEYAgAl/W0kVkwiLOO9U",
   "include_colab_link": true,
   "provenance": []
  },
  "kernelspec": {
   "display_name": "Python 3 (ipykernel)",
   "language": "python",
   "name": "python3"
  },
  "language_info": {
   "codemirror_mode": {
    "name": "ipython",
    "version": 3
   },
   "file_extension": ".py",
   "mimetype": "text/x-python",
   "name": "python",
   "nbconvert_exporter": "python",
   "pygments_lexer": "ipython3",
   "version": "3.9.13"
  }
 },
 "nbformat": 4,
 "nbformat_minor": 4
}
