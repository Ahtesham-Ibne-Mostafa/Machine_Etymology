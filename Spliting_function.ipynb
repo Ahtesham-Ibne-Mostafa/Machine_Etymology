{
  "nbformat": 4,
  "nbformat_minor": 0,
  "metadata": {
    "colab": {
      "provenance": [],
      "mount_file_id": "https://github.com/Ahtesham-Ibne-Mostafa/Machine_Etymology/blob/main/Spliting_function.ipynb",
      "authorship_tag": "ABX9TyNlFGiF4ZcFZWjGxBP8Q1MG",
      "include_colab_link": true
    },
    "kernelspec": {
      "name": "python3",
      "display_name": "Python 3"
    },
    "language_info": {
      "name": "python"
    }
  },
  "cells": [
    {
      "cell_type": "markdown",
      "metadata": {
        "id": "view-in-github",
        "colab_type": "text"
      },
      "source": [
        "<a href=\"https://colab.research.google.com/github/Ahtesham-Ibne-Mostafa/Machine_Etymology/blob/main/Spliting_function.ipynb\" target=\"_parent\"><img src=\"https://colab.research.google.com/assets/colab-badge.svg\" alt=\"Open In Colab\"/></a>"
      ]
    },
    {
      "cell_type": "code",
      "execution_count": 1,
      "metadata": {
        "id": "bx4_EcpnY3Vc"
      },
      "outputs": [],
      "source": [
        "import pandas as pd\n",
        "import numpy as np"
      ]
    },
    {
      "cell_type": "code",
      "source": [
        "data= pd.read_excel('/content/drive/MyDrive/Research data/DS-Healthcare_version_2.xlsx')"
      ],
      "metadata": {
        "id": "OYyHLRlkZENE"
      },
      "execution_count": 2,
      "outputs": []
    },
    {
      "cell_type": "code",
      "source": [
        "target = 'Type'"
      ],
      "metadata": {
        "id": "F9jV9MhwZxpe"
      },
      "execution_count": 3,
      "outputs": []
    },
    {
      "cell_type": "code",
      "source": [
        "X= data.loc[:,data.columns != target]\n",
        "\n",
        "X.head()"
      ],
      "metadata": {
        "colab": {
          "base_uri": "https://localhost:8080/",
          "height": 206
        },
        "id": "sJ0A1jcRZGj3",
        "outputId": "e40a84a2-6877-4e8b-b206-501af367d2b4"
      },
      "execution_count": 4,
      "outputs": [
        {
          "output_type": "execute_result",
          "data": {
            "text/plain": [
              "  Subject  Cycle   Time   RR-I         HR    R-H    P-H    QRS    PRQ     QT  \\\n",
              "0      E1      1  1.072  0.932  64.377682  3.305  3.810  0.088  0.160  0.384   \n",
              "1      E1      2  2.004  1.004  59.760956  3.285  3.810  0.100  0.160  0.640   \n",
              "2      E1      3  3.008  0.996  60.240964  3.340  3.830  0.128  0.148  0.628   \n",
              "3      E1      4  4.004  1.016  59.055118  3.325  3.810  0.108  0.172  0.388   \n",
              "4      E1      5  5.020  0.972  61.728395  3.290  3.765  0.100  0.160  0.372   \n",
              "\n",
              "        QTC     ST  \n",
              "0  0.397762  0.296  \n",
              "1  0.638724  0.540  \n",
              "2  0.629260  0.500  \n",
              "3  0.384933  0.280  \n",
              "4  0.377320  0.272  "
            ],
            "text/html": [
              "\n",
              "  <div id=\"df-bd323e0f-3fdb-43ab-8b25-846bf184cf86\">\n",
              "    <div class=\"colab-df-container\">\n",
              "      <div>\n",
              "<style scoped>\n",
              "    .dataframe tbody tr th:only-of-type {\n",
              "        vertical-align: middle;\n",
              "    }\n",
              "\n",
              "    .dataframe tbody tr th {\n",
              "        vertical-align: top;\n",
              "    }\n",
              "\n",
              "    .dataframe thead th {\n",
              "        text-align: right;\n",
              "    }\n",
              "</style>\n",
              "<table border=\"1\" class=\"dataframe\">\n",
              "  <thead>\n",
              "    <tr style=\"text-align: right;\">\n",
              "      <th></th>\n",
              "      <th>Subject</th>\n",
              "      <th>Cycle</th>\n",
              "      <th>Time</th>\n",
              "      <th>RR-I</th>\n",
              "      <th>HR</th>\n",
              "      <th>R-H</th>\n",
              "      <th>P-H</th>\n",
              "      <th>QRS</th>\n",
              "      <th>PRQ</th>\n",
              "      <th>QT</th>\n",
              "      <th>QTC</th>\n",
              "      <th>ST</th>\n",
              "    </tr>\n",
              "  </thead>\n",
              "  <tbody>\n",
              "    <tr>\n",
              "      <th>0</th>\n",
              "      <td>E1</td>\n",
              "      <td>1</td>\n",
              "      <td>1.072</td>\n",
              "      <td>0.932</td>\n",
              "      <td>64.377682</td>\n",
              "      <td>3.305</td>\n",
              "      <td>3.810</td>\n",
              "      <td>0.088</td>\n",
              "      <td>0.160</td>\n",
              "      <td>0.384</td>\n",
              "      <td>0.397762</td>\n",
              "      <td>0.296</td>\n",
              "    </tr>\n",
              "    <tr>\n",
              "      <th>1</th>\n",
              "      <td>E1</td>\n",
              "      <td>2</td>\n",
              "      <td>2.004</td>\n",
              "      <td>1.004</td>\n",
              "      <td>59.760956</td>\n",
              "      <td>3.285</td>\n",
              "      <td>3.810</td>\n",
              "      <td>0.100</td>\n",
              "      <td>0.160</td>\n",
              "      <td>0.640</td>\n",
              "      <td>0.638724</td>\n",
              "      <td>0.540</td>\n",
              "    </tr>\n",
              "    <tr>\n",
              "      <th>2</th>\n",
              "      <td>E1</td>\n",
              "      <td>3</td>\n",
              "      <td>3.008</td>\n",
              "      <td>0.996</td>\n",
              "      <td>60.240964</td>\n",
              "      <td>3.340</td>\n",
              "      <td>3.830</td>\n",
              "      <td>0.128</td>\n",
              "      <td>0.148</td>\n",
              "      <td>0.628</td>\n",
              "      <td>0.629260</td>\n",
              "      <td>0.500</td>\n",
              "    </tr>\n",
              "    <tr>\n",
              "      <th>3</th>\n",
              "      <td>E1</td>\n",
              "      <td>4</td>\n",
              "      <td>4.004</td>\n",
              "      <td>1.016</td>\n",
              "      <td>59.055118</td>\n",
              "      <td>3.325</td>\n",
              "      <td>3.810</td>\n",
              "      <td>0.108</td>\n",
              "      <td>0.172</td>\n",
              "      <td>0.388</td>\n",
              "      <td>0.384933</td>\n",
              "      <td>0.280</td>\n",
              "    </tr>\n",
              "    <tr>\n",
              "      <th>4</th>\n",
              "      <td>E1</td>\n",
              "      <td>5</td>\n",
              "      <td>5.020</td>\n",
              "      <td>0.972</td>\n",
              "      <td>61.728395</td>\n",
              "      <td>3.290</td>\n",
              "      <td>3.765</td>\n",
              "      <td>0.100</td>\n",
              "      <td>0.160</td>\n",
              "      <td>0.372</td>\n",
              "      <td>0.377320</td>\n",
              "      <td>0.272</td>\n",
              "    </tr>\n",
              "  </tbody>\n",
              "</table>\n",
              "</div>\n",
              "      <button class=\"colab-df-convert\" onclick=\"convertToInteractive('df-bd323e0f-3fdb-43ab-8b25-846bf184cf86')\"\n",
              "              title=\"Convert this dataframe to an interactive table.\"\n",
              "              style=\"display:none;\">\n",
              "        \n",
              "  <svg xmlns=\"http://www.w3.org/2000/svg\" height=\"24px\"viewBox=\"0 0 24 24\"\n",
              "       width=\"24px\">\n",
              "    <path d=\"M0 0h24v24H0V0z\" fill=\"none\"/>\n",
              "    <path d=\"M18.56 5.44l.94 2.06.94-2.06 2.06-.94-2.06-.94-.94-2.06-.94 2.06-2.06.94zm-11 1L8.5 8.5l.94-2.06 2.06-.94-2.06-.94L8.5 2.5l-.94 2.06-2.06.94zm10 10l.94 2.06.94-2.06 2.06-.94-2.06-.94-.94-2.06-.94 2.06-2.06.94z\"/><path d=\"M17.41 7.96l-1.37-1.37c-.4-.4-.92-.59-1.43-.59-.52 0-1.04.2-1.43.59L10.3 9.45l-7.72 7.72c-.78.78-.78 2.05 0 2.83L4 21.41c.39.39.9.59 1.41.59.51 0 1.02-.2 1.41-.59l7.78-7.78 2.81-2.81c.8-.78.8-2.07 0-2.86zM5.41 20L4 18.59l7.72-7.72 1.47 1.35L5.41 20z\"/>\n",
              "  </svg>\n",
              "      </button>\n",
              "      \n",
              "  <style>\n",
              "    .colab-df-container {\n",
              "      display:flex;\n",
              "      flex-wrap:wrap;\n",
              "      gap: 12px;\n",
              "    }\n",
              "\n",
              "    .colab-df-convert {\n",
              "      background-color: #E8F0FE;\n",
              "      border: none;\n",
              "      border-radius: 50%;\n",
              "      cursor: pointer;\n",
              "      display: none;\n",
              "      fill: #1967D2;\n",
              "      height: 32px;\n",
              "      padding: 0 0 0 0;\n",
              "      width: 32px;\n",
              "    }\n",
              "\n",
              "    .colab-df-convert:hover {\n",
              "      background-color: #E2EBFA;\n",
              "      box-shadow: 0px 1px 2px rgba(60, 64, 67, 0.3), 0px 1px 3px 1px rgba(60, 64, 67, 0.15);\n",
              "      fill: #174EA6;\n",
              "    }\n",
              "\n",
              "    [theme=dark] .colab-df-convert {\n",
              "      background-color: #3B4455;\n",
              "      fill: #D2E3FC;\n",
              "    }\n",
              "\n",
              "    [theme=dark] .colab-df-convert:hover {\n",
              "      background-color: #434B5C;\n",
              "      box-shadow: 0px 1px 3px 1px rgba(0, 0, 0, 0.15);\n",
              "      filter: drop-shadow(0px 1px 2px rgba(0, 0, 0, 0.3));\n",
              "      fill: #FFFFFF;\n",
              "    }\n",
              "  </style>\n",
              "\n",
              "      <script>\n",
              "        const buttonEl =\n",
              "          document.querySelector('#df-bd323e0f-3fdb-43ab-8b25-846bf184cf86 button.colab-df-convert');\n",
              "        buttonEl.style.display =\n",
              "          google.colab.kernel.accessAllowed ? 'block' : 'none';\n",
              "\n",
              "        async function convertToInteractive(key) {\n",
              "          const element = document.querySelector('#df-bd323e0f-3fdb-43ab-8b25-846bf184cf86');\n",
              "          const dataTable =\n",
              "            await google.colab.kernel.invokeFunction('convertToInteractive',\n",
              "                                                     [key], {});\n",
              "          if (!dataTable) return;\n",
              "\n",
              "          const docLinkHtml = 'Like what you see? Visit the ' +\n",
              "            '<a target=\"_blank\" href=https://colab.research.google.com/notebooks/data_table.ipynb>data table notebook</a>'\n",
              "            + ' to learn more about interactive tables.';\n",
              "          element.innerHTML = '';\n",
              "          dataTable['output_type'] = 'display_data';\n",
              "          await google.colab.output.renderOutput(dataTable, element);\n",
              "          const docLink = document.createElement('div');\n",
              "          docLink.innerHTML = docLinkHtml;\n",
              "          element.appendChild(docLink);\n",
              "        }\n",
              "      </script>\n",
              "    </div>\n",
              "  </div>\n",
              "  "
            ]
          },
          "metadata": {},
          "execution_count": 4
        }
      ]
    },
    {
      "cell_type": "code",
      "source": [
        "Y = data[target]\n",
        "\n",
        "Y.head() "
      ],
      "metadata": {
        "colab": {
          "base_uri": "https://localhost:8080/"
        },
        "id": "ip1sz9ZFZI_4",
        "outputId": "d92446e9-46dc-4819-cc80-c89863f363fb"
      },
      "execution_count": 5,
      "outputs": [
        {
          "output_type": "execute_result",
          "data": {
            "text/plain": [
              "0    ischemic\n",
              "1    ischemic\n",
              "2    ischemic\n",
              "3    ischemic\n",
              "4    ischemic\n",
              "Name: Type, dtype: object"
            ]
          },
          "metadata": {},
          "execution_count": 5
        }
      ]
    },
    {
      "cell_type": "code",
      "source": [
        "Y.value_counts()"
      ],
      "metadata": {
        "colab": {
          "base_uri": "https://localhost:8080/"
        },
        "id": "pp2T7tHy52RY",
        "outputId": "c901e3b1-56c2-4f25-cdc9-00d8b18366d8"
      },
      "execution_count": 42,
      "outputs": [
        {
          "output_type": "execute_result",
          "data": {
            "text/plain": [
              "ischemic      581219\n",
              "healthy       267360\n",
              "arrhythmic     40238\n",
              "Name: Type, dtype: int64"
            ]
          },
          "metadata": {},
          "execution_count": 42
        }
      ]
    },
    {
      "cell_type": "code",
      "source": [
        "test_size=0.2\n",
        "f=Y.value_counts()\n",
        "rows=X.shape[0]\n",
        "talika=[]\n",
        "count=0\n",
        "for i in f:\n",
        "    talika.append(i)\n",
        "train_size=1-test_size\n",
        "\n",
        "for i in dict.keys():\n",
        "    rows-\n",
        "    train=int(train_size*dict[i])\n",
        "    print(train)     "
      ],
      "metadata": {
        "colab": {
          "base_uri": "https://localhost:8080/"
        },
        "id": "ntfY_FwPwUvB",
        "outputId": "351085fb-404e-43aa-d686-b3a6cdf2a6b4"
      },
      "execution_count": 41,
      "outputs": [
        {
          "output_type": "stream",
          "name": "stdout",
          "text": [
            "464975\n",
            "213888\n",
            "32190\n"
          ]
        }
      ]
    },
    {
      "cell_type": "code",
      "source": [
        "def train_test_split(X,Y,test_size,feature):\n",
        "    dict={}\n",
        "    count=0\n",
        "    for i in Y:\n",
        "        if i not in dict.keys():\n",
        "            dict[i]=count\n",
        "        count+=1\n",
        "    rows=X.shape[0]\n",
        "    train_size=1-test_size\n",
        "    train=int(rows*train_size)\n",
        "    \n",
        "    f=X[feature][train]\n",
        "    count1=0\n",
        "    index1=train\n",
        "    while X[feature][index1]==f:\n",
        "        index1-=1\n",
        "        count1+=1\n",
        "    index2=train+1\n",
        "    count2=0\n",
        "    while X[feature][index2]==f:\n",
        "        index2+=1\n",
        "        count2+=1\n",
        "\n",
        "    if count1>count2:\n",
        "        train+=count2\n",
        "    else:\n",
        "        train-=count1\n",
        "\n",
        "    test=rows-train\n",
        "    print('Train Subject start and end:',X['Subject'][0],'To',X['Subject'][train])\n",
        "    print('Test Subject start and end:',X['Subject'][train+1],'To',X['Subject'][rows-1])\n",
        "    print('Train Percentage:',train/rows)\n",
        "    X_train= X[:train+2]\n",
        "    X_test= X[train+1:]\n",
        "    Y_train = Y[:train+2]\n",
        "    Y_test = Y[train+1:]\n",
        "    return X_train,X_test,Y_train,Y_test"
      ],
      "metadata": {
        "id": "YUuW-lx_ZK7V"
      },
      "execution_count": 11,
      "outputs": []
    },
    {
      "cell_type": "code",
      "source": [
        "\n",
        "X_train, X_test, Y_train, Y_test = train_test_split(X,Y, test_size=0.2, feature= 'Subject')"
      ],
      "metadata": {
        "colab": {
          "base_uri": "https://localhost:8080/"
        },
        "id": "IydUy5bdZNUi",
        "outputId": "5f1b203c-ca3c-44c5-80b7-d7c79ce5ccb0"
      },
      "execution_count": 12,
      "outputs": [
        {
          "output_type": "stream",
          "name": "stdout",
          "text": [
            "Train Subject start and end: E1 To F20\n",
            "Test Subject start and end: F21 To M28\n",
            "Train Percentage: 0.8027152945994507\n"
          ]
        }
      ]
    },
    {
      "cell_type": "code",
      "source": [
        "Y_train.value_counts()"
      ],
      "metadata": {
        "id": "0q2qtdF7Z3G3",
        "outputId": "300e5336-a6e5-49f7-c8a4-ec3d5cf17678",
        "colab": {
          "base_uri": "https://localhost:8080/"
        }
      },
      "execution_count": 13,
      "outputs": [
        {
          "output_type": "execute_result",
          "data": {
            "text/plain": [
              "ischemic    581219\n",
              "healthy     132250\n",
              "Name: Type, dtype: int64"
            ]
          },
          "metadata": {},
          "execution_count": 13
        }
      ]
    },
    {
      "cell_type": "code",
      "source": [
        "Y_test.value_counts()"
      ],
      "metadata": {
        "id": "AT5tZIf9iepC",
        "outputId": "69e7c17e-58f3-45c8-fb8e-b4286cb65002",
        "colab": {
          "base_uri": "https://localhost:8080/"
        }
      },
      "execution_count": 14,
      "outputs": [
        {
          "output_type": "execute_result",
          "data": {
            "text/plain": [
              "healthy       135111\n",
              "arrhythmic     40238\n",
              "Name: Type, dtype: int64"
            ]
          },
          "metadata": {},
          "execution_count": 14
        }
      ]
    },
    {
      "cell_type": "code",
      "source": [
        "data['Type'].value_counts()"
      ],
      "metadata": {
        "id": "bIwhH2hujfyp",
        "outputId": "2138a7da-b58e-4c90-a5dc-9b2ec2e5496e",
        "colab": {
          "base_uri": "https://localhost:8080/"
        }
      },
      "execution_count": 15,
      "outputs": [
        {
          "output_type": "execute_result",
          "data": {
            "text/plain": [
              "ischemic      581219\n",
              "healthy       267360\n",
              "arrhythmic     40238\n",
              "Name: Type, dtype: int64"
            ]
          },
          "metadata": {},
          "execution_count": 15
        }
      ]
    },
    {
      "cell_type": "code",
      "source": [],
      "metadata": {
        "id": "n6lTOBtijjuI"
      },
      "execution_count": 10,
      "outputs": []
    }
  ]
}